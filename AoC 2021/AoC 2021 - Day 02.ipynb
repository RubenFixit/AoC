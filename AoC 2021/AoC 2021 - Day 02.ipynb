{
 "cells": [
  {
   "cell_type": "markdown",
   "metadata": {},
   "source": [
    "# [Advent of Code 2021: Day 2 - Dive!](https://adventofcode.com/2021/day/2)"
   ]
  },
  {
   "cell_type": "markdown",
   "metadata": {},
   "source": [
    "### Part One\n",
    "\n",
    "Now, you need to figure out how to pilot this thing.\n",
    "\n",
    "It seems like the submarine can take a series of commands like `forward 1`, `down 2`, or `up 3`:\n",
    "\n",
    "*   `forward X` increases the horizontal position by `X` units.\n",
    "*   `down X` **increases** the depth by `X` units.\n",
    "*   `up X` **decreases** the depth by `X` units.\n",
    "\n",
    "Note that since you're on a submarine, `down` and `up` affect your **depth**, and so they have the opposite result of what you might expect.\n",
    "\n",
    "The submarine seems to already have a planned course (your puzzle input). You should probably figure out where it's going. For example:\n",
    "\n",
    "```\n",
    "forward 5\n",
    "down 5\n",
    "forward 8\n",
    "up 3\n",
    "down 8\n",
    "forward 2\n",
    "\n",
    "```\n",
    "\n",
    "Your horizontal position and depth both start at `0`. The steps above would then modify them as follows:\n",
    "\n",
    "*   `forward 5` adds `5` to your horizontal position, a total of `5`.\n",
    "*   `down 5` adds `5` to your depth, resulting in a value of `5`.\n",
    "*   `forward 8` adds `8` to your horizontal position, a total of `13`.\n",
    "*   `up 3` decreases your depth by `3`, resulting in a value of `2`.\n",
    "*   `down 8` adds `8` to your depth, resulting in a value of `10`.\n",
    "*   `forward 2` adds `2` to your horizontal position, a total of `15`.\n",
    "\n",
    "After following these instructions, you would have a horizontal position of `15` and a depth of `10`. (Multiplying these together produces `*150*`.)\n",
    "\n",
    "Calculate the horizontal position and depth you would have after following the planned course. **What do you get if you multiply your final horizontal position by your final depth?**"
   ]
  },
  {
   "cell_type": "code",
   "execution_count": 1,
   "metadata": {},
   "outputs": [
    {
     "name": "stderr",
     "output_type": "stream",
     "text": [
      "..\n",
      "----------------------------------------------------------------------\n",
      "Ran 2 tests in 0.003s\n",
      "\n",
      "OK\n"
     ]
    },
    {
     "data": {
      "text/plain": [
       "<unittest.main.TestProgram at 0x7fa33c3dcb70>"
      ]
     },
     "execution_count": 1,
     "metadata": {},
     "output_type": "execute_result"
    }
   ],
   "source": [
    "import unittest\n",
    "from IPython.display import Markdown, display\n",
    "\n",
    "from aoc_puzzle import AocPuzzle\n",
    "\n",
    "class Puzzle(AocPuzzle):\n",
    "    \n",
    "    def parse_line(self, raw_data):\n",
    "        direction, distance = raw_data.split(\" \")\n",
    "        data = (direction, int(distance))\n",
    "        return data\n",
    "    \n",
    "    def parse_data(self, raw_data):\n",
    "        self.data = list(map(self.parse_line, raw_data.split('\\n')))\n",
    "            \n",
    "    def run(self, output=False):\n",
    "        position = 0\n",
    "        depth = 0\n",
    "        \n",
    "        for direction, distance in self.data:\n",
    "            if direction == 'forward':\n",
    "                position += distance\n",
    "            elif direction == 'down':\n",
    "                depth += distance\n",
    "            elif direction == 'up':\n",
    "                depth -= distance\n",
    "            else:\n",
    "                print(f\"Unkown direction: {direction}\")\n",
    "                \n",
    "        result = position * depth\n",
    "        \n",
    "        if output:\n",
    "            display(Markdown(f'### Result is `{result}`'))            \n",
    "        return result\n",
    "        \n",
    "\n",
    "class TestBasic(unittest.TestCase):\n",
    "\n",
    "    def test_parse_data(self):\n",
    "        in_data = 'forward 5\\ndown 5\\nforward 8\\nup 3\\ndown 8\\nforward 2'\n",
    "        exp_out = [('forward', 5), ('down', 5), ('forward', 8), ('up', 3), ('down', 8), ('forward', 2)]\n",
    "        puzzle = Puzzle(in_data)\n",
    "        self.assertEqual(puzzle.data, exp_out)\n",
    "        \n",
    "    def test_puzzle(self):\n",
    "        input_data = ['forward 5\\ndown 5\\nforward 8\\nup 3\\ndown 8\\nforward 2']\n",
    "        exp_output = [150]\n",
    "        for in_data, exp_out in tuple(zip(input_data, exp_output)):\n",
    "            puzzle = Puzzle(in_data)\n",
    "            self.assertEqual(puzzle.run(), exp_out)\n",
    "        \n",
    "unittest.main(argv=[\"\"], exit=False)"
   ]
  },
  {
   "cell_type": "code",
   "execution_count": 2,
   "metadata": {},
   "outputs": [
    {
     "data": {
      "text/markdown": [
       "### Result is `1580000`"
      ],
      "text/plain": [
       "<IPython.core.display.Markdown object>"
      ]
     },
     "metadata": {},
     "output_type": "display_data"
    },
    {
     "data": {
      "text/plain": [
       "1580000"
      ]
     },
     "execution_count": 2,
     "metadata": {},
     "output_type": "execute_result"
    }
   ],
   "source": [
    "puzzle = Puzzle(\"input/d02.txt\")\n",
    "puzzle.run(output=True)"
   ]
  },
  {
   "cell_type": "markdown",
   "metadata": {},
   "source": [
    "### Part Two\n",
    "\n",
    "Based on your calculations, the planned course doesn't seem to make any sense. You find the submarine manual and discover that the process is actually slightly more complicated.\n",
    "\n",
    "In addition to horizontal position and depth, you'll also need to track a third value, **aim**, which also starts at `0`. The commands also mean something entirely different than you first thought:\n",
    "\n",
    "*   `down X` **increases** your aim by `X` units.\n",
    "*   `up X` **decreases** your aim by `X` units.\n",
    "*   `forward X` does two things:\n",
    "    *   It increases your horizontal position by `X` units.\n",
    "    *   It increases your depth by your aim *multiplied by* `X`.\n",
    "\n",
    "Again note that since you're on a submarine, `down` and `up` do the opposite of what you might expect: \"down\" means aiming in the positive direction.\n",
    "\n",
    "Now, the above example does something different:\n",
    "\n",
    "*   `forward 5` adds `5` to your horizontal position, a total of `5`. Because your aim is `0`, your depth does not change.\n",
    "*   `down 5` adds `5` to your aim, resulting in a value of `5`.\n",
    "*   `forward 8` adds `8` to your horizontal position, a total of `13`. Because your aim is `5`, your depth increases by `8*5=40`.\n",
    "*   `up 3` decreases your aim by `3`, resulting in a value of `2`.\n",
    "*   `down 8` adds `8` to your aim, resulting in a value of `10`.\n",
    "*   `forward 2` adds `2` to your horizontal position, a total of `15`. Because your aim is `10`, your depth increases by `2*10=20` to a total of `60`.\n",
    "\n",
    "After following these new instructions, you would have a horizontal position of `15` and a depth of `60`. (Multiplying these produces **`900`**.)\n",
    "\n",
    "Using this new interpretation of the commands, calculate the horizontal position and depth you would have after following the planned course. **What do you get if you multiply your final horizontal position by your final depth?**"
   ]
  },
  {
   "cell_type": "code",
   "execution_count": 3,
   "metadata": {},
   "outputs": [
    {
     "name": "stderr",
     "output_type": "stream",
     "text": [
      ".\n",
      "----------------------------------------------------------------------\n",
      "Ran 1 test in 0.001s\n",
      "\n",
      "OK\n"
     ]
    },
    {
     "data": {
      "text/plain": [
       "<unittest.main.TestProgram at 0x7fa33c3e8d68>"
      ]
     },
     "execution_count": 3,
     "metadata": {},
     "output_type": "execute_result"
    }
   ],
   "source": [
    "class Puzzle2(Puzzle):\n",
    "    def run(self, output=False):\n",
    "        position = 0\n",
    "        depth = 0\n",
    "        aim = 0\n",
    "        \n",
    "        for direction, distance in self.data:\n",
    "            if direction == 'forward':\n",
    "                position += distance\n",
    "                depth += aim * distance\n",
    "            elif direction == 'down':\n",
    "                aim += distance\n",
    "            elif direction == 'up':\n",
    "                aim -= distance\n",
    "            else:\n",
    "                print(f\"Unkown direction: {direction}\")\n",
    "                \n",
    "        result = position * depth\n",
    "        \n",
    "        if output:\n",
    "            display(Markdown(f'### Result is `{result}`'))            \n",
    "        return result\n",
    "\n",
    "\n",
    "class TestBasic(unittest.TestCase):\n",
    "        \n",
    "    def test_puzzle2(self):\n",
    "        input_data = ['forward 5\\ndown 5\\nforward 8\\nup 3\\ndown 8\\nforward 2']\n",
    "        exp_output = [900]\n",
    "        for in_data, exp_out in tuple(zip(input_data, exp_output)):\n",
    "            puzzle = Puzzle2(in_data)\n",
    "            self.assertEqual(puzzle.run(), exp_out)\n",
    "        \n",
    "unittest.main(argv=[\"\"], exit=False)"
   ]
  },
  {
   "cell_type": "code",
   "execution_count": 4,
   "metadata": {},
   "outputs": [
    {
     "data": {
      "text/markdown": [
       "### Result is `1251263225`"
      ],
      "text/plain": [
       "<IPython.core.display.Markdown object>"
      ]
     },
     "metadata": {},
     "output_type": "display_data"
    },
    {
     "data": {
      "text/plain": [
       "1251263225"
      ]
     },
     "execution_count": 4,
     "metadata": {},
     "output_type": "execute_result"
    }
   ],
   "source": [
    "puzzle = Puzzle2(\"input/d02.txt\")\n",
    "puzzle.run(output=True)"
   ]
  }
 ],
 "metadata": {
  "kernelspec": {
   "display_name": "Python 3",
   "language": "python",
   "name": "python3"
  },
  "language_info": {
   "codemirror_mode": {
    "name": "ipython",
    "version": 3
   },
   "file_extension": ".py",
   "mimetype": "text/x-python",
   "name": "python",
   "nbconvert_exporter": "python",
   "pygments_lexer": "ipython3",
   "version": "3.6.8"
  }
 },
 "nbformat": 4,
 "nbformat_minor": 2
}
