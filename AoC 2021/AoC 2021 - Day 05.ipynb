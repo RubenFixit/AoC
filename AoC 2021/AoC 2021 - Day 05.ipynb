{
 "cells": [
  {
   "cell_type": "markdown",
   "metadata": {},
   "source": [
    "# [Advent of Code 2021: Day 5](https://adventofcode.com/2021/day/5)\n",
    "[puzzle input](https://adventofcode.com/2021/day/5/input)"
   ]
  },
  {
   "cell_type": "markdown",
   "metadata": {},
   "source": [
    "## \\-\\-\\- Day 5: Hydrothermal Venture \\-\\-\\-\n",
    "\n",
    "You come across a field of [hydrothermal vents](https://en.wikipedia.org/wiki/Hydrothermal_vent) on the ocean floor! These vents constantly produce large, opaque clouds, so it would be best to avoid them if possible.\n",
    "\n",
    "They tend to form in **lines**; the submarine helpfully produces a list of nearby lines of vents (your puzzle input) for you to review. For example:\n",
    "\n",
    "```\n",
    "0,9 -> 5,9\n",
    "8,0 -> 0,8\n",
    "9,4 -> 3,4\n",
    "2,2 -> 2,1\n",
    "7,0 -> 7,4\n",
    "6,4 -> 2,0\n",
    "0,9 -> 2,9\n",
    "3,4 -> 1,4\n",
    "0,0 -> 8,8\n",
    "5,5 -> 8,2\n",
    "\n",
    "```\n",
    "\n",
    "Each line of vents is given as a line segment in the format `x1,y1 -> x2,y2` where `x1`,`y1` are the coordinates of one end the line segment and `x2`,`y2` are the coordinates of the other end. These line segments include the points at both ends. In other words:\n",
    "\n",
    "*   An entry like `1,1 -> 1,3` covers points `1,1`, `1,2`, and `1,3`.\n",
    "*   An entry like `9,7 -> 7,7` covers points `9,7`, `8,7`, and `7,7`.\n",
    "\n",
    "For now, **only consider horizontal and vertical lines**: lines where either `x1 = x2` or `y1 = y2`.\n",
    "\n",
    "So, the horizontal and vertical lines from the above list would produce the following diagram:\n",
    "\n",
    "```\n",
    ".......1..\n",
    "..1....1..\n",
    "..1....1..\n",
    ".......1..\n",
    ".112111211\n",
    "..........\n",
    "..........\n",
    "..........\n",
    "..........\n",
    "222111....\n",
    "\n",
    "```\n",
    "\n",
    "In this diagram, the top left corner is `0,0` and the bottom right corner is `9,9`. Each position is shown as **the number of lines which cover that point** or `.` if no line covers that point. The top\\-left pair of `1`s, for example, comes from `2,2 -> 2,1`; the very bottom row is formed by the overlapping lines `0,9 -> 5,9` and `0,9 -> 2,9`.\n",
    "\n",
    "To avoid the most dangerous areas, you need to determine **the number of points where at least two lines overlap**. In the above example, this is anywhere in the diagram with a `2` or larger \\- a total of **`5`** points.\n",
    "\n",
    "Consider only horizontal and vertical lines. **At how many points do at least two lines overlap?**"
   ]
  },
  {
   "cell_type": "code",
   "execution_count": 1,
   "metadata": {},
   "outputs": [
    {
     "name": "stderr",
     "output_type": "stream",
     "text": [
      "..\n",
      "----------------------------------------------------------------------\n",
      "Ran 2 tests in 0.002s\n",
      "\n",
      "OK\n"
     ]
    },
    {
     "data": {
      "text/plain": [
       "<unittest.main.TestProgram at 0x7ff541f47a58>"
      ]
     },
     "execution_count": 1,
     "metadata": {},
     "output_type": "execute_result"
    }
   ],
   "source": [
    "import unittest\n",
    "from fractions import Fraction\n",
    "from IPython.display import Markdown, display\n",
    "\n",
    "from aoc_puzzle import AocPuzzle\n",
    "\n",
    "class Puzzle(AocPuzzle):\n",
    "    \n",
    "    def parse_line(self, raw_data):\n",
    "        coord_str_set = raw_data.split(' -> ')\n",
    "        coord_set = []\n",
    "        for coord_str in coord_str_set:\n",
    "            coord = tuple(map(int, coord_str.split(',')))\n",
    "            coord_set.append(coord)\n",
    "        return coord_set\n",
    "    \n",
    "    def parse_data(self, raw_data):\n",
    "        self.data = list(map(self.parse_line, raw_data.split('\\n')))\n",
    "        \n",
    "    def get_slope(self, coord1, coord2):\n",
    "        x1, y1 = coord1\n",
    "        x2, y2 = coord2\n",
    "        return((x1 - x2, y1 - y2))\n",
    "    \n",
    "    def incriment_coord(self, coord, step):\n",
    "        x,y = coord\n",
    "        xstep, ystep = step\n",
    "        return (int(x+xstep), int(y+ystep))\n",
    "    \n",
    "    def decriment_coord(self, coord, step):\n",
    "        x,y = coord\n",
    "        xstep, ystep = step\n",
    "        return (x-xstep, y-ystep)\n",
    "    \n",
    "    def get_step(self, coord):\n",
    "        x, y = coord\n",
    "        \n",
    "        if x is 0:\n",
    "            xcd = 0\n",
    "            ysign = y / abs(y)\n",
    "            ycd = ysign\n",
    "        elif y is 0:\n",
    "            xsign = x / abs(x)\n",
    "            xcd = xsign\n",
    "            ycd = 0\n",
    "        else:\n",
    "            xsign = x / abs(x)\n",
    "            ysign = y / abs(y)\n",
    "            cf = Fraction(x, y)\n",
    "            xcd = abs(cf.numerator) * xsign\n",
    "            ycd = cf.denominator * ysign\n",
    "            \n",
    "        return (xcd, ycd)\n",
    "        \n",
    "    def get_step_to(self, coord1, coord2):\n",
    "        \"\"\" Returns a step for coordinate 1 that is in the direction of coordinate 2 \"\"\"\n",
    "        if coord1 is coord2:\n",
    "            return (0,0)\n",
    "        \n",
    "        x1, y1 = coord1\n",
    "        x2, y2 = coord2        \n",
    "        dist = self.get_slope(coord2, coord1)\n",
    "        xstep, ystep = self.get_step(dist)\n",
    "        \n",
    "        return (xstep, ystep)\n",
    "        \n",
    "    def expand_coord_set(self, coord_set):\n",
    "        coord1, coord2 = coord_set\n",
    "        step = self.get_step_to(coord1, coord2)\n",
    "        coords_list = [coord1]\n",
    "        next_coord = self.incriment_coord(coord1, step)\n",
    "        while next_coord != coord2:\n",
    "            coords_list.append(next_coord)\n",
    "            next_coord = self.incriment_coord(next_coord, step)\n",
    "        coords_list.append(coord2)\n",
    "        \n",
    "        return coords_list\n",
    "    \n",
    "    def is_hort_vert_set(self, coord_set):\n",
    "        coord1, coord2 = coord_set\n",
    "        x1, y1 = coord1\n",
    "        x2, y2 = coord2\n",
    "        \n",
    "        if x1 == x2 or y1 == y2:\n",
    "            return True\n",
    "        else:\n",
    "            return False\n",
    "        \n",
    "    def get_all_coords(self, horz_vert_only):\n",
    "        coords_list = []\n",
    "        for coord_set in self.data:\n",
    "            if horz_vert_only:\n",
    "                if self.is_hort_vert_set(coord_set):\n",
    "                    set_coords = self.expand_coord_set(coord_set)\n",
    "                    coords_list += set_coords\n",
    "            else:\n",
    "                set_coords = self.expand_coord_set(coord_set)\n",
    "                coords_list += set_coords\n",
    "                \n",
    "        return coords_list\n",
    "    \n",
    "    def count_dupplicates(self, coords_list):\n",
    "        coord_counts = {}\n",
    "        \n",
    "        for coord in coords_list:\n",
    "            coord_counts.setdefault(coord, 0)\n",
    "            coord_counts[coord] += 1\n",
    "            \n",
    "        total = 0\n",
    "        for coord, count in coord_counts.items():\n",
    "            if count > 1:\n",
    "                total += 1\n",
    "        return total            \n",
    "            \n",
    "    def run(self, horz_vert_only=True, output=False):\n",
    "        coords_list = self.get_all_coords(horz_vert_only)\n",
    "        result = self.count_dupplicates(coords_list)\n",
    "        \n",
    "        if output:\n",
    "            display(Markdown(f'### Result is `{result}`'))            \n",
    "        return result\n",
    "        \n",
    "\n",
    "class TestBasic(unittest.TestCase):\n",
    "\n",
    "    def test_parse_data(self):\n",
    "        in_data = '0,9 -> 5,9\\n8,0 -> 0,8\\n9,4 -> 3,4\\n2,2 -> 2,1\\n7,0 -> 7,4\\n6,4 -> 2,0\\n0,9 -> 2,9\\n3,4 -> 1,4\\n0,0 -> 8,8\\n5,5 -> 8,2'\n",
    "        exp_out = [[(0,9),(5,9)],[(8,0),(0,8)],[(9,4),(3,4)],[(2,2),(2,1)],[(7,0),(7,4)],[(6,4),(2,0)],[(0,9),(2,9)],[(3,4),(1,4)],[(0,0),(8,8)],[(5,5),(8,2)]]\n",
    "        puzzle = Puzzle(in_data)\n",
    "        self.assertEqual(puzzle.data, exp_out)\n",
    "        \n",
    "    def test_puzzle(self):\n",
    "        input_data = ['0,9 -> 5,9\\n8,0 -> 0,8\\n9,4 -> 3,4\\n2,2 -> 2,1\\n7,0 -> 7,4\\n6,4 -> 2,0\\n0,9 -> 2,9\\n3,4 -> 1,4\\n0,0 -> 8,8\\n5,5 -> 8,2']\n",
    "        exp_output = [5]\n",
    "        for in_data, exp_out in tuple(zip(input_data, exp_output)):\n",
    "            puzzle = Puzzle(in_data)\n",
    "            self.assertEqual(puzzle.run(), exp_out)\n",
    "        \n",
    "unittest.main(argv=[\"\"], exit=False)"
   ]
  },
  {
   "cell_type": "code",
   "execution_count": 2,
   "metadata": {},
   "outputs": [
    {
     "data": {
      "text/markdown": [
       "### Result is `7468`"
      ],
      "text/plain": [
       "<IPython.core.display.Markdown object>"
      ]
     },
     "metadata": {},
     "output_type": "display_data"
    },
    {
     "data": {
      "text/plain": [
       "7468"
      ]
     },
     "execution_count": 2,
     "metadata": {},
     "output_type": "execute_result"
    }
   ],
   "source": [
    "puzzle = Puzzle(\"input/d05.txt\")\n",
    "puzzle.run(output=True)"
   ]
  },
  {
   "cell_type": "markdown",
   "metadata": {},
   "source": [
    "## \\-\\-\\- Part Two \\-\\-\\-\n",
    "\n",
    "Unfortunately, considering only horizontal and vertical lines doesn't give you the full picture; you need to also consider **diagonal lines**.\n",
    "\n",
    "Because of the limits of the hydrothermal vent mapping system, the lines in your list will only ever be horizontal, vertical, or a diagonal line at exactly 45 degrees. In other words:\n",
    "\n",
    "*   An entry like `1,1 -> 3,3` covers points `1,1`, `2,2`, and `3,3`.\n",
    "*   An entry like `9,7 -> 7,9` covers points `9,7`, `8,8`, and `7,9`.\n",
    "\n",
    "Considering all lines from the above example would now produce the following diagram:\n",
    "\n",
    "```\n",
    "1.1....11.\n",
    ".111...2..\n",
    "..2.1.111.\n",
    "...1.2.2..\n",
    ".112313211\n",
    "...1.2....\n",
    "..1...1...\n",
    ".1.....1..\n",
    "1.......1.\n",
    "222111....\n",
    "\n",
    "```\n",
    "\n",
    "You still need to determine **the number of points where at least two lines overlap**. In the above example, this is still anywhere in the diagram with a `2` or larger \\- now a total of **`12`** points.\n",
    "\n",
    "Consider all of the lines. **At how many points do at least two lines overlap?**"
   ]
  },
  {
   "cell_type": "code",
   "execution_count": 3,
   "metadata": {},
   "outputs": [
    {
     "name": "stderr",
     "output_type": "stream",
     "text": [
      ".\n",
      "----------------------------------------------------------------------\n",
      "Ran 1 test in 0.002s\n",
      "\n",
      "OK\n"
     ]
    },
    {
     "data": {
      "text/plain": [
       "<unittest.main.TestProgram at 0x7ff541fd02b0>"
      ]
     },
     "execution_count": 3,
     "metadata": {},
     "output_type": "execute_result"
    }
   ],
   "source": [
    "class TestBasic(unittest.TestCase):\n",
    "        \n",
    "    def test_puzzle(self):\n",
    "        input_data = ['0,9 -> 5,9\\n8,0 -> 0,8\\n9,4 -> 3,4\\n2,2 -> 2,1\\n7,0 -> 7,4\\n6,4 -> 2,0\\n0,9 -> 2,9\\n3,4 -> 1,4\\n0,0 -> 8,8\\n5,5 -> 8,2']\n",
    "        exp_output = [12]\n",
    "        for in_data, exp_out in tuple(zip(input_data, exp_output)):\n",
    "            puzzle = Puzzle(in_data)\n",
    "            self.assertEqual(puzzle.run(horz_vert_only=False), exp_out)\n",
    "        \n",
    "unittest.main(argv=[\"\"], exit=False)"
   ]
  },
  {
   "cell_type": "code",
   "execution_count": 4,
   "metadata": {},
   "outputs": [
    {
     "data": {
      "text/markdown": [
       "### Result is `22364`"
      ],
      "text/plain": [
       "<IPython.core.display.Markdown object>"
      ]
     },
     "metadata": {},
     "output_type": "display_data"
    },
    {
     "data": {
      "text/plain": [
       "22364"
      ]
     },
     "execution_count": 4,
     "metadata": {},
     "output_type": "execute_result"
    }
   ],
   "source": [
    "puzzle = Puzzle(\"input/d05.txt\")\n",
    "puzzle.run(output=True, horz_vert_only=False)"
   ]
  }
 ],
 "metadata": {
  "kernelspec": {
   "display_name": "Python 3",
   "language": "python",
   "name": "python3"
  },
  "language_info": {
   "codemirror_mode": {
    "name": "ipython",
    "version": 3
   },
   "file_extension": ".py",
   "mimetype": "text/x-python",
   "name": "python",
   "nbconvert_exporter": "python",
   "pygments_lexer": "ipython3",
   "version": "3.6.8"
  }
 },
 "nbformat": 4,
 "nbformat_minor": 2
}
