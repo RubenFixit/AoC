{
 "cells": [
  {
   "cell_type": "markdown",
   "metadata": {},
   "source": [
    "# [Advent of Code 2021: Day 3](https://adventofcode.com/2021/day/3)\n",
    "[puzzle input](https://adventofcode.com/2021/day/3/input)"
   ]
  },
  {
   "cell_type": "markdown",
   "metadata": {},
   "source": [
    "## \\-\\-\\- Day 3: Binary Diagnostic \\-\\-\\-\n",
    "\n",
    "The submarine has been making some odd creaking noises, so you ask it to produce a diagnostic report just in case.\n",
    "\n",
    "The diagnostic report (your puzzle input) consists of a list of binary numbers which, when decoded properly, can tell you many useful things about the conditions of the submarine. The first parameter to check is the **power consumption**.\n",
    "\n",
    "You need to use the binary numbers in the diagnostic report to generate two new binary numbers (called the **gamma rate** and the **epsilon rate**). The power consumption can then be found by multiplying the gamma rate by the epsilon rate.\n",
    "\n",
    "Each bit in the gamma rate can be determined by finding the **most common bit in the corresponding position** of all numbers in the diagnostic report. For example, given the following diagnostic report:\n",
    "\n",
    "```\n",
    "00100\n",
    "11110\n",
    "10110\n",
    "10111\n",
    "10101\n",
    "01111\n",
    "00111\n",
    "11100\n",
    "10000\n",
    "11001\n",
    "00010\n",
    "01010\n",
    "```\n",
    "\n",
    "Considering only the first bit of each number, there are five `0` bits and seven `1` bits. Since the most common bit is `1`, the first bit of the gamma rate is `1`.\n",
    "\n",
    "The most common second bit of the numbers in the diagnostic report is `0`, so the second bit of the gamma rate is `0`.\n",
    "\n",
    "The most common value of the third, fourth, and fifth bits are `1`, `1`, and `0`, respectively, and so the final three bits of the gamma rate are `110`.\n",
    "\n",
    "So, the gamma rate is the binary number `10110`, or **`22`** in decimal.\n",
    "\n",
    "The epsilon rate is calculated in a similar way; rather than use the most common bit, the least common bit from each position is used. So, the epsilon rate is `01001`, or **`9`** in decimal. Multiplying the gamma rate (`22`) by the epsilon rate (`9`) produces the power consumption, **`198`**.\n",
    "\n",
    "Use the binary numbers in your diagnostic report to calculate the gamma rate and epsilon rate, then multiply them together. **What is the power consumption of the submarine?** (Be sure to represent your answer in decimal, not binary.)"
   ]
  },
  {
   "cell_type": "code",
   "execution_count": 1,
   "metadata": {},
   "outputs": [
    {
     "name": "stderr",
     "output_type": "stream",
     "text": [
      "..\n",
      "----------------------------------------------------------------------\n",
      "Ran 2 tests in 0.003s\n",
      "\n",
      "OK\n"
     ]
    },
    {
     "data": {
      "text/plain": [
       "<unittest.main.TestProgram at 0x7fa074720828>"
      ]
     },
     "execution_count": 1,
     "metadata": {},
     "output_type": "execute_result"
    }
   ],
   "source": [
    "import unittest\n",
    "import numpy as np\n",
    "from IPython.display import Markdown, display\n",
    "\n",
    "from aoc_puzzle import AocPuzzle\n",
    "\n",
    "class Puzzle(AocPuzzle):\n",
    "    \n",
    "    def parse_data(self, raw_data):\n",
    "        self.data = list(raw_data.split('\\n'))\n",
    "        \n",
    "    def get_max_min(self, data, pos, val_when_equal='1'):\n",
    "        data = list(map(list, data))\n",
    "        pos_data = list(map(''.join, np.transpose(data)))\n",
    "        num_1_count = pos_data[pos].count('1')\n",
    "        num_0_count = pos_data[pos].count('0')\n",
    "        if num_1_count > num_0_count:\n",
    "            amax = '1'\n",
    "            amin = '0'\n",
    "        elif num_1_count == num_0_count:\n",
    "            amax = val_when_equal\n",
    "            amin = val_when_equal\n",
    "        else:\n",
    "            amax = '0'\n",
    "            amin = '1'\n",
    "        return (amax, amin)\n",
    "            \n",
    "    def run(self, output=False):\n",
    "        \n",
    "        gamma_rate = '0b'\n",
    "        epsilon_rate = '0b'\n",
    "        for i in range(len(self.data[0])):\n",
    "            amax, amin = self.get_max_min(self.data, i)\n",
    "            gamma_rate += amax\n",
    "            epsilon_rate += amin                \n",
    "            \n",
    "        gamma_rate = int(gamma_rate,2)\n",
    "        epsilon_rate = int(epsilon_rate,2)\n",
    "        \n",
    "        result = gamma_rate * epsilon_rate\n",
    "        if output:\n",
    "            display(Markdown(f'### Result is `{result}`'))            \n",
    "        return result\n",
    "        \n",
    "\n",
    "class TestBasic(unittest.TestCase):\n",
    "\n",
    "    def test_parse_data(self):\n",
    "        in_data = '00100\\n11110\\n10110\\n10111\\n10101\\n01111\\n00111\\n11100\\n10000\\n11001\\n00010\\n01010'\n",
    "        exp_out = ['00100', '11110', '10110', '10111', '10101', '01111', '00111', '11100', '10000', '11001', '00010', '01010']\n",
    "        puzzle = Puzzle(in_data)\n",
    "        self.assertEqual(puzzle.data, exp_out)\n",
    "        \n",
    "    def test_puzzle(self):\n",
    "        input_data = ['00100\\n11110\\n10110\\n10111\\n10101\\n01111\\n00111\\n11100\\n10000\\n11001\\n00010\\n01010']\n",
    "        exp_output = [198]\n",
    "        for in_data, exp_out in tuple(zip(input_data, exp_output)):\n",
    "            puzzle = Puzzle(in_data)\n",
    "            self.assertEqual(puzzle.run(), exp_out)\n",
    "        \n",
    "unittest.main(argv=[\"\"], exit=False)"
   ]
  },
  {
   "cell_type": "code",
   "execution_count": 2,
   "metadata": {},
   "outputs": [
    {
     "data": {
      "text/markdown": [
       "### Result is `693486`"
      ],
      "text/plain": [
       "<IPython.core.display.Markdown object>"
      ]
     },
     "metadata": {},
     "output_type": "display_data"
    },
    {
     "data": {
      "text/plain": [
       "693486"
      ]
     },
     "execution_count": 2,
     "metadata": {},
     "output_type": "execute_result"
    }
   ],
   "source": [
    "puzzle = Puzzle(\"input/d03.txt\")\n",
    "puzzle.run(output=True)"
   ]
  },
  {
   "cell_type": "markdown",
   "metadata": {},
   "source": [
    "## \\-\\-\\- Part Two \\-\\-\\-\n",
    "\n",
    "Next, you should verify the **life support rating**, which can be determined by multiplying the **oxygen generator rating** by the **CO2 scrubber rating**.\n",
    "\n",
    "Both the oxygen generator rating and the CO2 scrubber rating are values that can be found in your diagnostic report \\- finding them is the tricky part. Both values are located using a similar process that involves filtering out values until only one remains. Before searching for either rating value, start with the full list of binary numbers from your diagnostic report and **consider just the first bit** of those numbers. Then:\n",
    "\n",
    "*   Keep only numbers selected by the **bit criteria** for the type of rating value for which you are searching. Discard numbers which do not match the bit criteria.\n",
    "*   If you only have one number left, stop; this is the rating value for which you are searching.\n",
    "*   Otherwise, repeat the process, considering the next bit to the right.\n",
    "\n",
    "The **bit criteria** depends on which type of rating value you want to find:\n",
    "\n",
    "*   To find **oxygen generator rating**, determine the **most common** value (`0` or `1`) in the current bit position, and keep only numbers with that bit in that position. If `0` and `1` are equally common, keep values with a **`1`** in the position being considered.\n",
    "*   To find **CO2 scrubber rating**, determine the **least common** value (`0` or `1`) in the current bit position, and keep only numbers with that bit in that position. If `0` and `1` are equally common, keep values with a **`0`** in the position being considered.\n",
    "\n",
    "For example, to determine the **oxygen generator rating** value using the same example diagnostic report from above:\n",
    "\n",
    "*   Start with all 12 numbers and consider only the first bit of each number. There are more `1` bits (7) than `0` bits (5), so keep only the 7 numbers with a `1` in the first position: `11110`, `10110`, `10111`, `10101`, `11100`, `10000`, and `11001`.\n",
    "*   Then, consider the second bit of the 7 remaining numbers: there are more `0` bits (4) than `1` bits (3), so keep only the 4 numbers with a `0` in the second position: `10110`, `10111`, `10101`, and `10000`.\n",
    "*   In the third position, three of the four numbers have a `1`, so keep those three: `10110`, `10111`, and `10101`.\n",
    "*   In the fourth position, two of the three numbers have a `1`, so keep those two: `10110` and `10111`.\n",
    "*   In the fifth position, there are an equal number of `0` bits and `1` bits (one each). So, to find the **oxygen generator rating**, keep the number with a `1` in that position: `10111`.\n",
    "*   As there is only one number left, stop; the **oxygen generator rating** is `10111`, or **`23`** in decimal.\n",
    "\n",
    "Then, to determine the **CO2 scrubber rating** value from the same example above:\n",
    "\n",
    "*   Start again with all 12 numbers and consider only the first bit of each number. There are fewer `0` bits (5) than `1` bits (7), so keep only the 5 numbers with a `0` in the first position: `00100`, `01111`, `00111`, `00010`, and `01010`.\n",
    "*   Then, consider the second bit of the 5 remaining numbers: there are fewer `1` bits (2) than `0` bits (3), so keep only the 2 numbers with a `1` in the second position: `01111` and `01010`.\n",
    "*   In the third position, there are an equal number of `0` bits and `1` bits (one each). So, to find the **CO2 scrubber rating**, keep the number with a `0` in that position: `01010`.\n",
    "*   As there is only one number left, stop; the **CO2 scrubber rating** is `01010`, or **`10`** in decimal.\n",
    "\n",
    "Finally, to find the life support rating, multiply the oxygen generator rating (`23`) by the CO2 scrubber rating (`10`) to get **`230`**.\n",
    "\n",
    "Use the binary numbers in your diagnostic report to calculate the oxygen generator rating and CO2 scrubber rating, then multiply them together. **What is the life support rating of the submarine?** (Be sure to represent your answer in decimal, not binary.)"
   ]
  },
  {
   "cell_type": "code",
   "execution_count": 3,
   "metadata": {},
   "outputs": [
    {
     "name": "stderr",
     "output_type": "stream",
     "text": [
      ".\n",
      "----------------------------------------------------------------------\n",
      "Ran 1 test in 0.002s\n",
      "\n",
      "OK\n"
     ]
    },
    {
     "data": {
      "text/plain": [
       "<unittest.main.TestProgram at 0x7fa0467a2ac8>"
      ]
     },
     "execution_count": 3,
     "metadata": {},
     "output_type": "execute_result"
    }
   ],
   "source": [
    "class Puzzle2(Puzzle):     \n",
    "    \n",
    "    def get_data_subset(self, data, pos, val):\n",
    "        new_data = []\n",
    "        for item in data:\n",
    "            if item[pos] == val:\n",
    "                new_data.append(item)\n",
    "        return new_data        \n",
    "    \n",
    "    def get_val(self, val_type):\n",
    "        data = self.data.copy()\n",
    "        for i in range(len(data[0])):\n",
    "            if len(data) == 1:\n",
    "                break\n",
    "            if val_type == 'O2':\n",
    "                amax, amin = self.get_max_min(data, i, '1')\n",
    "                data = self.get_data_subset(data, i, amax)\n",
    "            elif val_type == 'CO2':                \n",
    "                amax, amin = self.get_max_min(data, i, '0')\n",
    "                data = self.get_data_subset(data, i, amin)\n",
    "            else:\n",
    "                return -1\n",
    "                \n",
    "        bin_str = '0b'+''.join(data[0])\n",
    "        return int(bin_str,2)\n",
    "    \n",
    "    def run(self, output=False):\n",
    "        \n",
    "        o2_val = self.get_val('O2')\n",
    "        co2_val = self.get_val('CO2')\n",
    "                     \n",
    "        result = o2_val*co2_val\n",
    "        if output:\n",
    "            display(Markdown(f'### Result is `{result}`'))            \n",
    "        return result\n",
    "\n",
    "\n",
    "class TestBasic(unittest.TestCase):\n",
    "        \n",
    "    def test_puzzle2(self):\n",
    "        input_data = ['00100\\n11110\\n10110\\n10111\\n10101\\n01111\\n00111\\n11100\\n10000\\n11001\\n00010\\n01010']\n",
    "        exp_output = [230]\n",
    "        for in_data, exp_out in tuple(zip(input_data, exp_output)):\n",
    "            puzzle = Puzzle2(in_data)\n",
    "            self.assertEqual(puzzle.run(), exp_out)\n",
    "        \n",
    "unittest.main(argv=[\"\"], exit=False)"
   ]
  },
  {
   "cell_type": "code",
   "execution_count": 4,
   "metadata": {},
   "outputs": [
    {
     "data": {
      "text/markdown": [
       "### Result is `3379326`"
      ],
      "text/plain": [
       "<IPython.core.display.Markdown object>"
      ]
     },
     "metadata": {},
     "output_type": "display_data"
    },
    {
     "data": {
      "text/plain": [
       "3379326"
      ]
     },
     "execution_count": 4,
     "metadata": {},
     "output_type": "execute_result"
    }
   ],
   "source": [
    "puzzle = Puzzle2(\"input/d03.txt\")\n",
    "puzzle.run(output=True)"
   ]
  }
 ],
 "metadata": {
  "kernelspec": {
   "display_name": "Python 3",
   "language": "python",
   "name": "python3"
  },
  "language_info": {
   "codemirror_mode": {
    "name": "ipython",
    "version": 3
   },
   "file_extension": ".py",
   "mimetype": "text/x-python",
   "name": "python",
   "nbconvert_exporter": "python",
   "pygments_lexer": "ipython3",
   "version": "3.6.8"
  }
 },
 "nbformat": 4,
 "nbformat_minor": 2
}
