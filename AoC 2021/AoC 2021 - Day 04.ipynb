{
 "cells": [
  {
   "cell_type": "markdown",
   "metadata": {},
   "source": [
    "# [Advent of Code 2021: Day 4 - Giant Squid](https://adventofcode.com/2021/day/4)\n",
    "[puzzle input](https://adventofcode.com/2021/day/4/input)"
   ]
  },
  {
   "cell_type": "markdown",
   "metadata": {},
   "source": [
    "### Part One\n",
    "\n",
    "You're already almost 1.5km (almost a mile) below the surface of the ocean, already so deep that you can't see any sunlight. What you **can** see, however, is a giant squid that has attached itself to the outside of your submarine.\n",
    "\n",
    "Maybe it wants to play [bingo](https://en.wikipedia.org/wiki/Bingo_(American_version))?\n",
    "\n",
    "Bingo is played on a set of boards each consisting of a 5x5 grid of numbers. Numbers are chosen at random, and the chosen number is **marked** on all boards on which it appears. (Numbers may not appear on all boards.) If all numbers in any row or any column of a board are marked, that board **wins**. (Diagonals don't count.)\n",
    "\n",
    "The submarine has a **bingo subsystem** to help passengers (currently, you and the giant squid) pass the time. It automatically generates a random order in which to draw numbers and a random set of boards (your puzzle input). For example:\n",
    "\n",
    "```\n",
    "7,4,9,5,11,17,23,2,0,14,21,24,10,16,13,6,15,25,12,22,18,20,8,19,3,26,1\n",
    "\n",
    "22 13 17 11  0\n",
    " 8  2 23  4 24\n",
    "21  9 14 16  7\n",
    " 6 10  3 18  5\n",
    " 1 12 20 15 19\n",
    "\n",
    " 3 15  0  2 22\n",
    " 9 18 13 17  5\n",
    "19  8  7 25 23\n",
    "20 11 10 24  4\n",
    "14 21 16 12  6\n",
    "\n",
    "14 21 17 24  4\n",
    "10 16 15  9 19\n",
    "18  8 23 26 20\n",
    "22 11 13  6  5\n",
    " 2  0 12  3  7\n",
    "\n",
    "```\n",
    "\n",
    "After the first five numbers are drawn (`7`, `4`, `9`, `5`, and `11`), there are no winners, but the boards are marked as follows (shown here adjacent to each other to save space):\n",
    "\n",
    "**`22 13 17 11  0         3 15  0  2 22        14 21 17 24  4\n",
    " 8  2 23  4 24         9 18 13 17  5        10 16 15  9 19\n",
    "21  9 14 16  7        19  8  7 25 23        18  8 23 26 20\n",
    " 6 10  3 18  5        20 11 10 24  4        22 11 13  6  5\n",
    " 1 12 20 15 19        14 21 16 12  6         2  0 12  3  7`**\n",
    "\n",
    "After the next six numbers are drawn (`17`, `23`, `2`, `0`, `14`, and `21`), there are still no winners:\n",
    "\n",
    "**`22 13 17 11  0         3 15  0  2 22        14 21 17 24  4\n",
    " 8  2 23  4 24         9 18 13 17  5        10 16 15  9 19\n",
    "21  9 14 16  7        19  8  7 25 23        18  8 23 26 20\n",
    " 6 10  3 18  5        20 11 10 24  4        22 11 13  6  5\n",
    " 1 12 20 15 19        14 21 16 12  6         2  0 12  3  7`**\n",
    "\n",
    "Finally, `24` is drawn:\n",
    "\n",
    "**`22 13 17 11  0         3 15  0  2 22        14 21 17 24  4\n",
    " 8  2 23  4 24         9 18 13 17  5        10 16 15  9 19\n",
    "21  9 14 16  7        19  8  7 25 23        18  8 23 26 20\n",
    " 6 10  3 18  5        20 11 10 24  4        22 11 13  6  5\n",
    " 1 12 20 15 19        14 21 16 12  6         2  0 12  3  7`**\n",
    "\n",
    "At this point, the third board **wins** because it has at least one complete row or column of marked numbers (in this case, the entire top row is marked: **`14 21 17 24 4`**).\n",
    "\n",
    "The **score** of the winning board can now be calculated. Start by finding the **sum of all unmarked numbers** on that board; in this case, the sum is `188`. Then, multiply that sum by **the number that was just called** when the board won, `24`, to get the final score, **`188 * 24 = 4512`**.\n",
    "\n",
    "To guarantee victory against the giant squid, figure out which board will win first. **What will your final score be if you choose that board?**"
   ]
  },
  {
   "cell_type": "code",
   "execution_count": 1,
   "metadata": {},
   "outputs": [
    {
     "name": "stderr",
     "output_type": "stream",
     "text": [
      "..\n",
      "----------------------------------------------------------------------\n",
      "Ran 2 tests in 0.006s\n",
      "\n",
      "OK\n"
     ]
    },
    {
     "data": {
      "text/plain": [
       "<unittest.main.TestProgram at 0x7f84e08a4f28>"
      ]
     },
     "execution_count": 1,
     "metadata": {},
     "output_type": "execute_result"
    }
   ],
   "source": [
    "import unittest\n",
    "import re\n",
    "import numpy as np\n",
    "from IPython.display import Markdown, display\n",
    "\n",
    "from aoc_puzzle import AocPuzzle\n",
    "\n",
    "class Bingo(AocPuzzle):\n",
    "    \n",
    "    def load_draws(self, data):\n",
    "        self.draws = list(map(int, data.split(',')))\n",
    "        \n",
    "    def load_boards(self, data):\n",
    "        self.boards = []\n",
    "        for board in data:\n",
    "            board_lines = board.split('\\n')\n",
    "            board_data = []\n",
    "            for line in board_lines:\n",
    "                row = list(map(int, re.split('\\s+', line.strip())))\n",
    "                row = [(item, False) for item in row] \n",
    "                board_data.append(row)\n",
    "            self.boards.append(board_data)\n",
    "    \n",
    "    def parse_data(self, raw_data):\n",
    "        data_sets = raw_data.split('\\n\\n')\n",
    "        self.load_draws(data_sets[0])\n",
    "        self.load_boards(data_sets[1:])\n",
    "        \n",
    "    def mark_boards(self, val):\n",
    "        for b, board in enumerate(self.boards):\n",
    "            for r, row in enumerate(board):\n",
    "                for i, (num, mark) in enumerate(row):\n",
    "                    if num == val:\n",
    "                        self.boards[b][r][i] = (num, True)\n",
    "                        \n",
    "    def is_winner(self, board):\n",
    "        vals, marks = np.transpose(board)\n",
    "        for col in marks:\n",
    "            if col.all():\n",
    "                return True\n",
    "        for row in np.transpose(marks):\n",
    "            if row.all():\n",
    "                return True\n",
    "        return False\n",
    "    \n",
    "    def get_winners(self):\n",
    "        winners = []\n",
    "        for b, board in enumerate(self.boards):\n",
    "            if self.is_winner(board):\n",
    "                winners.append(b)\n",
    "        return winners\n",
    "                \n",
    "    def get_board_checksum(self, board_num):\n",
    "        checksum = 0\n",
    "        for row in self.boards[board_num]:\n",
    "            for val, mark in row:\n",
    "                if mark == False:\n",
    "                    checksum += val\n",
    "        return checksum                \n",
    "        \n",
    "    def play(self):\n",
    "        winner = -1\n",
    "        for draw in self.draws:\n",
    "            self.mark_boards(draw)\n",
    "            winner = self.get_winners()\n",
    "            if winner:\n",
    "                break\n",
    "        return (draw, winner[0])\n",
    "            \n",
    "            \n",
    "    def run(self, output=False):\n",
    "        last_draw, winning_board = self.play()\n",
    "        \n",
    "        if winning_board == -1:\n",
    "            result = -1\n",
    "            if output:\n",
    "                display(Markdown(f'### No Winner Found: `{result}`'))\n",
    "        else:\n",
    "            check_sum = self.get_board_checksum(winning_board)\n",
    "            result = last_draw * check_sum\n",
    "        if output:\n",
    "            display(Markdown(f'### Result is `{result}`'))\n",
    "            \n",
    "        return result\n",
    "        \n",
    "\n",
    "class TestBasic(unittest.TestCase):\n",
    "\n",
    "    def test_parse_data(self):\n",
    "        in_data = '7,4,9,5,11,17,23,2,0,14,21,24,10,16,13,6,15,25,12,22,18,20,8,19,3,26,1\\n\\n22 13 17 11  0\\n 8  2 23  4 24\\n21  9 14 16  7\\n 6 10  3 18  5\\n 1 12 20 15 19'\n",
    "        exp_out_draws = [7,4,9,5,11,17,23,2,0,14,21,24,10,16,13,6,15,25,12,22,18,20,8,19,3,26,1]\n",
    "        exp_out_boards = [[[(22,False),(13,False),(17,False),(11,False),(0,False)],[(8,False),(2,False),(23,False),(4,False),(24,False)],[(21,False),(9,False),(14,False),(16,False),(7,False)],[(6,False),(10,False),(3,False),(18,False),(5,False)],[(1,False),(12,False),(20,False),(15,False),(19,False)]]]\n",
    "        bingo = Bingo(in_data)\n",
    "        self.assertEqual(bingo.draws, exp_out_draws)\n",
    "        self.assertEqual(bingo.boards, exp_out_boards)\n",
    "        \n",
    "    def test_puzzle(self):\n",
    "        input_data = ['7,4,9,5,11,17,23,2,0,14,21,24,10,16,13,6,15,25,12,22,18,20,8,19,3,26,1\\n\\n22 13 17 11  0\\n 8  2 23  4 24\\n21  9 14 16  7\\n 6 10  3 18  5\\n 1 12 20 15 19\\n\\n 3 15  0  2 22\\n 9 18 13 17  5\\n19  8  7 25 23\\n20 11 10 24  4\\n14 21 16 12  6\\n\\n14 21 17 24  4\\n10 16 15  9 19\\n18  8 23 26 20\\n22 11 13  6  5\\n 2  0 12  3  7']\n",
    "        exp_output = [4512]\n",
    "        for in_data, exp_out in tuple(zip(input_data, exp_output)):\n",
    "            bingo = Bingo(in_data)\n",
    "            self.assertEqual(bingo.run(), exp_out)\n",
    "        \n",
    "unittest.main(argv=[\"\"], exit=False)"
   ]
  },
  {
   "cell_type": "code",
   "execution_count": 2,
   "metadata": {},
   "outputs": [
    {
     "data": {
      "text/markdown": [
       "### Result is `27027`"
      ],
      "text/plain": [
       "<IPython.core.display.Markdown object>"
      ]
     },
     "metadata": {},
     "output_type": "display_data"
    },
    {
     "data": {
      "text/plain": [
       "27027"
      ]
     },
     "execution_count": 2,
     "metadata": {},
     "output_type": "execute_result"
    }
   ],
   "source": [
    "bingo = Bingo(\"input/d04.txt\")\n",
    "bingo.run(output=True)"
   ]
  },
  {
   "cell_type": "markdown",
   "metadata": {},
   "source": [
    "### Part Two\n",
    "\n",
    "On the other hand, it might be wise to try a different strategy: let the giant squid win.\n",
    "\n",
    "You aren't sure how many bingo boards a giant squid could play at once, so rather than waste time counting its arms, the safe thing to do is to **figure out which board will win last** and choose that one. That way, no matter which boards it picks, it will win for sure.\n",
    "\n",
    "In the above example, the second board is the last to win, which happens after `13` is eventually called and its middle column is completely marked. If you were to keep playing until this point, the second board would have a sum of unmarked numbers equal to `148` for a final score of **`148 * 13 = 1924`**.\n",
    "\n",
    "Figure out which board will win last. **Once it wins, what would its final score be?**"
   ]
  },
  {
   "cell_type": "code",
   "execution_count": 3,
   "metadata": {},
   "outputs": [
    {
     "name": "stderr",
     "output_type": "stream",
     "text": [
      ".\n",
      "----------------------------------------------------------------------\n",
      "Ran 1 test in 0.006s\n",
      "\n",
      "OK\n"
     ]
    },
    {
     "data": {
      "text/plain": [
       "<unittest.main.TestProgram at 0x7f850279bd30>"
      ]
     },
     "execution_count": 3,
     "metadata": {},
     "output_type": "execute_result"
    }
   ],
   "source": [
    "class Bingo2(Bingo):\n",
    "    def remove_boards(self, remove_list):\n",
    "        trimmed = []\n",
    "        for b, board in enumerate(self.boards):\n",
    "            if b not in remove_list:\n",
    "                trimmed.append(board)\n",
    "        self.boards = trimmed\n",
    "    \n",
    "    def play(self):\n",
    "        for draw in self.draws:\n",
    "            self.mark_boards(draw)\n",
    "            winners = self.get_winners()\n",
    "            if winners:\n",
    "                if len(self.boards) == 1:\n",
    "                    break\n",
    "                else:\n",
    "                    self.remove_boards(winners)\n",
    "        return (draw, 0)\n",
    "    \n",
    "class TestBasic(unittest.TestCase):\n",
    "        \n",
    "    def test_puzzle2(self):\n",
    "        input_data = ['7,4,9,5,11,17,23,2,0,14,21,24,10,16,13,6,15,25,12,22,18,20,8,19,3,26,1\\n\\n22 13 17 11  0\\n 8  2 23  4 24\\n21  9 14 16  7\\n 6 10  3 18  5\\n 1 12 20 15 19\\n\\n 3 15  0  2 22\\n 9 18 13 17  5\\n19  8  7 25 23\\n20 11 10 24  4\\n14 21 16 12  6\\n\\n14 21 17 24  4\\n10 16 15  9 19\\n18  8 23 26 20\\n22 11 13  6  5\\n 2  0 12  3  7']\n",
    "        exp_output = [1924]\n",
    "        for in_data, exp_out in tuple(zip(input_data, exp_output)):\n",
    "            bingo = Bingo2(in_data)\n",
    "            self.assertEqual(bingo.run(), exp_out)\n",
    "        \n",
    "unittest.main(argv=[\"\"], exit=False)"
   ]
  },
  {
   "cell_type": "code",
   "execution_count": 4,
   "metadata": {},
   "outputs": [
    {
     "data": {
      "text/markdown": [
       "### Result is `36975`"
      ],
      "text/plain": [
       "<IPython.core.display.Markdown object>"
      ]
     },
     "metadata": {},
     "output_type": "display_data"
    },
    {
     "data": {
      "text/plain": [
       "36975"
      ]
     },
     "execution_count": 4,
     "metadata": {},
     "output_type": "execute_result"
    }
   ],
   "source": [
    "bingo = Bingo2(\"input/d04.txt\")\n",
    "bingo.run(output=True)"
   ]
  }
 ],
 "metadata": {
  "kernelspec": {
   "display_name": "Python 3",
   "language": "python",
   "name": "python3"
  },
  "language_info": {
   "codemirror_mode": {
    "name": "ipython",
    "version": 3
   },
   "file_extension": ".py",
   "mimetype": "text/x-python",
   "name": "python",
   "nbconvert_exporter": "python",
   "pygments_lexer": "ipython3",
   "version": "3.6.8"
  }
 },
 "nbformat": 4,
 "nbformat_minor": 2
}
