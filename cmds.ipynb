{
 "cells": [
  {
   "cell_type": "markdown",
   "metadata": {},
   "source": [
    "## Git"
   ]
  },
  {
   "cell_type": "code",
   "execution_count": 13,
   "metadata": {},
   "outputs": [
    {
     "name": "stdout",
     "output_type": "stream",
     "text": [
      "\u001b[33mcommit a54de42f9048abd6521c28773123fce5e034680e\u001b[m\u001b[33m (\u001b[m\u001b[1;36mHEAD -> \u001b[m\u001b[1;32mmaster\u001b[m\u001b[33m)\u001b[m\r\n",
      "Author: RubenFixit <github@rubenfixit.com>\r\n",
      "Date:   Sat Dec 7 23:31:52 2019 -0700\r\n",
      "\r\n",
      "    Adding day 7 and 8\r\n",
      "\r\n",
      "\u001b[33mcommit 080749d4c47489953a482f630edc12d775a2d444\u001b[m\u001b[33m (\u001b[m\u001b[1;31morigin/master\u001b[m\u001b[33m, \u001b[m\u001b[1;31morigin/HEAD\u001b[m\u001b[33m)\u001b[m\r\n",
      "Author: RubenFixit <github@rubenfixit.com>\r\n",
      "Date:   Fri Dec 6 00:06:00 2019 -0700\r\n",
      "\r\n",
      "    Adding day 6\r\n"
     ]
    }
   ],
   "source": [
    "!git log -2"
   ]
  },
  {
   "cell_type": "code",
   "execution_count": 11,
   "metadata": {},
   "outputs": [
    {
     "name": "stdout",
     "output_type": "stream",
     "text": [
      "Unstaged changes after reset:\r\n",
      "M\t.gitignore\r\n",
      "M\tcmds.ipynb\r\n"
     ]
    }
   ],
   "source": [
    "! git reset HEAD cmds.ipynb"
   ]
  },
  {
   "cell_type": "code",
   "execution_count": 16,
   "metadata": {},
   "outputs": [
    {
     "name": "stdout",
     "output_type": "stream",
     "text": [
      "On branch master\r\n",
      "Your branch is ahead of 'origin/master' by 2 commits.\r\n",
      "  (use \"git push\" to publish your local commits)\r\n",
      "\r\n",
      "nothing to commit, working tree clean\r\n"
     ]
    }
   ],
   "source": [
    "!git status"
   ]
  },
  {
   "cell_type": "code",
   "execution_count": 15,
   "metadata": {},
   "outputs": [
    {
     "name": "stdout",
     "output_type": "stream",
     "text": [
      "[master 14dabf9] Adding day 7 and 8\r\n",
      " 2 files changed, 51 insertions(+), 25 deletions(-)\r\n"
     ]
    }
   ],
   "source": [
    "!git add .\n",
    "!git commit -m \"Adding day 7 and 8\""
   ]
  },
  {
   "cell_type": "code",
   "execution_count": 14,
   "metadata": {},
   "outputs": [
    {
     "name": "stdout",
     "output_type": "stream",
     "text": [
      "[master 0002c74] Adding day 7 and 8\r\n",
      " Date: Sat Dec 7 23:31:52 2019 -0700\r\n",
      " 9 files changed, 2188 insertions(+), 3 deletions(-)\r\n",
      " create mode 100644 AoC 2018/AoC 2018 - Day 01.ipynb\r\n",
      " create mode 100644 AoC 2018/inputs/input_d01.txt\r\n",
      " create mode 100644 AoC 2019/AoC 2019 - Day 07.ipynb\r\n",
      " create mode 100644 AoC 2019/AoC 2019 - Day 08.ipynb\r\n",
      " create mode 100644 AoC 2019/inputs/input_d07.txt\r\n",
      " create mode 100644 AoC 2019/inputs/input_d08.txt\r\n",
      " create mode 100644 cmds.ipynb\r\n"
     ]
    }
   ],
   "source": [
    "!git commit --amend -m \"Adding day 7 and 8\""
   ]
  },
  {
   "cell_type": "code",
   "execution_count": 12,
   "metadata": {},
   "outputs": [
    {
     "name": "stdout",
     "output_type": "stream",
     "text": [
      "Warning: Permanently added the RSA host key for IP address '192.30.255.112' to the list of known hosts.\n",
      "Counting objects: 6, done.\n",
      "Delta compression using up to 8 threads.\n",
      "Compressing objects: 100% (6/6), done.\n",
      "Writing objects: 100% (6/6), 8.27 KiB | 8.27 MiB/s, done.\n",
      "Total 6 (delta 3), reused 0 (delta 0)\n",
      "remote: Resolving deltas: 100% (3/3), completed with 3 local objects.\u001b[K\n",
      "To github.com:RubenFixit/AoC.git\n",
      "   a82f504..080749d  HEAD -> master\n"
     ]
    }
   ],
   "source": [
    "!git push origin HEAD"
   ]
  },
  {
   "cell_type": "markdown",
   "metadata": {},
   "source": [
    "## File Manipulation"
   ]
  },
  {
   "cell_type": "code",
   "execution_count": 1,
   "metadata": {},
   "outputs": [
    {
     "name": "stdout",
     "output_type": "stream",
     "text": [
      "total 188\n",
      "drwxr-xr-x 4 web_admin web_admin  4096 Dec  7 04:44  .\n",
      "drwxr-xr-x 6 web_admin web_admin  4096 Dec  6 22:21  ..\n",
      "-rw-r--r-- 1 web_admin web_admin  1561 Dec  6 00:05 'AoC 2019 - Day 00.ipynb'\n",
      "-rw-r--r-- 1 web_admin web_admin  8996 Dec  4 01:30 'AoC 2019 - Day 01.ipynb'\n",
      "-rw-r--r-- 1 web_admin web_admin 16085 Dec  5 00:19 'AoC 2019 - Day 02.ipynb'\n",
      "-rw-r--r-- 1 web_admin web_admin 70731 Dec  4 02:19 'AoC 2019 - Day 03.ipynb'\n",
      "-rw-r--r-- 1 web_admin web_admin  5917 Dec  4 02:49 'AoC 2019 - Day 04.ipynb'\n",
      "-rw-r--r-- 1 web_admin web_admin 21373 Dec  5 00:18 'AoC 2019 - Day 05.ipynb'\n",
      "-rw-r--r-- 1 web_admin web_admin 11091 Dec  6 10:18 'AoC 2019 - Day 06.ipynb'\n",
      "-rw-r--r-- 1 web_admin web_admin 21212 Dec  7 04:44 'AoC 2019 - Day 07.ipynb'\n",
      "drwxr-xr-x 3 web_admin web_admin  4096 Dec  7 04:40  inputs\n",
      "drwxr-xr-x 2 web_admin web_admin  4096 Dec  6 22:22  .ipynb_checkpoints\n",
      "total 192\n",
      "drwxr-xr-x 4 web_admin web_admin  4096 Dec  7 22:02  .\n",
      "drwxr-xr-x 6 web_admin web_admin  4096 Dec  6 22:21  ..\n",
      "-rw-r--r-- 1 web_admin web_admin  1561 Dec  6 00:05 'AoC 2019 - Day 00.ipynb'\n",
      "-rw-r--r-- 1 web_admin web_admin  8996 Dec  4 01:30 'AoC 2019 - Day 01.ipynb'\n",
      "-rw-r--r-- 1 web_admin web_admin 16085 Dec  5 00:19 'AoC 2019 - Day 02.ipynb'\n",
      "-rw-r--r-- 1 web_admin web_admin 70731 Dec  4 02:19 'AoC 2019 - Day 03.ipynb'\n",
      "-rw-r--r-- 1 web_admin web_admin  5917 Dec  4 02:49 'AoC 2019 - Day 04.ipynb'\n",
      "-rw-r--r-- 1 web_admin web_admin 21373 Dec  5 00:18 'AoC 2019 - Day 05.ipynb'\n",
      "-rw-r--r-- 1 web_admin web_admin 11091 Dec  6 10:18 'AoC 2019 - Day 06.ipynb'\n",
      "-rw-r--r-- 1 web_admin web_admin 21212 Dec  7 04:44 'AoC 2019 - Day 07.ipynb'\n",
      "-rw-r--r-- 1 web_admin web_admin  1561 Dec  7 22:02 'AoC 2019 - Day 08.ipynb'\n",
      "drwxr-xr-x 3 web_admin web_admin  4096 Dec  7 04:40  inputs\n",
      "drwxr-xr-x 2 web_admin web_admin  4096 Dec  6 22:22  .ipynb_checkpoints\n"
     ]
    }
   ],
   "source": [
    "!ls -al \"AoC 2019/\"\n",
    "!cp \"AoC 2019/AoC 2019 - Day 00.ipynb\" \"AoC 2019/AoC 2019 - Day 08.ipynb\"\n",
    "!ls -al \"AoC 2019/\""
   ]
  },
  {
   "cell_type": "code",
   "execution_count": 5,
   "metadata": {},
   "outputs": [
    {
     "name": "stdout",
     "output_type": "stream",
     "text": [
      "total 44\r\n",
      "drwxr-xr-x 6 web_admin web_admin 4096 Dec  6 10:29  .\r\n",
      "drwxrwxr-x 4 web_admin web_admin 4096 Dec  6 00:05  ..\r\n",
      "drwxr-xr-x 4 web_admin web_admin 4096 Dec  6 22:20 'AoC 2018'\r\n",
      "drwxr-xr-x 4 web_admin web_admin 4096 Dec  6 10:18 'AoC 2019'\r\n",
      "-rw-r--r-- 1 web_admin web_admin 4213 Dec  6 10:29  cmds.ipynb\r\n",
      "drwxrwxr-x 8 web_admin web_admin 4096 Dec  6 00:07  .git\r\n",
      "-rw-rw-r-- 1 web_admin web_admin   51 Dec  4 02:01  .gitignore\r\n",
      "drwxr-xr-x 2 web_admin web_admin 4096 Dec  6 10:29  .ipynb_checkpoints\r\n",
      "-rw-rw-r-- 1 web_admin web_admin 1062 Dec  4 01:45  LICENSE\r\n",
      "-rw-rw-r-- 1 web_admin web_admin  127 Dec  4 02:25  README.md\r\n"
     ]
    }
   ],
   "source": [
    "!ls -al"
   ]
  }
 ],
 "metadata": {
  "kernelspec": {
   "display_name": "Python 3",
   "language": "python",
   "name": "python3"
  },
  "language_info": {
   "codemirror_mode": {
    "name": "ipython",
    "version": 3
   },
   "file_extension": ".py",
   "mimetype": "text/x-python",
   "name": "python",
   "nbconvert_exporter": "python",
   "pygments_lexer": "ipython3",
   "version": "3.6.8"
  }
 },
 "nbformat": 4,
 "nbformat_minor": 2
}
