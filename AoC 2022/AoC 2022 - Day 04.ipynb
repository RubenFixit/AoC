{
 "cells": [
  {
   "cell_type": "markdown",
   "metadata": {
    "tags": []
   },
   "source": [
    "# [Advent of Code 2022: Day 4](https://adventofcode.com/2022/day/4)\n",
    "[puzzle input](https://adventofcode.com/2022/day/4/input)"
   ]
  },
  {
   "cell_type": "markdown",
   "metadata": {},
   "source": [
    "## --- Day 4: Camp Cleanup ---\n",
    "\n",
    "Space needs to be cleared before the last supplies can be unloaded from the ships, and so several Elves have been assigned the job of cleaning up sections of the camp. Every section has a unique **ID number**, and each Elf is assigned a range of section IDs.\n",
    "\n",
    "However, as some of the Elves compare their section assignments with each other, they've noticed that many of the assignments **overlap**. To try to quickly find overlaps and reduce duplicated effort, the Elves pair up and make a **big list of the section assignments for each pair** (your puzzle input).\n",
    "\n",
    "For example, consider the following list of section assignment pairs:\n",
    "\n",
    "```\n",
    "2-4,6-8\n",
    "2-3,4-5\n",
    "5-7,7-9\n",
    "2-8,3-7\n",
    "6-6,4-6\n",
    "2-6,4-8\n",
    "\n",
    "```\n",
    "\n",
    "For the first few pairs, this list means:\n",
    "\n",
    "*   Within the first pair of Elves, the first Elf was assigned sections `2-4` (sections `2`, `3`, and `4`), while the second Elf was assigned sections `6-8` (sections `6`, `7`, `8`).\n",
    "*   The Elves in the second pair were each assigned two sections.\n",
    "*   The Elves in the third pair were each assigned three sections: one got sections `5`, `6`, and `7`, while the other also got `7`, plus `8` and `9`.\n",
    "\n",
    "This example list uses single-digit section IDs to make it easier to draw; your actual list might contain larger numbers. Visually, these pairs of section assignments look like this:\n",
    "\n",
    "```\n",
    ".234.....  2-4\n",
    ".....678.  6-8\n",
    "\n",
    ".23......  2-3\n",
    "...45....  4-5\n",
    "\n",
    "....567..  5-7\n",
    "......789  7-9\n",
    "\n",
    ".2345678.  2-8\n",
    "..34567..  3-7\n",
    "\n",
    ".....6...  6-6\n",
    "...456...  4-6\n",
    "\n",
    ".23456...  2-6\n",
    "...45678.  4-8\n",
    "\n",
    "```\n",
    "\n",
    "Some of the pairs have noticed that one of their assignments **fully contains** the other. For example, `2-8` fully contains `3-7`, and `6-6` is fully contained by `4-6`. In pairs where one assignment fully contains the other, one Elf in the pair would be exclusively cleaning sections their partner will already be cleaning, so these seem like the most in need of reconsideration. In this example, there are **`2`** such pairs.\n",
    "\n",
    "**In how many assignment pairs does one range fully contain the other?**"
   ]
  },
  {
   "cell_type": "code",
   "execution_count": 1,
   "metadata": {},
   "outputs": [
    {
     "name": "stderr",
     "output_type": "stream",
     "text": [
      "..\n",
      "----------------------------------------------------------------------\n",
      "Ran 2 tests in 0.003s\n",
      "\n",
      "OK\n"
     ]
    },
    {
     "name": "stdout",
     "output_type": "stream",
     "text": [
      "\n",
      "\n",
      "\n"
     ]
    },
    {
     "data": {
      "text/plain": [
       "<unittest.main.TestProgram at 0x7f0aa43d10c0>"
      ]
     },
     "execution_count": 1,
     "metadata": {},
     "output_type": "execute_result"
    }
   ],
   "source": [
    "import unittest\n",
    "from IPython.display import Markdown, display\n",
    "\n",
    "from aoc_puzzle import AocPuzzle\n",
    "\n",
    "class Puzzle(AocPuzzle):\n",
    "    \n",
    "    def parse_pair(self, pair_data):\n",
    "        data = list(map(int, pair_data.split('-')))\n",
    "        return data\n",
    "    \n",
    "    def parse_line(self, raw_data):\n",
    "        data = list(map(self.parse_pair, raw_data.split(',')))\n",
    "        return data\n",
    "    \n",
    "    def parse_data(self, raw_data):\n",
    "        self.data = list(map(self.parse_line, raw_data.split('\\n')))\n",
    "        \n",
    "    def contains_overlaping_shifts0(self, pair_data):\n",
    "        [p1_min, p1_max], [p2_min, p2_max] = pair_data\n",
    "        p1 = list(range(p1_min, p1_max+1))\n",
    "        p2 = list(range(p2_min, p2_max+1))\n",
    "        same_shifts = list(set(p1) & set(p2))\n",
    "        # Set comparisson had to be sorted before comparing!\n",
    "        same_shifts.sort()\n",
    "        \n",
    "        # print(p1, p2, same_shifts)\n",
    "        \n",
    "        if same_shifts == p1 or same_shifts == p2:\n",
    "            # print([p1_min, p1_max], [p2_min, p2_max], True)\n",
    "            return True\n",
    "        else:\n",
    "            # print([p1_min, p1_max], [p2_min, p2_max], False)\n",
    "            return False\n",
    "\n",
    "    def contains_overlaping_shifts1(self, pair_data):\n",
    "        [p1_min, p1_max], [p2_min, p2_max] = pair_data\n",
    "        \n",
    "        if (p1_min >= p2_min and\n",
    "            p1_min <= p2_max and\n",
    "            p1_max <= p2_max and\n",
    "            p1_max >= p2_min or\n",
    "            p2_min >= p1_min and\n",
    "            p2_min <= p1_max and\n",
    "            p2_max <= p1_max and\n",
    "            p2_max >= p1_min):\n",
    "            # print([p1_min, p1_max], [p2_min, p2_max], True)\n",
    "            return True\n",
    "        else:\n",
    "            # print([p1_min, p1_max], [p2_min, p2_max], False)\n",
    "            return False\n",
    "            \n",
    "    def run(self, output=False):\n",
    "        result = 0\n",
    "        # print('lines: ', len(self.data))\n",
    "        for pair_data in self.data:\n",
    "            ols0 = self.contains_overlaping_shifts0(pair_data)\n",
    "            ols1 = self.contains_overlaping_shifts1(pair_data)\n",
    "            if ols1:\n",
    "                result += 1\n",
    "            if ols0 != ols1:\n",
    "                print(pair_data)\n",
    "                \n",
    "        if output:\n",
    "            display(Markdown(f'### Result is `{result}`'))            \n",
    "        return result\n",
    "        \n",
    "\n",
    "class TestBasic(unittest.TestCase):\n",
    "\n",
    "    def test_parse_data(self):\n",
    "        in_data = '2-4,6-8\\n2-3,4-5\\n5-7,7-9\\n2-8,3-7\\n6-6,4-6\\n2-6,4-8'\n",
    "        exp_out = [[[2,4],[6,8]],[[2,3],[4,5]],[[5,7],[7,9]],[[2,8],[3,7]],[[6,6],[4,6]],[[2,6],[4,8]]]\n",
    "        puzzle = Puzzle(in_data)\n",
    "        self.assertEqual(puzzle.data, exp_out)\n",
    "        \n",
    "    def test_puzzle(self):\n",
    "        input_data = ['2-4,6-8\\n2-3,4-5\\n5-7,7-9\\n2-8,3-7\\n6-6,4-6\\n2-6,4-8',\n",
    "                      '1-81,20-96\\n14-80,14-79\\n87-89,7-88\\n82-93,44-82\\n61-93,62-86\\n80-94,4-80',\n",
    "                      '4-4,3-84\\n9-80,8-81\\n13-45,14-74\\n84-86,73-85\\n45-79,44-78\\n9-16,9-18\\n19-57,53-56']\n",
    "        exp_output = [2,2,4]\n",
    "        for in_data, exp_out in tuple(zip(input_data, exp_output)):\n",
    "            print()\n",
    "            puzzle = Puzzle(in_data)\n",
    "            self.assertEqual(puzzle.run(), exp_out)\n",
    "        \n",
    "unittest.main(argv=[\"\"], exit=False)"
   ]
  },
  {
   "cell_type": "code",
   "execution_count": 2,
   "metadata": {},
   "outputs": [
    {
     "data": {
      "text/markdown": [
       "### Result is `511`"
      ],
      "text/plain": [
       "<IPython.core.display.Markdown object>"
      ]
     },
     "metadata": {},
     "output_type": "display_data"
    },
    {
     "data": {
      "text/plain": [
       "511"
      ]
     },
     "execution_count": 2,
     "metadata": {},
     "output_type": "execute_result"
    }
   ],
   "source": [
    "puzzle = Puzzle(\"input/d04.txt\")\n",
    "puzzle.run(output=True)"
   ]
  },
  {
   "cell_type": "markdown",
   "metadata": {},
   "source": [
    "## --- Part Two ---\n",
    "\n",
    "It seems like there is still quite a bit of duplicate work planned. Instead, the Elves would like to know the number of pairs that **overlap at all**.\n",
    "\n",
    "In the above example, the first two pairs (`2-4,6-8` and `2-3,4-5`) don't overlap, while the remaining four pairs (`5-7,7-9`, `2-8,3-7`, `6-6,4-6`, and `2-6,4-8`) do overlap:\n",
    "\n",
    "*   `5-7,7-9` overlaps in a single section, `7`.\n",
    "*   `2-8,3-7` overlaps all of the sections `3` through `7`.\n",
    "*   `6-6,4-6` overlaps in a single section, `6`.\n",
    "*   `2-6,4-8` overlaps in sections `4`, `5`, and `6`.\n",
    "\n",
    "So, in this example, the number of overlapping assignment pairs is **`4`**.\n",
    "\n",
    "**In how many assignment pairs do the ranges overlap?**"
   ]
  },
  {
   "cell_type": "code",
   "execution_count": 3,
   "metadata": {},
   "outputs": [
    {
     "name": "stderr",
     "output_type": "stream",
     "text": [
      ".\n",
      "----------------------------------------------------------------------\n",
      "Ran 1 test in 0.001s\n",
      "\n",
      "OK\n"
     ]
    },
    {
     "data": {
      "text/plain": [
       "<unittest.main.TestProgram at 0x7f0aa4389480>"
      ]
     },
     "execution_count": 3,
     "metadata": {},
     "output_type": "execute_result"
    }
   ],
   "source": [
    "class Puzzle2(Puzzle):\n",
    "    \n",
    "    def contains_any_overlaping_shifts0(self, pair_data):\n",
    "        [p1_min, p1_max], [p2_min, p2_max] = pair_data\n",
    "        p1 = list(range(p1_min, p1_max+1))\n",
    "        p2 = list(range(p2_min, p2_max+1))\n",
    "        same_shifts = list(set(p1) & set(p2))        \n",
    "        # print(p1, p2, same_shifts)\n",
    "        \n",
    "        if same_shifts == []:\n",
    "            return False\n",
    "        else:\n",
    "            return True\n",
    "        \n",
    "    def contains_any_overlaping_shifts1(self, pair_data):\n",
    "        [p1_min, p1_max], [p2_min, p2_max] = pair_data\n",
    "        \n",
    "        if (p1_min >= p2_min and p1_min <= p2_max or\n",
    "            p1_max <= p2_max and p1_max >= p2_min or\n",
    "            p2_min >= p1_min and p2_min <= p1_max or\n",
    "            p2_max <= p1_max and p2_max >= p1_min):\n",
    "            # print([p1_min, p1_max], [p2_min, p2_max], True)\n",
    "            return True\n",
    "        else:\n",
    "            # print([p1_min, p1_max], [p2_min, p2_max], False)\n",
    "            return False\n",
    "        \n",
    "    def run(self, output=False):\n",
    "        result = 0\n",
    "        for pair_data in self.data:\n",
    "            ols0 = self.contains_any_overlaping_shifts0(pair_data)\n",
    "            ols1 = self.contains_any_overlaping_shifts1(pair_data)            \n",
    "            if ols1:\n",
    "                result += 1\n",
    "            if ols0 != ols1:\n",
    "                print(pair_data)\n",
    "        if output:\n",
    "            display(Markdown(f'### Result is `{result}`'))            \n",
    "        return result\n",
    "\n",
    "\n",
    "class TestBasic(unittest.TestCase):\n",
    "        \n",
    "    def test_puzzle2(self):\n",
    "        input_data = ['2-4,6-8\\n2-3,4-5\\n5-7,7-9\\n2-8,3-7\\n6-6,4-6\\n2-6,4-8']\n",
    "        exp_output = [4]\n",
    "        for in_data, exp_out in tuple(zip(input_data, exp_output)):\n",
    "            puzzle = Puzzle2(in_data)\n",
    "            self.assertEqual(puzzle.run(), exp_out)\n",
    "        \n",
    "unittest.main(argv=[\"\"], exit=False)"
   ]
  },
  {
   "cell_type": "code",
   "execution_count": 4,
   "metadata": {},
   "outputs": [
    {
     "data": {
      "text/markdown": [
       "### Result is `821`"
      ],
      "text/plain": [
       "<IPython.core.display.Markdown object>"
      ]
     },
     "metadata": {},
     "output_type": "display_data"
    },
    {
     "data": {
      "text/plain": [
       "821"
      ]
     },
     "execution_count": 4,
     "metadata": {},
     "output_type": "execute_result"
    }
   ],
   "source": [
    "puzzle = Puzzle2(\"input/d04.txt\")\n",
    "puzzle.run(output=True)"
   ]
  }
 ],
 "metadata": {
  "kernelspec": {
   "display_name": "Python 3 (ipykernel)",
   "language": "python",
   "name": "python3"
  },
  "language_info": {
   "codemirror_mode": {
    "name": "ipython",
    "version": 3
   },
   "file_extension": ".py",
   "mimetype": "text/x-python",
   "name": "python",
   "nbconvert_exporter": "python",
   "pygments_lexer": "ipython3",
   "version": "3.10.6"
  }
 },
 "nbformat": 4,
 "nbformat_minor": 4
}
