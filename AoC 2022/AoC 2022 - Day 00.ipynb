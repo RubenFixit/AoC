{
 "cells": [
  {
   "cell_type": "markdown",
   "metadata": {
    "tags": []
   },
   "source": [
    "# [Advent of Code 2022: Day 0](https://adventofcode.com/2022/day/0)\n",
    "[puzzle input](https://adventofcode.com/2022/day/0/input)"
   ]
  },
  {
   "cell_type": "markdown",
   "metadata": {},
   "source": [
    "### Part One"
   ]
  },
  {
   "cell_type": "code",
   "execution_count": 1,
   "metadata": {},
   "outputs": [
    {
     "name": "stderr",
     "output_type": "stream",
     "text": [
      "..\n",
      "----------------------------------------------------------------------\n",
      "Ran 2 tests in 0.002s\n",
      "\n",
      "OK\n"
     ]
    },
    {
     "data": {
      "text/plain": [
       "<unittest.main.TestProgram at 0x7fbbb27cec50>"
      ]
     },
     "execution_count": 1,
     "metadata": {},
     "output_type": "execute_result"
    }
   ],
   "source": [
    "import unittest\n",
    "from IPython.display import Markdown, display\n",
    "\n",
    "from aoc_puzzle import AocPuzzle\n",
    "\n",
    "class Puzzle(AocPuzzle):\n",
    "    \n",
    "    def parse_line(self, raw_data):\n",
    "        data = int(raw_data)\n",
    "        return data\n",
    "    \n",
    "    def parse_data(self, raw_data):\n",
    "        self.data = list(map(self.parse_line, raw_data.split('\\n')))\n",
    "            \n",
    "    def run(self, output=False):\n",
    "        result = self.data[0]\n",
    "        if output:\n",
    "            display(Markdown(f'### Result is `{result}`'))            \n",
    "        return result\n",
    "        \n",
    "\n",
    "class TestBasic(unittest.TestCase):\n",
    "\n",
    "    def test_parse_data(self):\n",
    "        in_data = '0\\n1\\n2'\n",
    "        exp_out = [0,1,2]\n",
    "        puzzle = Puzzle(in_data)\n",
    "        self.assertEqual(puzzle.data, exp_out)\n",
    "        \n",
    "    def test_puzzle(self):\n",
    "        input_data = ['0\\n1\\n2','2\\n3\\n4']\n",
    "        exp_output = [0,2]\n",
    "        for in_data, exp_out in tuple(zip(input_data, exp_output)):\n",
    "            puzzle = Puzzle(in_data)\n",
    "            self.assertEqual(puzzle.run(), exp_out)\n",
    "        \n",
    "unittest.main(argv=[\"\"], exit=False)"
   ]
  },
  {
   "cell_type": "code",
   "execution_count": 2,
   "metadata": {},
   "outputs": [
    {
     "data": {
      "text/markdown": [
       "### Result is `0`"
      ],
      "text/plain": [
       "<IPython.core.display.Markdown object>"
      ]
     },
     "metadata": {},
     "output_type": "display_data"
    },
    {
     "data": {
      "text/plain": [
       "0"
      ]
     },
     "execution_count": 2,
     "metadata": {},
     "output_type": "execute_result"
    }
   ],
   "source": [
    "puzzle = Puzzle(\"input/d00.txt\")\n",
    "puzzle.run(output=True)"
   ]
  },
  {
   "cell_type": "markdown",
   "metadata": {},
   "source": [
    "### Part Two"
   ]
  },
  {
   "cell_type": "code",
   "execution_count": 3,
   "metadata": {},
   "outputs": [
    {
     "name": "stderr",
     "output_type": "stream",
     "text": [
      ".\n",
      "----------------------------------------------------------------------\n",
      "Ran 1 test in 0.001s\n",
      "\n",
      "OK\n"
     ]
    },
    {
     "data": {
      "text/plain": [
       "<unittest.main.TestProgram at 0x7fbbb27ce400>"
      ]
     },
     "execution_count": 3,
     "metadata": {},
     "output_type": "execute_result"
    }
   ],
   "source": [
    "class Puzzle2(Puzzle):\n",
    "    def run(self, output=False):\n",
    "        result = self.data[-1]\n",
    "        if output:\n",
    "            display(Markdown(f'### Result is `{result}`'))            \n",
    "        return result\n",
    "\n",
    "\n",
    "class TestBasic(unittest.TestCase):\n",
    "        \n",
    "    def test_puzzle2(self):\n",
    "        input_data = ['0\\n1\\n2','2\\n3\\n4']\n",
    "        exp_output = [2,4]\n",
    "        for in_data, exp_out in tuple(zip(input_data, exp_output)):\n",
    "            puzzle = Puzzle2(in_data)\n",
    "            self.assertEqual(puzzle.run(), exp_out)\n",
    "        \n",
    "unittest.main(argv=[\"\"], exit=False)"
   ]
  },
  {
   "cell_type": "code",
   "execution_count": 4,
   "metadata": {},
   "outputs": [
    {
     "data": {
      "text/markdown": [
       "### Result is `2`"
      ],
      "text/plain": [
       "<IPython.core.display.Markdown object>"
      ]
     },
     "metadata": {},
     "output_type": "display_data"
    },
    {
     "data": {
      "text/plain": [
       "2"
      ]
     },
     "execution_count": 4,
     "metadata": {},
     "output_type": "execute_result"
    }
   ],
   "source": [
    "puzzle = Puzzle2(\"input/d00.txt\")\n",
    "puzzle.run(output=True)"
   ]
  }
 ],
 "metadata": {
  "kernelspec": {
   "display_name": "Python 3 (ipykernel)",
   "language": "python",
   "name": "python3"
  },
  "language_info": {
   "codemirror_mode": {
    "name": "ipython",
    "version": 3
   },
   "file_extension": ".py",
   "mimetype": "text/x-python",
   "name": "python",
   "nbconvert_exporter": "python",
   "pygments_lexer": "ipython3",
   "version": "3.10.6"
  }
 },
 "nbformat": 4,
 "nbformat_minor": 4
}
