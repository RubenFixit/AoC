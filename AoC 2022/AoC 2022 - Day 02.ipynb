{
 "cells": [
  {
   "cell_type": "markdown",
   "metadata": {
    "tags": []
   },
   "source": [
    "# [Advent of Code 2022: Day 2](https://adventofcode.com/2022/day/2)\n",
    "[puzzle input](https://adventofcode.com/2022/day/2/input)"
   ]
  },
  {
   "cell_type": "markdown",
   "metadata": {},
   "source": [
    "## --- Day 2: Rock Paper Scissors ---\n",
    "\n",
    "The Elves begin to set up camp on the beach. To decide whose tent gets to be closest to the snack storage, a giant [Rock Paper Scissors](https://en.wikipedia.org/wiki/Rock_paper_scissors) tournament is already in progress.\n",
    "\n",
    "Rock Paper Scissors is a game between two players. Each game contains many rounds; in each round, the players each simultaneously choose one of Rock, Paper, or Scissors using a hand shape. Then, a winner for that round is selected: Rock defeats Scissors, Scissors defeats Paper, and Paper defeats Rock. If both players choose the same shape, the round instead ends in a draw.\n",
    "\n",
    "Appreciative of your help yesterday, one Elf gives you an **encrypted strategy guide** (your puzzle input) that they say will be sure to help you win. \"The first column is what your opponent is going to play: `A` for Rock, `B` for Paper, and `C` for Scissors. The second column--\" Suddenly, the Elf is called away to help with someone's tent.\n",
    "\n",
    "The second column, you reason, must be what you should play in response: `X` for Rock, `Y` for Paper, and `Z` for Scissors. Winning every time would be suspicious, so the responses must have been carefully chosen.\n",
    "\n",
    "The winner of the whole tournament is the player with the highest score. Your **total score** is the sum of your scores for each round. The score for a single round is the score for the **shape you selected** (1 for Rock, 2 for Paper, and 3 for Scissors) plus the score for the **outcome of the round** (0 if you lost, 3 if the round was a draw, and 6 if you won).\n",
    "\n",
    "Since you can't be sure if the Elf is trying to help you or trick you, you should calculate the score you would get if you were to follow the strategy guide.\n",
    "\n",
    "For example, suppose you were given the following strategy guide:\n",
    "\n",
    "```\n",
    "A Y\n",
    "B X\n",
    "C Z\n",
    "\n",
    "```\n",
    "\n",
    "This strategy guide predicts and recommends the following:\n",
    "\n",
    "*   In the first round, your opponent will choose Rock (`A`), and you should choose Paper (`Y`). This ends in a win for you with a score of **8** (2 because you chose Paper + 6 because you won).\n",
    "*   In the second round, your opponent will choose Paper (`B`), and you should choose Rock (`X`). This ends in a lose for you with a score of **1** (1 + 0).\n",
    "*   The third round is a draw with both players choosing Scissors, giving you a score of 3 + 3 = **6**.\n",
    "\n",
    "In this example, if you were to follow the strategy guide, you would get a total score of **`15`** (8 + 1 + 6).\n",
    "\n",
    "**What would your total score be if everything goes exactly according to your strategy guide?**"
   ]
  },
  {
   "cell_type": "code",
   "execution_count": 1,
   "metadata": {},
   "outputs": [
    {
     "name": "stderr",
     "output_type": "stream",
     "text": [
      "..\n",
      "----------------------------------------------------------------------\n",
      "Ran 2 tests in 0.003s\n",
      "\n",
      "OK\n"
     ]
    },
    {
     "data": {
      "text/plain": [
       "<unittest.main.TestProgram at 0x7f6ccfc42950>"
      ]
     },
     "execution_count": 1,
     "metadata": {},
     "output_type": "execute_result"
    }
   ],
   "source": [
    "import unittest\n",
    "from IPython.display import Markdown, display\n",
    "\n",
    "from aoc_puzzle import AocPuzzle\n",
    "\n",
    "class Puzzle(AocPuzzle):\n",
    "    \n",
    "    # Rock 'A' or 'X', Paper 'B' or 'Y', Scissors 'C' or 'Z'\n",
    "    shape_dict = {'A':'rock','X':'rock','rock':'rock',\n",
    "                  'B':'paper','Y':'paper','paper':'paper',\n",
    "                  'C':'scissors','Z':'scissors','scissors':'scissors'}\n",
    "    shape_value = {'rock':1, 'paper':2, 'scissors':3}\n",
    "    win_value = {'lose':0, 'draw':3, 'win':6}\n",
    "    \n",
    "    def parse_line(self, raw_data):\n",
    "        data = raw_data.split(' ')\n",
    "        return data\n",
    "    \n",
    "    def parse_data(self, raw_data):\n",
    "        self.data = list(map(self.parse_line, raw_data.split('\\n')))\n",
    "        \n",
    "    def get_shape_from_key(self, shape):\n",
    "        return self.shape_dict.get(shape)\n",
    "    \n",
    "    def get_shape_score(self, shape):\n",
    "        return self.shape_value.get(shape)\n",
    "    \n",
    "    def get_win_score(self, win_status):\n",
    "        return self.win_value.get(win_status)\n",
    "        \n",
    "    def get_win_status(self, opponent, player):\n",
    "        if opponent == player:\n",
    "            return 'draw'\n",
    "        elif ((opponent == 'paper'    and player == 'scissors') or\n",
    "              (opponent == 'rock'     and player == 'paper') or\n",
    "              (opponent == 'scissors' and player == 'rock')):\n",
    "            return 'win'\n",
    "        else:\n",
    "            return 'lose'\n",
    "        \n",
    "    def get_round_score(self, opponent_move, player_move):\n",
    "        opponent_move = self.get_shape_from_key(opponent_move)\n",
    "        player_move = self.get_shape_from_key(player_move)\n",
    "        \n",
    "        score = self.get_shape_score(player_move)\n",
    "        \n",
    "        win_status = self.get_win_status(opponent_move, player_move)\n",
    "        score += self.get_win_score(win_status)\n",
    "        return score\n",
    "            \n",
    "    def run(self, output=False):\n",
    "        total_score = 0\n",
    "        for opponent_move, player_move in self.data:\n",
    "            total_score += self.get_round_score(opponent_move, player_move)\n",
    "        if output:\n",
    "            display(Markdown(f'### Result is `{total_score}`'))            \n",
    "        return total_score\n",
    "        \n",
    "\n",
    "class TestBasic(unittest.TestCase):\n",
    "\n",
    "    def test_parse_data(self):\n",
    "        in_data = 'A Y\\nB X\\nC Z'\n",
    "        exp_out = [['A','Y'],['B','X'],['C','Z']]\n",
    "        puzzle = Puzzle(in_data)\n",
    "        self.assertEqual(puzzle.data, exp_out)\n",
    "        \n",
    "    def test_puzzle(self):\n",
    "        input_data = ['A Y\\nB X\\nC Z']\n",
    "        exp_output = [15]\n",
    "        for in_data, exp_out in tuple(zip(input_data, exp_output)):\n",
    "            puzzle = Puzzle(in_data)\n",
    "            self.assertEqual(puzzle.run(), exp_out)\n",
    "        \n",
    "unittest.main(argv=[\"\"], exit=False)"
   ]
  },
  {
   "cell_type": "code",
   "execution_count": 2,
   "metadata": {},
   "outputs": [
    {
     "data": {
      "text/markdown": [
       "### Result is `13924`"
      ],
      "text/plain": [
       "<IPython.core.display.Markdown object>"
      ]
     },
     "metadata": {},
     "output_type": "display_data"
    },
    {
     "data": {
      "text/plain": [
       "13924"
      ]
     },
     "execution_count": 2,
     "metadata": {},
     "output_type": "execute_result"
    }
   ],
   "source": [
    "puzzle = Puzzle(\"input/d02.txt\")\n",
    "puzzle.run(output=True)"
   ]
  },
  {
   "cell_type": "markdown",
   "metadata": {},
   "source": [
    "## --- Part Two ---\n",
    "\n",
    "The Elf finishes helping with the tent and sneaks back over to you. \"Anyway, the second column says how the round needs to end: `X` means you need to lose, `Y` means you need to end the round in a draw, and `Z` means you need to win. Good luck!\"\n",
    "\n",
    "The total score is still calculated in the same way, but now you need to figure out what shape to choose so the round ends as indicated. The example above now goes like this:\n",
    "\n",
    "*   In the first round, your opponent will choose Rock (`A`), and you need the round to end in a draw (`Y`), so you also choose Rock. This gives you a score of 1 + 3 = **4**.\n",
    "*   In the second round, your opponent will choose Paper (`B`), and you choose Rock so you lose (`X`) with a score of 1 + 0 = **1**.\n",
    "*   In the third round, you will defeat your opponent's Scissors with Rock for a score of 1 + 6 = **7**.\n",
    "\n",
    "Now that you're correctly decrypting the ultra top secret strategy guide, you would get a total score of **`12`**.\n",
    "\n",
    "Following the Elf's instructions for the second column, **what would your total score be if everything goes exactly according to your strategy guide?**"
   ]
  },
  {
   "cell_type": "code",
   "execution_count": 3,
   "metadata": {},
   "outputs": [
    {
     "name": "stderr",
     "output_type": "stream",
     "text": [
      ".\n",
      "----------------------------------------------------------------------\n",
      "Ran 1 test in 0.001s\n",
      "\n",
      "OK\n"
     ]
    },
    {
     "data": {
      "text/plain": [
       "<unittest.main.TestProgram at 0x7f6ccfbd9450>"
      ]
     },
     "execution_count": 3,
     "metadata": {},
     "output_type": "execute_result"
    }
   ],
   "source": [
    "class Puzzle2(Puzzle):\n",
    "    \n",
    "    result_key = {'X':'lose', 'Y':'draw', 'Z':'win'}\n",
    "    \n",
    "    def get_result_from_key(self, result):\n",
    "        return self.result_key.get(result)\n",
    "    \n",
    "    def get_move_for_result(self, opponent_move, desired_result):\n",
    "        opponent_move = self.get_shape_from_key(opponent_move)\n",
    "        desired_result = self.get_result_from_key(desired_result)\n",
    "        \n",
    "        if desired_result == 'draw':\n",
    "            return opponent_move\n",
    "        elif desired_result == 'win':\n",
    "            if opponent_move == 'paper':\n",
    "                return 'scissors'\n",
    "            if opponent_move == 'rock':\n",
    "                return 'paper'\n",
    "            if opponent_move == 'scissors':\n",
    "                return 'rock'\n",
    "        elif desired_result == 'lose':\n",
    "            if opponent_move == 'paper':\n",
    "                return 'rock'\n",
    "            if opponent_move == 'rock':\n",
    "                return 'scissors'\n",
    "            if opponent_move == 'scissors':\n",
    "                return 'paper'\n",
    "        else:\n",
    "            raise Exception(f\"Unknown values: opponent_move: {opponent_move}, desired_result: {desired_result}\")\n",
    "    \n",
    "    def get_win_status(self, opponent, player):\n",
    "        if opponent == player:\n",
    "            return 'draw'\n",
    "        elif ((opponent == 'paper'    and player == 'scissors') or\n",
    "              (opponent == 'rock'     and player == 'paper') or\n",
    "              (opponent == 'scissors' and player == 'rock')):\n",
    "            return 'win'\n",
    "        else:\n",
    "            return 'lose'\n",
    "    \n",
    "    \n",
    "    def run(self, output=False):\n",
    "        total_score = 0\n",
    "        for opponent_move, desired_result in self.data:\n",
    "            player_move = self.get_move_for_result(opponent_move, desired_result)\n",
    "            total_score += self.get_round_score(opponent_move, player_move)\n",
    "        if output:\n",
    "            display(Markdown(f'### Result is `{total_score}`'))            \n",
    "        return total_score\n",
    "\n",
    "\n",
    "class TestBasic(unittest.TestCase):\n",
    "        \n",
    "    def test_puzzle2(self):\n",
    "        input_data = ['A Y\\nB X\\nC Z']\n",
    "        exp_output = [12]\n",
    "        for in_data, exp_out in tuple(zip(input_data, exp_output)):\n",
    "            puzzle = Puzzle2(in_data)\n",
    "            self.assertEqual(puzzle.run(), exp_out)\n",
    "        \n",
    "unittest.main(argv=[\"\"], exit=False)"
   ]
  },
  {
   "cell_type": "code",
   "execution_count": 4,
   "metadata": {},
   "outputs": [
    {
     "data": {
      "text/markdown": [
       "### Result is `13448`"
      ],
      "text/plain": [
       "<IPython.core.display.Markdown object>"
      ]
     },
     "metadata": {},
     "output_type": "display_data"
    },
    {
     "data": {
      "text/plain": [
       "13448"
      ]
     },
     "execution_count": 4,
     "metadata": {},
     "output_type": "execute_result"
    }
   ],
   "source": [
    "puzzle = Puzzle2(\"input/d02.txt\")\n",
    "puzzle.run(output=True)"
   ]
  }
 ],
 "metadata": {
  "kernelspec": {
   "display_name": "Python 3 (ipykernel)",
   "language": "python",
   "name": "python3"
  },
  "language_info": {
   "codemirror_mode": {
    "name": "ipython",
    "version": 3
   },
   "file_extension": ".py",
   "mimetype": "text/x-python",
   "name": "python",
   "nbconvert_exporter": "python",
   "pygments_lexer": "ipython3",
   "version": "3.10.6"
  }
 },
 "nbformat": 4,
 "nbformat_minor": 4
}
