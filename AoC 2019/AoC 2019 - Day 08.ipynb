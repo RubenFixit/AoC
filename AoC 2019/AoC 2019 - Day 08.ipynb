{
 "cells": [
  {
   "cell_type": "markdown",
   "metadata": {},
   "source": [
    "# [Advent of Code 2019: Day 8](https://adventofcode.com/2019/day/8)"
   ]
  },
  {
   "cell_type": "markdown",
   "metadata": {},
   "source": [
    "<h2>--- Day 8: Space Image Format ---</h2>\n",
    "<p><span title=\"I'm not sorry.\">The Elves' spirits are lifted when they realize you have an opportunity to reboot one of their Mars rovers, and so they are curious if you would spend a brief sojourn on Mars.</span> You land your ship near the rover.</p>\n",
    "<p>When you reach the rover, you discover that it's already in the process of rebooting! It's just waiting for someone to enter a <a href=\"https://en.wikipedia.org/wiki/BIOS\">BIOS</a> password. The Elf responsible for the rover takes a picture of the password\n",
    "    (your puzzle input) and sends it to you via the Digital Sending Network.</p>\n",
    "<p>Unfortunately, images sent via the Digital Sending Network aren't encoded with any normal encoding; instead, they're encoded in a special Space Image Format. None of the Elves seem to remember why this is the case. They send you the instructions to decode\n",
    "    it.</p>\n",
    "<p>Images are sent as a series of digits that each represent the color of a single pixel. The digits fill each row of the image left-to-right, then move downward to the next row, filling rows top-to-bottom until every pixel of the image is filled.</p>\n",
    "<p>Each image actually consists of a series of identically-sized <em>layers</em> that are filled in this way. So, the first digit corresponds to the top-left pixel of the first layer, the second digit corresponds to the pixel to the right of that on the\n",
    "    same layer, and so on until the last digit, which corresponds to the bottom-right pixel of the last layer.</p>\n",
    "<p>For example, given an image <code>3</code> pixels wide and <code>2</code> pixels tall, the image data <code>123456789012</code> corresponds to the following image layers:</p>\n",
    "<pre><code>Layer 1: 123\n",
    "         456\n",
    "\n",
    "Layer 2: 789\n",
    "         012\n",
    "</code></pre>\n",
    "<p>The image you received is <em><code>25</code> pixels wide and <code>6</code> pixels tall</em>.</p>\n",
    "<p>To make sure the image wasn't corrupted during transmission, the Elves would like you to find the layer that contains the <em>fewest <code>0</code> digits</em>. On that layer, what is <em>the number of <code>1</code> digits multiplied by the number of <code>2</code> digits?</em></p>"
   ]
  },
  {
   "cell_type": "code",
   "execution_count": 1,
   "metadata": {},
   "outputs": [
    {
     "name": "stderr",
     "output_type": "stream",
     "text": [
      ".\n",
      "----------------------------------------------------------------------\n",
      "Ran 1 test in 0.001s\n",
      "\n",
      "OK\n"
     ]
    },
    {
     "data": {
      "text/plain": [
       "<unittest.main.TestProgram at 0x7ff410112b70>"
      ]
     },
     "execution_count": 1,
     "metadata": {},
     "output_type": "execute_result"
    }
   ],
   "source": [
    "import os\n",
    "import unittest\n",
    "\n",
    "class SpaceImage():\n",
    "    \n",
    "    BLACK = '0'\n",
    "    WHITE = '1'\n",
    "    TRANS = '2'\n",
    "    \n",
    "    def __init__(self, width, height, stream):\n",
    "        self.layer_width = width\n",
    "        self.layer_height = height\n",
    "        self.data = []\n",
    "        self.load_data(stream)\n",
    "        \n",
    "    def load_data(self, data_stream):\n",
    "        if type(data_stream) is int:\n",
    "            data_stream = str(data_stream)\n",
    "            \n",
    "        step = self.layer_width * self.layer_height\n",
    "        self.data = self.step_slice(step, data_stream)\n",
    "            \n",
    "    def step_slice(self, step, data):\n",
    "        sliced_data = []\n",
    "        for i in range(0, len(data), step):\n",
    "            sliced_data.append(data[i:i+step])\n",
    "        return sliced_data\n",
    "        \n",
    "    def validate_data(self):\n",
    "        \n",
    "        layer_zeros = []\n",
    "        \n",
    "        for layer in self.data:\n",
    "            layer_zeros.append(layer.count(\"0\"))\n",
    "            \n",
    "        target_layer = self.data[layer_zeros.index(min(layer_zeros))]\n",
    "        \n",
    "        ones = target_layer.count(\"1\")\n",
    "        twos = target_layer.count(\"2\")\n",
    "        \n",
    "        return ones * twos\n",
    "    \n",
    "    def merge_layers(self):\n",
    "        img = None\n",
    "        for layer in self.data:\n",
    "            if img != None:\n",
    "                for i in range(0, len(layer)):\n",
    "                    if img[i] is self.TRANS:    \n",
    "                        img[i] = layer[i]\n",
    "            else:\n",
    "                img = list(layer)\n",
    "        img = \"\".join(img)\n",
    "        return img\n",
    "    \n",
    "    def decode(self):\n",
    "        msg_data = self.merge_layers()\n",
    "        msg_data = msg_data.replace('0', ' ')\n",
    "        msg_data = msg_data.replace('1', '#')\n",
    "        msg_rows = self.step_slice(self.layer_width, msg_data)\n",
    "        msg = '\\n'.join(msg_rows)\n",
    "        return msg\n",
    "        \n",
    "    \n",
    "class TestBasic(unittest.TestCase):\n",
    "\n",
    "    def test_space_image(self):\n",
    "        data = [(\"0222112222120000\",'0110')]\n",
    "        for input, output in data:\n",
    "            si = SpaceImage(width = 2, height = 2, stream = input)\n",
    "            self.assertEqual(output ,si.merge_layers())\n",
    "\n",
    "unittest.main(argv=[\"\"], exit=False)      "
   ]
  },
  {
   "cell_type": "code",
   "execution_count": 2,
   "metadata": {},
   "outputs": [
    {
     "data": {
      "text/plain": [
       "1441"
      ]
     },
     "execution_count": 2,
     "metadata": {},
     "output_type": "execute_result"
    }
   ],
   "source": [
    "with open(\"inputs/input_d08.txt\") as file:\n",
    "    input_stream = file.read()\n",
    "    \n",
    "si = SpaceImage(width = 25, height = 6, stream = input_stream)\n",
    "si.validate_data()"
   ]
  },
  {
   "cell_type": "markdown",
   "metadata": {},
   "source": [
    "<h2 id=\"part2\">--- Part Two ---</h2>\n",
    "<p>Now you're ready to decode the image. The image is rendered by stacking the layers and aligning the pixels with the same positions in each layer. The digits indicate the color of the corresponding pixel: <code>0</code> is black, <code>1</code> is white,\n",
    "    and <code>2</code> is transparent.</p>\n",
    "<p>The layers are rendered with the first layer in front and the last layer in back. So, if a given position has a transparent pixel in the first and second layers, a black pixel in the third layer, and a white pixel in the fourth layer, the final image\n",
    "    would have a <em>black</em> pixel at that position.</p>\n",
    "<p>For example, given an image <code>2</code> pixels wide and <code>2</code> pixels tall, the image data <code>0222112222120000</code> corresponds to the following image layers:</p>\n",
    "<pre><code>Layer 1: <em>0</em>2\n",
    "         22\n",
    "\n",
    "Layer 2: 1<em>1</em>\n",
    "         22\n",
    "\n",
    "Layer 3: 22\n",
    "         <em>1</em>2\n",
    "\n",
    "Layer 4: 00\n",
    "         0<em>0</em>\n",
    "</code></pre>\n",
    "<p>Then, the full image can be found by determining the top visible pixel in each position:</p>\n",
    "<ul>\n",
    "    <li>The top-left pixel is <em>black</em> because the top layer is <code>0</code>.</li>\n",
    "    <li>The top-right pixel is <em>white</em> because the top layer is <code>2</code> (transparent), but the second layer is <code>1</code>.</li>\n",
    "    <li>The bottom-left pixel is <em>white</em> because the top two layers are <code>2</code>, but the third layer is <code>1</code>.</li>\n",
    "    <li>The bottom-right pixel is <em>black</em> because the only visible pixel in that position is <code>0</code> (from layer 4).</li>\n",
    "</ul>\n",
    "<p>So, the final image looks like this:</p>\n",
    "<pre><code>01\n",
    "10\n",
    "</code></pre>\n",
    "<p><em>What message is produced after decoding your image?</em></p>"
   ]
  },
  {
   "cell_type": "code",
   "execution_count": 3,
   "metadata": {},
   "outputs": [
    {
     "name": "stdout",
     "output_type": "stream",
     "text": [
      "###  #  # #### ###  ###  \n",
      "#  # #  #    # #  # #  # \n",
      "#  # #  #   #  ###  #  # \n",
      "###  #  #  #   #  # ###  \n",
      "# #  #  # #    #  # #    \n",
      "#  #  ##  #### ###  #    \n"
     ]
    }
   ],
   "source": [
    "print(si.decode())"
   ]
  }
 ],
 "metadata": {
  "kernelspec": {
   "display_name": "Python 3",
   "language": "python",
   "name": "python3"
  },
  "language_info": {
   "codemirror_mode": {
    "name": "ipython",
    "version": 3
   },
   "file_extension": ".py",
   "mimetype": "text/x-python",
   "name": "python",
   "nbconvert_exporter": "python",
   "pygments_lexer": "ipython3",
   "version": "3.6.8"
  }
 },
 "nbformat": 4,
 "nbformat_minor": 2
}
