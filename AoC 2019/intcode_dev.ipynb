{
 "cells": [
  {
   "cell_type": "markdown",
   "metadata": {},
   "source": [
    "# IntCode Unit Tests\n",
    "\n",
    "I've gatherd the unit tests from all of the days building up the IntCode Computer, and put them in one place."
   ]
  },
  {
   "cell_type": "code",
   "execution_count": 5,
   "metadata": {},
   "outputs": [
    {
     "name": "stderr",
     "output_type": "stream",
     "text": [
      "......\n",
      "----------------------------------------------------------------------\n",
      "Ran 6 tests in 0.006s\n",
      "\n",
      "OK\n"
     ]
    },
    {
     "data": {
      "text/plain": [
       "<unittest.main.TestProgram at 0x7f9b806b22b0>"
      ]
     },
     "execution_count": 5,
     "metadata": {},
     "output_type": "execute_result"
    }
   ],
   "source": [
    "import unittest\n",
    "from importlib import reload\n",
    "import intcode\n",
    "reload(intcode)\n",
    "from intcode import IntcodeComputer\n",
    "\n",
    "class TestIntcodeComputer(unittest.TestCase):\n",
    "    \n",
    "    def test_normalize_memory(self):\n",
    "        data = [(\"1,0,0,0,99\",[1,0,0,0,99]),\n",
    "                ([\"2\",\"3\",\"0\",\"3\",\"99\"],[2,3,0,3,99])]\n",
    "        iccp = IntcodeComputer()\n",
    "        for intcode, ans in data:\n",
    "            self.assertEqual(iccp.normalize_memory(intcode), ans)\n",
    "    \n",
    "    def test_intcode_handler(self):\n",
    "        data = [(\"1,0,0,0,99\",\"2,0,0,0,99\"),\n",
    "                (\"2,3,0,3,99\",\"2,3,0,6,99\"),\n",
    "                (\"2,4,4,5,99,0\",\"2,4,4,5,99,9801\"),\n",
    "                (\"1,1,1,4,99,5,6,0,99\",\"30,1,1,4,2,5,6,0,99\"),\n",
    "                (\"1,9,10,3,2,3,11,0,99,30,40,50\",\"3500,9,10,70,2,3,11,0,99,30,40,50\")]\n",
    "        iccp = IntcodeComputer()\n",
    "        for intcode, ans in data:\n",
    "            iccp.load_memory(intcode)\n",
    "            iccp.run()\n",
    "            self.assertEqual(\",\".join(map(str, iccp.memory )), ans)\n",
    "            \n",
    "    def test_reset(self):\n",
    "        intcode = \"2,4,4,0,99\"\n",
    "        iccp = IntcodeComputer()\n",
    "        iccp.load_memory(intcode)\n",
    "        iccp.run()\n",
    "        self.assertNotEqual(\",\".join(map(str, iccp.memory )), intcode)\n",
    "        iccp.reset()\n",
    "        self.assertEqual(\",\".join(map(str, iccp.memory )), intcode)\n",
    "        \n",
    "    def test_in_out_program(self):\n",
    "        iccp = IntcodeComputer(\"3,0,4,0,99\")\n",
    "        iccp.add_input(8)\n",
    "        iccp.run()\n",
    "        self.assertEqual(iccp.output, 8)\n",
    "        iccp.reset()\n",
    "        iccp.add_input(2)\n",
    "        iccp.run()\n",
    "        self.assertEqual(iccp.output, 2)\n",
    "    \n",
    "    def test_input_equal_8_program(self):\n",
    "        iccp = IntcodeComputer(\"3,9,8,9,10,9,4,9,99,-1,8\")\n",
    "        iccp.add_input(8)\n",
    "        iccp.run()\n",
    "        self.assertEqual(iccp.output, 1)\n",
    "        iccp.reset()\n",
    "        iccp.add_input(2)\n",
    "        iccp.run()\n",
    "        self.assertEqual(iccp.output, 0)\n",
    "            \n",
    "    def test_rel_base(self):\n",
    "        data = [([109,1,204,-1,1001,100,1,100,1008,100,16,101,1006,101,0,99], 109),\n",
    "                ([1102,34915192,34915192,7,4,7,99,0], 1219070632396864),\n",
    "                ([104,1125899906842624,99], 1125899906842624)]\n",
    "        for intcode, ans in data:\n",
    "            iccp = IntcodeComputer(intcode)\n",
    "            iccp.run()\n",
    "            self.assertEqual(iccp.output, ans)\n",
    "            \n",
    "\n",
    "unittest.main(argv=[\"\"], exit=False)"
   ]
  }
 ],
 "metadata": {
  "kernelspec": {
   "display_name": "Python 3",
   "language": "python",
   "name": "python3"
  },
  "language_info": {
   "codemirror_mode": {
    "name": "ipython",
    "version": 3
   },
   "file_extension": ".py",
   "mimetype": "text/x-python",
   "name": "python",
   "nbconvert_exporter": "python",
   "pygments_lexer": "ipython3",
   "version": "3.6.8"
  }
 },
 "nbformat": 4,
 "nbformat_minor": 2
}
