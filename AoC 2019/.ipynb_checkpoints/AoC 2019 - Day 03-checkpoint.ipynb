{
 "cells": [
  {
   "cell_type": "markdown",
   "metadata": {},
   "source": [
    "# [Advent of Code 2019: Day 3](https://adventofcode.com/2019/day/3)"
   ]
  },
  {
   "cell_type": "markdown",
   "metadata": {},
   "source": [
    "<h2>--- Day 3: Crossed Wires ---</h2><p>The gravity assist was successful, and you're well on your way to the Venus refuelling station.  During the rush back on Earth, the fuel management system wasn't completely installed, so that's next on the priority list.</p>\n",
    "<p>Opening the front panel reveals a jumble of wires. Specifically, <em>two wires</em> are connected to a central port and extend outward on a grid.  You trace the path each wire takes as it leaves the central port, one wire per line of text (your puzzle input).</p>\n",
    "<p>The wires <span title=\"A jumble of twisty little wires, all alike.\">twist and turn</span>, but the two wires occasionally cross paths. To fix the circuit, you need to <em>find the intersection point closest to the central port</em>. Because the wires are on a grid, use the <a href=\"https://en.wikipedia.org/wiki/Taxicab_geometry\">Manhattan distance</a> for this measurement. While the wires do technically cross right at the central port where they both start, this point does not count, nor does a wire count as crossing with itself.</p>\n",
    "<p>For example, if the first wire's path is <code>R8,U5,L5,D3</code>, then starting from the central port (<code>o</code>), it goes right <code>8</code>, up <code>5</code>, left <code>5</code>, and finally down <code>3</code>:</p>\n",
    "<pre><code>...........\n",
    "...........\n",
    "...........\n",
    "....+----+.\n",
    "....|....|.\n",
    "....|....|.\n",
    "....|....|.\n",
    ".........|.\n",
    ".o-------+.\n",
    "...........\n",
    "</code></pre>\n",
    "<p>Then, if the second wire's path is <code>U7,R6,D4,L4</code>, it goes up <code>7</code>, right <code>6</code>, down <code>4</code>, and left <code>4</code>:</p>\n",
    "<pre><code>...........\n",
    ".+-----+...\n",
    ".|.....|...\n",
    ".|..+--X-+.\n",
    ".|..|..|.|.\n",
    ".|.-<em>X</em>--+.|.\n",
    ".|..|....|.\n",
    ".|.......|.\n",
    ".o-------+.\n",
    "...........\n",
    "</code></pre>\n",
    "<p>These wires cross at two locations (marked <code>X</code>), but the lower-left one is closer to the central port: its distance is <code>3 + 3 = 6</code>.</p>\n",
    "<p>Here are a few more examples:</p>\n",
    "<ul>\n",
    "<li><code>R75,D30,R83,U83,L12,D49,R71,U7,L72<br>U62,R66,U55,R34,D71,R55,D58,R83</code> = distance <code>159</code></li>\n",
    "<li><code>R98,U47,R26,D63,R33,U87,L62,D20,R33,U53,R51<br>U98,R91,D20,R16,D67,R40,U7,R15,U6,R7</code> = distance <code>135</code></li>\n",
    "</ul>\n",
    "<p><em>What is the Manhattan distance</em> from the central port to the closest intersection?</p>\n"
   ]
  },
  {
   "cell_type": "code",
   "execution_count": 1,
   "metadata": {},
   "outputs": [
    {
     "name": "stderr",
     "output_type": "stream",
     "text": [
      "...\n",
      "----------------------------------------------------------------------\n",
      "Ran 3 tests in 0.115s\n",
      "\n",
      "OK\n"
     ]
    },
    {
     "data": {
      "text/plain": [
       "<unittest.main.TestProgram at 0x7eff08264b38>"
      ]
     },
     "execution_count": 1,
     "metadata": {},
     "output_type": "execute_result"
    }
   ],
   "source": [
    "import os\n",
    "import unittest\n",
    "from matplotlib import pyplot as plt\n",
    "\n",
    "class FuelManagmentSystem():\n",
    "    \n",
    "    CPORT = 'o'\n",
    "    EMPTY = '.'\n",
    "    VWIRE = '|'\n",
    "    HWIRE = '-'\n",
    "    CORNER = '+'\n",
    "    INTERSECTION = 'X'\n",
    "    \n",
    "    DIR_UP = \"U\"\n",
    "    DIR_DOWN = \"D\"\n",
    "    DIR_LEFT = \"L\"\n",
    "    DIR_RIGHT = \"R\"\n",
    "    \n",
    "    cport_coord = (0,0)\n",
    "    \n",
    "    def __init__(self, wire_paths = None):\n",
    "        if wire_paths:\n",
    "            self.load_paths(wire_paths)\n",
    "            \n",
    "    def normalize_paths(self, wire_paths):\n",
    "        if type(wire_paths) is str:\n",
    "            return self.normalize_paths(wire_paths.split('\\n'))\n",
    "\n",
    "        elif type(wire_paths) is list:\n",
    "            if type(wire_paths[0]) is str:\n",
    "                new_wire_paths = []\n",
    "                for path in wire_paths:\n",
    "                    new_wire_paths.append(path.split(','))\n",
    "                return new_wire_paths\n",
    "            else:\n",
    "                return wire_paths\n",
    "\n",
    "        else:\n",
    "            raise Exception('Corrupt paths')\n",
    "            \n",
    "    def parse_path_part(self, path_part):\n",
    "        direction = path_part[0]\n",
    "        distance = int(path_part[1:])\n",
    "        return (direction, distance)\n",
    "    \n",
    "    def add_pos_to_grid(self, pos):\n",
    "        if pos in self.system_grid and not self.cport_coord:\n",
    "            self.intersections.append(pos)\n",
    "        else:\n",
    "            self.system_grid.append(pos)\n",
    "            \n",
    "    def load_paths(self, wire_paths):\n",
    "        \"\"\" Parses a comma seperated list of path parts ands points to a x, y coordinante grid. \n",
    "            If a coordinate already exists and in not the central port, assume it is an intersection.\n",
    "        \"\"\"\n",
    "        \n",
    "        wire_paths = self.normalize_paths(wire_paths)\n",
    "        \n",
    "        self.system_grid = []\n",
    "        \n",
    "        for path in wire_paths:\n",
    "            pos = self.cport_coord\n",
    "            wire_coords = []\n",
    "            wire_coords.append(self.cport_coord)\n",
    "            for path_part in path:\n",
    "                \n",
    "                dir, dist = self.parse_path_part(path_part)\n",
    "                dist += 1\n",
    "                x, y = pos\n",
    "                \n",
    "                if dir is self.DIR_UP:\n",
    "                    for newy in range(y + 1, y + dist, 1):\n",
    "                        pos = (x, newy)\n",
    "                        wire_coords.append(pos)\n",
    "\n",
    "                elif dir is self.DIR_DOWN:\n",
    "                    for newy in range(y - 1, y - dist, -1):\n",
    "                        pos = (x, newy)\n",
    "                        wire_coords.append(pos)\n",
    "\n",
    "                elif dir is self.DIR_RIGHT:\n",
    "                    for newx in range(x + 1, x + dist, 1):\n",
    "                        pos = (newx, y)\n",
    "                        wire_coords.append(pos)\n",
    "\n",
    "                elif dir is self.DIR_LEFT:\n",
    "                    for newx in range(x - 1, x - dist, -1):\n",
    "                        pos = (newx, y)\n",
    "                        wire_coords.append(pos)\n",
    "                        \n",
    "                else:\n",
    "                    raise Exception(f'Unkown direction: {adir}')\n",
    "            \n",
    "            self.system_grid.append(wire_coords)\n",
    "    \n",
    "    def get_intersections(self):\n",
    "        return set(self.system_grid[0][1:]) & set(self.system_grid[1][1:])\n",
    "    \n",
    "    def get_intersec_dist_closest_to_cport(self):\n",
    "        intersec_dist_list = []\n",
    "        for x, y in self.get_intersections():\n",
    "            intersec_dist_list.append(abs(x)+abs(y))\n",
    "        return min(intersec_dist_list)\n",
    "    \n",
    "    def get_intersec_shortest_dist(self):\n",
    "        intersec_dist_list = []\n",
    "        for pos in self.get_intersections():\n",
    "            intsec_dist_total = 0\n",
    "            for path in self.system_grid:\n",
    "                intsec_index = path.index(pos)\n",
    "                intsec_dist_total += intsec_index\n",
    "            intersec_dist_list.append(intsec_dist_total)\n",
    "        return min(intersec_dist_list)\n",
    "    \n",
    "    def plot_system(self):\n",
    "        fig = plt.figure()\n",
    "        ax = fig.add_axes([0,0,1,1])\n",
    "        \n",
    "        for path in self.system_grid:\n",
    "            x, y = list(zip(*path))\n",
    "            ax.plot(x,y)\n",
    "            \n",
    "        x, y = self.cport_coord\n",
    "        plt.scatter(x, y, c='xkcd:apple', marker=\"o\")\n",
    "        \n",
    "        for x, y in self.get_intersections():\n",
    "            plt.scatter(x, y, c='red', marker=\"x\")\n",
    "\n",
    "class TestBasic(unittest.TestCase):\n",
    "    \n",
    "    def test_parse_path_part(self):\n",
    "        data = [(\"R7\",(\"R\",7)),\n",
    "                (\"D30\",(\"D\",30)),\n",
    "                (\"L833\",(\"L\",833)),\n",
    "                (\"U3456\",(\"U\",3456))]\n",
    "        fms = FuelManagmentSystem()\n",
    "        for path_part, ans in data:\n",
    "            self.assertEqual( ans , fms.parse_path_part(path_part) )\n",
    "    \n",
    "    def test_fms_intersec_distance(self):\n",
    "        data = [(\"R8,U5,L5,D3\\nU7,R6,D4,L4\",6),\n",
    "                (\"R75,D30,R83,U83,L12,D49,R71,U7,L72\\nU62,R66,U55,R34,D71,R55,D58,R83\",159),\n",
    "                (\"R98,U47,R26,D63,R33,U87,L62,D20,R33,U53,R51\\nU98,R91,D20,R16,D67,R40,U7,R15,U6,R7\",135)]\n",
    "        fms = FuelManagmentSystem()\n",
    "        for paths, ans in data:\n",
    "            fms.load_paths(paths)\n",
    "            self.assertEqual( ans , fms.get_intersec_dist_closest_to_cport() )\n",
    "            \n",
    "    def test_fms_intersec_shortest_dist(self):\n",
    "        data = [(\"R8,U5,L5,D3\\nU7,R6,D4,L4\",30),\n",
    "                (\"R75,D30,R83,U83,L12,D49,R71,U7,L72\\nU62,R66,U55,R34,D71,R55,D58,R83\",610),\n",
    "                (\"R98,U47,R26,D63,R33,U87,L62,D20,R33,U53,R51\\nU98,R91,D20,R16,D67,R40,U7,R15,U6,R7\",410)]\n",
    "        fms = FuelManagmentSystem()\n",
    "        for paths, ans in data:\n",
    "            fms.load_paths(paths)\n",
    "            fms.plot_system()\n",
    "            self.assertEqual( ans , fms.get_intersec_shortest_dist() )\n",
    "        \n",
    "unittest.main(argv=[\"\"], exit=False)\n"
   ]
  },
  {
   "cell_type": "code",
   "execution_count": 2,
   "metadata": {},
   "outputs": [
    {
     "name": "stdout",
     "output_type": "stream",
     "text": [
      "Data loaded\n",
      "\n",
      "The closest intersection has a Manhattan distance of: 273\n"
     ]
    },
    {
     "data": {
      "image/png": "[encoded data removed]",
      "text/plain": [
       "<Figure size 432x288 with 1 Axes>"
      ]
     },
     "metadata": {
      "needs_background": "light"
     },
     "output_type": "display_data"
    }
   ],
   "source": [
    "with open(\"inputs/input_d03.txt\") as file:\n",
    "    data = file.read()\n",
    "    \n",
    "fms = FuelManagmentSystem(data)\n",
    "print(\"Data loaded\")\n",
    "fms.plot_system()\n",
    "print()\n",
    "print(f'The closest intersection has a Manhattan distance of: {fms.get_intersec_dist_closest_to_cport()}')\n"
   ]
  },
  {
   "cell_type": "markdown",
   "metadata": {},
   "source": [
    "<h2 id=\"part2\">--- Part Two ---</h2><p>It turns out that this circuit is very timing-sensitive; you actually need to <em>minimize the signal delay</em>.</p>\n",
    "<p>To do this, calculate the <em>number of steps</em> each wire takes to reach each intersection; choose the intersection where the <em>sum of both wires' steps</em> is lowest. If a wire visits a position on the grid multiple times, use the steps value from the <em>first</em> time it visits that position when calculating the total value of a specific intersection.</p>\n",
    "<p>The number of steps a wire takes is the total number of grid squares the wire has entered to get to that location, including the intersection being considered. Again consider the example from above:</p>\n",
    "<pre><code>...........\n",
    ".+-----+...\n",
    ".|.....|...\n",
    ".|..+--X-+.\n",
    ".|..|..|.|.\n",
    ".|.-X--+.|.\n",
    ".|..|....|.\n",
    ".|.......|.\n",
    ".o-------+.\n",
    "...........\n",
    "</code></pre>\n",
    "<p>In the above example, the intersection closest to the central port is reached after <code>8+5+5+2 = <em>20</em></code> steps by the first wire and <code>7+6+4+3 = <em>20</em></code> steps by the second wire for a total of <code>20+20 = <em>40</em></code> steps.</p>\n",
    "<p>However, the top-right intersection is better: the first wire takes only <code>8+5+2 = <em>15</em></code> and the second wire takes only <code>7+6+2 = <em>15</em></code>, a total of <code>15+15 = <em>30</em></code> steps.</p>\n",
    "<p>Here are the best steps for the extra examples from above:</p>\n",
    "<ul>\n",
    "<li><code>R75,D30,R83,U83,L12,D49,R71,U7,L72<br>U62,R66,U55,R34,D71,R55,D58,R83</code> = <code>610</code> steps</li>\n",
    "<li><code>R98,U47,R26,D63,R33,U87,L62,D20,R33,U53,R51<br>U98,R91,D20,R16,D67,R40,U7,R15,U6,R7</code> = <code>410</code> steps</li>\n",
    "</ul>\n",
    "<p><em>What is the fewest combined steps the wires must take to reach an intersection?</em></p>\n"
   ]
  },
  {
   "cell_type": "code",
   "execution_count": 3,
   "metadata": {
    "scrolled": true
   },
   "outputs": [
    {
     "name": "stdout",
     "output_type": "stream",
     "text": [
      "The fewest combined steps the wires must take to reach an intersection is: 15622\n"
     ]
    }
   ],
   "source": [
    "print(f'The fewest combined steps the wires must take to reach an intersection is: {fms.get_intersec_shortest_dist()}')"
   ]
  }
 ],
 "metadata": {
  "kernelspec": {
   "display_name": "Python 3",
   "language": "python",
   "name": "python3"
  },
  "language_info": {
   "codemirror_mode": {
    "name": "ipython",
    "version": 3
   },
   "file_extension": ".py",
   "mimetype": "text/x-python",
   "name": "python",
   "nbconvert_exporter": "python",
   "pygments_lexer": "ipython3",
   "version": "3.6.8"
  }
 },
 "nbformat": 4,
 "nbformat_minor": 2
}
