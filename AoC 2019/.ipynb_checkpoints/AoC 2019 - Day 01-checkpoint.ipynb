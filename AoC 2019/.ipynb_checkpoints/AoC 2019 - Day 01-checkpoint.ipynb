{
 "cells": [
  {
   "cell_type": "markdown",
   "metadata": {},
   "source": [
    "# [Advent of Code 2019: Day 1](https://adventofcode.com/2019/day/1)"
   ]
  },
  {
   "cell_type": "markdown",
   "metadata": {},
   "source": [
    "<h2>--- Day 1: The Tyranny of the Rocket Equation ---</h2><p>Santa has become stranded at the edge of the Solar System while delivering presents to other planets! To accurately calculate his position in space, safely align his warp drive, and return to Earth in time to save Christmas, he needs you to bring him <span title=\"If only you had time to grab an astrolabe.\">measurements</span> from <strong class=\"star\">fifty stars</strong>.</p>\n",
    "<p>Collect stars by solving puzzles.  Two puzzles will be made available on each day in the Advent calendar; the second puzzle is unlocked when you complete the first.  Each puzzle grants <strong class=\"star\">one star</strong>. Good luck!</p>\n",
    "<p>The Elves quickly load you into a spacecraft and prepare to launch.</p>\n",
    "<p>At the first Go / No Go poll, every Elf is Go until the Fuel Counter-Upper.  They haven't determined the amount of fuel required yet.</p>\n",
    "<p>Fuel required to launch a given <strong>module</strong> is based on its <strong>mass</strong>.  Specifically, to find the fuel required for a module, take its mass, divide by three, round down, and subtract 2.</p>\n",
    "<p>For example:</p>\n",
    "<ul>\n",
    "<li>For a mass of <code>12</code>, divide by 3 and round down to get <code>4</code>, then subtract 2 to get <code>2</code>.</li>\n",
    "<li>For a mass of <code>14</code>, dividing by 3 and rounding down still yields <code>4</code>, so the fuel required is also <code>2</code>.</li>\n",
    "<li>For a mass of <code>1969</code>, the fuel required is <code>654</code>.</li>\n",
    "<li>For a mass of <code>100756</code>, the fuel required is <code>33583</code>.</li>\n",
    "</ul>\n",
    "<p>The Fuel Counter-Upper needs to know the total fuel requirement.  To find it, individually calculate the fuel needed for the mass of each module (your puzzle input), then add together all the fuel values.</p>\n",
    "<p><strong>What is the sum of the fuel requirements</strong> for all of the modules on your spacecraft?</p>\n"
   ]
  },
  {
   "cell_type": "code",
   "execution_count": 1,
   "metadata": {},
   "outputs": [
    {
     "name": "stderr",
     "output_type": "stream",
     "text": [
      "..\n",
      "----------------------------------------------------------------------\n",
      "Ran 2 tests in 0.002s\n",
      "\n",
      "OK\n"
     ]
    },
    {
     "data": {
      "text/plain": [
       "<unittest.main.TestProgram at 0x7f991cde9240>"
      ]
     },
     "execution_count": 1,
     "metadata": {},
     "output_type": "execute_result"
    }
   ],
   "source": [
    "import os\n",
    "import unittest\n",
    "from notebook import notebookapp\n",
    "from math import floor\n",
    "\n",
    "def calc_fuel_req(mass):\n",
    "    return floor(mass / 3.0) - 2\n",
    "\n",
    "def parse(lines):\n",
    "    new_list = []\n",
    "    for line in lines:\n",
    "        if line:\n",
    "            new_list.append(int(line))\n",
    "    return new_list\n",
    "\n",
    "class TestBasic(unittest.TestCase):\n",
    "    def test_parse(self):\n",
    "        data = parse('''120333\n",
    "        142772\n",
    "        85755'''.split())\n",
    "        self.assertEqual([120333, 142772, 85755], data)\n",
    "\n",
    "    def test_calc_fuel_req(self):\n",
    "        data = [(12,2),(14,2),(1969,654),(100756,33583)]\n",
    "        for mass, ans in data:\n",
    "            self.assertEqual(ans ,calc_fuel_req(mass))\n",
    "        \n",
    "        \n",
    "unittest.main(argv=[\"\"], exit=False)"
   ]
  },
  {
   "cell_type": "code",
   "execution_count": 2,
   "metadata": {},
   "outputs": [
    {
     "data": {
      "text/plain": [
       "3295424"
      ]
     },
     "execution_count": 2,
     "metadata": {},
     "output_type": "execute_result"
    }
   ],
   "source": [
    "def calc_total_fuel(filename):\n",
    "    with open(os.path.join(\"inputs\", filename)) as file:\n",
    "        data = parse(file.readlines())\n",
    "\n",
    "    total_fuel = 0\n",
    "\n",
    "    for mass in data:\n",
    "        total_fuel += calc_fuel_req(mass)\n",
    "        \n",
    "    return total_fuel\n",
    "\n",
    "calc_total_fuel(\"input_d01.txt\")"
   ]
  },
  {
   "cell_type": "markdown",
   "metadata": {},
   "source": [
    "<h2 id=\"part2\">--- Part Two ---</h2><p>During the second Go / No Go poll, the Elf in charge of the Rocket Equation Double-Checker stops the launch sequence.  Apparently, you forgot to include additional fuel for the fuel you just added.</p>\n",
    "<p>Fuel itself requires fuel just like a module - take its mass, divide by three, round down, and subtract 2.  However, that fuel <strong>also</strong> requires fuel, and <strong>that</strong> fuel requires fuel, and so on.  Any mass that would require <strong>negative fuel</strong> should instead be treated as if it requires <strong>zero fuel</strong>; the remaining mass, if any, is instead handled by <strong>wishing really hard</strong>, which has no mass and is outside the scope of this calculation.</p>\n",
    "<p>So, for each module mass, calculate its fuel and add it to the total.  Then, treat the fuel amount you just calculated as the input mass and repeat the process, continuing until a fuel requirement is zero or negative. For example:</p>\n",
    "<ul>\n",
    "<li>A module of mass <code>14</code> requires <code>2</code> fuel.  This fuel requires no further fuel (2 divided by 3 and rounded down is <code>0</code>, which would call for a negative fuel), so the total fuel required is still just <code>2</code>.</li>\n",
    "<li>At first, a module of mass <code>1969</code> requires <code>654</code> fuel.  Then, this fuel requires <code>216</code> more fuel (<code>654 / 3 - 2</code>).  <code>216</code> then requires <code>70</code> more fuel, which requires <code>21</code> fuel, which requires <code>5</code> fuel, which requires no further fuel.  So, the total fuel required for a module of mass <code>1969</code> is <code>654 + 216 + 70 + 21 + 5 = 966</code>.</li>\n",
    "<li>The fuel required by a module of mass <code>100756</code> and its fuel is: <code>33583 + 11192 + 3728 + 1240 + 411 + 135 + 43 + 12 + 2 = 50346</code>.</li>\n",
    "</ul>\n",
    "<p><strong>What is the sum of the fuel requirements</strong> for all of the modules on your spacecraft when also taking into account the mass of the added fuel? (Calculate the fuel requirements for each module separately, then add them all up at the end.)</p>\n"
   ]
  },
  {
   "cell_type": "code",
   "execution_count": 3,
   "metadata": {},
   "outputs": [
    {
     "name": "stderr",
     "output_type": "stream",
     "text": [
      ".\n",
      "----------------------------------------------------------------------\n",
      "Ran 1 test in 0.001s\n",
      "\n",
      "OK\n"
     ]
    },
    {
     "data": {
      "text/plain": [
       "<unittest.main.TestProgram at 0x7f991cde0b70>"
      ]
     },
     "execution_count": 3,
     "metadata": {},
     "output_type": "execute_result"
    }
   ],
   "source": [
    "def calc_true_fuel_req(mass):\n",
    "    fuel_req = calc_fuel_req(mass)\n",
    "    if fuel_req <= 0:\n",
    "        return 0\n",
    "    else:\n",
    "        return fuel_req + calc_true_fuel_req(fuel_req)\n",
    "        \n",
    "\n",
    "class TestBasic(unittest.TestCase):\n",
    "    def test_true_fuel_req(self):\n",
    "        data = [(1969,966),(100756,50346)]\n",
    "        for mass, ans in data:\n",
    "            self.assertEqual(ans ,calc_true_fuel_req(mass))\n",
    "            \n",
    "unittest.main(argv=[\"\"], exit=False)"
   ]
  },
  {
   "cell_type": "code",
   "execution_count": 4,
   "metadata": {},
   "outputs": [
    {
     "data": {
      "text/plain": [
       "4940279"
      ]
     },
     "execution_count": 4,
     "metadata": {},
     "output_type": "execute_result"
    }
   ],
   "source": [
    "def calc_total_fuel(filename):\n",
    "    with open(os.path.join(\"inputs\", filename)) as file:\n",
    "        data = parse(file.readlines())\n",
    "\n",
    "    total_fuel = 0\n",
    "\n",
    "    for mass in data:\n",
    "        total_fuel += calc_true_fuel_req(mass)\n",
    "        \n",
    "    return total_fuel\n",
    "\n",
    "calc_total_fuel(\"input_d01.txt\")"
   ]
  }
 ],
 "metadata": {
  "kernelspec": {
   "display_name": "Python 3",
   "language": "python",
   "name": "python3"
  },
  "language_info": {
   "codemirror_mode": {
    "name": "ipython",
    "version": 3
   },
   "file_extension": ".py",
   "mimetype": "text/x-python",
   "name": "python",
   "nbconvert_exporter": "python",
   "pygments_lexer": "ipython3",
   "version": "3.6.8"
  }
 },
 "nbformat": 4,
 "nbformat_minor": 2
}
