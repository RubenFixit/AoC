{
 "cells": [
  {
   "cell_type": "markdown",
   "metadata": {},
   "source": [
    "# [Advent of Code 2019: Day 2](https://adventofcode.com/2019/day/2)\n"
   ]
  },
  {
   "cell_type": "markdown",
   "metadata": {},
   "source": [
    "<h2>--- Day 2: 1202 Program Alarm ---</h2><p>On the way to your <a href=\"https://en.wikipedia.org/wiki/Gravity_assist\">gravity assist</a> around the Moon, your ship computer beeps angrily about a \"<a href=\"https://www.hq.nasa.gov/alsj/a11/a11.landing.html#1023832\">1202 program alarm</a>\". On the radio, an Elf is already explaining how to handle the situation: \"Don't worry, that's perfectly norma--\" The ship computer <a href=\"https://en.wikipedia.org/wiki/Halt_and_Catch_Fire\">bursts into flames</a>.</p>\n",
    "<p>You notify the Elves that the computer's <a href=\"https://en.wikipedia.org/wiki/Magic_smoke\">magic smoke</a> seems to have <span title=\"Looks like SOMEONE forgot to change the switch to 'more magic'.\">escaped</span>. \"That computer ran <strong>Intcode</strong> programs like the gravity assist program it was working on; surely there are enough spare parts up there to build a new Intcode computer!\"</p>\n",
    "<p>An Intcode program is a list of <a href=\"https://en.wikipedia.org/wiki/Integer\">integers</a> separated by commas (like <code>1,0,0,3,99</code>).  To run one, start by looking at the first integer (called position <code>0</code>). Here, you will find an <strong>opcode</strong> - either <code>1</code>, <code>2</code>, or <code>99</code>. The opcode indicates what to do; for example, <code>99</code> means that the program is finished and should immediately halt. Encountering an unknown opcode means something went wrong.</p>\n",
    "<p>Opcode <code>1</code> <strong>adds</strong> together numbers read from two positions and stores the result in a third position. The three integers <strong>immediately after</strong> the opcode tell you these three positions - the first two indicate the <strong>positions</strong> from which you should read the input values, and the third indicates the <strong>position</strong> at which the output should be stored.</p>\n",
    "<p>For example, if your Intcode computer encounters <code>1,10,20,30</code>, it should read the values at positions <code>10</code> and <code>20</code>, add those values, and then overwrite the value at position <code>30</code> with their sum.</p>\n",
    "<p>Opcode <code>2</code> works exactly like opcode <code>1</code>, except it <strong>multiplies</strong> the two inputs instead of adding them. Again, the three integers after the opcode indicate <strong>where</strong> the inputs and outputs are, not their values.</p>\n",
    "<p>Once you're done processing an opcode, <strong>move to the next one</strong> by stepping forward <code>4</code> positions.</p>\n",
    "<p>For example, suppose you have the following program:</p>\n",
    "<pre><code>1,9,10,3,2,3,11,0,99,30,40,50</code></pre>\n",
    "<p>For the purposes of illustration, here is the same program split into multiple lines:</p>\n",
    "<pre><code>1,9,10,3,\n",
    "2,3,11,0,\n",
    "99,\n",
    "30,40,50\n",
    "</code></pre>\n",
    "<p>The first four integers, <code>1,9,10,3</code>, are at positions <code>0</code>, <code>1</code>, <code>2</code>, and <code>3</code>. Together, they represent the first opcode (<code>1</code>, addition), the positions of the two inputs (<code>9</code> and <code>10</code>), and the position of the output (<code>3</code>).  To handle this opcode, you first need to get the values at the input positions: position <code>9</code> contains <code>30</code>, and position <code>10</code> contains <code>40</code>.  <strong>Add</strong> these numbers together to get <code>70</code>.  Then, store this value at the output position; here, the output position (<code>3</code>) is <strong>at</strong> position <code>3</code>, so it overwrites itself.  Afterward, the program looks like this:</p>\n",
    "<pre><code>1,9,10,<strong>70</strong>,\n",
    "2,3,11,0,\n",
    "99,\n",
    "30,40,50\n",
    "</code></pre>\n",
    "<p>Step forward <code>4</code> positions to reach the next opcode, <code>2</code>. This opcode works just like the previous, but it multiplies instead of adding.  The inputs are at positions <code>3</code> and <code>11</code>; these positions contain <code>70</code> and <code>50</code> respectively. Multiplying these produces <code>3500</code>; this is stored at position <code>0</code>:</p>\n",
    "<pre><code><strong>3500</strong>,9,10,70,\n",
    "2,3,11,0,\n",
    "99,\n",
    "30,40,50\n",
    "</code></pre>\n",
    "<p>Stepping forward <code>4</code> more positions arrives at opcode <code>99</code>, halting the program.</p>\n",
    "<p>Here are the initial and final states of a few more small programs:</p>\n",
    "<ul>\n",
    "<li><code>1,0,0,0,99</code> becomes <code><strong>2</strong>,0,0,0,99</code> (<code>1 + 1 = 2</code>).</li>\n",
    "<li><code>2,3,0,3,99</code> becomes <code>2,3,0,<strong>6</strong>,99</code> (<code>3 * 2 = 6</code>).</li>\n",
    "<li><code>2,4,4,5,99,0</code> becomes <code>2,4,4,5,99,<strong>9801</strong></code> (<code>99 * 99 = 9801</code>).</li>\n",
    "<li><code>1,1,1,4,99,5,6,0,99</code> becomes <code><strong>30</strong>,1,1,4,<strong>2</strong>,5,6,0,99</code>.</li>\n",
    "</ul>\n",
    "<p>Once you have a working computer, the first step is to restore the gravity assist program (your puzzle input) to the \"1202 program alarm\" state it had just before the last computer caught fire. To do this, <strong>before running the program</strong>, replace position <code>1</code> with the value <code>12</code> and replace position <code>2</code> with the value <code>2</code>. <strong>What value is left at position <code>0</code></strong> after the program halts?</p>\n"
   ]
  },
  {
   "cell_type": "code",
   "execution_count": 1,
   "metadata": {},
   "outputs": [
    {
     "name": "stderr",
     "output_type": "stream",
     "text": [
      "...\n",
      "----------------------------------------------------------------------\n",
      "Ran 3 tests in 0.003s\n",
      "\n",
      "OK\n"
     ]
    },
    {
     "data": {
      "text/plain": [
       "<unittest.main.TestProgram at 0x7fc1204b4780>"
      ]
     },
     "execution_count": 1,
     "metadata": {},
     "output_type": "execute_result"
    }
   ],
   "source": [
    "import os\n",
    "import csv\n",
    "import unittest\n",
    "\n",
    "class IntcodeComputer():\n",
    "    STEP = 4\n",
    "    OP_ADD = 1\n",
    "    OP_MULTIPLY = 2\n",
    "    OP_HALT = 99\n",
    "    \n",
    "    NOUN_ADDR = 1\n",
    "    VERB_ADDR = 2\n",
    "    RESULT_ADDR = 0\n",
    "    START_ADDR = 0\n",
    "    \n",
    "    def __init__(self, data = []):\n",
    "        self.memory = []\n",
    "        self.initial_memory = []\n",
    "        if data:\n",
    "            self.load_memory(data)\n",
    "        \n",
    "    def load_memory(self, data):\n",
    "        self.initial_memory = self.normalize_memory(data)\n",
    "        self.reset()\n",
    "        \n",
    "    def reset(self):\n",
    "        if self.memory:\n",
    "            del self.memory[:]\n",
    "        self.memory = self.initial_memory.copy()\n",
    "        \n",
    "    def load_program(self, program):\n",
    "        prog_str = \"{:04d}\".format(program)\n",
    "        self.memory[self.NOUN_ADDR] = int(prog_str[:2])\n",
    "        self.memory[self.VERB_ADDR] = int(prog_str[2:4])\n",
    "        \n",
    "    def print_program(self):\n",
    "        print(\"Program: {:02d}{:02d}\".format(self.memory[self.NOUN_ADDR],self.memory[self.VERB_ADDR]))\n",
    "\n",
    "    def normalize_memory(self, intcode):\n",
    "        if type(intcode) is str:\n",
    "            return list(map(int, intcode.split(',')))\n",
    "\n",
    "        elif type(intcode) is list:\n",
    "            if type(intcode[0]) is str:\n",
    "                return list(map(int, intcode))\n",
    "            else:\n",
    "                return intcode\n",
    "\n",
    "        else:\n",
    "            raise Exception('Corrupt intcode')\n",
    "\n",
    "    def run(self):\n",
    "        addr = self.START_ADDR\n",
    "        while addr is not self.OP_HALT:\n",
    "            opcode = self.memory[addr]\n",
    "            \n",
    "            if opcode == self.OP_HALT:\n",
    "                return self.memory[self.RESULT_ADDR]\n",
    "            \n",
    "            input1_addr = self.memory[addr + 1]\n",
    "            input2_addr = self.memory[addr + 2]\n",
    "            output_addr = self.memory[addr + 3]\n",
    "            \n",
    "            if opcode == self.OP_ADD:\n",
    "                self.memory[output_addr] = self.memory[input1_addr] + self.memory[input2_addr]\n",
    "                addr += self.STEP\n",
    "            elif opcode == self.OP_MULTIPLY:\n",
    "                self.memory[output_addr] = self.memory[input1_addr] * self.memory[input2_addr]\n",
    "                addr += self.STEP\n",
    "            else:\n",
    "                raise Exception(f'Unkown opcode {opcode} at addr {addr}.')\n",
    "                self.reset()    \n",
    "            \n",
    "class TestBasic(unittest.TestCase):\n",
    "    \n",
    "    def test_normalize_memory(self):\n",
    "        data = [(\"1,0,0,0,99\",[1,0,0,0,99]),\n",
    "                ([\"2\",\"3\",\"0\",\"3\",\"99\"],[2,3,0,3,99])]\n",
    "        iccp = IntcodeComputer()\n",
    "        for intcode, ans in data:\n",
    "            self.assertEqual( ans , iccp.normalize_memory(intcode) )\n",
    "    \n",
    "    def test_intcode_handler(self):\n",
    "        data = [(\"1,0,0,0,99\",\"2,0,0,0,99\"),\n",
    "                (\"2,3,0,3,99\",\"2,3,0,6,99\"),\n",
    "                (\"2,4,4,5,99,0\",\"2,4,4,5,99,9801\"),\n",
    "                (\"1,1,1,4,99,5,6,0,99\",\"30,1,1,4,2,5,6,0,99\"),\n",
    "                (\"1,9,10,3,2,3,11,0,99,30,40,50\",\"3500,9,10,70,2,3,11,0,99,30,40,50\")]\n",
    "        iccp = IntcodeComputer()\n",
    "        for intcode, ans in data:\n",
    "            iccp.load_memory(intcode)\n",
    "            iccp.run()\n",
    "            self.assertEqual( ans , \",\".join(map(str, iccp.memory )))\n",
    "            \n",
    "    def test_reset(self):\n",
    "        intcode = \"2,4,4,0,99\"\n",
    "        iccp = IntcodeComputer()\n",
    "        iccp.load_memory(intcode)\n",
    "        iccp.run()\n",
    "        self.assertNotEqual(intcode, \",\".join(map(str, iccp.memory )))\n",
    "        iccp.reset()\n",
    "        self.assertEqual(intcode, \",\".join(map(str, iccp.memory )))    \n",
    "        \n",
    "        \n",
    "unittest.main(argv=[\"\"], exit=False)"
   ]
  },
  {
   "cell_type": "markdown",
   "metadata": {},
   "source": [
    "Once you have a working computer, the first step is to restore the gravity assist program (your puzzle input) to the \"1202 program alarm\" state it had just before the last computer caught fire. To do this, before running the program, replace position 1 with the value 12 and replace position 2 with the value 2. What value is left at position 0 after the program halts?"
   ]
  },
  {
   "cell_type": "code",
   "execution_count": 2,
   "metadata": {},
   "outputs": [
    {
     "name": "stdout",
     "output_type": "stream",
     "text": [
      "Program: 1202\n",
      "Result: 8017076\n"
     ]
    }
   ],
   "source": [
    "with open(\"inputs/input_d02.txt\") as file:\n",
    "    intcode = file.read()\n",
    "        \n",
    "iccp = IntcodeComputer(intcode)\n",
    "iccp.load_program(1202)\n",
    "iccp.print_program()\n",
    "print(f'Result: {iccp.run()}')\n",
    "iccp.reset()"
   ]
  },
  {
   "cell_type": "markdown",
   "metadata": {},
   "source": [
    "<h2 id=\"part2\">--- Part Two ---</h2><p>\"Good, the new computer seems to be working correctly!  <strong>Keep it nearby</strong> during this mission - you'll probably use it again. Real Intcode computers support many more features than your new one, but we'll let you know what they are as you need them.\"</p>\n",
    "<p>\"However, your current priority should be to complete your gravity assist around the Moon. For this mission to succeed, we should settle on some terminology for the parts you've already built.\"</p>\n",
    "<p>Intcode programs are given as a list of integers; these values are used as the initial state for the computer's <strong>memory</strong>. When you run an Intcode program, make sure to start by initializing memory to the program's values. A position in memory is called an <strong>address</strong> (for example, the first value in memory is at \"address 0\").</p>\n",
    "<p>Opcodes (like <code>1</code>, <code>2</code>, or <code>99</code>) mark the beginning of an <strong>instruction</strong>.  The values used immediately after an opcode, if any, are called the instruction's <strong>parameters</strong>.  For example, in the instruction <code>1,2,3,4</code>, <code>1</code> is the opcode; <code>2</code>, <code>3</code>, and <code>4</code> are the parameters. The instruction <code>99</code> contains only an opcode and has no parameters.</p>\n",
    "<p>The address of the current instruction is called the <strong>instruction pointer</strong>; it starts at <code>0</code>.  After an instruction finishes, the instruction pointer increases by <strong>the number of values in the instruction</strong>; until you add more instructions to the computer, this is always <code>4</code> (<code>1</code> opcode + <code>3</code> parameters) for the add and multiply instructions. (The halt instruction would increase the instruction pointer by <code>1</code>, but it halts the program instead.)</p>\n",
    "<p>\"With terminology out of the way, we're ready to proceed. To complete the gravity assist, you need to <strong>determine what pair of inputs produces the output <code>19690720</code></strong>.\"</p>\n",
    "<p>The inputs should still be provided to the program by replacing the values at addresses <code>1</code> and <code>2</code>, just like before.  In this program, the value placed in address <code>1</code> is called the <strong>noun</strong>, and the value placed in address <code>2</code> is called the <strong>verb</strong>.   Each of the two input values will be between <code>0</code> and <code>99</code>, inclusive.</p>\n",
    "<p>Once the program has halted, its output is available at address <code>0</code>, also just like before. Each time you try a pair of inputs, make sure you first <strong>reset the computer's memory to the values in the program</strong> (your puzzle input) - in other words, don't reuse memory from a previous attempt.</p>\n",
    "<p>Find the input <strong>noun</strong> and <strong>verb</strong> that cause the program to produce the output <code>19690720</code>. <strong>What is <code>100 * noun + verb</code>?</strong> (For example, if <code>noun=12</code> and <code>verb=2</code>, the answer would be <code>1202</code>.)</p>\n"
   ]
  },
  {
   "cell_type": "code",
   "execution_count": 3,
   "metadata": {},
   "outputs": [
    {
     "name": "stdout",
     "output_type": "stream",
     "text": [
      "Program: 3146\n"
     ]
    }
   ],
   "source": [
    "possible_programs = range(0,10000)\n",
    "target_result = 19690720\n",
    "\n",
    "for program in possible_programs:\n",
    "    iccp.load_program(program)\n",
    "    result = iccp.run()\n",
    "    \n",
    "    if result == target_result:\n",
    "        iccp.print_program()\n",
    "        break\n",
    "    \n",
    "    iccp.reset()\n"
   ]
  }
 ],
 "metadata": {
  "kernelspec": {
   "display_name": "Python 3",
   "language": "python",
   "name": "python3"
  },
  "language_info": {
   "codemirror_mode": {
    "name": "ipython",
    "version": 3
   },
   "file_extension": ".py",
   "mimetype": "text/x-python",
   "name": "python",
   "nbconvert_exporter": "python",
   "pygments_lexer": "ipython3",
   "version": "3.6.8"
  }
 },
 "nbformat": 4,
 "nbformat_minor": 2
}
