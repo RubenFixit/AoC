{
 "cells": [
  {
   "cell_type": "markdown",
   "metadata": {},
   "source": [
    "# [Advent of Code 2019: Day 9](https://adventofcode.com/2019/day/9)"
   ]
  },
  {
   "cell_type": "markdown",
   "metadata": {},
   "source": [
    "<h2>--- Day 9: Sensor Boost ---</h2>\n",
    "<p>You've just said goodbye to the rebooted rover and left Mars when you receive a faint distress signal coming from the asteroid belt. It must be the Ceres monitoring station!</p>\n",
    "<p>In order to lock on to the signal, you'll need to boost your sensors. The Elves send up the latest <em>BOOST</em> program - Basic Operation Of System Test.</p>\n",
    "<p>While BOOST (your puzzle input) is capable of boosting your sensors, for <span title=\"Oh sure, NOW safety is a priority.\">tenuous safety reasons</span>, it refuses to do so until the computer it runs on passes some checks to demonstrate it is a <em>complete Intcode computer</em>.</p>\n",
    "<p><a href=\"https://adventofcode.com/2019/day/5\">Your existing Intcode computer</a> is missing one key feature: it needs support for parameters in <em>relative mode</em>.</p>\n",
    "<p>Parameters in mode <code>2</code>, <em>relative mode</em>, behave very similarly to parameters in <em>position mode</em>: the parameter is interpreted as a position. Like position mode, parameters in relative mode can be read from or written to.</p>\n",
    "<p>The important difference is that relative mode parameters don't count from address <code>0</code>. Instead, they count from a value called the <em>relative base</em>. The <em>relative base</em> starts at <code>0</code>.</p>\n",
    "<p>The address a relative mode parameter refers to is itself <em>plus</em> the current <em>relative base</em>. When the relative base is <code>0</code>, relative mode parameters and position mode parameters with the same value refer to the same address.</p>\n",
    "<p>For example, given a relative base of <code>50</code>, a relative mode parameter of <code>-7</code> refers to memory address <code>50 + -7 = <em>43</em></code>.</p>\n",
    "<p>The relative base is modified with the <em>relative base offset</em> instruction:</p>\n",
    "<ul>\n",
    "    <li>Opcode <code>9</code> <em>adjusts the relative base</em> by the value of its only parameter. The relative base increases (or decreases, if the value is negative) by the value of the parameter.</li>\n",
    "</ul>\n",
    "<p>For example, if the relative base is <code>2000</code>, then after the instruction <code>109,19</code>, the relative base would be <code>2019</code>. If the next instruction were <code>204,-34</code>, then the value at address <code>1985</code> would\n",
    "    be output.</p>\n",
    "<p>Your Intcode computer will also need a few other capabilities:</p>\n",
    "<ul>\n",
    "    <li>The computer's available memory should be much larger than the initial program. Memory beyond the initial program starts with the value <code>0</code> and can be read or written like any other memory. (It is invalid to try to access memory at a negative\n",
    "        address, though.)</li>\n",
    "    <li>The computer should have support for large numbers. Some instructions near the beginning of the BOOST program will verify this capability.</li>\n",
    "</ul>\n",
    "<p>Here are some example programs that use these features:</p>\n",
    "<ul>\n",
    "    <li><code>109,1,204,-1,1001,100,1,100,1008,100,16,101,1006,101,0,99</code> takes no input and produces a <a href=\"https://en.wikipedia.org/wiki/Quine_(computing)\">copy of itself</a> as output.</li>\n",
    "    <li><code>1102,34915192,34915192,7,4,7,99,0</code> should output a 16-digit number.</li>\n",
    "    <li><code>104,1125899906842624,99</code> should output the large number in the middle.</li>\n",
    "</ul>\n",
    "<p>The BOOST program will ask for a single input; run it in test mode by providing it the value <code>1</code>. It will perform a series of checks on each opcode, output any opcodes (and the associated parameter modes) that seem to be functioning incorrectly,\n",
    "    and finally output a BOOST keycode.</p>\n",
    "<p>Once your Intcode computer is fully functional, the BOOST program should report no malfunctioning opcodes when run in test mode; it should only output a single value, the BOOST keycode. <em>What BOOST keycode does it produce?</em></p>"
   ]
  },
  {
   "cell_type": "code",
   "execution_count": 1,
   "metadata": {},
   "outputs": [
    {
     "name": "stdout",
     "output_type": "stream",
     "text": [
      "BOOST keycode: 3340912345\n"
     ]
    }
   ],
   "source": [
    "import os\n",
    "from intcode import IntcodeComputer\n",
    "\n",
    "with open(\"inputs/input_d09.txt\") as file:\n",
    "    intcode = file.read()\n",
    "\n",
    "iccp = IntcodeComputer(intcode)\n",
    "iccp.add_input(1)\n",
    "iccp.run()\n",
    "\n",
    "print(f'BOOST keycode: {iccp.output}')"
   ]
  },
  {
   "cell_type": "markdown",
   "metadata": {},
   "source": [
    "<h2 id=\"part2\">--- Part Two ---</h2>\n",
    "<p><em>You now have a complete Intcode computer.</em></p>\n",
    "<p>Finally, you can lock on to the Ceres distress signal! You just need to boost your sensors using the BOOST program.</p>\n",
    "<p>The program runs in sensor boost mode by providing the input instruction the value <code>2</code>. Once run, it will boost the sensors automatically, but it might take a few seconds to complete the operation on slower hardware. In sensor boost mode, the\n",
    "    program will output a single value: <em>the coordinates of the distress signal</em>.</p>\n",
    "<p>Run the BOOST program in sensor boost mode. <em>What are the coordinates of the distress signal?</em></p>"
   ]
  },
  {
   "cell_type": "code",
   "execution_count": 2,
   "metadata": {},
   "outputs": [
    {
     "name": "stdout",
     "output_type": "stream",
     "text": [
      "Distress Signal Coordinates: 51754\n"
     ]
    }
   ],
   "source": [
    "iccp.reset()\n",
    "iccp.add_input(2)\n",
    "iccp.run()\n",
    "\n",
    "print(f'Distress Signal Coordinates: {iccp.output}')"
   ]
  }
 ],
 "metadata": {
  "kernelspec": {
   "display_name": "Python 3",
   "language": "python",
   "name": "python3"
  },
  "language_info": {
   "codemirror_mode": {
    "name": "ipython",
    "version": 3
   },
   "file_extension": ".py",
   "mimetype": "text/x-python",
   "name": "python",
   "nbconvert_exporter": "python",
   "pygments_lexer": "ipython3",
   "version": "3.6.8"
  }
 },
 "nbformat": 4,
 "nbformat_minor": 2
}
