{
 "cells": [
  {
   "cell_type": "markdown",
   "metadata": {},
   "source": [
    "# [Advent of Code 2019: Day 13](https://adventofcode.com/2019/day/13)"
   ]
  },
  {
   "cell_type": "markdown",
   "metadata": {},
   "source": [
    "<h2>--- Day 13: Care Package ---</h2>\n",
    "<p>As you ponder the solitude of space and the ever-increasing three-hour roundtrip for messages between you and Earth, you notice that the Space Mail Indicator Light is blinking. To help keep you sane, the Elves have sent you a care package.</p>\n",
    "<p>It's a new game for the ship's <a href=\"https://en.wikipedia.org/wiki/Arcade_cabinet\">arcade cabinet</a>! Unfortunately, the arcade is <em>all the way</em> on the other end of the ship. Surely, it won't be hard to build your own - the care package even\n",
    "    comes with schematics.</p>\n",
    "<p>The arcade cabinet runs <a href=\"https://adventofcode.com/2019/day/9\">Intcode</a> software like the game the Elves sent (your puzzle input). It has a primitive screen capable of drawing square <em>tiles</em> on a grid. The software draws tiles to the\n",
    "    screen with output instructions: every three output instructions specify the <code>x</code> position (distance from the left), <code>y</code> position (distance from the top), and <code>tile id</code>. The <code>tile id</code> is interpreted as follows:</p>\n",
    "<ul>\n",
    "    <li><code>0</code> is an <em>empty</em> tile. No game object appears in this tile.</li>\n",
    "    <li><code>1</code> is a <em>wall</em> tile. Walls are indestructible barriers.</li>\n",
    "    <li><code>2</code> is a <em>block</em> tile. Blocks can be broken by the ball.</li>\n",
    "    <li><code>3</code> is a <em>horizontal paddle</em> tile. The paddle is indestructible.</li>\n",
    "    <li><code>4</code> is a <em>ball</em> tile. The ball moves diagonally and bounces off objects.</li>\n",
    "</ul>\n",
    "<p>For example, a sequence of output values like <code>1,2,3,6,5,4</code> would draw a <em>horizontal paddle</em> tile (<code>1</code> tile from the left and <code>2</code> tiles from the top) and a <em>ball</em> tile (<code>6</code> tiles from the left\n",
    "    and <code>5</code> tiles from the top).</p>\n",
    "<p>Start the game. <em>How many block tiles are on the screen when the game exits?</em></p>"
   ]
  },
  {
   "cell_type": "code",
   "execution_count": 1,
   "metadata": {},
   "outputs": [],
   "source": [
    "import os\n",
    "from intcode import IntcodeComputer\n",
    "    \n",
    "class ArcadeGame():\n",
    "\n",
    "    EMPTY = 0\n",
    "    WALL = 1\n",
    "    BLOCK = 2\n",
    "    PADDLE = 3\n",
    "    BALL = 4\n",
    "\n",
    "    NEUTRAL = 0\n",
    "    RIGHT = 1\n",
    "    LEFT = -1\n",
    "    \n",
    "    def __init__(self, filename = ''):\n",
    "        with open(filename) as file:\n",
    "            game_data = file.read()\n",
    "        self.iccp = IntcodeComputer(game_data)\n",
    "        self.score = 0\n",
    "        self.paddle_position = None\n",
    "        self.tile_data = {}\n",
    "            \n",
    "    def play(self, quarters = None):\n",
    "        if quarters != None:\n",
    "            self.iccp.memory[0] = quarters            \n",
    "        \n",
    "        self.iccp.add_input(self.NEUTRAL)\n",
    "        \n",
    "        while True:\n",
    "            self.iccp.run()\n",
    "            x = self.iccp.output\n",
    "            if x is None:\n",
    "                break\n",
    "                \n",
    "            self.iccp.run()\n",
    "            y = self.iccp.output\n",
    "\n",
    "            if x == self.LEFT and y == self.NEUTRAL:\n",
    "                self.iccp.run()\n",
    "                self.score = self.iccp.output\n",
    "            else:\n",
    "                self.iccp.run()\n",
    "                tile_id = self.iccp.output\n",
    "\n",
    "                self.tile_data[y, x] = tile_id\n",
    "                if tile_id == self.PADDLE:\n",
    "                    self.paddle_position = x\n",
    "                elif tile_id == self.BALL:\n",
    "                    if self.paddle_position is not None:\n",
    "                        if x > self.paddle_position:\n",
    "                            self.iccp.add_input(self.RIGHT)\n",
    "                        elif x < self.paddle_position:\n",
    "                            self.iccp.add_input(self.LEFT)\n",
    "                        else:\n",
    "                            self.iccp.add_input(self.NEUTRAL)\n",
    "        return 0"
   ]
  },
  {
   "cell_type": "code",
   "execution_count": 2,
   "metadata": {},
   "outputs": [
    {
     "name": "stdout",
     "output_type": "stream",
     "text": [
      "Number of block tiles: 420\n"
     ]
    }
   ],
   "source": [
    "game = ArcadeGame(\"inputs/input_d13.txt\")\n",
    "game.play()\n",
    "print(f'Number of block tiles: {len([v for v in game.tile_data.values() if v == game.BLOCK])}')"
   ]
  },
  {
   "cell_type": "markdown",
   "metadata": {},
   "source": [
    "<h2 id=\"part2\">--- Part Two ---</h2>\n",
    "<p>The game didn't run because you didn't put in any quarters. Unfortunately, you did not bring any <span title=\"You do have crew quarters, but they won't fit in the machine.\">quarters</span>. Memory address <code>0</code> represents the number of quarters\n",
    "    that have been inserted; set it to <code>2</code> to play for free.</p>\n",
    "<p>The arcade cabinet has a <a href=\"https://en.wikipedia.org/wiki/Joystick\">joystick</a> that can move left and right. The software reads the position of the joystick with input instructions:</p>\n",
    "<ul>\n",
    "    <li>If the joystick is in the <em>neutral position</em>, provide <code>0</code>.</li>\n",
    "    <li>If the joystick is <em>tilted to the left</em>, provide <code>-1</code>.</li>\n",
    "    <li>If the joystick is <em>tilted to the right</em>, provide <code>1</code>.</li>\n",
    "</ul>\n",
    "<p>The arcade cabinet also has a <a href=\"https://en.wikipedia.org/wiki/Display_device#Segment_displays\">segment display</a> capable of showing a single number that represents the player's current score. When three output instructions specify <code>X=-1, Y=0</code>,\n",
    "    the third output instruction is not a tile; the value instead specifies the new score to show in the segment display. For example, a sequence of output values like <code>-1,0,12345</code> would show <code>12345</code> as the player's current score.</p>\n",
    "<p>Beat the game by breaking all the blocks. <em>What is your score after the last block is broken?</em></p>"
   ]
  },
  {
   "cell_type": "code",
   "execution_count": 3,
   "metadata": {},
   "outputs": [
    {
     "name": "stdout",
     "output_type": "stream",
     "text": [
      "Score: 21651\n"
     ]
    }
   ],
   "source": [
    "game.play(2)\n",
    "print(f'Score: {game.score}')"
   ]
  }
 ],
 "metadata": {
  "kernelspec": {
   "display_name": "Python 3",
   "language": "python",
   "name": "python3"
  },
  "language_info": {
   "codemirror_mode": {
    "name": "ipython",
    "version": 3
   },
   "file_extension": ".py",
   "mimetype": "text/x-python",
   "name": "python",
   "nbconvert_exporter": "python",
   "pygments_lexer": "ipython3",
   "version": "3.6.8"
  }
 },
 "nbformat": 4,
 "nbformat_minor": 2
}
