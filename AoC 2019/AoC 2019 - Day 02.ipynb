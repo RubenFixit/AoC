{
 "cells": [
  {
   "cell_type": "markdown",
   "metadata": {},
   "source": [
    "# [Advent of Code 2019: Day 2](https://adventofcode.com/2019/day/2)\n"
   ]
  },
  {
   "cell_type": "markdown",
   "metadata": {},
   "source": [
    "<h2>--- Day 2: 1202 Program Alarm ---</h2>\n",
    "<p>On the way to your <a href=\"https://en.wikipedia.org/wiki/Gravity_assist\">gravity assist</a> around the Moon, your ship computer beeps angrily about a \"<a href=\"https://www.hq.nasa.gov/alsj/a11/a11.landing.html#1023832\">1202 program alarm</a>\". On the\n",
    "    radio, an Elf is already explaining how to handle the situation: \"Don't worry, that's perfectly norma--\" The ship computer <a href=\"https://en.wikipedia.org/wiki/Halt_and_Catch_Fire\">bursts into flames</a>.</p>\n",
    "<p>You notify the Elves that the computer's <a href=\"https://en.wikipedia.org/wiki/Magic_smoke\">magic smoke</a> seems to have <span title=\"Looks like SOMEONE forgot to change the switch to 'more magic'.\">escaped</span>. \"That computer ran <em>Intcode</em>    programs like the gravity assist program it was working on; surely there are enough spare parts up there to build a new Intcode computer!\"</p>\n",
    "<p>An Intcode program is a list of <a href=\"https://en.wikipedia.org/wiki/Integer\">integers</a> separated by commas (like <code>1,0,0,3,99</code>). To run one, start by looking at the first integer (called position <code>0</code>). Here, you will find an\n",
    "    <em>opcode</em> - either <code>1</code>, <code>2</code>, or <code>99</code>. The opcode indicates what to do; for example, <code>99</code> means that the program is finished and should immediately halt. Encountering an unknown opcode means something\n",
    "    went wrong.</p>\n",
    "<p>Opcode <code>1</code> <em>adds</em> together numbers read from two positions and stores the result in a third position. The three integers <em>immediately after</em> the opcode tell you these three positions - the first two indicate the <em>positions</em>    from which you should read the input values, and the third indicates the <em>position</em> at which the output should be stored.</p>\n",
    "<p>For example, if your Intcode computer encounters <code>1,10,20,30</code>, it should read the values at positions <code>10</code> and <code>20</code>, add those values, and then overwrite the value at position <code>30</code> with their sum.</p>\n",
    "<p>Opcode <code>2</code> works exactly like opcode <code>1</code>, except it <em>multiplies</em> the two inputs instead of adding them. Again, the three integers after the opcode indicate <em>where</em> the inputs and outputs are, not their values.</p>\n",
    "<p>Once you're done processing an opcode, <em>move to the next one</em> by stepping forward <code>4</code> positions.</p>\n",
    "<p>For example, suppose you have the following program:</p>\n",
    "<pre><code>1,9,10,3,2,3,11,0,99,30,40,50</code></pre>\n",
    "<p>For the purposes of illustration, here is the same program split into multiple lines:</p>\n",
    "<pre><code>1,9,10,3,\n",
    "2,3,11,0,\n",
    "99,\n",
    "30,40,50\n",
    "</code></pre>\n",
    "<p>The first four integers, <code>1,9,10,3</code>, are at positions <code>0</code>, <code>1</code>, <code>2</code>, and <code>3</code>. Together, they represent the first opcode (<code>1</code>, addition), the positions of the two inputs (<code>9</code>    and <code>10</code>), and the position of the output (<code>3</code>). To handle this opcode, you first need to get the values at the input positions: position <code>9</code> contains <code>30</code>, and position <code>10</code> contains <code>40</code>.\n",
    "    <em>Add</em> these numbers together to get <code>70</code>. Then, store this value at the output position; here, the output position (<code>3</code>) is <em>at</em> position <code>3</code>, so it overwrites itself. Afterward, the program looks like\n",
    "    this:</p>\n",
    "<pre><code>1,9,10,<em>70</em>,\n",
    "2,3,11,0,\n",
    "99,\n",
    "30,40,50\n",
    "</code></pre>\n",
    "<p>Step forward <code>4</code> positions to reach the next opcode, <code>2</code>. This opcode works just like the previous, but it multiplies instead of adding. The inputs are at positions <code>3</code> and <code>11</code>; these positions contain <code>70</code>    and <code>50</code> respectively. Multiplying these produces <code>3500</code>; this is stored at position <code>0</code>:</p>\n",
    "<pre><code><em>3500</em>,9,10,70,\n",
    "2,3,11,0,\n",
    "99,\n",
    "30,40,50\n",
    "</code></pre>\n",
    "<p>Stepping forward <code>4</code> more positions arrives at opcode <code>99</code>, halting the program.</p>\n",
    "<p>Here are the initial and final states of a few more small programs:</p>\n",
    "<ul>\n",
    "    <li><code>1,0,0,0,99</code> becomes <code><em>2</em>,0,0,0,99</code> (<code>1 + 1 = 2</code>).</li>\n",
    "    <li><code>2,3,0,3,99</code> becomes <code>2,3,0,<em>6</em>,99</code> (<code>3 * 2 = 6</code>).</li>\n",
    "    <li><code>2,4,4,5,99,0</code> becomes <code>2,4,4,5,99,<em>9801</em></code> (<code>99 * 99 = 9801</code>).</li>\n",
    "    <li><code>1,1,1,4,99,5,6,0,99</code> becomes <code><em>30</em>,1,1,4,<em>2</em>,5,6,0,99</code>.</li>\n",
    "</ul>\n",
    "<p>Once you have a working computer, the first step is to restore the gravity assist program (your puzzle input) to the \"1202 program alarm\" state it had just before the last computer caught fire. To do this, <em>before running the program</em>, replace\n",
    "    position <code>1</code> with the value <code>12</code> and replace position <code>2</code> with the value <code>2</code>. <em>What value is left at position <code>0</code></em> after the program halts?</p>"
   ]
  },
  {
   "cell_type": "code",
   "execution_count": 1,
   "metadata": {},
   "outputs": [
    {
     "name": "stdout",
     "output_type": "stream",
     "text": [
      "Program: 1202\n",
      "Result: 8017076\n"
     ]
    }
   ],
   "source": [
    "import os\n",
    "from intcode import IntcodeComputer\n",
    "\n",
    "with open(\"inputs/input_d02.txt\") as file:\n",
    "    intcode = file.read()\n",
    "\n",
    "NOUN_ADDR = 1\n",
    "VERB_ADDR = 2\n",
    "RESULT_ADDR = 0\n",
    "\n",
    "def load_program(int_cp, program):\n",
    "    prog_str = \"{:04d}\".format(program)\n",
    "    int_cp.memory[NOUN_ADDR] = int(prog_str[:2])\n",
    "    int_cp.memory[VERB_ADDR] = int(prog_str[2:4])\n",
    "\n",
    "def print_program(int_cp):\n",
    "    print(\"Program: {:02d}{:02d}\".format(int_cp.memory[NOUN_ADDR],int_cp.memory[VERB_ADDR]))\n",
    "\n",
    "iccp = IntcodeComputer(intcode)\n",
    "load_program(iccp, 1202)\n",
    "print_program(iccp)\n",
    "iccp.run()\n",
    "\n",
    "print(f'Result: {iccp.memory[RESULT_ADDR]}')\n",
    "iccp.reset()"
   ]
  },
  {
   "cell_type": "markdown",
   "metadata": {},
   "source": [
    "<h2 id=\"part2\">--- Part Two ---</h2><p>\"Good, the new computer seems to be working correctly!  <strong>Keep it nearby</strong> during this mission - you'll probably use it again. Real Intcode computers support many more features than your new one, but we'll let you know what they are as you need them.\"</p>\n",
    "<p>\"However, your current priority should be to complete your gravity assist around the Moon. For this mission to succeed, we should settle on some terminology for the parts you've already built.\"</p>\n",
    "<p>Intcode programs are given as a list of integers; these values are used as the initial state for the computer's <strong>memory</strong>. When you run an Intcode program, make sure to start by initializing memory to the program's values. A position in memory is called an <strong>address</strong> (for example, the first value in memory is at \"address 0\").</p>\n",
    "<p>Opcodes (like <code>1</code>, <code>2</code>, or <code>99</code>) mark the beginning of an <strong>instruction</strong>.  The values used immediately after an opcode, if any, are called the instruction's <strong>parameters</strong>.  For example, in the instruction <code>1,2,3,4</code>, <code>1</code> is the opcode; <code>2</code>, <code>3</code>, and <code>4</code> are the parameters. The instruction <code>99</code> contains only an opcode and has no parameters.</p>\n",
    "<p>The address of the current instruction is called the <strong>instruction pointer</strong>; it starts at <code>0</code>.  After an instruction finishes, the instruction pointer increases by <strong>the number of values in the instruction</strong>; until you add more instructions to the computer, this is always <code>4</code> (<code>1</code> opcode + <code>3</code> parameters) for the add and multiply instructions. (The halt instruction would increase the instruction pointer by <code>1</code>, but it halts the program instead.)</p>\n",
    "<p>\"With terminology out of the way, we're ready to proceed. To complete the gravity assist, you need to <strong>determine what pair of inputs produces the output <code>19690720</code></strong>.\"</p>\n",
    "<p>The inputs should still be provided to the program by replacing the values at addresses <code>1</code> and <code>2</code>, just like before.  In this program, the value placed in address <code>1</code> is called the <strong>noun</strong>, and the value placed in address <code>2</code> is called the <strong>verb</strong>.   Each of the two input values will be between <code>0</code> and <code>99</code>, inclusive.</p>\n",
    "<p>Once the program has halted, its output is available at address <code>0</code>, also just like before. Each time you try a pair of inputs, make sure you first <strong>reset the computer's memory to the values in the program</strong> (your puzzle input) - in other words, don't reuse memory from a previous attempt.</p>\n",
    "<p>Find the input <strong>noun</strong> and <strong>verb</strong> that cause the program to produce the output <code>19690720</code>. <strong>What is <code>100 * noun + verb</code>?</strong> (For example, if <code>noun=12</code> and <code>verb=2</code>, the answer would be <code>1202</code>.)</p>\n"
   ]
  },
  {
   "cell_type": "code",
   "execution_count": 3,
   "metadata": {},
   "outputs": [
    {
     "name": "stdout",
     "output_type": "stream",
     "text": [
      "Program: 3146\n"
     ]
    }
   ],
   "source": [
    "possible_programs = range(0,10000)\n",
    "target_result = 19690720\n",
    "\n",
    "for program in possible_programs:\n",
    "    load_program(iccp, program)\n",
    "    iccp.run()\n",
    "    \n",
    "    if iccp.memory[RESULT_ADDR] == target_result:\n",
    "        print_program(iccp)\n",
    "        break\n",
    "    \n",
    "    iccp.reset()\n"
   ]
  }
 ],
 "metadata": {
  "kernelspec": {
   "display_name": "Python 3",
   "language": "python",
   "name": "python3"
  },
  "language_info": {
   "codemirror_mode": {
    "name": "ipython",
    "version": 3
   },
   "file_extension": ".py",
   "mimetype": "text/x-python",
   "name": "python",
   "nbconvert_exporter": "python",
   "pygments_lexer": "ipython3",
   "version": "3.6.8"
  }
 },
 "nbformat": 4,
 "nbformat_minor": 2
}
