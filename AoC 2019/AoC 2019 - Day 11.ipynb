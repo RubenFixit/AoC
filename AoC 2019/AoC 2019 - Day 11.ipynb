{
 "cells": [
  {
   "cell_type": "markdown",
   "metadata": {},
   "source": [
    "# [Advent of Code 2019: Day 11](https://adventofcode.com/2019/day/11)"
   ]
  },
  {
   "cell_type": "markdown",
   "metadata": {},
   "source": [
    "<h2>--- Day 11: Space Police ---</h2>\n",
    "<p>On the way to Jupiter, you're <a href=\"https://www.youtube.com/watch?v=KwY28rpyKDE\">pulled over</a> by the <em>Space Police</em>.</p>\n",
    "<p>\"Attention, unmarked spacecraft! You are in violation of Space Law! All spacecraft must have a clearly visible <em>registration identifier</em>! You have 24 hours to comply or be sent to <a href=\"https://www.youtube.com/watch?v=BVn1oQL9sWg&amp;t=5\">Space Jail</a>!\"</p>\n",
    "<p>Not wanting to be sent to Space Jail, you radio back to the Elves on Earth for help. Although it takes almost three hours for their reply signal to reach you, they send instructions for how to power up the <em>emergency hull painting robot</em> and even\n",
    "    provide a small <a href=\"https://adventofcode.com/2019/day/9\">Intcode program</a> (your puzzle input) that will cause it to paint your ship appropriately.</p>\n",
    "<p>There's just one problem: you don't have an emergency hull painting robot.</p>\n",
    "<p>You'll need to build a new emergency hull painting robot. The robot needs to be able to move around on the grid of square panels on the side of your ship, detect the color of its current panel, and paint its current panel <em>black</em> or <em>white</em>.\n",
    "    (All of the panels are currently <em>black</em>.)</p>\n",
    "<p>The Intcode program will serve as the brain of the robot. The program uses input instructions to access the robot's camera: provide <code>0</code> if the robot is over a <em>black</em> panel or <code>1</code> if the robot is over a <em>white</em> panel.\n",
    "    Then, the program will output two values:</p>\n",
    "<ul>\n",
    "    <li>First, it will output a value indicating the <em>color to paint the panel</em> the robot is over: <code>0</code> means to paint the panel <em>black</em>, and <code>1</code> means to paint the panel <em>white</em>.</li>\n",
    "    <li>Second, it will output a value indicating the <em>direction the robot should turn</em>: <code>0</code> means it should turn <em>left 90 degrees</em>, and <code>1</code> means it should turn <em>right 90 degrees</em>.</li>\n",
    "</ul>\n",
    "<p>After the robot turns, it should always move <em>forward exactly one panel</em>. The robot starts facing <em>up</em>.</p>\n",
    "<p>The robot will continue running for a while like this and halt when it is finished drawing. Do not restart the Intcode computer inside the robot during this process.</p>\n",
    "<p>For example, suppose the robot is about to start running. Drawing black panels as <code>.</code>, white panels as <code>#</code>, and the robot pointing the direction it is facing (<code>&lt; ^ &gt; v</code>), the initial state and region near the robot\n",
    "    looks like this:</p>\n",
    "<pre><code>.....\n",
    ".....\n",
    "..^..\n",
    ".....\n",
    ".....\n",
    "</code></pre>\n",
    "<p>The panel under the robot (not visible here because a <code>^</code> is shown instead) is also black, and so any input instructions at this point should be provided <code>0</code>. Suppose the robot eventually outputs <code>1</code> (paint white) and\n",
    "    then <code>0</code> (turn left). After taking these actions and moving forward one panel, the region now looks like this:</p>\n",
    "<pre><code>.....\n",
    ".....\n",
    ".&lt;#..\n",
    ".....\n",
    ".....\n",
    "</code></pre>\n",
    "<p>Input instructions should still be provided <code>0</code>. Next, the robot might output <code>0</code> (paint black) and then <code>0</code> (turn left):</p>\n",
    "<pre><code>.....\n",
    ".....\n",
    "..#..\n",
    ".v...\n",
    ".....\n",
    "</code></pre>\n",
    "<p>After more outputs (<code>1,0</code>, <code>1,0</code>):</p>\n",
    "<pre><code>.....\n",
    ".....\n",
    "..^..\n",
    ".##..\n",
    ".....\n",
    "</code></pre>\n",
    "<p>The robot is now back where it started, but because it is now on a white panel, input instructions should be provided <code>1</code>. After several more outputs (<code>0,1</code>, <code>1,0</code>, <code>1,0</code>), the area looks like this:</p>\n",
    "<pre><code>.....\n",
    "..&lt;#.\n",
    "...#.\n",
    ".##..\n",
    ".....\n",
    "</code></pre>\n",
    "<p>Before you deploy the robot, you should probably have an estimate of the area it will cover: specifically, you need to know the <em>number of panels it paints at least once</em>, regardless of color. In the example above, the robot painted <em><code>6</code> panels</em>    at least once. (It painted its starting panel twice, but that panel is <a href=\"https://www.youtube.com/watch?v=KjsSvjA5TuE\">still only counted once</a>; it also never painted the panel it ended on.)</p>\n",
    "<p>Build a new emergency hull painting robot and run the Intcode program on it. <em>How many panels does it paint at least once?</em></p>"
   ]
  },
  {
   "cell_type": "code",
   "execution_count": 1,
   "metadata": {},
   "outputs": [
    {
     "name": "stderr",
     "output_type": "stream",
     "text": [
      ".\n",
      "----------------------------------------------------------------------\n",
      "Ran 1 test in 0.001s\n",
      "\n",
      "OK\n"
     ]
    },
    {
     "data": {
      "text/plain": [
       "<unittest.main.TestProgram at 0x7f0840312748>"
      ]
     },
     "execution_count": 1,
     "metadata": {},
     "output_type": "execute_result"
    }
   ],
   "source": [
    "import os\n",
    "import unittest\n",
    "import numpy as np\n",
    "from matplotlib import pyplot as plt\n",
    "from intcode import IntcodeComputer\n",
    "\n",
    "class HullPaintingRobot():\n",
    "    \n",
    "    BLACK = 0\n",
    "    WHITE = 1\n",
    "\n",
    "    MOVE_LEFT  = 0\n",
    "    MOVE_RIGHT = 1\n",
    "    \n",
    "    DIR_UP    = 0\n",
    "    DIR_RIGHT = 1\n",
    "    DIR_DOWN  = 2\n",
    "    DIR_LEFT  = 3\n",
    "    DIR_COUNT = 4\n",
    "    \n",
    "    FINISHED = 0\n",
    "    RUNNING = 1\n",
    "    ERROR = -1\n",
    "    \n",
    "    def __init__(self, program):\n",
    "        self.iccp = IntcodeComputer(program)\n",
    "        self.paint_count = 0\n",
    "        self.move_count = 0\n",
    "        self.paint_data = {}\n",
    "        self.position = (0,0,self.DIR_UP)\n",
    "    \n",
    "    def move(self, move_dir):\n",
    "        x,y,fd = self.position\n",
    "        \n",
    "        if move_dir == self.MOVE_LEFT:\n",
    "            fd = (fd-1) % self.DIR_COUNT\n",
    "        elif move_dir == self.MOVE_RIGHT:\n",
    "            fd = (fd+1) % self.DIR_COUNT\n",
    "        else:\n",
    "            raise Exception(f'Cannot move in unkown direction: {move_dir}')\n",
    "            \n",
    "        if fd == self.DIR_UP:\n",
    "            y += 1\n",
    "        elif fd == self.DIR_RIGHT:\n",
    "            x += 1\n",
    "        elif fd == self.DIR_DOWN:\n",
    "            y -= 1\n",
    "        elif fd == self.DIR_LEFT:\n",
    "            x -= 1\n",
    "        else:\n",
    "            raise Exception(f'Cannot move, unkown facing direction: {fd}')\n",
    "        \n",
    "        self.position = (x, y, fd)\n",
    "        self.move_count += 1\n",
    "            \n",
    "    def get_coord_position(self):\n",
    "        x,y,d = self.position\n",
    "        return (x,y)\n",
    "    \n",
    "    def paint(self, color):\n",
    "        if color not in [self.WHITE, self.BLACK]:\n",
    "            raise Exception(f'Cannot paint unknown color: {color}')\n",
    "        \n",
    "        coord_pos = self.get_coord_position()\n",
    "        self.paint_data[coord_pos] = color\n",
    "            \n",
    "        self.paint_count += 1\n",
    "            \n",
    "    def get_camera_color(self):\n",
    "        coord_pos = self.get_coord_position()\n",
    "        return self.paint_data.setdefault(coord_pos, self.BLACK)\n",
    "        \n",
    "    def plot_data(self):\n",
    "        # Getting information to build an image array\n",
    "        img_x, img_y =  list(zip(*self.paint_data.keys()))        \n",
    "        x_offset = abs(min(img_x))\n",
    "        y_offset = abs(min(img_y))\n",
    "        \n",
    "        #I'm not sure why but we need to flip the x and y\n",
    "        img = np.zeros([max(img_y)+y_offset+1, max(img_x)+x_offset+1])\n",
    "        for x, y in self.paint_data:\n",
    "            img[y+y_offset,x+x_offset] = self.paint_data[x,y]\n",
    "\n",
    "        plt.imshow(img, cmap='binary')\n",
    "        plt.gca().invert_yaxis()\n",
    "        plt.show()\n",
    "                \n",
    "    def reset(self):\n",
    "        self.iccp.reset()\n",
    "        self.paint_count = 0\n",
    "        self.paint_data = {}\n",
    "        self.position = (0,0,self.DIR_UP)\n",
    "        \n",
    "    def start(self, start_color, verbose = False):\n",
    "        self.iccp.add_input(start_color)\n",
    "        while True:\n",
    "            self.iccp.run()            \n",
    "            # First output is the color to paint at the current position\n",
    "            color_to_paint = self.iccp.output            \n",
    "            if color_to_paint == None:\n",
    "                break                \n",
    "            self.paint(color_to_paint)\n",
    "            \n",
    "            self.iccp.run()            \n",
    "            # Second output is the direction to move\n",
    "            move_dir = self.iccp.output\n",
    "            if move_dir == None:\n",
    "                break\n",
    "            self.move(move_dir)\n",
    "            \n",
    "            self.iccp.add_input(self.get_camera_color())\n",
    "        print(f'Painted panels: {len(self.paint_data.keys())}')\n",
    "            \n",
    "class TestHullPaintingRobot(unittest.TestCase):\n",
    "    def test_move(self):\n",
    "        robot_program = \"99\"\n",
    "        hbot = HullPaintingRobot(robot_program)\n",
    "                 \n",
    "        data = [(None,(0,0,hbot.DIR_UP)),\n",
    "                (hbot.MOVE_RIGHT, (1,0,hbot.DIR_RIGHT)),\n",
    "                (hbot.MOVE_LEFT, (1,1,hbot.DIR_UP)),\n",
    "                (hbot.MOVE_RIGHT, (2,1,hbot.DIR_RIGHT)),\n",
    "                (hbot.MOVE_RIGHT, (2,0,hbot.DIR_DOWN)),\n",
    "                (hbot.MOVE_RIGHT, (1,0,hbot.DIR_LEFT)),\n",
    "                (hbot.MOVE_RIGHT, (1,1,hbot.DIR_UP)),\n",
    "                (hbot.MOVE_LEFT, (0,1,hbot.DIR_LEFT))]\n",
    "        \n",
    "        for move, result in data:\n",
    "            if move != None:\n",
    "                hbot.move(move)\n",
    "            self.assertEqual(hbot.position, result)        \n",
    "            \n",
    "unittest.main(argv=[\"\"], exit=False)"
   ]
  },
  {
   "cell_type": "code",
   "execution_count": 2,
   "metadata": {},
   "outputs": [
    {
     "name": "stdout",
     "output_type": "stream",
     "text": [
      "Painted panels: 1883\n"
     ]
    },
    {
     "data": {
      "image/png": "[encoded data removed]",
      "text/plain": [
       "<Figure size 432x288 with 1 Axes>"
      ]
     },
     "metadata": {
      "needs_background": "light"
     },
     "output_type": "display_data"
    }
   ],
   "source": [
    "with open(\"inputs/input_d11.txt\") as file:\n",
    "    robot_program = file.read()\n",
    "\n",
    "hbot = HullPaintingRobot(robot_program)\n",
    "hbot.start(hbot.BLACK)\n",
    "hbot.plot_data()"
   ]
  },
  {
   "cell_type": "markdown",
   "metadata": {},
   "source": [
    "<h2 id=\"part2\">--- Part Two ---</h2>\n",
    "<p>You're not sure what it's trying to paint, but it's definitely not a <em>registration identifier</em>. The Space Police are getting impatient.</p>\n",
    "<p>Checking your external ship cameras again, you notice a white panel marked \"emergency hull painting robot starting panel\". The rest of the panels are <em>still black</em>, but it looks like the robot was expecting to <em>start on a white panel</em>, not\n",
    "    a black one.</p>\n",
    "<p>Based on the <span title=\"Just be glad it wasn't a full set of Space Law Space Books; the number of pages is *astronomical*.\">Space Law Space Brochure</span> that the Space Police attached to one of your windows, a valid registration identifier is always\n",
    "    <em>eight capital letters</em>. After starting the robot on a single <em>white panel</em> instead, <em>what registration identifier does it paint</em> on your hull?</p>"
   ]
  },
  {
   "cell_type": "code",
   "execution_count": 3,
   "metadata": {},
   "outputs": [
    {
     "name": "stdout",
     "output_type": "stream",
     "text": [
      "Painted panels: 250\n"
     ]
    },
    {
     "data": {
      "image/png": "[encoded data removed]",
      "text/plain": [
       "<Figure size 432x288 with 1 Axes>"
      ]
     },
     "metadata": {
      "needs_background": "light"
     },
     "output_type": "display_data"
    }
   ],
   "source": [
    "hbot.reset()\n",
    "hbot.start(hbot.WHITE)\n",
    "hbot.plot_data()"
   ]
  }
 ],
 "metadata": {
  "kernelspec": {
   "display_name": "Python 3",
   "language": "python",
   "name": "python3"
  },
  "language_info": {
   "codemirror_mode": {
    "name": "ipython",
    "version": 3
   },
   "file_extension": ".py",
   "mimetype": "text/x-python",
   "name": "python",
   "nbconvert_exporter": "python",
   "pygments_lexer": "ipython3",
   "version": "3.6.8"
  }
 },
 "nbformat": 4,
 "nbformat_minor": 2
}
