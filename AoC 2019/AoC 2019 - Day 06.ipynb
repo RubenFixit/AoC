{
 "cells": [
  {
   "cell_type": "markdown",
   "metadata": {},
   "source": [
    "# [Advent of Code 2019: Day 6](https://adventofcode.com/2019/day/6)"
   ]
  },
  {
   "cell_type": "markdown",
   "metadata": {},
   "source": [
    "<h2>--- Day 6: Universal Orbit Map ---</h2>\n",
    "<p>You've landed at the Universal Orbit Map facility on Mercury. Because navigation in space often involves transferring between orbits, the orbit maps here are useful for finding efficient routes between, for example, you and Santa. You download a map of\n",
    "    the local orbits (your puzzle input).</p>\n",
    "<p>Except for the universal Center of Mass (<code>COM</code>), every object in space is in orbit around <span title=\"What do you mean, Kerbal Space Program doesn't have accurate orbital physics?\">exactly one other object</span>. An <a href=\"https://en.wikipedia.org/wiki/Orbit\">orbit</a>    looks roughly like this:</p>\n",
    "<pre><code>                  \\\n",
    "                   \\\n",
    "                    |\n",
    "                    |\n",
    "AAA--&gt; o            o &lt;--BBB\n",
    "                    |\n",
    "                    |\n",
    "                   /\n",
    "                  /\n",
    "</code></pre>\n",
    "<p>In this diagram, the object <code>BBB</code> is in orbit around <code>AAA</code>. The path that <code>BBB</code> takes around <code>AAA</code> (drawn with lines) is only partly shown. In the map data, this orbital relationship is written <code>AAA)BBB</code>,\n",
    "    which means \"<code>BBB</code> is in orbit around <code>AAA</code>\".</p>\n",
    "<p>Before you use your map data to plot a course, you need to make sure it wasn't corrupted during the download. To verify maps, the Universal Orbit Map facility uses <em>orbit count checksums</em> - the total number of <em>direct orbits</em> (like the one\n",
    "    shown above) and <em>indirect orbits</em>.</p>\n",
    "<p>Whenever <code>A</code> orbits <code>B</code> and <code>B</code> orbits <code>C</code>, then <code>A</code> <em>indirectly orbits</em> <code>C</code>. This chain can be any number of objects long: if <code>A</code> orbits <code>B</code>, <code>B</code>    orbits <code>C</code>, and <code>C</code> orbits <code>D</code>, then <code>A</code> indirectly orbits <code>D</code>.\n",
    "</p>\n",
    "<p>For example, suppose you have the following map:</p>\n",
    "<pre><code>COM)B\n",
    "B)C\n",
    "C)D\n",
    "D)E\n",
    "E)F\n",
    "B)G\n",
    "G)H\n",
    "D)I\n",
    "E)J\n",
    "J)K\n",
    "K)L\n",
    "</code></pre>\n",
    "<p>Visually, the above map of orbits looks like this:</p>\n",
    "<pre><code>        G - H       J - K - L\n",
    "       /           /\n",
    "COM - B - C - D - E - F\n",
    "               \\\n",
    "                I\n",
    "</code></pre>\n",
    "<p>In this visual representation, when two objects are connected by a line, the one on the right directly orbits the one on the left.</p>\n",
    "<p>Here, we can count the total number of orbits as follows:</p>\n",
    "<ul>\n",
    "    <li><code>D</code> directly orbits <code>C</code> and indirectly orbits <code>B</code> and <code>COM</code>, a total of <code>3</code> orbits.</li>\n",
    "    <li><code>L</code> directly orbits <code>K</code> and indirectly orbits <code>J</code>, <code>E</code>, <code>D</code>, <code>C</code>, <code>B</code>, and <code>COM</code>, a total of <code>7</code> orbits.</li>\n",
    "    <li><code>COM</code> orbits nothing.</li>\n",
    "</ul>\n",
    "<p>The total number of direct and indirect orbits in this example is <code><em>42</em></code>.</p>\n",
    "<p><em>What is the total number of direct and indirect orbits</em> in your map data?</p>"
   ]
  },
  {
   "cell_type": "code",
   "execution_count": 1,
   "metadata": {},
   "outputs": [
    {
     "name": "stderr",
     "output_type": "stream",
     "text": [
      ".."
     ]
    },
    {
     "name": "stdout",
     "output_type": "stream",
     "text": [
      "{'B': 'COM', 'C': 'B', 'D': 'C', 'E': 'D', 'F': 'E', 'G': 'B', 'H': 'G', 'I': 'D', 'J': 'E', 'K': 'J', 'L': 'K'}\n",
      "{'B': 'COM', 'C': 'B', 'D': 'C', 'E': 'D', 'F': 'E', 'G': 'B', 'H': 'G', 'I': 'D', 'J': 'E', 'K': 'J', 'L': 'K', 'YOU': 'K', 'SAN': 'I'}\n",
      "['I', 'J', 'K', 'E']\n"
     ]
    },
    {
     "name": "stderr",
     "output_type": "stream",
     "text": [
      "\n",
      "----------------------------------------------------------------------\n",
      "Ran 2 tests in 0.002s\n",
      "\n",
      "OK\n"
     ]
    },
    {
     "data": {
      "text/plain": [
       "<unittest.main.TestProgram at 0x7f90283ba198>"
      ]
     },
     "execution_count": 1,
     "metadata": {},
     "output_type": "execute_result"
    }
   ],
   "source": [
    "import os\n",
    "import unittest\n",
    "\n",
    "class UniversalOrbitMap():\n",
    "    \n",
    "    def __init__(self, map_data = \"\"):\n",
    "        self.data = {}\n",
    "        if map_data:\n",
    "            self.load(map_data)\n",
    "        \n",
    "    def load(self, raw_data):\n",
    "        \"\"\" Loads the map string data into a dictionary of objects and the object they orbit \"\"\"\n",
    "        data_list = raw_data.split('\\n')\n",
    "        for entry in data_list:\n",
    "            obj1, obj2 = entry.split(')')\n",
    "            self.data[obj2] = obj1                \n",
    "            \n",
    "    def get_orbit_count_checksums(self):\n",
    "        \"\"\" Calculates the total number of direct and indirect orbits of all objects in the map data \"\"\"\n",
    "        num_orbits = 0\n",
    "        for obj_name in self.data:\n",
    "            num_orbits += len(self.get_all_orbits(obj_name))\n",
    "        return num_orbits\n",
    "    \n",
    "    def get_all_orbits(self, obj_name):\n",
    "        \"\"\" Gets a list of all orbits of an object to the universal Center of Mass (COM) \"\"\"\n",
    "        orbits = []\n",
    "        while obj_name != \"COM\":\n",
    "            obj_name = self.data[obj_name]\n",
    "            orbits.append(obj_name)\n",
    "        return orbits\n",
    "    \n",
    "    def get_transfers(self, obj1, obj2):\n",
    "        \"\"\" Returns a list of all orbital transfers needed to get from obj1 to obj2 \"\"\"\n",
    "        obj1_orbits = self.get_all_orbits(obj1)\n",
    "        obj2_orbits = self.get_all_orbits(obj2)\n",
    "        return list(set(obj2_orbits) - set(obj1_orbits)) + list(set(obj1_orbits) - set(obj2_orbits))\n",
    "\n",
    "class TestBasic(unittest.TestCase):\n",
    "\n",
    "    def test_part1(self):\n",
    "        data = [(\"COM)B\\nB)C\\nC)D\\nD)E\\nE)F\\nB)G\\nG)H\\nD)I\\nE)J\\nJ)K\\nK)L\",42)]\n",
    "        map = UniversalOrbitMap()\n",
    "        for input, output in data:\n",
    "            map.load(input)\n",
    "            print(map.data)\n",
    "            self.assertEqual(output ,map.get_orbit_count_checksums())\n",
    "            \n",
    "    def test_part2(self):\n",
    "        data = [(\"COM)B\\nB)C\\nC)D\\nD)E\\nE)F\\nB)G\\nG)H\\nD)I\\nE)J\\nJ)K\\nK)L\\nK)YOU\\nI)SAN\",4)]\n",
    "        map = UniversalOrbitMap()\n",
    "        for input, output in data:\n",
    "            map.load(input)\n",
    "            print(map.data)\n",
    "            transfers = map.get_transfers(\"YOU\", \"SAN\")\n",
    "            print(transfers)\n",
    "            self.assertEqual(output ,len(transfers))\n",
    "        \n",
    "unittest.main(argv=[\"\"], exit=False)"
   ]
  },
  {
   "cell_type": "code",
   "execution_count": 2,
   "metadata": {},
   "outputs": [
    {
     "data": {
      "text/plain": [
       "147223"
      ]
     },
     "execution_count": 2,
     "metadata": {},
     "output_type": "execute_result"
    }
   ],
   "source": [
    "with open(\"inputs/input_d06.txt\") as file:\n",
    "    data = file.read()\n",
    "    \n",
    "map = UniversalOrbitMap(data)\n",
    "map.get_orbit_count_checksums()"
   ]
  },
  {
   "cell_type": "markdown",
   "metadata": {},
   "source": [
    "<h2 id=\"part2\">--- Part Two ---</h2>\n",
    "<p>Now, you just need to figure out how many <em>orbital transfers</em> you (<code>YOU</code>) need to take to get to Santa (<code>SAN</code>).</p>\n",
    "<p>You start at the object <code>YOU</code> are orbiting; your destination is the object <code>SAN</code> is orbiting. An orbital transfer lets you move from any object to an object orbiting or orbited by that object.</p>\n",
    "<p>For example, suppose you have the following map:</p>\n",
    "<pre><code>COM)B\n",
    "B)C\n",
    "C)D\n",
    "D)E\n",
    "E)F\n",
    "B)G\n",
    "G)H\n",
    "D)I\n",
    "E)J\n",
    "J)K\n",
    "K)L\n",
    "K)YOU\n",
    "I)SAN\n",
    "</code></pre>\n",
    "<p>Visually, the above map of orbits looks like this:</p>\n",
    "<pre><code>                          <em>YOU</em>\n",
    "                         <em>/</em>\n",
    "        G - H       <em>J - K</em> - L\n",
    "       /           <em>/</em>\n",
    "COM - B - C - <em>D - E</em> - F\n",
    "               <em>\\</em>\n",
    "                <em>I - SAN</em>\n",
    "</code></pre>\n",
    "<p>In this example, <code>YOU</code> are in orbit around <code>K</code>, and <code>SAN</code> is in orbit around <code>I</code>. To move from <code>K</code> to <code>I</code>, a minimum of <code>4</code> orbital transfers are required:</p>\n",
    "<ul>\n",
    "    <li><code>K</code> to <code>J</code></li>\n",
    "    <li><code>J</code> to <code>E</code></li>\n",
    "    <li><code>E</code> to <code>D</code></li>\n",
    "    <li><code>D</code> to <code>I</code></li>\n",
    "</ul>\n",
    "<p>Afterward, the map of orbits looks like this:</p>\n",
    "<pre><code>        G - H       J - K - L\n",
    "       /           /\n",
    "COM - B - C - D - E - F\n",
    "               \\\n",
    "                I - SAN\n",
    "                 <em>\\</em>\n",
    "                  <em>YOU</em>\n",
    "</code></pre>\n",
    "<p><em>What is the minimum number of orbital transfers required</em> to move from the object <code>YOU</code> are orbiting to the object <code>SAN</code> is orbiting? (Between the objects they are orbiting - <em>not</em> between <code>YOU</code> and <code>SAN</code>.)</p>"
   ]
  },
  {
   "cell_type": "code",
   "execution_count": 3,
   "metadata": {},
   "outputs": [
    {
     "data": {
      "text/plain": [
       "340"
      ]
     },
     "execution_count": 3,
     "metadata": {},
     "output_type": "execute_result"
    }
   ],
   "source": [
    "len(map.get_transfers(\"YOU\", \"SAN\"))"
   ]
  }
 ],
 "metadata": {
  "kernelspec": {
   "display_name": "Python 3",
   "language": "python",
   "name": "python3"
  },
  "language_info": {
   "codemirror_mode": {
    "name": "ipython",
    "version": 3
   },
   "file_extension": ".py",
   "mimetype": "text/x-python",
   "name": "python",
   "nbconvert_exporter": "python",
   "pygments_lexer": "ipython3",
   "version": "3.6.8"
  }
 },
 "nbformat": 4,
 "nbformat_minor": 2
}
