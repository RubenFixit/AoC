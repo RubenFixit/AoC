{
 "cells": [
  {
   "cell_type": "markdown",
   "metadata": {},
   "source": [
    "# [Advent of Code 2019: Day 4](https://adventofcode.com/2019/day/4)"
   ]
  },
  {
   "cell_type": "markdown",
   "metadata": {},
   "source": [
    "<h2>--- Day 4: Secure Container ---</h2><p>You arrive at the Venus fuel depot only to discover it's protected by a password.  The Elves had written the password on a sticky note, but someone <span title=\"Look on the bright side - isn't it more secure if nobody knows the password?\">threw it out</span>.</p>\n",
    "<p>However, they do remember a few key facts about the password:</p>\n",
    "<ul>\n",
    "<li>It is a six-digit number.</li>\n",
    "<li>The value is within the range given in your puzzle input.</li>\n",
    "<li>Two adjacent digits are the same (like <code>22</code> in <code>1<em>22</em>345</code>).</li>\n",
    "<li>Going from left to right, the digits <em>never decrease</em>; they only ever increase or stay the same (like <code>111123</code> or <code>135679</code>).</li>\n",
    "</ul>\n",
    "<p>Other than the range rule, the following are true:</p>\n",
    "<ul>\n",
    "<li><code>111111</code> meets these criteria (double <code>11</code>, never decreases).</li>\n",
    "<li><code>2234<em>50</em></code> does not meet these criteria (decreasing pair of digits <code>50</code>).</li>\n",
    "<li><code>123789</code> does not meet these criteria (no double).</li>\n",
    "</ul>\n",
    "<p><em>How many different passwords</em> within the range given in your puzzle input meet these criteria?</p>"
   ]
  },
  {
   "cell_type": "code",
   "execution_count": 3,
   "metadata": {},
   "outputs": [],
   "source": [
    "pass_min = 256310\n",
    "pass_max = 732736\n",
    "\n",
    "all_possible_pass = range(pass_min+1, pass_max)"
   ]
  },
  {
   "cell_type": "code",
   "execution_count": 4,
   "metadata": {},
   "outputs": [
    {
     "name": "stdout",
     "output_type": "stream",
     "text": [
      "Part one answer: 979\n"
     ]
    }
   ],
   "source": [
    "possible_pass = []\n",
    "\n",
    "def password_criteria1(password):\n",
    "    previous_digit = 0\n",
    "    num_repeat = False\n",
    "    repeat_list = []\n",
    "    pass_str = str(password)\n",
    "    for char in pass_str:\n",
    "        digit = int(char)\n",
    "        if digit < previous_digit:\n",
    "            return False\n",
    "        if digit == previous_digit:\n",
    "            num_repeat = True\n",
    "        else:\n",
    "            previous_digit = digit\n",
    "     \n",
    "    return num_repeat\n",
    "\n",
    "for password in all_possible_pass:    \n",
    "    if password_criteria1(password):   \n",
    "        possible_pass.append(password)\n",
    "\n",
    "print(f'Part one answer: {len(possible_pass)}')"
   ]
  },
  {
   "cell_type": "markdown",
   "metadata": {},
   "source": [
    "<h2 id=\"part2\">--- Part Two ---</h2><p>An Elf just remembered one more important detail: the two adjacent matching digits <em>are not part of a larger group of matching digits</em>.</p>\n",
    "<p>Given this additional criterion, but still ignoring the range rule, the following are now true:</p>\n",
    "<ul>\n",
    "<li><code>112233</code> meets these criteria because the digits never decrease and all repeated digits are exactly two digits long.</li>\n",
    "<li><code>123<em>444</em></code> no longer meets the criteria (the repeated <code>44</code> is part of a larger group of <code>444</code>).</li>\n",
    "<li><code>111122</code> meets the criteria (even though <code>1</code> is repeated more than twice, it still contains a double <code>22</code>).</li>\n",
    "</ul>\n",
    "<p><em>How many different passwords</em> within the range given in your puzzle input meet all of the criteria?</p>\n"
   ]
  },
  {
   "cell_type": "code",
   "execution_count": 5,
   "metadata": {},
   "outputs": [
    {
     "name": "stdout",
     "output_type": "stream",
     "text": [
      "Part two answer: 635\n"
     ]
    }
   ],
   "source": [
    "possible_pass = []\n",
    "\n",
    "def password_criteria2(password):\n",
    "    previous_digit = '0'\n",
    "    num_repeat = 0\n",
    "    repeat_list = []\n",
    "    pass_str = str(password)\n",
    "    for digit in pass_str:        \n",
    "        if digit > previous_digit:\n",
    "            if num_repeat > 0:\n",
    "                repeat_list.append(num_repeat+1)\n",
    "                num_repeat = 0\n",
    "        elif digit == previous_digit:\n",
    "             num_repeat += 1\n",
    "        else:\n",
    "            return False\n",
    "        \n",
    "        previous_digit = digit\n",
    "        \n",
    "    if num_repeat > 0:\n",
    "        repeat_list.append(num_repeat+1)\n",
    "        num_repeat = 0\n",
    "    \n",
    "    has_repeat = (2 in repeat_list)\n",
    "    return has_repeat\n",
    "\n",
    "for password in all_possible_pass:    \n",
    "    if password_criteria2(password):   \n",
    "        possible_pass.append(password)\n",
    "        \n",
    "\n",
    "print(f'Part two answer: {len(possible_pass)}')"
   ]
  }
 ],
 "metadata": {
  "kernelspec": {
   "display_name": "Python 3",
   "language": "python",
   "name": "python3"
  },
  "language_info": {
   "codemirror_mode": {
    "name": "ipython",
    "version": 3
   },
   "file_extension": ".py",
   "mimetype": "text/x-python",
   "name": "python",
   "nbconvert_exporter": "python",
   "pygments_lexer": "ipython3",
   "version": "3.6.8"
  }
 },
 "nbformat": 4,
 "nbformat_minor": 2
}
