{
 "cells": [
  {
   "cell_type": "markdown",
   "metadata": {},
   "source": [
    "# [Advent of Code 2020: Day 7](https://adventofcode.com/2020/day/7)"
   ]
  },
  {
   "cell_type": "markdown",
   "metadata": {},
   "source": [
    "## \\-\\-\\- Day 7: Handy Haversacks \\-\\-\\-\n",
    "\n",
    "You land at the regional airport in time for your next flight. In fact, it looks like you'll even have time to grab some food: all flights are currently delayed due to *issues in luggage processing*.\n",
    "\n",
    "Due to recent aviation regulations, many rules (your puzzle input) are being enforced about bags and their contents; bags must be color\\-coded and must contain specific quantities of other color\\-coded bags. Apparently, nobody responsible for these regulations considered how long they would take to enforce!\n",
    "\n",
    "For example, consider the following rules:\n",
    "\n",
    "```\n",
    "light red bags contain 1 bright white bag, 2 muted yellow bags.\n",
    "dark orange bags contain 3 bright white bags, 4 muted yellow bags.\n",
    "bright white bags contain 1 shiny gold bag.\n",
    "muted yellow bags contain 2 shiny gold bags, 9 faded blue bags.\n",
    "shiny gold bags contain 1 dark olive bag, 2 vibrant plum bags.\n",
    "dark olive bags contain 3 faded blue bags, 4 dotted black bags.\n",
    "vibrant plum bags contain 5 faded blue bags, 6 dotted black bags.\n",
    "faded blue bags contain no other bags.\n",
    "dotted black bags contain no other bags.\n",
    "\n",
    "```\n",
    "\n",
    "These rules specify the required contents for 9 bag types. In this example, every `faded blue` bag is empty, every `vibrant plum` bag contains 11 bags (5 `faded blue` and 6 `dotted black`), and so on.\n",
    "\n",
    "You have a **`shiny gold`** bag. If you wanted to carry it in at least one other bag, how many different bag colors would be valid for the outermost bag? (In other words: how many colors can, eventually, contain at least one `shiny gold` bag?)\n",
    "\n",
    "In the above rules, the following options would be available to you:\n",
    "\n",
    "*   A `bright white` bag, which can hold your `shiny gold` bag directly.\n",
    "*   A `muted yellow` bag, which can hold your `shiny gold` bag directly, plus some other bags.\n",
    "*   A `dark orange` bag, which can hold `bright white` and `muted yellow` bags, either of which could then hold your `shiny gold` bag.\n",
    "*   A `light red` bag, which can hold `bright white` and `muted yellow` bags, either of which could then hold your `shiny gold` bag.\n",
    "\n",
    "So, in this example, the number of bag colors that can eventually contain at least one `shiny gold` bag is **`4`**.\n",
    "\n",
    "**How many bag colors can eventually contain at least one `shiny gold` bag?** (The list of rules is quite long; make sure you get all of it.)"
   ]
  },
  {
   "cell_type": "code",
   "execution_count": 1,
   "metadata": {},
   "outputs": [
    {
     "name": "stderr",
     "output_type": "stream",
     "text": [
      "..\n",
      "----------------------------------------------------------------------\n",
      "Ran 2 tests in 0.003s\n",
      "\n",
      "OK\n"
     ]
    },
    {
     "data": {
      "text/plain": [
       "<unittest.main.TestProgram at 0x7efdadf4e0b8>"
      ]
     },
     "execution_count": 1,
     "metadata": {},
     "output_type": "execute_result"
    }
   ],
   "source": [
    "import unittest\n",
    "import re\n",
    "from IPython.display import Markdown, display\n",
    "\n",
    "from aoc_puzzle import AocPuzzle\n",
    "\n",
    "class LuggageProcessing(AocPuzzle):\n",
    "    \n",
    "    def parse_data(self, raw_data):\n",
    "        rules_list = raw_data.split('\\n')\n",
    "        self.data = {}\n",
    "        \n",
    "        for rule in rules_list:\n",
    "            \n",
    "            m = re.match('(\\w+\\s\\w+)\\sbags\\scontain\\s(.*)', rule)\n",
    "            bag_color = m.group(1)\n",
    "            bag_capacity = m.group(2)\n",
    "            \n",
    "            if bag_color not in self.data:                \n",
    "                self.data[bag_color] = {}\n",
    "                \n",
    "            bag_cap_list = bag_capacity.split(', ')\n",
    "            \n",
    "            for bag_cap in bag_cap_list:\n",
    "                m = re.match('(\\d+)\\s(\\w+\\s\\w+)', bag_cap)\n",
    "                if m:\n",
    "                    bag_c = m.group(2)\n",
    "                    count = m.group(1)\n",
    "                    self.data[bag_color][bag_c] = int(count)\n",
    "                    \n",
    "    def get_all_bag_types(self, bag_color):\n",
    "        \"\"\"A recursive function to get all bag types contained in a single bag\"\"\"\n",
    "        bag_contents = self.data[bag_color]\n",
    "        all_contents = bag_contents.copy()\n",
    "        if bag_contents:\n",
    "            for bag in bag_contents:\n",
    "                all_contents.update(self.data[bag])\n",
    "                all_contents.update(self.get_all_bag_types(bag))\n",
    "        return all_contents\n",
    "\n",
    "    def get_bag_host_count(self, target_bag, output=False):\n",
    "        result = 0\n",
    "        for bag_color in self.data:\n",
    "            all_contents = self.get_all_bag_types(bag_color)\n",
    "            if target_bag in all_contents:\n",
    "                result += 1\n",
    "            \n",
    "        if output:\n",
    "            display(Markdown(f'### A `{target_bag}` bag can be in `{result}` other bags'))            \n",
    "        return result\n",
    "        \n",
    "\n",
    "class TestBasic(unittest.TestCase):\n",
    "    \n",
    "    input_data = 'light red bags contain 1 bright white bag, 2 muted yellow bags.\\ndark orange bags contain 3 bright white bags, 4 muted yellow bags.\\nbright white bags contain 1 shiny gold bag.\\nmuted yellow bags contain 2 shiny gold bags, 9 faded blue bags.\\nshiny gold bags contain 1 dark olive bag, 2 vibrant plum bags.\\ndark olive bags contain 3 faded blue bags, 4 dotted black bags.\\nvibrant plum bags contain 5 faded blue bags, 6 dotted black bags.\\nfaded blue bags contain no other bags.\\ndotted black bags contain no other bags.'\n",
    "\n",
    "    def test_parse_data(self):\n",
    "        exp_out = {'bright white' : {'shiny gold': 1},\n",
    "                   'dark olive'   : {'dotted black': 4, 'faded blue': 3},\n",
    "                   'dark orange'  : {'bright white': 3, 'muted yellow': 4},\n",
    "                   'dotted black' : {},\n",
    "                   'faded blue'   : {},\n",
    "                   'light red'    : {'bright white': 1, 'muted yellow': 2},\n",
    "                   'muted yellow' : {'faded blue': 9, 'shiny gold': 2},\n",
    "                   'shiny gold'   : {'dark olive': 1, 'vibrant plum': 2},\n",
    "                   'vibrant plum' : {'dotted black': 6, 'faded blue': 5}}\n",
    "        lp = LuggageProcessing(self.input_data)\n",
    "        self.assertEqual(lp.data, exp_out)\n",
    "        \n",
    "    def test_LuggageProcessing(self):\n",
    "        exp_out = 4\n",
    "        lp = LuggageProcessing(self.input_data)\n",
    "        self.assertEqual(lp.get_bag_host_count('shiny gold'), exp_out)\n",
    "        \n",
    "unittest.main(argv=[\"\"], exit=False)"
   ]
  },
  {
   "cell_type": "code",
   "execution_count": 2,
   "metadata": {},
   "outputs": [
    {
     "data": {
      "text/markdown": [
       "### A `shiny gold` bag can be in `300` other bags"
      ],
      "text/plain": [
       "<IPython.core.display.Markdown object>"
      ]
     },
     "metadata": {},
     "output_type": "display_data"
    },
    {
     "data": {
      "text/plain": [
       "300"
      ]
     },
     "execution_count": 2,
     "metadata": {},
     "output_type": "execute_result"
    }
   ],
   "source": [
    "lp = LuggageProcessing(\"input/d07.txt\")\n",
    "lp.get_bag_host_count('shiny gold', output=True)"
   ]
  },
  {
   "cell_type": "markdown",
   "metadata": {},
   "source": [
    "## \\-\\-\\- Part Two \\-\\-\\-\n",
    "\n",
    "It's getting pretty expensive to fly these days \\- not because of ticket prices, but because of the ridiculous number of bags you need to buy!\n",
    "\n",
    "Consider again your `shiny gold` bag and the rules from the above example:\n",
    "\n",
    "*   `faded blue` bags contain `0` other bags.\n",
    "*   `dotted black` bags contain `0` other bags.\n",
    "*   `vibrant plum` bags contain `11` other bags: 5 `faded blue` bags and 6 `dotted black` bags.\n",
    "*   `dark olive` bags contain `7` other bags: 3 `faded blue` bags and 4 `dotted black` bags.\n",
    "\n",
    "So, a single `shiny gold` bag must contain 1 `dark olive` bag (and the 7 bags within it) plus 2 `vibrant plum` bags (and the 11 bags within **each** of those): `1 + 1*7 + 2 + 2*11` = **`32`** bags!\n",
    "\n",
    "Of course, the actual rules have a small chance of going several levels deeper than this example; be sure to count all of the bags, even if the nesting becomes topologically impractical!\n",
    "\n",
    "Here's another example:\n",
    "\n",
    "```\n",
    "shiny gold bags contain 2 dark red bags.\n",
    "dark red bags contain 2 dark orange bags.\n",
    "dark orange bags contain 2 dark yellow bags.\n",
    "dark yellow bags contain 2 dark green bags.\n",
    "dark green bags contain 2 dark blue bags.\n",
    "dark blue bags contain 2 dark violet bags.\n",
    "dark violet bags contain no other bags.\n",
    "\n",
    "```\n",
    "\n",
    "In this example, a single `shiny gold` bag must contain **`126`** other bags.\n",
    "\n",
    "**How many individual bags are required inside your single `shiny gold` bag?**"
   ]
  },
  {
   "cell_type": "code",
   "execution_count": 3,
   "metadata": {},
   "outputs": [
    {
     "name": "stderr",
     "output_type": "stream",
     "text": [
      ".\n",
      "----------------------------------------------------------------------\n",
      "Ran 1 test in 0.001s\n",
      "\n",
      "OK\n"
     ]
    },
    {
     "data": {
      "text/plain": [
       "<unittest.main.TestProgram at 0x7efdadf24c50>"
      ]
     },
     "execution_count": 3,
     "metadata": {},
     "output_type": "execute_result"
    }
   ],
   "source": [
    "class LuggageProcessing2(LuggageProcessing):\n",
    "    \n",
    "    debug = False\n",
    "    \n",
    "    def get_bag_count(self, target_bag, output=False):\n",
    "        \"\"\"A recursive function to get the total number of bags that will fit in the target_bag\"\"\"\n",
    "        tbag_contents = self.data[target_bag]\n",
    "        bag_count = 0\n",
    "        if tbag_contents:\n",
    "            for bag in tbag_contents:\n",
    "                num_bags = tbag_contents[bag]\n",
    "                contents = self.get_bag_count(bag)\n",
    "                if contents > 0:\n",
    "                    bag_count += num_bags * contents + num_bags\n",
    "                else:\n",
    "                    bag_count += num_bags\n",
    "                    \n",
    "            if self.debug:\n",
    "                print(f'{target_bag} is worth {bag_count} and contains {tbag_contents}')\n",
    "        \n",
    "        if output:\n",
    "            display(Markdown(f'### A `{target_bag}` is required to contain `{bag_count}` bags'))\n",
    "\n",
    "        return bag_count\n",
    "\n",
    "\n",
    "class TestBasic(unittest.TestCase):\n",
    "        \n",
    "    def test_LuggageProcessing2(self):\n",
    "        input_data = ['light red bags contain 1 bright white bag, 2 muted yellow bags.\\ndark orange bags contain 3 bright white bags, 4 muted yellow bags.\\nbright white bags contain 1 shiny gold bag.\\nmuted yellow bags contain 2 shiny gold bags, 9 faded blue bags.\\nshiny gold bags contain 1 dark olive bag, 2 vibrant plum bags.\\ndark olive bags contain 3 faded blue bags, 4 dotted black bags.\\nvibrant plum bags contain 5 faded blue bags, 6 dotted black bags.\\nfaded blue bags contain no other bags.\\ndotted black bags contain no other bags.',\n",
    "                      'shiny gold bags contain 2 dark red bags.\\ndark red bags contain 2 dark orange bags.\\ndark orange bags contain 2 dark yellow bags.\\ndark yellow bags contain 2 dark green bags.\\ndark green bags contain 2 dark blue bags.\\ndark blue bags contain 2 dark violet bags.\\ndark violet bags contain no other bags.']\n",
    "        exp_output = [32,126]\n",
    "        for in_data, exp_out in tuple(zip(input_data, exp_output)):\n",
    "            lp2 = LuggageProcessing2(in_data)\n",
    "            self.assertEqual(lp2.get_bag_count('shiny gold'), exp_out)\n",
    "        \n",
    "unittest.main(argv=[\"\"], exit=False)"
   ]
  },
  {
   "cell_type": "code",
   "execution_count": 4,
   "metadata": {},
   "outputs": [
    {
     "data": {
      "text/markdown": [
       "### A `shiny gold` is required to contain `8030` bags"
      ],
      "text/plain": [
       "<IPython.core.display.Markdown object>"
      ]
     },
     "metadata": {},
     "output_type": "display_data"
    },
    {
     "data": {
      "text/plain": [
       "8030"
      ]
     },
     "execution_count": 4,
     "metadata": {},
     "output_type": "execute_result"
    }
   ],
   "source": [
    "lp2 = LuggageProcessing2(\"input/d07.txt\")\n",
    "lp2.get_bag_count('shiny gold', output=True)"
   ]
  }
 ],
 "metadata": {
  "kernelspec": {
   "display_name": "Python 3",
   "language": "python",
   "name": "python3"
  },
  "language_info": {
   "codemirror_mode": {
    "name": "ipython",
    "version": 3
   },
   "file_extension": ".py",
   "mimetype": "text/x-python",
   "name": "python",
   "nbconvert_exporter": "python",
   "pygments_lexer": "ipython3",
   "version": "3.6.8"
  }
 },
 "nbformat": 4,
 "nbformat_minor": 2
}
