{
 "cells": [
  {
   "cell_type": "markdown",
   "metadata": {},
   "source": [
    "# [Advent of Code 2020: Day 2](https://adventofcode.com/2019/day/2)"
   ]
  },
  {
   "cell_type": "markdown",
   "metadata": {},
   "source": [
    "## \\-\\-\\- Day 2: Password Philosophy \\-\\-\\-\n",
    "\n",
    "Your flight departs in a few days from the coastal airport; the easiest way down to the coast from here is via [toboggan](https://en.wikipedia.org/wiki/Toboggan).\n",
    "\n",
    "The shopkeeper at the North Pole Toboggan Rental Shop is having a bad day. \"Something's wrong with our computers; we can't log in!\" You ask if you can take a look.\n",
    "\n",
    "Their password database seems to be a little corrupted: some of the passwords wouldn't have been allowed by the Official Toboggan Corporate Policy that was in effect when they were chosen.\n",
    "\n",
    "To try to debug the problem, they have created a list (your puzzle input) of *passwords* (according to the corrupted database) and *the corporate policy when that password was set*.\n",
    "\n",
    "For example, suppose you have the following list:\n",
    "\n",
    "```\n",
    "1-3 a: abcde\n",
    "1-3 b: cdefg\n",
    "2-9 c: ccccccccc\n",
    "\n",
    "```\n",
    "\n",
    "Each line gives the password policy and then the password. The password policy indicates the lowest and highest number of times a given letter must appear for the password to be valid. For example, `1-3 a` means that the password must contain `a` at least `1` time and at most `3` times.\n",
    "\n",
    "In the above example, **`2`** passwords are valid. The middle password, `cdefg`, is not; it contains no instances of `b`, but needs at least `1`. The first and third passwords are valid: they contain one `a` or nine `c`, both within the limits of their respective policies.\n",
    "\n",
    "*How many passwords are valid* according to their policies?"
   ]
  },
  {
   "cell_type": "code",
   "execution_count": 1,
   "metadata": {},
   "outputs": [
    {
     "name": "stderr",
     "output_type": "stream",
     "text": [
      ".\n",
      "----------------------------------------------------------------------\n",
      "Ran 1 test in 0.002s\n",
      "\n",
      "OK\n"
     ]
    },
    {
     "data": {
      "text/plain": [
       "<unittest.main.TestProgram at 0x7f15280a8908>"
      ]
     },
     "execution_count": 1,
     "metadata": {},
     "output_type": "execute_result"
    }
   ],
   "source": [
    "import os\n",
    "import re\n",
    "import unittest\n",
    "\n",
    "class Password_checker():\n",
    "    \n",
    "    def __init__(self, data = None):\n",
    "        if (data == None):\n",
    "            self.load_data()\n",
    "        else:\n",
    "            self.parse_data(data)\n",
    "            \n",
    "    def parse_data(self, data):\n",
    "        self.data = []\n",
    "        for entry in data:\n",
    "            m = re.match(r\"(\\d+)-(\\d+)\\s(\\w):\\s(\\w+)\", entry)\n",
    "            self.data.append({'pmin':int(m.group(1)),\n",
    "                              'pmax':int(m.group(2)),\n",
    "                              'char':m.group(3),\n",
    "                              'pass':m.group(4)})\n",
    "        \n",
    "    def load_data(self):\n",
    "        with open(\"input/input_d02.txt\") as file:\n",
    "            data = file.read().split('\\n')\n",
    "            self.parse_data(data)\n",
    "        \n",
    "    def is_valid(self, data):\n",
    "        count = data['pass'].count(data['char'])\n",
    "        if count >= data['pmin'] and count <= data['pmax']:\n",
    "            return True\n",
    "        else:\n",
    "            return False\n",
    "            \n",
    "    def count_valid(self):\n",
    "        valid_count = 0\n",
    "        for entry in self.data:\n",
    "            if self.is_valid(entry):\n",
    "                valid_count += 1\n",
    "        return valid_count\n",
    "        \n",
    "\n",
    "class TestBasic(unittest.TestCase):\n",
    "\n",
    "    def test_thing(self):\n",
    "        test_data = [(['1-3 a: abcde','1-3 b: cdefg','2-9 c: ccccccccc'],2)]\n",
    "        for input, expected_output in test_data:\n",
    "            pc = Password_checker(input)\n",
    "            self.assertEqual(expected_output , pc.count_valid())\n",
    "        \n",
    "        \n",
    "unittest.main(argv=[\"\"], exit=False)"
   ]
  },
  {
   "cell_type": "code",
   "execution_count": 2,
   "metadata": {},
   "outputs": [
    {
     "data": {
      "text/plain": [
       "528"
      ]
     },
     "execution_count": 2,
     "metadata": {},
     "output_type": "execute_result"
    }
   ],
   "source": [
    "pc = Password_checker()\n",
    "pc.count_valid()"
   ]
  },
  {
   "cell_type": "markdown",
   "metadata": {},
   "source": [
    "--- Part Two ---\n",
    "\n",
    "While it appears you validated the passwords correctly, they don't seem to be what the Official Toboggan Corporate Authentication System is expecting.\n",
    "\n",
    "The shopkeeper suddenly realizes that he just accidentally explained the password policy rules from his old job at the sled rental place down the street! The Official Toboggan Corporate Policy actually works a little differently.\n",
    "\n",
    "Each policy actually describes two positions in the password, where 1 means the first character, 2 means the second character, and so on. (Be careful; Toboggan Corporate Policies have no concept of \"index zero\"!) Exactly one of these positions must contain the given letter. Other occurrences of the letter are irrelevant for the purposes of policy enforcement.\n",
    "\n",
    "Given the same example list from above:\n",
    "\n",
    "    1-3 a: abcde is valid: position 1 contains a and position 3 does not.\n",
    "    1-3 b: cdefg is invalid: neither position 1 nor position 3 contains b.\n",
    "    2-9 c: ccccccccc is invalid: both position 2 and position 9 contain c.\n",
    "\n",
    "How many passwords are valid according to the new interpretation of the policies?\n"
   ]
  },
  {
   "cell_type": "code",
   "execution_count": 3,
   "metadata": {},
   "outputs": [
    {
     "name": "stderr",
     "output_type": "stream",
     "text": [
      ".\n",
      "----------------------------------------------------------------------\n",
      "Ran 1 test in 0.001s\n",
      "\n",
      "OK\n"
     ]
    },
    {
     "data": {
      "text/plain": [
       "<unittest.main.TestProgram at 0x7f1528023630>"
      ]
     },
     "execution_count": 3,
     "metadata": {},
     "output_type": "execute_result"
    }
   ],
   "source": [
    "class Password_checker2(Password_checker):\n",
    "    def is_valid(self, data):\n",
    "        check1 = (data['pass'][data['pmin']-1] == data['char'])\n",
    "        if data['pmax'] <= len(data['pass']):\n",
    "            check2 = (data['pass'][data['pmax']-1] == data['char'])\n",
    "        else:\n",
    "            check2 = False\n",
    "            \n",
    "        return check1 ^ check2\n",
    "\n",
    "class TestBasic(unittest.TestCase):\n",
    "\n",
    "    def test_thing(self):\n",
    "        test_data = [(['1-3 a: abcde','1-3 b: cdefg','2-9 c: ccccccccc'],1)]\n",
    "        for input, expected_output in test_data:\n",
    "            pc = Password_checker2(input)\n",
    "            self.assertEqual(expected_output , pc.count_valid())\n",
    "        \n",
    "        \n",
    "unittest.main(argv=[\"\"], exit=False)"
   ]
  },
  {
   "cell_type": "code",
   "execution_count": 4,
   "metadata": {},
   "outputs": [
    {
     "data": {
      "text/plain": [
       "497"
      ]
     },
     "execution_count": 4,
     "metadata": {},
     "output_type": "execute_result"
    }
   ],
   "source": [
    "pc = Password_checker2()\n",
    "pc.count_valid()"
   ]
  }
 ],
 "metadata": {
  "kernelspec": {
   "display_name": "Python 3",
   "language": "python",
   "name": "python3"
  },
  "language_info": {
   "codemirror_mode": {
    "name": "ipython",
    "version": 3
   },
   "file_extension": ".py",
   "mimetype": "text/x-python",
   "name": "python",
   "nbconvert_exporter": "python",
   "pygments_lexer": "ipython3",
   "version": "3.6.8"
  }
 },
 "nbformat": 4,
 "nbformat_minor": 2
}
