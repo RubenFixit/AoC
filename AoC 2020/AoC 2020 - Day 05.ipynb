{
 "cells": [
  {
   "cell_type": "markdown",
   "metadata": {},
   "source": [
    "# [Advent of Code 2020: Day 5](https://adventofcode.com/2019/day/5)"
   ]
  },
  {
   "cell_type": "markdown",
   "metadata": {},
   "source": [
    "## \\-\\-\\- Day 5: Binary Boarding \\-\\-\\-\n",
    "\n",
    "You board your plane only to discover a new problem: you dropped your boarding pass! You aren't sure which seat is yours, and all of the flight attendants are busy with the flood of people that suddenly made it through passport control.\n",
    "\n",
    "You write a quick program to use your phone's camera to scan all of the nearby boarding passes (your puzzle input); perhaps you can find your seat through process of elimination.\n",
    "\n",
    "Instead of [zones or groups](https://www.youtube.com/watch?v=oAHbLRjF0vo), this airline uses *binary space partitioning* to seat people. A seat might be specified like `FBFBBFFRLR`, where `F` means \"front\", `B` means \"back\", `L` means \"left\", and `R` means \"right\".\n",
    "\n",
    "The first 7 characters will either be `F` or `B`; these specify exactly one of the *128 rows* on the plane (numbered `0` through `127`). Each letter tells you which half of a region the given seat is in. Start with the whole list of rows; the first letter indicates whether the seat is in the *front* (`0` through `63`) or the *back* (`64` through `127`). The next letter indicates which half of that region the seat is in, and so on until you're left with exactly one row.\n",
    "\n",
    "For example, consider just the first seven characters of `FBFBBFFRLR`:\n",
    "\n",
    "*   Start by considering the whole range, rows `0` through `127`.\n",
    "*   `F` means to take the *lower half*, keeping rows `0` through `63`.\n",
    "*   `B` means to take the *upper half*, keeping rows `32` through `63`.\n",
    "*   `F` means to take the *lower half*, keeping rows `32` through `47`.\n",
    "*   `B` means to take the *upper half*, keeping rows `40` through `47`.\n",
    "*   `B` keeps rows `44` through `47`.\n",
    "*   `F` keeps rows `44` through `45`.\n",
    "*   The final `F` keeps the lower of the two, *row `44`*.\n",
    "\n",
    "The last three characters will be either `L` or `R`; these specify exactly one of the *8 columns* of seats on the plane (numbered `0` through `7`). The same process as above proceeds again, this time with only three steps. `L` means to keep the *lower half*, while `R` means to keep the *upper half*.\n",
    "\n",
    "For example, consider just the last 3 characters of `FBFBBFFRLR`:\n",
    "\n",
    "*   Start by considering the whole range, columns `0` through `7`.\n",
    "*   `R` means to take the *upper half*, keeping columns `4` through `7`.\n",
    "*   `L` means to take the *lower half*, keeping columns `4` through `5`.\n",
    "*   The final `R` keeps the upper of the two, *column `5`*.\n",
    "\n",
    "So, decoding `FBFBBFFRLR` reveals that it is the seat at *row `44`, column `5`*.\n",
    "\n",
    "Every seat also has a unique *seat ID*: multiply the row by 8, then add the column. In this example, the seat has ID `44 * 8 + 5 = *357*`.\n",
    "\n",
    "Here are some other boarding passes:\n",
    "\n",
    "*   `BFFFBBFRRR`: row `70`, column `7`, seat ID `567`.\n",
    "*   `FFFBBBFRRR`: row `14`, column `7`, seat ID `119`.\n",
    "*   `BBFFBBFRLL`: row `102`, column `4`, seat ID `820`.\n",
    "\n",
    "As a sanity check, look through your list of boarding passes. *What is the highest seat ID on a boarding pass?*"
   ]
  },
  {
   "cell_type": "code",
   "execution_count": 1,
   "metadata": {},
   "outputs": [
    {
     "name": "stderr",
     "output_type": "stream",
     "text": [
      ".\n",
      "----------------------------------------------------------------------\n",
      "Ran 1 test in 0.001s\n",
      "\n",
      "OK\n"
     ]
    },
    {
     "data": {
      "text/plain": [
       "<unittest.main.TestProgram at 0x7f91cc129748>"
      ]
     },
     "execution_count": 1,
     "metadata": {},
     "output_type": "execute_result"
    }
   ],
   "source": [
    "import os\n",
    "import math\n",
    "import unittest\n",
    "\n",
    "class BoardingPassScanner():\n",
    "    \n",
    "    ROWS = 128\n",
    "    COLS = 8\n",
    "    \n",
    "    def __init__(self, data = None):\n",
    "        if (data == None):\n",
    "            self.load_data()\n",
    "        else:\n",
    "            self.data = data\n",
    "        \n",
    "    def load_data(self):\n",
    "        with open(\"input/input_d05.txt\") as file:\n",
    "            raw_data = file.read()            \n",
    "        self.data = raw_data.split('\\n')\n",
    "        \n",
    "    def parse_boarding_pass(self, val):\n",
    "        \n",
    "        rows = range(self.ROWS)\n",
    "        cols = range(self.COLS)\n",
    "        for index, char in enumerate(val):\n",
    "            if index < 7:\n",
    "                if char == 'B':\n",
    "                    rows = rows[len(rows)//2:]\n",
    "                else:\n",
    "                    rows = rows[:len(rows)//2]\n",
    "            else:\n",
    "                if char == 'R':\n",
    "                    cols = cols[len(cols)//2:]\n",
    "                else:\n",
    "                    cols = cols[:len(cols)//2]\n",
    "        \n",
    "        return rows[0], cols[0]\n",
    "        \n",
    "    def get_seat_id(self, val):\n",
    "        row, col = self.parse_boarding_pass(val)\n",
    "        return row * 8 + col\n",
    "            \n",
    "    def get_highest_seat_id(self):\n",
    "        max_id = 0\n",
    "        for boarding_pass in self.data:\n",
    "            seat_id = self.get_seat_id(boarding_pass)\n",
    "            if seat_id > max_id:\n",
    "                max_id = seat_id\n",
    "        return max_id\n",
    "    \n",
    "    def run(self):\n",
    "        full_seat_ids = []\n",
    "        for boarding_pass in self.data:\n",
    "            full_seat_ids.append(self.get_seat_id(boarding_pass))\n",
    "        \n",
    "        full_seat_ids.sort()\n",
    "        for seat_id in full_seat_ids:\n",
    "            if seat_id+1 not in full_seat_ids:\n",
    "                return seat_id+1\n",
    "\n",
    "class TestBasic(unittest.TestCase):\n",
    "\n",
    "    def test_thing(self):\n",
    "        test_data = [('FBFBBFFRLR',357),('BFFFBBFRRR',567),('FFFBBBFRRR',119),('BBFFBBFRLL',820)]\n",
    "        for input, expected_output in test_data:\n",
    "            bps = BoardingPassScanner([])\n",
    "            self.assertEqual(expected_output , bps.get_seat_id(input))\n",
    "        \n",
    "        \n",
    "unittest.main(argv=[\"\"], exit=False)"
   ]
  },
  {
   "cell_type": "code",
   "execution_count": 2,
   "metadata": {},
   "outputs": [
    {
     "data": {
      "text/plain": [
       "998"
      ]
     },
     "execution_count": 2,
     "metadata": {},
     "output_type": "execute_result"
    }
   ],
   "source": [
    "bps = BoardingPassScanner()\n",
    "bps.get_highest_seat_id()"
   ]
  },
  {
   "cell_type": "markdown",
   "metadata": {},
   "source": [
    "## \\-\\-\\- Part Two \\-\\-\\-\n",
    "\n",
    "**Ding!** The \"fasten seat belt\" signs have turned on. Time to find your seat.\n",
    "\n",
    "It's a completely full flight, so your seat should be the only missing boarding pass in your list. However, there's a catch: some of the seats at the very front and back of the plane don't exist on this aircraft, so they'll be missing from your list as well.\n",
    "\n",
    "Your seat wasn't at the very front or back, though; the seats with IDs +1 and \\-1 from yours will be in your list.\n",
    "\n",
    "**What is the ID of your seat?**"
   ]
  },
  {
   "cell_type": "code",
   "execution_count": 3,
   "metadata": {},
   "outputs": [
    {
     "name": "stdout",
     "output_type": "stream",
     "text": [
      "My seat ID is: 676\n"
     ]
    }
   ],
   "source": [
    "bps = BoardingPassScanner()\n",
    "print(f'My seat ID is: {bps.run()}')"
   ]
  }
 ],
 "metadata": {
  "kernelspec": {
   "display_name": "Python 3",
   "language": "python",
   "name": "python3"
  },
  "language_info": {
   "codemirror_mode": {
    "name": "ipython",
    "version": 3
   },
   "file_extension": ".py",
   "mimetype": "text/x-python",
   "name": "python",
   "nbconvert_exporter": "python",
   "pygments_lexer": "ipython3",
   "version": "3.6.8"
  }
 },
 "nbformat": 4,
 "nbformat_minor": 2
}
