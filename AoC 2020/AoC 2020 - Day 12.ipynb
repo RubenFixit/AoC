{
 "cells": [
  {
   "cell_type": "markdown",
   "metadata": {},
   "source": [
    "# [Advent of Code 2020: Day 12](https://adventofcode.com/2020/day/12)"
   ]
  },
  {
   "cell_type": "markdown",
   "metadata": {},
   "source": [
    "## --- Day 12: Rain Risk ---\n",
    "\n",
    "Your ferry made decent progress toward the island, but the storm came in faster than anyone expected. The ferry needs to take **evasive actions**!\n",
    "\n",
    "Unfortunately, the ship's navigation computer seems to be malfunctioning; rather than giving a route directly to safety, it produced extremely circuitous instructions. When the captain uses the [PA system](https://en.wikipedia.org/wiki/Public_address_system) to ask if anyone can help, you quickly volunteer.\n",
    "\n",
    "The navigation instructions (your puzzle input) consists of a sequence of single-character **actions** paired with integer input **values**. After staring at them for a few minutes, you work out what they probably mean:\n",
    "\n",
    "*   Action **`N`** means to move **north** by the given value.\n",
    "*   Action **`S`** means to move **south** by the given value.\n",
    "*   Action **`E`** means to move **east** by the given value.\n",
    "*   Action **`W`** means to move **west** by the given value.\n",
    "*   Action **`L`** means to turn **left** the given number of degrees.\n",
    "*   Action **`R`** means to turn **right** the given number of degrees.\n",
    "*   Action **`F`** means to move **forward** by the given value in the direction the ship is currently facing.\n",
    "\n",
    "The ship starts by facing **east**. Only the `L` and `R` actions change the direction the ship is facing. (That is, if the ship is facing east and the next instruction is `N10`, the ship would move north 10 units, but would still move east if the following action were `F`.)\n",
    "\n",
    "For example:\n",
    "\n",
    "```\n",
    "F10\n",
    "N3\n",
    "F7\n",
    "R90\n",
    "F11\n",
    "\n",
    "```\n",
    "\n",
    "These instructions would be handled as follows:\n",
    "\n",
    "*   `F10` would move the ship 10 units east (because the ship starts by facing east) to **east 10, north 0**.\n",
    "*   `N3` would move the ship 3 units north to **east 10, north 3**.\n",
    "*   `F7` would move the ship another 7 units east (because the ship is still facing east) to **east 17, north 3**.\n",
    "*   `R90` would cause the ship to turn right by 90 degrees and face **south**; it remains at **east 17, north 3**.\n",
    "*   `F11` would move the ship 11 units south to **east 17, south 8**.\n",
    "\n",
    "At the end of these instructions, the ship's [Manhattan distance](https://en.wikipedia.org/wiki/Manhattan_distance) (sum of the absolute values of its east/west position and its north/south position) from its starting position is `17 + 8` = **`25`**.\n",
    "\n",
    "Figure out where the navigation instructions lead. **What is the Manhattan distance between that location and the ship's starting position?**"
   ]
  },
  {
   "cell_type": "code",
   "execution_count": 1,
   "metadata": {},
   "outputs": [
    {
     "name": "stderr",
     "output_type": "stream",
     "text": [
      ".."
     ]
    },
    {
     "name": "stdout",
     "output_type": "stream",
     "text": [
      "Action: ('F', 10)\n",
      "Pos: (10, 0)\n",
      "\n",
      "Action: ('N', 3)\n",
      "Pos: (10, 3)\n",
      "\n",
      "Action: ('F', 7)\n",
      "Pos: (17, 3)\n",
      "\n",
      "Action: ('R', 90)\n",
      "Pos: (17, 3)\n",
      "\n",
      "Action: ('F', 11)\n",
      "Pos: (17, -8)\n",
      "\n"
     ]
    },
    {
     "name": "stderr",
     "output_type": "stream",
     "text": [
      "\n",
      "----------------------------------------------------------------------\n",
      "Ran 2 tests in 0.004s\n",
      "\n",
      "OK\n"
     ]
    },
    {
     "data": {
      "text/plain": [
       "<unittest.main.TestProgram at 0x7f076c044240>"
      ]
     },
     "execution_count": 1,
     "metadata": {},
     "output_type": "execute_result"
    }
   ],
   "source": [
    "import unittest\n",
    "import re\n",
    "from IPython.display import Markdown, display\n",
    "\n",
    "from aoc_puzzle import AocPuzzle\n",
    "\n",
    "class FerryNav(AocPuzzle):\n",
    "    \n",
    "    def parse_data(self, raw_data):\n",
    "        data_lines = raw_data.split('\\n')\n",
    "        self.data = []\n",
    "        for line in data_lines:\n",
    "            m = re.match('(\\w)(\\d+)', line)\n",
    "            self.data.append((m.group(1), int(m.group(2))))\n",
    "        \n",
    "        self.NORTH = 'N'\n",
    "        self.SOUTH = 'S'\n",
    "        self.EAST = 'E'\n",
    "        self.WEST = 'W'\n",
    "        self.TURN_LEFT = 'L'\n",
    "        self.TURN_RIGHT = 'R'\n",
    "        self.GO_FORWARD = 'F'\n",
    "        \n",
    "        self.HEADING_LIST = ['N','E','S','W']\n",
    "        self.DEGREES_PER_HEADING = 90\n",
    "        \n",
    "        self.start_pos = (0,0)\n",
    "        self.pos = self.start_pos\n",
    "        self.heading = self.EAST\n",
    "        \n",
    "    def change_heading(self, val):\n",
    "        start_index = self.HEADING_LIST.index(self.heading)\n",
    "        \n",
    "        hchange = val // self.DEGREES_PER_HEADING\n",
    "        \n",
    "        hindex = (start_index + hchange) % len(self.HEADING_LIST)\n",
    "        \n",
    "        self.heading = self.HEADING_LIST[hindex]      \n",
    "        \n",
    "    def do_action(self, action):\n",
    "        move, val = action\n",
    "        \n",
    "        if move == self.GO_FORWARD:\n",
    "            move = self.heading\n",
    "        \n",
    "        lat, lon = self.pos\n",
    "        if move == self.NORTH:\n",
    "            lon += val\n",
    "        elif move == self.SOUTH:\n",
    "            lon -= val\n",
    "        elif move == self.EAST:\n",
    "            lat += val\n",
    "        elif move == self.WEST:\n",
    "            lat -= val\n",
    "        elif move == self.TURN_LEFT:\n",
    "            self.change_heading(-val)\n",
    "        elif move == self.TURN_RIGHT:\n",
    "            self.change_heading(val)\n",
    "        else:\n",
    "            raise f'Unknown Action: {action}'\n",
    "            \n",
    "        self.pos = (lat,lon)\n",
    "            \n",
    "    def run(self, output=False, debug=False):\n",
    "        \n",
    "        self.debug = debug\n",
    "        \n",
    "        for action in self.data:\n",
    "            if debug: print(f'Action: {action}')\n",
    "            self.do_action(action)\n",
    "            if debug: print(f'Pos: {self.pos}\\n')\n",
    "                \n",
    "        lat, lon = self.pos\n",
    "        \n",
    "        result = abs(lat) + abs(lon)\n",
    "        \n",
    "        if output:\n",
    "            display(Markdown(f'### Manhattan distance traveled: `{result}`'))            \n",
    "        return result\n",
    "        \n",
    "\n",
    "class TestBasic(unittest.TestCase):\n",
    "\n",
    "    def test_parse_data(self):\n",
    "        in_data = 'F10\\nN3\\nF7\\nR90\\nF11'\n",
    "        exp_out = [('F',10),('N',3),('F',7),('R',90),('F',11)]\n",
    "        fn = FerryNav(in_data)\n",
    "        self.assertEqual(fn.data, exp_out)\n",
    "        \n",
    "    def test_ferry_nav(self):\n",
    "        in_data = 'F10\\nN3\\nF7\\nR90\\nF11'\n",
    "        exp_out = 25\n",
    "        fn = FerryNav(in_data)\n",
    "        self.assertEqual(fn.run(debug=True), exp_out)\n",
    "        \n",
    "unittest.main(argv=[\"\"], exit=False)"
   ]
  },
  {
   "cell_type": "code",
   "execution_count": 2,
   "metadata": {},
   "outputs": [
    {
     "data": {
      "text/markdown": [
       "### Manhattan distance traveled: `904`"
      ],
      "text/plain": [
       "<IPython.core.display.Markdown object>"
      ]
     },
     "metadata": {},
     "output_type": "display_data"
    },
    {
     "data": {
      "text/plain": [
       "904"
      ]
     },
     "execution_count": 2,
     "metadata": {},
     "output_type": "execute_result"
    }
   ],
   "source": [
    "fn = FerryNav(\"input/d12.txt\")\n",
    "fn.run(output=True)"
   ]
  },
  {
   "cell_type": "markdown",
   "metadata": {},
   "source": [
    "## --- Part Two ---\n",
    "\n",
    "Before you can give the destination to the captain, you realize that the actual action meanings were printed on the back of the instructions the whole time.\n",
    "\n",
    "Almost all of the actions indicate how to move a **waypoint** which is relative to the ship's position:\n",
    "\n",
    "*   Action **`N`** means to move the waypoint **north** by the given value.\n",
    "*   Action **`S`** means to move the waypoint **south** by the given value.\n",
    "*   Action **`E`** means to move the waypoint **east** by the given value.\n",
    "*   Action **`W`** means to move the waypoint **west** by the given value.\n",
    "*   Action **`L`** means to rotate the waypoint around the ship **left** (**counter-clockwise**) the given number of degrees.\n",
    "*   Action **`R`** means to rotate the waypoint around the ship **right** (**clockwise**) the given number of degrees.\n",
    "*   Action **`F`** means to move **forward** to the waypoint a number of times equal to the given value.\n",
    "\n",
    "The waypoint starts **10 units east and 1 unit north** relative to the ship. The waypoint is relative to the ship; that is, if the ship moves, the waypoint moves with it.\n",
    "\n",
    "For example, using the same instructions as above:\n",
    "\n",
    "*   `F10` moves the ship to the waypoint 10 times (a total of **100 units east and 10 units north**), leaving the ship at **east 100, north 10**. The waypoint stays 10 units east and 1 unit north of the ship.\n",
    "*   `N3` moves the waypoint 3 units north to **10 units east and 4 units north of the ship**. The ship remains at **east 100, north 10**.\n",
    "*   `F7` moves the ship to the waypoint 7 times (a total of **70 units east and 28 units north**), leaving the ship at **east 170, north 38**. The waypoint stays 10 units east and 4 units north of the ship.\n",
    "*   `R90` rotates the waypoint around the ship clockwise 90 degrees, moving it to **4 units east and 10 units south of the ship**. The ship remains at **east 170, north 38**.\n",
    "*   `F11` moves the ship to the waypoint 11 times (a total of **44 units east and 110 units south**), leaving the ship at **east 214, south 72**. The waypoint stays 4 units east and 10 units south of the ship.\n",
    "\n",
    "After these operations, the ship's Manhattan distance from its starting position is `214 + 72` = **`286`**.\n",
    "\n",
    "Figure out where the navigation instructions actually lead. **What is the Manhattan distance between that location and the ship's starting position?**"
   ]
  },
  {
   "cell_type": "code",
   "execution_count": 3,
   "metadata": {},
   "outputs": [
    {
     "name": "stderr",
     "output_type": "stream",
     "text": [
      "."
     ]
    },
    {
     "name": "stdout",
     "output_type": "stream",
     "text": [
      "Action: ('F', 10)\n",
      "Pos: (100, 10)\n",
      "\n",
      "Action: ('N', 3)\n",
      "Waypoint: (10, 4)\n",
      "Pos: (100, 10)\n",
      "\n",
      "Action: ('F', 7)\n",
      "Pos: (170, 38)\n",
      "\n",
      "Action: ('R', 90)\n",
      "Waypoint: (4, -10)\n",
      "Pos: (170, 38)\n",
      "\n",
      "Action: ('F', 11)\n",
      "Pos: (214, -72)\n",
      "\n"
     ]
    },
    {
     "name": "stderr",
     "output_type": "stream",
     "text": [
      "\n",
      "----------------------------------------------------------------------\n",
      "Ran 1 test in 0.004s\n",
      "\n",
      "OK\n"
     ]
    },
    {
     "data": {
      "text/plain": [
       "<unittest.main.TestProgram at 0x7f076c06eef0>"
      ]
     },
     "execution_count": 3,
     "metadata": {},
     "output_type": "execute_result"
    }
   ],
   "source": [
    "class FerryNav2(FerryNav):\n",
    "    waypoint = (10,1)\n",
    "    \n",
    "    def do_move(self, mag):\n",
    "        lat, lon = self.pos\n",
    "        wp_lat, wp_lon = self.waypoint\n",
    "        \n",
    "        lat += wp_lat * mag\n",
    "        lon += wp_lon * mag\n",
    "        self.pos = (lat, lon)\n",
    "        \n",
    "    def rotate_waypoint(self, val):\n",
    "        lat, lon = self.waypoint\n",
    "        \n",
    "        hchange = abs(val) // self.DEGREES_PER_HEADING\n",
    "        if val > 0:\n",
    "            for _ in range(hchange):\n",
    "                lat, lon = lon, -lat\n",
    "        else:\n",
    "            for _ in range(hchange):\n",
    "                lat, lon = -lon, lat\n",
    "                \n",
    "        return (lat, lon)\n",
    "    \n",
    "    def do_action(self, action):\n",
    "        move, val = action\n",
    "        \n",
    "        if move == self.GO_FORWARD:\n",
    "            self.do_move(val)\n",
    "            return\n",
    "        \n",
    "        lat, lon = self.waypoint\n",
    "        if move == self.NORTH:\n",
    "            lon += val\n",
    "        elif move == self.SOUTH:\n",
    "            lon -= val\n",
    "        elif move == self.EAST:\n",
    "            lat += val\n",
    "        elif move == self.WEST:\n",
    "            lat -= val\n",
    "        elif move == self.TURN_LEFT:\n",
    "            lat, lon = self.rotate_waypoint(-val)\n",
    "        elif move == self.TURN_RIGHT:\n",
    "            lat, lon = self.rotate_waypoint(val)\n",
    "        else:\n",
    "            raise f'Unknown Action: {action}'\n",
    "            \n",
    "        self.waypoint = (lat,lon)\n",
    "        if self.debug: print(f'Waypoint: {self.waypoint}')\n",
    "\n",
    "\n",
    "class TestBasic(unittest.TestCase):\n",
    "        \n",
    "    def test_ferry_nav2(self):\n",
    "        in_data = 'F10\\nN3\\nF7\\nR90\\nF11'\n",
    "        exp_out = 286\n",
    "        fn = FerryNav2(in_data)\n",
    "        self.assertEqual(fn.run(debug=True), exp_out)\n",
    "        \n",
    "unittest.main(argv=[\"\"], exit=False)"
   ]
  },
  {
   "cell_type": "code",
   "execution_count": 4,
   "metadata": {},
   "outputs": [
    {
     "data": {
      "text/markdown": [
       "### Manhattan distance traveled: `18747`"
      ],
      "text/plain": [
       "<IPython.core.display.Markdown object>"
      ]
     },
     "metadata": {},
     "output_type": "display_data"
    },
    {
     "data": {
      "text/plain": [
       "18747"
      ]
     },
     "execution_count": 4,
     "metadata": {},
     "output_type": "execute_result"
    }
   ],
   "source": [
    "fn = FerryNav2(\"input/d12.txt\")\n",
    "fn.run(output=True)"
   ]
  }
 ],
 "metadata": {
  "kernelspec": {
   "display_name": "Python 3",
   "language": "python",
   "name": "python3"
  },
  "language_info": {
   "codemirror_mode": {
    "name": "ipython",
    "version": 3
   },
   "file_extension": ".py",
   "mimetype": "text/x-python",
   "name": "python",
   "nbconvert_exporter": "python",
   "pygments_lexer": "ipython3",
   "version": "3.6.8"
  }
 },
 "nbformat": 4,
 "nbformat_minor": 2
}
