{
 "cells": [
  {
   "cell_type": "markdown",
   "metadata": {},
   "source": [
    "# [Advent of Code 2020: Day 6](https://adventofcode.com/2020/day/6)"
   ]
  },
  {
   "cell_type": "markdown",
   "metadata": {},
   "source": [
    "## \\-\\-\\- Day 6: Custom Customs \\-\\-\\-\n",
    "\n",
    "As your flight approaches the regional airport where you'll switch to a much larger plane, [customs declaration forms](https://en.wikipedia.org/wiki/Customs_declaration) are distributed to the passengers.\n",
    "\n",
    "The form asks a series of 26 yes\\-or\\-no questions marked `a` through `z`. All you need to do is identify the questions for which **anyone in your group** answers \"yes\". Since your group is just you, this doesn't take very long.\n",
    "\n",
    "However, the person sitting next to you seems to be experiencing a language barrier and asks if you can help. For each of the people in their group, you write down the questions for which they answer \"yes\", one per line. For example:\n",
    "\n",
    "```\n",
    "abcx\n",
    "abcy\n",
    "abcz\n",
    "\n",
    "```\n",
    "\n",
    "In this group, there are **`6`** questions to which anyone answered \"yes\": `a`, `b`, `c`, `x`, `y`, and `z`. (Duplicate answers to the same question don't count extra; each question counts at most once.)\n",
    "\n",
    "Another group asks for your help, then another, and eventually you've collected answers from every group on the plane (your puzzle input). Each group's answers are separated by a blank line, and within each group, each person's answers are on a single line. For example:\n",
    "\n",
    "```\n",
    "abc\n",
    "\n",
    "a\n",
    "b\n",
    "c\n",
    "\n",
    "ab\n",
    "ac\n",
    "\n",
    "a\n",
    "a\n",
    "a\n",
    "a\n",
    "\n",
    "b\n",
    "\n",
    "```\n",
    "\n",
    "This list represents answers from five groups:\n",
    "\n",
    "*   The first group contains one person who answered \"yes\" to **`3`** questions: `a`, `b`, and `c`.\n",
    "*   The second group contains three people; combined, they answered \"yes\" to **`3`** questions: `a`, `b`, and `c`.\n",
    "*   The third group contains two people; combined, they answered \"yes\" to **`3`** questions: `a`, `b`, and `c`.\n",
    "*   The fourth group contains four people; combined, they answered \"yes\" to only **`1`** question, `a`.\n",
    "*   The last group contains one person who answered \"yes\" to only **`1`** question, `b`.\n",
    "\n",
    "In this example, the sum of these counts is `3 + 3 + 3 + 1 + 1` = **`11`**.\n",
    "\n",
    "For each group, count the number of questions to which anyone answered \"yes\". **What is the sum of those counts?**"
   ]
  },
  {
   "cell_type": "code",
   "execution_count": 1,
   "metadata": {},
   "outputs": [
    {
     "name": "stderr",
     "output_type": "stream",
     "text": [
      "..\n",
      "----------------------------------------------------------------------\n",
      "Ran 2 tests in 0.002s\n",
      "\n",
      "OK\n"
     ]
    },
    {
     "data": {
      "text/plain": [
       "<unittest.main.TestProgram at 0x7fc9381f1b70>"
      ]
     },
     "execution_count": 1,
     "metadata": {},
     "output_type": "execute_result"
    }
   ],
   "source": [
    "import unittest\n",
    "import re\n",
    "from IPython.display import Markdown, display\n",
    "\n",
    "from aoc_puzzle import AocPuzzle\n",
    "\n",
    "class Questionnaire(AocPuzzle):\n",
    "    \n",
    "    def parse_data(self, raw_data):\n",
    "        clean_data = re.sub(\"\\n\\n\",\",\", raw_data)\n",
    "        self.data = clean_data.split(',')\n",
    "            \n",
    "    def run(self, output=False):\n",
    "        ans_sum = 0\n",
    "        for group_ans in self.data:\n",
    "            # Combine all answers in a group in a single line\n",
    "            group_ans = re.sub(\"\\n\",\"\", group_ans)\n",
    "            # When converting to a set all duplicate values are ignored\n",
    "            ans_sum += len(set(group_ans))\n",
    "        if output:\n",
    "            display(Markdown(f'### The are `{ans_sum}` questions to which anyone answered yes to.'))\n",
    "        return ans_sum\n",
    "        \n",
    "\n",
    "class TestBasic(unittest.TestCase):\n",
    "\n",
    "    def test_parse_data(self):\n",
    "        in_data = 'abc\\n\\na\\nb\\nc\\n\\nab\\nac\\n\\na\\na\\na\\na\\n\\nb'\n",
    "        exp_out = ['abc', 'a\\nb\\nc', 'ab\\nac', 'a\\na\\na\\na', 'b']\n",
    "        q = Questionnaire(in_data)\n",
    "        self.assertEqual(q.data, exp_out)\n",
    "        \n",
    "    def test_puzzle(self):\n",
    "        in_data = 'abc\\n\\na\\nb\\nc\\n\\nab\\nac\\n\\na\\na\\na\\na\\n\\nb'\n",
    "        exp_out = 11\n",
    "        q = Questionnaire(in_data)\n",
    "        self.assertEqual(q.run(), exp_out)\n",
    "        \n",
    "unittest.main(argv=[\"\"], exit=False)"
   ]
  },
  {
   "cell_type": "code",
   "execution_count": 2,
   "metadata": {},
   "outputs": [
    {
     "data": {
      "text/markdown": [
       "### The are `6530` questions to which anyone answered yes to."
      ],
      "text/plain": [
       "<IPython.core.display.Markdown object>"
      ]
     },
     "metadata": {},
     "output_type": "display_data"
    },
    {
     "data": {
      "text/plain": [
       "6530"
      ]
     },
     "execution_count": 2,
     "metadata": {},
     "output_type": "execute_result"
    }
   ],
   "source": [
    "q = Questionnaire(\"input/d06.txt\")\n",
    "q.run(output=True)"
   ]
  },
  {
   "cell_type": "markdown",
   "metadata": {},
   "source": [
    "## \\-\\-\\- Part Two \\-\\-\\-\n",
    "\n",
    "As you finish the last group's customs declaration, you notice that you misread one word in the instructions:\n",
    "\n",
    "You don't need to identify the questions to which **anyone** answered \"yes\"; you need to identify the questions to which **everyone** answered \"yes\"!\n",
    "\n",
    "Using the same example as above:\n",
    "\n",
    "```\n",
    "abc\n",
    "\n",
    "a\n",
    "b\n",
    "c\n",
    "\n",
    "ab\n",
    "ac\n",
    "\n",
    "a\n",
    "a\n",
    "a\n",
    "a\n",
    "\n",
    "b\n",
    "\n",
    "```\n",
    "\n",
    "This list represents answers from five groups:\n",
    "\n",
    "*   In the first group, everyone (all 1 person) answered \"yes\" to **`3`** questions: `a`, `b`, and `c`.\n",
    "*   In the second group, there is **no** question to which everyone answered \"yes\".\n",
    "*   In the third group, everyone answered yes to only **`1`** question, `a`. Since some people did not answer \"yes\" to `b` or `c`, they don't count.\n",
    "*   In the fourth group, everyone answered yes to only **`1`** question, `a`.\n",
    "*   In the fifth group, everyone (all 1 person) answered \"yes\" to **`1`** question, `b`.\n",
    "\n",
    "In this example, the sum of these counts is `3 + 0 + 1 + 1 + 1` = **`6`**.\n",
    "\n",
    "For each group, count the number of questions to which *everyone* answered \"yes\". **What is the sum of those counts?**"
   ]
  },
  {
   "cell_type": "code",
   "execution_count": 3,
   "metadata": {},
   "outputs": [
    {
     "name": "stderr",
     "output_type": "stream",
     "text": [
      ".\n",
      "----------------------------------------------------------------------\n",
      "Ran 1 test in 0.001s\n",
      "\n",
      "OK\n"
     ]
    },
    {
     "data": {
      "text/plain": [
       "<unittest.main.TestProgram at 0x7fc9381f16a0>"
      ]
     },
     "execution_count": 3,
     "metadata": {},
     "output_type": "execute_result"
    }
   ],
   "source": [
    "class Questionnaire2(Questionnaire):\n",
    "            \n",
    "    def run(self, output=False):\n",
    "        ans_sum = 0\n",
    "        total = 0\n",
    "        for group in self.data:\n",
    "            # For each group, tally all answers\n",
    "            # In other words, count the number of times each answer was answered yes to\n",
    "            group_ans_list = group.split('\\n')\n",
    "            group_size = len(group_ans_list)\n",
    "            gans = {}\n",
    "            for ans_list in group_ans_list:\n",
    "                for ans in ans_list:\n",
    "                    if ans in gans:\n",
    "                        gans[ans] += 1\n",
    "                    else:\n",
    "                        gans[ans] = 1\n",
    "            # Now that all answers are tallied sum the answers that everyone answered yes to\n",
    "            for ans in gans:\n",
    "                if gans[ans] == group_size:\n",
    "                    ans_sum += 1\n",
    "                total += group_size\n",
    "            \n",
    "        if output:\n",
    "            display(Markdown(f'### The are `{ans_sum}` questions out of `{total}` to which everyone answered yes to.'))\n",
    "            \n",
    "        return ans_sum\n",
    "        \n",
    "\n",
    "class TestBasic(unittest.TestCase):\n",
    "        \n",
    "    def test_puzzle(self):\n",
    "        in_data = 'abc\\n\\na\\nb\\nc\\n\\nab\\nac\\n\\na\\na\\na\\na\\n\\nb'\n",
    "        exp_out = 6\n",
    "        q = Questionnaire2(in_data)\n",
    "        self.assertEqual(q.run(), exp_out)\n",
    "        \n",
    "unittest.main(argv=[\"\"], exit=False)"
   ]
  },
  {
   "cell_type": "code",
   "execution_count": 4,
   "metadata": {},
   "outputs": [
    {
     "data": {
      "text/markdown": [
       "### The are `3323` questions out of `23104` to which everyone answered yes to."
      ],
      "text/plain": [
       "<IPython.core.display.Markdown object>"
      ]
     },
     "metadata": {},
     "output_type": "display_data"
    },
    {
     "data": {
      "text/plain": [
       "3323"
      ]
     },
     "execution_count": 4,
     "metadata": {},
     "output_type": "execute_result"
    }
   ],
   "source": [
    "q = Questionnaire2(\"input/d06.txt\")\n",
    "q.run(output=True)"
   ]
  }
 ],
 "metadata": {
  "kernelspec": {
   "display_name": "Python 3",
   "language": "python",
   "name": "python3"
  },
  "language_info": {
   "codemirror_mode": {
    "name": "ipython",
    "version": 3
   },
   "file_extension": ".py",
   "mimetype": "text/x-python",
   "name": "python",
   "nbconvert_exporter": "python",
   "pygments_lexer": "ipython3",
   "version": "3.6.8"
  }
 },
 "nbformat": 4,
 "nbformat_minor": 2
}
