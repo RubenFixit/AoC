{
 "cells": [
  {
   "cell_type": "markdown",
   "metadata": {},
   "source": [
    "# [Advent of Code 2020: Day 3](https://adventofcode.com/2020/day/3)"
   ]
  },
  {
   "cell_type": "markdown",
   "metadata": {},
   "source": [
    "## \\-\\-\\- Day 3: Toboggan Trajectory \\-\\-\\-\n",
    "\n",
    "With the toboggan login problems resolved, you set off toward the airport. While travel by toboggan might be easy, it's certainly not safe: there's very minimal steering and the area is covered in trees. You'll need to see which angles will take you near the fewest trees.\n",
    "\n",
    "Due to the local geology, trees in this area only grow on exact integer coordinates in a grid. You make a map (your puzzle input) of the open squares (`.`) and trees (`#`) you can see. For example:\n",
    "\n",
    "```\n",
    "..##.......\n",
    "#...#...#..\n",
    ".#....#..#.\n",
    "..#.#...#.#\n",
    ".#...##..#.\n",
    "..#.##.....\n",
    ".#.#.#....#\n",
    ".#........#\n",
    "#.##...#...\n",
    "#...##....#\n",
    ".#..#...#.#\n",
    "\n",
    "```\n",
    "\n",
    "These aren't the only trees, though; due to something you read about once involving arboreal genetics and biome stability, the same pattern repeats to the right many times:\n",
    "\n",
    "```\n",
    "..##.........##.........##.........##.........##.........##.......  --->\n",
    "#...#...#..#...#...#..#...#...#..#...#...#..#...#...#..#...#...#..\n",
    ".#....#..#..#....#..#..#....#..#..#....#..#..#....#..#..#....#..#.\n",
    "..#.#...#.#..#.#...#.#..#.#...#.#..#.#...#.#..#.#...#.#..#.#...#.#\n",
    ".#...##..#..#...##..#..#...##..#..#...##..#..#...##..#..#...##..#.\n",
    "..#.##.......#.##.......#.##.......#.##.......#.##.......#.##.....  --->\n",
    ".#.#.#....#.#.#.#....#.#.#.#....#.#.#.#....#.#.#.#....#.#.#.#....#\n",
    ".#........#.#........#.#........#.#........#.#........#.#........#\n",
    "#.##...#...#.##...#...#.##...#...#.##...#...#.##...#...#.##...#...\n",
    "#...##....##...##....##...##....##...##....##...##....##...##....#\n",
    ".#..#...#.#.#..#...#.#.#..#...#.#.#..#...#.#.#..#...#.#.#..#...#.#  --->\n",
    "\n",
    "```\n",
    "\n",
    "You start on the open square (`.`) in the top\\-left corner and need to reach the bottom (below the bottom\\-most row on your map).\n",
    "\n",
    "The toboggan can only follow a few specific slopes (you opted for a cheaper model that prefers rational numbers); start by **counting all the trees** you would encounter for the slope **right 3, down 1**:\n",
    "\n",
    "From your starting position at the top\\-left, check the position that is right 3 and down 1. Then, check the position that is right 3 and down 1 from there, and so on until you go past the bottom of the map.\n",
    "\n",
    "The locations you'd check in the above example are marked here with **`O`** where there was an open square and **`X`** where there was a tree:\n",
    "\n",
    "```\n",
    "..##.........##.........##.........##.........##.........##.......  --->\n",
    "#..O#...#..#...#...#..#...#...#..#...#...#..#...#...#..#...#...#..\n",
    ".#....X..#..#....#..#..#....#..#..#....#..#..#....#..#..#....#..#.\n",
    "..#.#...#O#..#.#...#.#..#.#...#.#..#.#...#.#..#.#...#.#..#.#...#.#\n",
    ".#...##..#..X...##..#..#...##..#..#...##..#..#...##..#..#...##..#.\n",
    "..#.##.......#.X#.......#.##.......#.##.......#.##.......#.##.....  --->\n",
    ".#.#.#....#.#.#.#.O..#.#.#.#....#.#.#.#....#.#.#.#....#.#.#.#....#\n",
    ".#........#.#........X.#........#.#........#.#........#.#........#\n",
    "#.##...#...#.##...#...#.X#...#...#.##...#...#.##...#...#.##...#...\n",
    "#...##....##...##....##...#X....##...##....##...##....##...##....#\n",
    ".#..#...#.#.#..#...#.#.#..#...X.#.#..#...#.#.#..#...#.#.#..#...#.#  --->\n",
    "\n",
    "```\n",
    "\n",
    "In this example, traversing the map using this slope would cause you to encounter **`7`** trees.\n",
    "\n",
    "Starting at the top\\-left corner of your map and following a slope of right 3 and down 1, **how many trees would you encounter?**"
   ]
  },
  {
   "cell_type": "code",
   "execution_count": 1,
   "metadata": {},
   "outputs": [
    {
     "name": "stderr",
     "output_type": "stream",
     "text": [
      "...\n",
      "----------------------------------------------------------------------\n",
      "Ran 3 tests in 0.003s\n",
      "\n",
      "OK\n"
     ]
    },
    {
     "data": {
      "text/plain": [
       "<unittest.main.TestProgram at 0x7f7944306898>"
      ]
     },
     "execution_count": 1,
     "metadata": {},
     "output_type": "execute_result"
    }
   ],
   "source": [
    "import unittest\n",
    "from IPython.display import Markdown, display\n",
    "\n",
    "from aoc_puzzle import AocPuzzle\n",
    "\n",
    "class TreeMap(AocPuzzle):\n",
    "    \n",
    "    EMPTY = '.'\n",
    "    TREE = '#'\n",
    "    NEWLINE = \"\\n\"\n",
    "    start_coord = (0,0)\n",
    "        \n",
    "    def parse_data(self, raw_data):\n",
    "        x = 0\n",
    "        y = 0\n",
    "        self.data = []\n",
    "        for point in raw_data:\n",
    "            if point is self.TREE:\n",
    "                self.data.append((x,y))\n",
    "                \n",
    "            if point is self.NEWLINE:\n",
    "                y += 1\n",
    "                x = 0\n",
    "            else:\n",
    "                x +=1\n",
    "        \n",
    "        self.width = x + 1\n",
    "        self.height = y + 1\n",
    "    \n",
    "    def incriment_coord(self, coord, step):\n",
    "        x,y = coord\n",
    "        xstep, ystep = step\n",
    "        return (x+xstep, y+ystep)\n",
    "    \n",
    "    def is_tree(self, coord):\n",
    "        \"\"\" Does a tree exist at the given coordinate \"\"\"\n",
    "        x,y = coord\n",
    "        \n",
    "        # Since the tree pattern repeats on the x axis\n",
    "        # we must ensure x will always be a valid value\n",
    "        x = x % (self.width - 1)\n",
    "        \n",
    "        if y > self.height:\n",
    "            raise Exception(f'Coordinate {coord} is off grid')\n",
    "            \n",
    "        return ((x,y) in self.data)\n",
    "    \n",
    "    def count_trees(self, slope, output=False):\n",
    "        coord = self.start_coord\n",
    "        count = 0\n",
    "        \n",
    "        while coord[1] < self.height:\n",
    "            if coord[0] != 0:\n",
    "                if self.is_tree(coord):\n",
    "                    count += 1\n",
    "                        \n",
    "            coord = self.incriment_coord(coord, slope)\n",
    "        \n",
    "        if output:\n",
    "            display(Markdown(f'#### Encountered `{count}` trees at a slope of `{slope}`' ))\n",
    "        \n",
    "        return count\n",
    "\n",
    "\n",
    "class TestBasic(unittest.TestCase):\n",
    "    \n",
    "    def test_load_data(self):\n",
    "        in_data = \".#..#\\n.....\\n#####\\n....#\\n...##\"\n",
    "        exp_out = [(1,0),(4,0),(0,2),(1,2),(2,2),(3,2),(4,2),(4,3),(3,4),(4,4)]\n",
    "        tm = TreeMap(in_data)\n",
    "        self.assertEqual(tm.data, exp_out)\n",
    "        \n",
    "    def test_is_tree(self):\n",
    "        in_data = \".#..#\\n.....\\n#####\\n....#\\n...##\"\n",
    "        coords = [(1,0),(0,1),(6,0)]\n",
    "        exp_output = [True,False,True]\n",
    "        tm = TreeMap(in_data)\n",
    "        for coord, exp_out in tuple(zip(coords, exp_output)):\n",
    "            self.assertEqual(tm.is_tree(coord), exp_out)\n",
    "            \n",
    "    def test_count_trees(self):\n",
    "        in_data = '..##.......\\n#...#...#..\\n.#....#..#.\\n..#.#...#.#\\n.#...##..#.\\n..#.##.....\\n.#.#.#....#\\n.#........#\\n#.##...#...\\n#...##....#\\n.#..#...#.#'\n",
    "        exp_out = 7\n",
    "        tm = TreeMap(in_data)\n",
    "        self.assertEqual(tm.count_trees((3,1)), exp_out)        \n",
    "        \n",
    "unittest.main(argv=[\"\"], exit=False)"
   ]
  },
  {
   "cell_type": "code",
   "execution_count": 2,
   "metadata": {},
   "outputs": [
    {
     "data": {
      "text/markdown": [
       "#### Encountered `148` trees at a slope of `(3, 1)`"
      ],
      "text/plain": [
       "<IPython.core.display.Markdown object>"
      ]
     },
     "metadata": {},
     "output_type": "display_data"
    },
    {
     "data": {
      "text/plain": [
       "148"
      ]
     },
     "execution_count": 2,
     "metadata": {},
     "output_type": "execute_result"
    }
   ],
   "source": [
    "tm = TreeMap(\"input/d03.txt\")\n",
    "tm.count_trees((3,1), output=True)"
   ]
  },
  {
   "cell_type": "markdown",
   "metadata": {},
   "source": [
    "## \\-\\-\\- Part Two \\-\\-\\-\n",
    "\n",
    "Time to check the rest of the slopes \\- you need to minimize the probability of a sudden arboreal stop, after all.\n",
    "\n",
    "Determine the number of trees you would encounter if, for each of the following slopes, you start at the top\\-left corner and traverse the map all the way to the bottom:\n",
    "\n",
    "*   Right 1, down 1.\n",
    "*   Right 3, down 1. (This is the slope you already checked.)\n",
    "*   Right 5, down 1.\n",
    "*   Right 7, down 1.\n",
    "*   Right 1, down 2.\n",
    "\n",
    "In the above example, these slopes would find `2`, `7`, `3`, `4`, and `2` tree(s) respectively; multiplied together, these produce the answer **`336`**.\n",
    "\n",
    "**What do you get if you multiply together the number of trees encountered on each of the listed slopes?**"
   ]
  },
  {
   "cell_type": "code",
   "execution_count": 3,
   "metadata": {},
   "outputs": [
    {
     "name": "stderr",
     "output_type": "stream",
     "text": [
      ".\n",
      "----------------------------------------------------------------------\n",
      "Ran 1 test in 0.001s\n",
      "\n",
      "OK\n"
     ]
    },
    {
     "data": {
      "text/plain": [
       "<unittest.main.TestProgram at 0x7f794432d2b0>"
      ]
     },
     "execution_count": 3,
     "metadata": {},
     "output_type": "execute_result"
    }
   ],
   "source": [
    "class TestBasic(unittest.TestCase):\n",
    "\n",
    "    def test_count_trees(self):\n",
    "        map_data = '..##.......\\n#...#...#..\\n.#....#..#.\\n..#.#...#.#\\n.#...##..#.\\n..#.##.....\\n.#.#.#....#\\n.#........#\\n#.##...#...\\n#...##....#\\n.#..#...#.#'\n",
    "        test_data = [((1,1),2),((3,1),7),((5,1),3),((7,1),4),((1,2),2)]\n",
    "        tm = TreeMap(map_data)\n",
    "        for slope, ans in test_data:\n",
    "            self.assertEqual(tm.count_trees(slope),ans)\n",
    "        \n",
    "        \n",
    "unittest.main(argv=[\"\"], exit=False)"
   ]
  },
  {
   "cell_type": "code",
   "execution_count": 4,
   "metadata": {},
   "outputs": [
    {
     "data": {
      "text/markdown": [
       "#### Encountered `50` trees at a slope of `(1, 1)`"
      ],
      "text/plain": [
       "<IPython.core.display.Markdown object>"
      ]
     },
     "metadata": {},
     "output_type": "display_data"
    },
    {
     "data": {
      "text/markdown": [
       "#### Encountered `148` trees at a slope of `(3, 1)`"
      ],
      "text/plain": [
       "<IPython.core.display.Markdown object>"
      ]
     },
     "metadata": {},
     "output_type": "display_data"
    },
    {
     "data": {
      "text/markdown": [
       "#### Encountered `53` trees at a slope of `(5, 1)`"
      ],
      "text/plain": [
       "<IPython.core.display.Markdown object>"
      ]
     },
     "metadata": {},
     "output_type": "display_data"
    },
    {
     "data": {
      "text/markdown": [
       "#### Encountered `64` trees at a slope of `(7, 1)`"
      ],
      "text/plain": [
       "<IPython.core.display.Markdown object>"
      ]
     },
     "metadata": {},
     "output_type": "display_data"
    },
    {
     "data": {
      "text/markdown": [
       "#### Encountered `29` trees at a slope of `(1, 2)`"
      ],
      "text/plain": [
       "<IPython.core.display.Markdown object>"
      ]
     },
     "metadata": {},
     "output_type": "display_data"
    },
    {
     "data": {
      "text/markdown": [
       "### Product of all trees encountered: `727923200`"
      ],
      "text/plain": [
       "<IPython.core.display.Markdown object>"
      ]
     },
     "metadata": {},
     "output_type": "display_data"
    }
   ],
   "source": [
    "tm = TreeMap(\"input/d03.txt\")\n",
    "\n",
    "slope_list = [(1,1),(3,1),(5,1),(7,1),(1,2)]\n",
    "\n",
    "tree_count_list = []\n",
    "for slope in slope_list:\n",
    "    tree_count_list.append(tm.count_trees(slope, output=True))\n",
    "    \n",
    "product = 1\n",
    "for tree_count in tree_count_list:\n",
    "    product *= tree_count\n",
    "display(Markdown(f'### Product of all trees encountered: `{product}`'))"
   ]
  }
 ],
 "metadata": {
  "kernelspec": {
   "display_name": "Python 3",
   "language": "python",
   "name": "python3"
  },
  "language_info": {
   "codemirror_mode": {
    "name": "ipython",
    "version": 3
   },
   "file_extension": ".py",
   "mimetype": "text/x-python",
   "name": "python",
   "nbconvert_exporter": "python",
   "pygments_lexer": "ipython3",
   "version": "3.6.8"
  }
 },
 "nbformat": 4,
 "nbformat_minor": 2
}
