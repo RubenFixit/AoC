{
 "cells": [
  {
   "cell_type": "markdown",
   "metadata": {},
   "source": [
    "# [Advent of Code 2020: Day 1](https://adventofcode.com/2020/day/1)"
   ]
  },
  {
   "cell_type": "markdown",
   "metadata": {},
   "source": [
    "## \\-\\-\\- Day 1: Report Repair \\-\\-\\-\n",
    "\n",
    "After saving Christmas [five years in a row](https://adventofcode.com/events), you've decided to take a vacation at a nice resort on a tropical island. Surely, Christmas will go on without you.\n",
    "\n",
    "The tropical island has its own currency and is entirely cash\\-only. The gold coins used there have a little picture of a starfish; the locals just call them *stars*. None of the currency exchanges seem to have heard of them, but somehow, you'll need to find fifty of these coins by the time you arrive so you can pay the deposit on your room.\n",
    "\n",
    "To save your vacation, you need to get all *fifty stars* by December 25th.\n",
    "\n",
    "Collect stars by solving puzzles. Two puzzles will be made available on each day in the Advent calendar; the second puzzle is unlocked when you complete the first. Each puzzle grants *one star*. Good luck!\n",
    "\n",
    "Before you leave, the Elves in accounting just need you to fix your *expense report* (your puzzle input); apparently, something isn't quite adding up.\n",
    "\n",
    "Specifically, they need you to *find the two entries that sum to `2020`* and then multiply those two numbers together.\n",
    "\n",
    "For example, suppose your expense report contained the following:\n",
    "\n",
    "```\n",
    "1721\n",
    "979\n",
    "366\n",
    "299\n",
    "675\n",
    "1456\n",
    "\n",
    "```\n",
    "\n",
    "In this list, the two entries that sum to `2020` are `1721` and `299`. Multiplying them together produces `1721 * 299 = 514579`, so the correct answer is *`514579`*.\n",
    "\n",
    "Of course, your expense report is much larger. *Find the two entries that sum to `2020`; what do you get if you multiply them together?*"
   ]
  },
  {
   "cell_type": "code",
   "execution_count": 1,
   "metadata": {},
   "outputs": [
    {
     "name": "stderr",
     "output_type": "stream",
     "text": [
      ".\n",
      "----------------------------------------------------------------------\n",
      "Ran 1 test in 0.001s\n",
      "\n",
      "OK\n"
     ]
    },
    {
     "data": {
      "text/plain": [
       "<unittest.main.TestProgram at 0x7faa304b79b0>"
      ]
     },
     "execution_count": 1,
     "metadata": {},
     "output_type": "execute_result"
    }
   ],
   "source": [
    "import os\n",
    "import unittest\n",
    "\n",
    "class Puzzle():\n",
    "    \n",
    "    def __init__(self, data = None):\n",
    "        if (data == None):\n",
    "            self.load_data()\n",
    "        else:\n",
    "            self.data = data\n",
    "        \n",
    "    def load_data(self):\n",
    "        with open(\"input/input_d01.txt\") as file:\n",
    "            raw_data = file.read()            \n",
    "        self.data = list(map(int, raw_data.split('\\n')))\n",
    "        \n",
    "            \n",
    "    def run(self):\n",
    "        for index1, entry1 in enumerate(self.data):\n",
    "            for index2, entry2 in enumerate(self.data):\n",
    "                if index1 != index2:\n",
    "                    if (entry1 + entry2) == 2020:\n",
    "                        return entry1 * entry2\n",
    "        \n",
    "\n",
    "class TestBasic(unittest.TestCase):\n",
    "\n",
    "    def test_thing(self):\n",
    "        test_data = [([1721,979,366,299,675,1456],514579)]\n",
    "        for input, expected_output in test_data:\n",
    "            puzzle = Puzzle(input)\n",
    "            self.assertEqual(expected_output , puzzle.run())\n",
    "        \n",
    "        \n",
    "unittest.main(argv=[\"\"], exit=False)"
   ]
  },
  {
   "cell_type": "code",
   "execution_count": 2,
   "metadata": {},
   "outputs": [
    {
     "data": {
      "text/plain": [
       "956091"
      ]
     },
     "execution_count": 2,
     "metadata": {},
     "output_type": "execute_result"
    }
   ],
   "source": [
    "puzzle = Puzzle()\n",
    "puzzle.run()"
   ]
  },
  {
   "cell_type": "markdown",
   "metadata": {},
   "source": [
    "## \\-\\-\\- Part Two \\-\\-\\-\n",
    "\n",
    "The Elves in accounting are thankful for your help; one of them even offers you a starfish coin they had left over from a past vacation. They offer you a second one if you can find *three* numbers in your expense report that meet the same criteria.\n",
    "\n",
    "Using the above example again, the three entries that sum to `2020` are `979`, `366`, and `675`. Multiplying them together produces the answer, `*241861950*`.\n",
    "\n",
    "In your expense report, *what is the product of the three entries that sum to `2020`?*"
   ]
  },
  {
   "cell_type": "code",
   "execution_count": 3,
   "metadata": {},
   "outputs": [
    {
     "data": {
      "text/plain": [
       "79734368"
      ]
     },
     "execution_count": 3,
     "metadata": {},
     "output_type": "execute_result"
    }
   ],
   "source": [
    "class Puzzle2(Puzzle):\n",
    "    def run(self):\n",
    "        for index1, entry1 in enumerate(self.data):\n",
    "            for index2, entry2 in enumerate(self.data):\n",
    "                for index3, entry3 in enumerate(self.data):\n",
    "                    if index1 != index2 or index1 != index3:\n",
    "                        if (entry1 + entry2 + entry3) == 2020:\n",
    "                            return entry1 * entry2 * entry3\n",
    "\n",
    "puzzle = Puzzle2()\n",
    "puzzle.run()"
   ]
  }
 ],
 "metadata": {
  "kernelspec": {
   "display_name": "Python 3",
   "language": "python",
   "name": "python3"
  },
  "language_info": {
   "codemirror_mode": {
    "name": "ipython",
    "version": 3
   },
   "file_extension": ".py",
   "mimetype": "text/x-python",
   "name": "python",
   "nbconvert_exporter": "python",
   "pygments_lexer": "ipython3",
   "version": "3.6.8"
  }
 },
 "nbformat": 4,
 "nbformat_minor": 2
}
