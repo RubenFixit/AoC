{
 "cells": [
  {
   "cell_type": "markdown",
   "metadata": {},
   "source": [
    "# [Advent of Code 2020: Day 8](https://adventofcode.com/2020/day/8)"
   ]
  },
  {
   "cell_type": "markdown",
   "metadata": {},
   "source": [
    "## \\-\\-\\- Day 8: Handheld Halting \\-\\-\\-\n",
    "\n",
    "Your flight to the major airline hub reaches cruising altitude without incident. While you consider checking the in\\-flight menu for one of those drinks that come with a little umbrella, you are interrupted by the kid sitting next to you.\n",
    "\n",
    "Their [handheld game console](https://en.wikipedia.org/wiki/Handheld_game_console) won't turn on! They ask if you can take a look.\n",
    "\n",
    "You narrow the problem down to a strange **infinite loop** in the boot code (your puzzle input) of the device. You should be able to fix it, but first you need to be able to run the code in isolation.\n",
    "\n",
    "The boot code is represented as a text file with one **instruction** per line of text. Each instruction consists of an **operation** (`acc`, `jmp`, or `nop`) and an **argument** (a signed number like `+4` or `-20`).\n",
    "\n",
    "*   `acc` increases or decreases a single global value called the **accumulator** by the value given in the argument. For example, `acc +7` would increase the accumulator by 7. The accumulator starts at `0`. After an `acc` instruction, the instruction immediately below it is executed next.\n",
    "*   `jmp` **jumps** to a new instruction relative to itself. The next instruction to execute is found using the argument as an **offset** from the `jmp` instruction; for example, `jmp +2` would skip the next instruction, `jmp +1` would continue to the instruction immediately below it, and `jmp -20` would cause the instruction 20 lines above to be executed next.\n",
    "*   `nop` stands for **No OPeration** \\- it does nothing. The instruction immediately below it is executed next.\n",
    "\n",
    "For example, consider the following program:\n",
    "\n",
    "```\n",
    "nop +0\n",
    "acc +1\n",
    "jmp +4\n",
    "acc +3\n",
    "jmp -3\n",
    "acc -99\n",
    "acc +1\n",
    "jmp -4\n",
    "acc +6\n",
    "\n",
    "```\n",
    "\n",
    "These instructions are visited in this order:\n",
    "\n",
    "```\n",
    "nop +0  | 1\n",
    "acc +1  | 2, 8(!)\n",
    "jmp +4  | 3\n",
    "acc +3  | 6\n",
    "jmp -3  | 7\n",
    "acc -99 |\n",
    "acc +1  | 4\n",
    "jmp -4  | 5\n",
    "acc +6  |\n",
    "\n",
    "```\n",
    "\n",
    "First, the `nop +0` does nothing. Then, the accumulator is increased from 0 to 1 (`acc +1`) and `jmp +4` sets the next instruction to the other `acc +1` near the bottom. After it increases the accumulator from 1 to 2, `jmp -4` executes, setting the next instruction to the only `acc +3`. It sets the accumulator to 5, and `jmp -3` causes the program to continue back at the first `acc +1`.\n",
    "\n",
    "This is an **infinite loop**: with this sequence of jumps, the program will run forever. The moment the program tries to run any instruction a second time, you know it will never terminate.\n",
    "\n",
    "Immediately **before** the program would run an instruction a second time, the value in the accumulator is **`5`**.\n",
    "\n",
    "Run your copy of the boot code. Immediately before any instruction is executed a second time, **what value is in the accumulator?**"
   ]
  },
  {
   "cell_type": "code",
   "execution_count": 1,
   "metadata": {},
   "outputs": [
    {
     "name": "stderr",
     "output_type": "stream",
     "text": [
      ".."
     ]
    },
    {
     "name": "stdout",
     "output_type": "stream",
     "text": [
      "0 ('nop', 0)\n",
      "1 ('acc', 1)\n",
      "2 ('jmp', 4)\n",
      "6 ('acc', 1)\n",
      "7 ('jmp', -4)\n",
      "3 ('acc', 3)\n",
      "4 ('jmp', -3)\n",
      "Watchdog: stopped repeat operation (1, ('acc', 1))\n",
      "Exec History: [0, 1, 2, 6, 7, 3, 4]\n"
     ]
    },
    {
     "name": "stderr",
     "output_type": "stream",
     "text": [
      "\n",
      "----------------------------------------------------------------------\n",
      "Ran 2 tests in 0.005s\n",
      "\n",
      "OK\n"
     ]
    },
    {
     "data": {
      "text/plain": [
       "<unittest.main.TestProgram at 0x7f2b54449dd8>"
      ]
     },
     "execution_count": 1,
     "metadata": {},
     "output_type": "execute_result"
    }
   ],
   "source": [
    "import re\n",
    "import unittest\n",
    "from IPython.display import Markdown, display\n",
    "\n",
    "from aoc_puzzle import AocPuzzle\n",
    "\n",
    "class GameConsole(AocPuzzle):\n",
    "    \n",
    "    OP_ACC = 'acc'\n",
    "    OP_JUMP = 'jmp'\n",
    "    OP_NOOP = 'nop'\n",
    "    \n",
    "    START_ADDR = 0\n",
    "    \n",
    "    memory = []\n",
    "    initial_memory = []\n",
    "    exec_history = []\n",
    "    watchdog = 1\n",
    "    debug = False\n",
    "    \n",
    "    def parse_data(self, raw_data):        \n",
    "        self.initial_memory = raw_data.split('\\n')\n",
    "        self.reset()            \n",
    "        \n",
    "    def reset(self):\n",
    "        if self.memory:\n",
    "            del self.memory[:]\n",
    "        self.memory = self.initial_memory.copy()\n",
    "        \n",
    "        if self.exec_history:\n",
    "            del self.exec_history[:]\n",
    "        self.exec_history = []\n",
    "        \n",
    "        self.instruction_ptr = self.START_ADDR\n",
    "        self.accumulator = 0          \n",
    "        \n",
    "    def parse_operation(self):\n",
    "        m = re.match('(\\w{3})\\s([\\+\\-]\\d+)', self.memory[self.instruction_ptr])\n",
    "        op = m.group(1)\n",
    "        val = int(m.group(2))\n",
    "        return op, val\n",
    "\n",
    "    def run(self, output=False):\n",
    "        \n",
    "        return_val = 0\n",
    "        \n",
    "        while self.instruction_ptr < len(self.memory):\n",
    "            \n",
    "            op, val = self.parse_operation()\n",
    "            \n",
    "            if self.watchdog > 0:\n",
    "                if self.instruction_ptr in self.exec_history:\n",
    "                    if self.debug:\n",
    "                        print(f'Watchdog: stopped repeat operation {self.instruction_ptr, (op, val)}')\n",
    "                        print(f'Exec History: {self.exec_history}')\n",
    "                    return_val = 1\n",
    "                    break\n",
    "            \n",
    "            if self.debug:\n",
    "                print(self.instruction_ptr, (op, val))\n",
    "\n",
    "            self.exec_history.append(self.instruction_ptr)\n",
    "            \n",
    "            if op != self.OP_JUMP:\n",
    "                self.instruction_ptr += 1\n",
    "\n",
    "            if op == self.OP_NOOP:\n",
    "                pass\n",
    "\n",
    "            elif op == self.OP_ACC:\n",
    "                self.accumulator += val\n",
    "\n",
    "            elif op == self.OP_JUMP:\n",
    "                self.instruction_ptr += val\n",
    "\n",
    "            else:\n",
    "                raise Exception(f'Unknown operation {op} at addr {self.instruction_ptr}.')\n",
    "                self.reset()\n",
    "                return 2\n",
    "                \n",
    "        if output:\n",
    "            display(Markdown(f'### Accumulator is `{self.accumulator}`'))\n",
    "                \n",
    "        return return_val\n",
    "\n",
    "\n",
    "class TestBasic(unittest.TestCase):\n",
    "    \n",
    "    def test_parse_data(self):\n",
    "        in_data = \"nop +0\\nacc +1\\njmp +4\\nacc +3\\njmp -3\\nacc -99\\nacc +1\\njmp -4\\nacc +6\"\n",
    "        exp_out = ['nop +0','acc +1','jmp +4','acc +3','jmp -3','acc -99','acc +1','jmp -4','acc +6']\n",
    "        hgc = GameConsole(in_data)\n",
    "        self.assertEqual(hgc.memory, exp_out)\n",
    "            \n",
    "    def test_intcode_handler(self):\n",
    "        in_data = \"nop +0\\nacc +1\\njmp +4\\nacc +3\\njmp -3\\nacc -99\\nacc +1\\njmp -4\\nacc +6\"\n",
    "        exp_out = 5\n",
    "        hgc = GameConsole(in_data)\n",
    "        hgc.debug = True\n",
    "        hgc.run()\n",
    "        self.assertEqual(hgc.accumulator, exp_out)\n",
    "            \n",
    "unittest.main(argv=[\"\"], exit=False)"
   ]
  },
  {
   "cell_type": "code",
   "execution_count": 2,
   "metadata": {},
   "outputs": [
    {
     "data": {
      "text/markdown": [
       "### Accumulator is `1915`"
      ],
      "text/plain": [
       "<IPython.core.display.Markdown object>"
      ]
     },
     "metadata": {},
     "output_type": "display_data"
    },
    {
     "data": {
      "text/plain": [
       "1"
      ]
     },
     "execution_count": 2,
     "metadata": {},
     "output_type": "execute_result"
    }
   ],
   "source": [
    "hgc = GameConsole(\"input/d08.txt\")\n",
    "hgc.run(output=True)"
   ]
  },
  {
   "cell_type": "markdown",
   "metadata": {},
   "source": [
    "## \\-\\-\\- Part Two \\-\\-\\-\n",
    "\n",
    "After some careful analysis, you believe that **exactly one instruction is corrupted**.\n",
    "\n",
    "Somewhere in the program, **either** a `jmp` is supposed to be a `nop`, **or** a `nop` is supposed to be a `jmp`. (No `acc` instructions were harmed in the corruption of this boot code.)\n",
    "\n",
    "The program is supposed to terminate by **attempting to execute an instruction immediately after the last instruction in the file**. By changing exactly one `jmp` or `nop`, you can repair the boot code and make it terminate correctly.\n",
    "\n",
    "For example, consider the same program from above:\n",
    "\n",
    "```\n",
    "nop +0\n",
    "acc +1\n",
    "jmp +4\n",
    "acc +3\n",
    "jmp -3\n",
    "acc -99\n",
    "acc +1\n",
    "jmp -4\n",
    "acc +6\n",
    "\n",
    "```\n",
    "\n",
    "If you change the first instruction from `nop +0` to `jmp +0`, it would create a single\\-instruction infinite loop, never leaving that instruction. If you change almost any of the `jmp` instructions, the program will still eventually find another `jmp` instruction and loop forever.\n",
    "\n",
    "However, if you change the second\\-to\\-last instruction (from `jmp -4` to `nop -4`), the program terminates! The instructions are visited in this order:\n",
    "\n",
    "```\n",
    "nop +0  | 1\n",
    "acc +1  | 2\n",
    "jmp +4  | 3\n",
    "acc +3  |\n",
    "jmp -3  |\n",
    "acc -99 |\n",
    "acc +1  | 4\n",
    "nop -4  | 5 <--\n",
    "acc +6  | 6\n",
    "\n",
    "```\n",
    "\n",
    "After the last instruction (`acc +6`), the program terminates by attempting to run the instruction below the last instruction in the file. With this change, after the program terminates, the accumulator contains the value **`8`** (`acc +1`, `acc +1`, `acc +6`).\n",
    "\n",
    "Fix the program so that it terminates normally by changing exactly one `jmp` (to `nop`) or `nop` (to `jmp`). **What is the value of the accumulator after the program terminates?**"
   ]
  },
  {
   "cell_type": "code",
   "execution_count": 3,
   "metadata": {},
   "outputs": [
    {
     "name": "stderr",
     "output_type": "stream",
     "text": [
      ".\n",
      "----------------------------------------------------------------------\n",
      "Ran 1 test in 0.001s\n",
      "\n",
      "OK\n"
     ]
    },
    {
     "data": {
      "text/plain": [
       "<unittest.main.TestProgram at 0x7f2b543b2198>"
      ]
     },
     "execution_count": 3,
     "metadata": {},
     "output_type": "execute_result"
    }
   ],
   "source": [
    "class GameConsoleAutorepair(AocPuzzle):\n",
    "    \n",
    "    def parse_data(self, raw_data):\n",
    "        self.hgc = GameConsole(raw_data)\n",
    "    \n",
    "    def run(self, output=False):\n",
    "        \n",
    "        self.hgc.watchdog = 1\n",
    "        \n",
    "        for index, op in enumerate(self.hgc.initial_memory):\n",
    "            self.hgc.reset()\n",
    "            self.hgc.memory[index] = self.hgc.memory[index].replace('jmp','nop')\n",
    "            # If no change was made try switching it the other way\n",
    "            if self.hgc.memory[index] == self.hgc.initial_memory[index]:\n",
    "                self.hgc.memory[index] = self.hgc.memory[index].replace('nop','jmp')\n",
    "            \n",
    "            if self.hgc.run() == 0:\n",
    "                if output:\n",
    "                    display(Markdown(f'### Accumulator is `{self.hgc.accumulator}` after normal program termination.'))\n",
    "                return self.hgc.accumulator\n",
    "            \n",
    "        return -1\n",
    "\n",
    "\n",
    "class TestBasic(unittest.TestCase):\n",
    "    \n",
    "    def test_GameConsoleAutorepair(self):\n",
    "        in_data = \"nop +0\\nacc +1\\njmp +4\\nacc +3\\njmp -3\\nacc -99\\nacc +1\\njmp -4\\nacc +6\"\n",
    "        exp_out = 8\n",
    "        gca = GameConsoleAutorepair(in_data)\n",
    "        #gca.hgc.debug = True\n",
    "        self.assertEqual(gca.run(), exp_out)\n",
    "        \n",
    "unittest.main(argv=[\"\"], exit=False)"
   ]
  },
  {
   "cell_type": "code",
   "execution_count": 4,
   "metadata": {},
   "outputs": [
    {
     "data": {
      "text/markdown": [
       "### Accumulator is `944` after normal program termination."
      ],
      "text/plain": [
       "<IPython.core.display.Markdown object>"
      ]
     },
     "metadata": {},
     "output_type": "display_data"
    },
    {
     "data": {
      "text/plain": [
       "944"
      ]
     },
     "execution_count": 4,
     "metadata": {},
     "output_type": "execute_result"
    }
   ],
   "source": [
    "gca = GameConsoleAutorepair(\"input/d08.txt\")\n",
    "gca.run(output=True)"
   ]
  }
 ],
 "metadata": {
  "kernelspec": {
   "display_name": "Python 3",
   "language": "python",
   "name": "python3"
  },
  "language_info": {
   "codemirror_mode": {
    "name": "ipython",
    "version": 3
   },
   "file_extension": ".py",
   "mimetype": "text/x-python",
   "name": "python",
   "nbconvert_exporter": "python",
   "pygments_lexer": "ipython3",
   "version": "3.6.8"
  }
 },
 "nbformat": 4,
 "nbformat_minor": 2
}
