{
 "cells": [
  {
   "cell_type": "markdown",
   "metadata": {},
   "source": [
    "# [Advent of Code 2020: Day 10](https://adventofcode.com/2020/day/10)"
   ]
  },
  {
   "cell_type": "markdown",
   "metadata": {},
   "source": [
    "## \\-\\-\\- Day 10: Adapter Array \\-\\-\\-\n",
    "\n",
    "Patched into the aircraft's data port, you discover weather forecasts of a massive tropical storm. Before you can figure out whether it will impact your vacation plans, however, your device suddenly turns off!\n",
    "\n",
    "Its battery is dead.\n",
    "\n",
    "You'll need to plug it in. There's only one problem: the charging outlet near your seat produces the wrong number of **jolts**. Always prepared, you make a list of all of the joltage adapters in your bag.\n",
    "\n",
    "Each of your joltage adapters is rated for a specific **output joltage** (your puzzle input). Any given adapter can take an input `1`, `2`, or `3` jolts **lower** than its rating and still produce its rated output joltage.\n",
    "\n",
    "In addition, your device has a built\\-in joltage adapter rated for **`3` jolts higher** than the highest\\-rated adapter in your bag. (If your adapter list were `3`, `9`, and `6`, your device's built\\-in adapter would be rated for `12` jolts.)\n",
    "\n",
    "Treat the charging outlet near your seat as having an effective joltage rating of `0`.\n",
    "\n",
    "Since you have some time to kill, you might as well test all of your adapters. Wouldn't want to get to your resort and realize you can't even charge your device!\n",
    "\n",
    "If you *use every adapter in your bag* at once, what is the distribution of joltage differences between the charging outlet, the adapters, and your device?\n",
    "\n",
    "For example, suppose that in your bag, you have adapters with the following joltage ratings:\n",
    "\n",
    "```\n",
    "16\n",
    "10\n",
    "15\n",
    "5\n",
    "1\n",
    "11\n",
    "7\n",
    "19\n",
    "6\n",
    "12\n",
    "4\n",
    "\n",
    "```\n",
    "\n",
    "With these adapters, your device's built\\-in joltage adapter would be rated for `19 + 3 = `**`22`** jolts, 3 higher than the highest\\-rated adapter.\n",
    "\n",
    "Because adapters can only connect to a source 1\\-3 jolts lower than its rating, in order to use every adapter, you'd need to choose them like this:\n",
    "\n",
    "*   The charging outlet has an effective rating of `0` jolts, so the only adapters that could connect to it directly would need to have a joltage rating of `1`, `2`, or `3` jolts. Of these, only one you have is an adapter rated `1` jolt (difference of **`1`**).\n",
    "*   From your `1`\\-jolt rated adapter, the only choice is your `4`\\-jolt rated adapter (difference of **`3`**).\n",
    "*   From the `4`\\-jolt rated adapter, the adapters rated `5`, `6`, or `7` are valid choices. However, in order to not skip any adapters, you have to pick the adapter rated `5` jolts (difference of **`1`**).\n",
    "*   Similarly, the next choices would need to be the adapter rated `6` and then the adapter rated `7` (with difference of **`1`** and **`1`**).\n",
    "*   The only adapter that works with the `7`\\-jolt rated adapter is the one rated `10` jolts (difference of **`3`**).\n",
    "*   From `10`, the choices are `11` or `12`; choose `11` (difference of **`1`**) and then `12` (difference of **`1`**).\n",
    "*   After `12`, only valid adapter has a rating of `15` (difference of **`3`**), then `16` (difference of **`1`**), then `19` (difference of **`3`**).\n",
    "*   Finally, your device's built\\-in adapter is always 3 higher than the highest adapter, so its rating is `22` jolts (always a difference of **`3`**).\n",
    "\n",
    "In this example, when using every adapter, there are **`7`** differences of 1 jolt and **`5`** differences of 3 jolts.\n",
    "\n",
    "Here is a larger example:\n",
    "\n",
    "```\n",
    "28\n",
    "33\n",
    "18\n",
    "42\n",
    "31\n",
    "14\n",
    "46\n",
    "20\n",
    "48\n",
    "47\n",
    "24\n",
    "23\n",
    "49\n",
    "45\n",
    "19\n",
    "38\n",
    "39\n",
    "11\n",
    "1\n",
    "32\n",
    "25\n",
    "35\n",
    "8\n",
    "17\n",
    "7\n",
    "9\n",
    "4\n",
    "2\n",
    "34\n",
    "10\n",
    "3\n",
    "\n",
    "```\n",
    "\n",
    "In this larger example, in a chain that uses all of the adapters, there are **`22`** differences of 1 jolt and **`10`** differences of 3 jolts.\n",
    "\n",
    "Find a chain that uses all of your adapters to connect the charging outlet to your device's built\\-in adapter and count the joltage differences between the charging outlet, the adapters, and your device. **What is the number of 1\\-jolt differences multiplied by the number of 3\\-jolt differences?**"
   ]
  },
  {
   "cell_type": "code",
   "execution_count": 1,
   "metadata": {},
   "outputs": [
    {
     "name": "stderr",
     "output_type": "stream",
     "text": [
      "..\n",
      "----------------------------------------------------------------------\n",
      "Ran 2 tests in 0.002s\n",
      "\n",
      "OK\n"
     ]
    },
    {
     "data": {
      "text/plain": [
       "<unittest.main.TestProgram at 0x7f5dd0943c50>"
      ]
     },
     "execution_count": 1,
     "metadata": {},
     "output_type": "execute_result"
    }
   ],
   "source": [
    "import unittest\n",
    "from IPython.display import Markdown, display\n",
    "\n",
    "from aoc_puzzle import AocPuzzle\n",
    "\n",
    "class AdapterArray(AocPuzzle):\n",
    "    \n",
    "    def parse_data(self, raw_data):\n",
    "        self.adapter_list = list(map(int, raw_data.split('\\n')))\n",
    "        self.adapter_list.sort()\n",
    "        self.adapter_list.insert(0,0)\n",
    "        self.adapter_list.append(self.adapter_list[-1]+3)\n",
    "        \n",
    "    def calc_jolt_diff(self, output=False):\n",
    "        jolt_diffs = {}\n",
    "        for i in range(1,len(self.adapter_list)):\n",
    "            adapter = self.adapter_list[i]\n",
    "            prev_adapter = self.adapter_list[i-1]\n",
    "            jdiff = adapter - prev_adapter\n",
    "            if jdiff not in jolt_diffs:\n",
    "                jolt_diffs[jdiff] = 1\n",
    "            else:\n",
    "                jolt_diffs[jdiff] += 1\n",
    "        \n",
    "        jolt_diff_product = jolt_diffs[1] * jolt_diffs[3]\n",
    "        \n",
    "        if output:\n",
    "            display(Markdown(f'### Jolt diff product: `{jolt_diff_product}`'))            \n",
    "        return jolt_diff_product\n",
    "        \n",
    "\n",
    "class TestBasic(unittest.TestCase):\n",
    "\n",
    "    def test_parse_data(self):\n",
    "        in_data = '16\\n10\\n15\\n5\\n1\\n11\\n7\\n19\\n6\\n12\\n4'\n",
    "        exp_out = [0, 1, 4, 5, 6, 7, 10, 11, 12, 15, 16, 19, 22]\n",
    "        aa = AdapterArray(in_data)\n",
    "        self.assertEqual(aa.adapter_list, exp_out)\n",
    "        \n",
    "    def test_puzzle(self):\n",
    "        input_data = ['16\\n10\\n15\\n5\\n1\\n11\\n7\\n19\\n6\\n12\\n4','28\\n33\\n18\\n42\\n31\\n14\\n46\\n20\\n48\\n47\\n24\\n23\\n49\\n45\\n19\\n38\\n39\\n11\\n1\\n32\\n25\\n35\\n8\\n17\\n7\\n9\\n4\\n2\\n34\\n10\\n3']\n",
    "        exp_output = [35,220]\n",
    "        for in_data, exp_out in tuple(zip(input_data, exp_output)):\n",
    "            aa = AdapterArray(in_data)\n",
    "            self.assertEqual(aa.calc_jolt_diff(), exp_out)\n",
    "        \n",
    "unittest.main(argv=[\"\"], exit=False)"
   ]
  },
  {
   "cell_type": "code",
   "execution_count": 2,
   "metadata": {},
   "outputs": [
    {
     "data": {
      "text/markdown": [
       "### Jolt diff product: `2482`"
      ],
      "text/plain": [
       "<IPython.core.display.Markdown object>"
      ]
     },
     "metadata": {},
     "output_type": "display_data"
    },
    {
     "data": {
      "text/plain": [
       "2482"
      ]
     },
     "execution_count": 2,
     "metadata": {},
     "output_type": "execute_result"
    }
   ],
   "source": [
    "aa = AdapterArray(\"input/d10.txt\")\n",
    "aa.calc_jolt_diff(output=True)"
   ]
  },
  {
   "cell_type": "markdown",
   "metadata": {},
   "source": [
    "## --- Part Two ---\n",
    "\n",
    "To completely determine whether you have enough adapters, you'll need to figure out how many different ways they can be arranged. Every arrangement needs to connect the charging outlet to your device. The previous rules about when adapters can successfully connect still apply.\n",
    "\n",
    "The first example above (the one that starts with `16`, `10`, `15`) supports the following arrangements:\n",
    "\n",
    "```\n",
    "(0), 1, 4, 5, 6, 7, 10, 11, 12, 15, 16, 19, (22)\n",
    "(0), 1, 4, 5, 6, 7, 10, 12, 15, 16, 19, (22)\n",
    "(0), 1, 4, 5, 7, 10, 11, 12, 15, 16, 19, (22)\n",
    "(0), 1, 4, 5, 7, 10, 12, 15, 16, 19, (22)\n",
    "(0), 1, 4, 6, 7, 10, 11, 12, 15, 16, 19, (22)\n",
    "(0), 1, 4, 6, 7, 10, 12, 15, 16, 19, (22)\n",
    "(0), 1, 4, 7, 10, 11, 12, 15, 16, 19, (22)\n",
    "(0), 1, 4, 7, 10, 12, 15, 16, 19, (22)\n",
    "\n",
    "```\n",
    "\n",
    "(The charging outlet and your device's built-in adapter are shown in parentheses.) Given the adapters from the first example, the total number of arrangements that connect the charging outlet to your device is **`8`**.\n",
    "\n",
    "The second example above (the one that starts with `28`, `33`, `18`) has many arrangements. Here are a few:\n",
    "\n",
    "```\n",
    "(0), 1, 2, 3, 4, 7, 8, 9, 10, 11, 14, 17, 18, 19, 20, 23, 24, 25, 28, 31,\n",
    "32, 33, 34, 35, 38, 39, 42, 45, 46, 47, 48, 49, (52)\n",
    "\n",
    "(0), 1, 2, 3, 4, 7, 8, 9, 10, 11, 14, 17, 18, 19, 20, 23, 24, 25, 28, 31,\n",
    "32, 33, 34, 35, 38, 39, 42, 45, 46, 47, 49, (52)\n",
    "\n",
    "(0), 1, 2, 3, 4, 7, 8, 9, 10, 11, 14, 17, 18, 19, 20, 23, 24, 25, 28, 31,\n",
    "32, 33, 34, 35, 38, 39, 42, 45, 46, 48, 49, (52)\n",
    "\n",
    "(0), 1, 2, 3, 4, 7, 8, 9, 10, 11, 14, 17, 18, 19, 20, 23, 24, 25, 28, 31,\n",
    "32, 33, 34, 35, 38, 39, 42, 45, 46, 49, (52)\n",
    "\n",
    "(0), 1, 2, 3, 4, 7, 8, 9, 10, 11, 14, 17, 18, 19, 20, 23, 24, 25, 28, 31,\n",
    "32, 33, 34, 35, 38, 39, 42, 45, 47, 48, 49, (52)\n",
    "\n",
    "(0), 3, 4, 7, 10, 11, 14, 17, 20, 23, 25, 28, 31, 34, 35, 38, 39, 42, 45,\n",
    "46, 48, 49, (52)\n",
    "\n",
    "(0), 3, 4, 7, 10, 11, 14, 17, 20, 23, 25, 28, 31, 34, 35, 38, 39, 42, 45,\n",
    "46, 49, (52)\n",
    "\n",
    "(0), 3, 4, 7, 10, 11, 14, 17, 20, 23, 25, 28, 31, 34, 35, 38, 39, 42, 45,\n",
    "47, 48, 49, (52)\n",
    "\n",
    "(0), 3, 4, 7, 10, 11, 14, 17, 20, 23, 25, 28, 31, 34, 35, 38, 39, 42, 45,\n",
    "47, 49, (52)\n",
    "\n",
    "(0), 3, 4, 7, 10, 11, 14, 17, 20, 23, 25, 28, 31, 34, 35, 38, 39, 42, 45,\n",
    "48, 49, (52)\n",
    "\n",
    "```\n",
    "\n",
    "In total, this set of adapters can connect the charging outlet to your device in **`19208`** distinct arrangements.\n",
    "\n",
    "You glance back down at your bag and try to remember why you brought so many adapters; there must be **more than a trillion** valid ways to arrange them! Surely, there must be an efficient way to count the arrangements.\n",
    "\n",
    "**What is the total number of distinct ways you can arrange the adapters to connect the charging outlet to your device?**"
   ]
  },
  {
   "cell_type": "code",
   "execution_count": 3,
   "metadata": {},
   "outputs": [
    {
     "name": "stderr",
     "output_type": "stream",
     "text": [
      ".\n",
      "----------------------------------------------------------------------\n",
      "Ran 1 test in 0.001s\n",
      "\n",
      "OK\n"
     ]
    },
    {
     "data": {
      "text/plain": [
       "<unittest.main.TestProgram at 0x7f5dd0941f60>"
      ]
     },
     "execution_count": 3,
     "metadata": {},
     "output_type": "execute_result"
    }
   ],
   "source": [
    "class AdapterArray2(AdapterArray):        \n",
    "    \n",
    "    def count_all_arrangements(self, output=False):\n",
    "        arrangements_list = [1]        \n",
    "        for a_index in range(1,len(self.adapter_list)):\n",
    "            adapter = self.adapter_list[a_index]\n",
    "            arrangements = 0\n",
    "            for pa_index in range(a_index):\n",
    "                prev_adapter = self.adapter_list[pa_index]\n",
    "                jdiff = adapter - prev_adapter\n",
    "                if jdiff <= 3:\n",
    "                    arrangements += arrangements_list[pa_index]\n",
    "                    \n",
    "            arrangements_list.append(arrangements)                    \n",
    "            \n",
    "        all_arrangements = arrangements_list[-1]\n",
    "        if output:\n",
    "            display(Markdown(f'### Total possible ways to arrange the adapters: `{all_arrangements}`'))\n",
    "        return all_arrangements\n",
    "\n",
    "\n",
    "class TestBasic(unittest.TestCase):\n",
    "        \n",
    "    def test_puzzle2(self):\n",
    "        input_data = ['28\\n33\\n18\\n42\\n31\\n14\\n46\\n20\\n48\\n47\\n24\\n23\\n49\\n45\\n19\\n38\\n39\\n11\\n1\\n32\\n25\\n35\\n8\\n17\\n7\\n9\\n4\\n2\\n34\\n10\\n3','16\\n10\\n15\\n5\\n1\\n11\\n7\\n19\\n6\\n12\\n4']\n",
    "        exp_output = [19208, 8]\n",
    "        for in_data, exp_out in tuple(zip(input_data, exp_output)):\n",
    "            aa = AdapterArray2(in_data)\n",
    "            self.assertEqual(aa.count_all_arrangements(), exp_out)\n",
    "        \n",
    "unittest.main(argv=[\"\"], exit=False)"
   ]
  },
  {
   "cell_type": "code",
   "execution_count": 4,
   "metadata": {},
   "outputs": [
    {
     "data": {
      "text/markdown": [
       "### Total possible ways to arrange the adapters: `96717311574016`"
      ],
      "text/plain": [
       "<IPython.core.display.Markdown object>"
      ]
     },
     "metadata": {},
     "output_type": "display_data"
    },
    {
     "data": {
      "text/plain": [
       "96717311574016"
      ]
     },
     "execution_count": 4,
     "metadata": {},
     "output_type": "execute_result"
    }
   ],
   "source": [
    "aa = AdapterArray2(\"input/d10.txt\")\n",
    "aa.count_all_arrangements(output=True)"
   ]
  }
 ],
 "metadata": {
  "kernelspec": {
   "display_name": "Python 3",
   "language": "python",
   "name": "python3"
  },
  "language_info": {
   "codemirror_mode": {
    "name": "ipython",
    "version": 3
   },
   "file_extension": ".py",
   "mimetype": "text/x-python",
   "name": "python",
   "nbconvert_exporter": "python",
   "pygments_lexer": "ipython3",
   "version": "3.6.8"
  }
 },
 "nbformat": 4,
 "nbformat_minor": 2
}
