{
 "cells": [
  {
   "cell_type": "markdown",
   "metadata": {},
   "source": [
    "# [Advent of Code 2020: Day 4](https://adventofcode.com/2020/day/4)"
   ]
  },
  {
   "cell_type": "markdown",
   "metadata": {},
   "source": [
    "## \\-\\-\\- Day 4: Passport Processing \\-\\-\\-\n",
    "\n",
    "You arrive at the airport only to realize that you grabbed your North Pole Credentials instead of your passport. While these documents are extremely similar, North Pole Credentials aren't issued by a country and therefore aren't actually valid documentation for travel in most of the world.\n",
    "\n",
    "It seems like you're not the only one having problems, though; a very long line has formed for the automatic passport scanners, and the delay could upset your travel itinerary.\n",
    "\n",
    "Due to some questionable network security, you realize you might be able to solve both of these problems at the same time.\n",
    "\n",
    "The automatic passport scanners are slow because they're having trouble **detecting which passports have all required fields**. The expected fields are as follows:\n",
    "\n",
    "*   `byr` (Birth Year)\n",
    "*   `iyr` (Issue Year)\n",
    "*   `eyr` (Expiration Year)\n",
    "*   `hgt` (Height)\n",
    "*   `hcl` (Hair Color)\n",
    "*   `ecl` (Eye Color)\n",
    "*   `pid` (Passport ID)\n",
    "*   `cid` (Country ID)\n",
    "\n",
    "Passport data is validated in batch files (your puzzle input). Each passport is represented as a sequence of `key:value` pairs separated by spaces or newlines. Passports are separated by blank lines.\n",
    "\n",
    "Here is an example batch file containing four passports:\n",
    "\n",
    "```\n",
    "ecl:gry pid:860033327 eyr:2020 hcl:#fffffd\n",
    "byr:1937 iyr:2017 cid:147 hgt:183cm\n",
    "\n",
    "iyr:2013 ecl:amb cid:350 eyr:2023 pid:028048884\n",
    "hcl:#cfa07d byr:1929\n",
    "\n",
    "hcl:#ae17e1 iyr:2013\n",
    "eyr:2024\n",
    "ecl:brn pid:760753108 byr:1931\n",
    "hgt:179cm\n",
    "\n",
    "hcl:#cfa07d eyr:2025 pid:166559648\n",
    "iyr:2011 ecl:brn hgt:59in\n",
    "\n",
    "```\n",
    "\n",
    "The first passport is **valid** \\- all eight fields are present. The second passport is **invalid** \\- it is missing `hgt` (the Height field).\n",
    "\n",
    "The third passport is interesting; the **only missing field** is `cid`, so it looks like data from North Pole Credentials, not a passport at all! Surely, nobody would mind if you made the system temporarily ignore missing `cid` fields. Treat this \"passport\" as **valid**.\n",
    "\n",
    "The fourth passport is missing two fields, `cid` and `byr`. Missing `cid` is fine, but missing any other field is not, so this passport is **invalid**.\n",
    "\n",
    "According to the above rules, your improved system would report **`2`** valid passports.\n",
    "\n",
    "Count the number of *valid* passports \\- those that have all required fields. Treat `cid` as optional. **In your batch file, how many passports are valid?**"
   ]
  },
  {
   "cell_type": "code",
   "execution_count": 1,
   "metadata": {},
   "outputs": [
    {
     "name": "stderr",
     "output_type": "stream",
     "text": [
      "..\n",
      "----------------------------------------------------------------------\n",
      "Ran 2 tests in 0.002s\n",
      "\n",
      "OK\n"
     ]
    },
    {
     "data": {
      "text/plain": [
       "<unittest.main.TestProgram at 0x7fdd984845f8>"
      ]
     },
     "execution_count": 1,
     "metadata": {},
     "output_type": "execute_result"
    }
   ],
   "source": [
    "import re\n",
    "import unittest\n",
    "from IPython.display import Markdown, display\n",
    "\n",
    "from aoc_puzzle import AocPuzzle\n",
    "\n",
    "class AutomaticPassportScanner(AocPuzzle):\n",
    "            \n",
    "    REQUIRED_FIELDS = set(['byr','iyr','eyr','hgt','hcl','ecl','pid'])\n",
    "    OPTIONAL_FIELDS = set(['cid'])\n",
    "        \n",
    "    def parse_data(self, data):\n",
    "        clean_data = re.sub(\"\\n\",\" \", data)\n",
    "        clean_data = re.sub(\"  \",\"\\n\", clean_data)\n",
    "        \n",
    "        data = clean_data.split('\\n')\n",
    "        \n",
    "        self.data = []\n",
    "        for passport in data:\n",
    "            passport_fields = {}\n",
    "            field_data = passport.split(' ')\n",
    "            for field in field_data:\n",
    "                m = re.match(\"(\\w{3}):([#\\w\\d]+)\", field)\n",
    "                passport_fields[m.group(1)] = m.group(2)\n",
    "            self.data.append(passport_fields)\n",
    "            \n",
    "    def is_valid(self, passport):\n",
    "        required_fields = passport.keys() - self.OPTIONAL_FIELDS\n",
    "        return required_fields == self.REQUIRED_FIELDS\n",
    "        \n",
    "    def run(self, output=False):\n",
    "        valid_count = 0\n",
    "        for passport in self.data:\n",
    "            if self.is_valid(passport):\n",
    "                valid_count += 1\n",
    "        if output:\n",
    "            display(Markdown(f'### Validated `{valid_count}` passports out of `{len(self.data)}`'))\n",
    "        return valid_count   \n",
    "        \n",
    "\n",
    "class TestBasic(unittest.TestCase):\n",
    "\n",
    "    def test_parse_data(self):\n",
    "        in_data = 'ecl:gry pid:860033327 eyr:2020 hcl:#fffffd\\nbyr:1937 iyr:2017 cid:147 hgt:183cm'\n",
    "        exp_out = [{'ecl':'gry','pid':'860033327','eyr':'2020','hcl':'#fffffd','byr':'1937','iyr':'2017','cid':'147','hgt':'183cm'}]\n",
    "        aps = AutomaticPassportScanner(in_data)\n",
    "        self.assertEqual(aps.data, exp_out)\n",
    "        \n",
    "    def test_count_valid(self):\n",
    "        in_data = 'ecl:gry pid:860033327 eyr:2020 hcl:#fffffd\\nbyr:1937 iyr:2017 cid:147 hgt:183cm\\n\\niyr:2013 ecl:amb cid:350 eyr:2023 pid:028048884\\nhcl:#cfa07d byr:1929\\n\\nhcl:#ae17e1 iyr:2013\\neyr:2024\\necl:brn pid:760753108 byr:1931\\nhgt:179cm\\n\\nhcl:#cfa07d eyr:2025 pid:166559648\\niyr:2011 ecl:brn hgt:59in'\n",
    "        exp_out = 2\n",
    "        aps = AutomaticPassportScanner(in_data)\n",
    "        self.assertEqual(aps.run(), exp_out)\n",
    "        \n",
    "unittest.main(argv=[\"\"], exit=False)"
   ]
  },
  {
   "cell_type": "code",
   "execution_count": 2,
   "metadata": {},
   "outputs": [
    {
     "data": {
      "text/markdown": [
       "### Validated `206` passports out of `257`"
      ],
      "text/plain": [
       "<IPython.core.display.Markdown object>"
      ]
     },
     "metadata": {},
     "output_type": "display_data"
    },
    {
     "data": {
      "text/plain": [
       "206"
      ]
     },
     "execution_count": 2,
     "metadata": {},
     "output_type": "execute_result"
    }
   ],
   "source": [
    "aps = AutomaticPassportScanner(\"input/d04.txt\")\n",
    "aps.run(output=True)"
   ]
  },
  {
   "cell_type": "markdown",
   "metadata": {},
   "source": [
    "## \\-\\-\\- Part Two \\-\\-\\-\n",
    "\n",
    "The line is moving more quickly now, but you overhear airport security talking about how passports with invalid data are getting through. Better add some data validation, quick!\n",
    "\n",
    "You can continue to ignore the `cid` field, but each other field has strict rules about what values are valid for automatic validation:\n",
    "\n",
    "*   `byr` (Birth Year) \\- four digits; at least `1920` and at most `2002`.\n",
    "*   `iyr` (Issue Year) \\- four digits; at least `2010` and at most `2020`.\n",
    "*   `eyr` (Expiration Year) \\- four digits; at least `2020` and at most `2030`.\n",
    "*   `hgt` (Height) \\- a number followed by either `cm` or `in`:\n",
    "    *   If `cm`, the number must be at least `150` and at most `193`.\n",
    "    *   If `in`, the number must be at least `59` and at most `76`.\n",
    "*   `hcl` (Hair Color) \\- a `#` followed by exactly six characters `0`\\-`9` or `a`\\-`f`.\n",
    "*   `ecl` (Eye Color) \\- exactly one of: `amb` `blu` `brn` `gry` `grn` `hzl` `oth`.\n",
    "*   `pid` (Passport ID) \\- a nine\\-digit number, including leading zeroes.\n",
    "*   `cid` (Country ID) \\- ignored, missing or not.\n",
    "\n",
    "Your job is to count the passports where all required fields are both **present** and **valid** according to the above rules. Here are some example values:\n",
    "\n",
    "```\n",
    "byr valid:   2002\n",
    "byr invalid: 2003\n",
    "\n",
    "hgt valid:   60in\n",
    "hgt valid:   190cm\n",
    "hgt invalid: 190in\n",
    "hgt invalid: 190\n",
    "\n",
    "hcl valid:   #123abc\n",
    "hcl invalid: #123abz\n",
    "hcl invalid: 123abc\n",
    "\n",
    "ecl valid:   brn\n",
    "ecl invalid: wat\n",
    "\n",
    "pid valid:   000000001\n",
    "pid invalid: 0123456789\n",
    "\n",
    "```\n",
    "\n",
    "Here are some invalid passports:\n",
    "\n",
    "```\n",
    "eyr:1972 cid:100\n",
    "hcl:#18171d ecl:amb hgt:170 pid:186cm iyr:2018 byr:1926\n",
    "\n",
    "iyr:2019\n",
    "hcl:#602927 eyr:1967 hgt:170cm\n",
    "ecl:grn pid:012533040 byr:1946\n",
    "\n",
    "hcl:dab227 iyr:2012\n",
    "ecl:brn hgt:182cm pid:021572410 eyr:2020 byr:1992 cid:277\n",
    "\n",
    "hgt:59cm ecl:zzz\n",
    "eyr:2038 hcl:74454a iyr:2023\n",
    "pid:3556412378 byr:2007\n",
    "\n",
    "```\n",
    "\n",
    "Here are some valid passports:\n",
    "\n",
    "```\n",
    "pid:087499704 hgt:74in ecl:grn iyr:2012 eyr:2030 byr:1980\n",
    "hcl:#623a2f\n",
    "\n",
    "eyr:2029 ecl:blu cid:129 byr:1989\n",
    "iyr:2014 pid:896056539 hcl:#a97842 hgt:165cm\n",
    "\n",
    "hcl:#888785\n",
    "hgt:164cm byr:2001 iyr:2015 cid:88\n",
    "pid:545766238 ecl:hzl\n",
    "eyr:2022\n",
    "\n",
    "iyr:2010 hgt:158cm hcl:#b6652a ecl:blu byr:1944 eyr:2021 pid:093154719\n",
    "\n",
    "```\n",
    "\n",
    "Count the number of **valid** passports \\- those that have all required fields **and valid values**. Continue to treat `cid` as optional. **In your batch file, how many passports are valid?**"
   ]
  },
  {
   "cell_type": "code",
   "execution_count": 3,
   "metadata": {},
   "outputs": [
    {
     "name": "stderr",
     "output_type": "stream",
     "text": [
      "..\n",
      "----------------------------------------------------------------------\n",
      "Ran 2 tests in 0.003s\n",
      "\n",
      "OK\n"
     ]
    },
    {
     "data": {
      "text/plain": [
       "<unittest.main.TestProgram at 0x7fdd983b6c18>"
      ]
     },
     "execution_count": 3,
     "metadata": {},
     "output_type": "execute_result"
    }
   ],
   "source": [
    "class AutomaticPassportScanner2(AutomaticPassportScanner):\n",
    "    \n",
    "    def check_digits(self, val, vlen):\n",
    "        return len(val) == vlen\n",
    "    \n",
    "    def is_byr_valid(self, val):\n",
    "        \"\"\"byr (Birth Year) - four digits; at least 1920 and at most 2002.\"\"\"\n",
    "        if not self.check_digits(val, 4):\n",
    "            return False\n",
    "        \n",
    "        if type(val) != int:\n",
    "            val = int(val)\n",
    "            \n",
    "        return val >=1920 and val <= 2002\n",
    "    \n",
    "    def is_iyr_valid(self, val):\n",
    "        \"\"\"iyr (Issue Year) - four digits; at least 2010 and at most 2020.\"\"\"\n",
    "        if not self.check_digits(val, 4):\n",
    "            return False\n",
    "        \n",
    "        if type(val) != int:\n",
    "            val = int(val)\n",
    "            \n",
    "        return val >=2010 and val <= 2020\n",
    "\n",
    "    def is_eyr_valid(self, val):\n",
    "        \"\"\"eyr (Expiration Year) - four digits; at least 2020 and at most 2030.\"\"\"\n",
    "        if not self.check_digits(val, 4):\n",
    "            return False\n",
    "        \n",
    "        if type(val) != int:\n",
    "            val = int(val)\n",
    "            \n",
    "        return val >=2020 and val <= 2030\n",
    "\n",
    "    def is_hgt_valid(self, val):\n",
    "        \"\"\"\n",
    "        hgt (Height) - a number followed by either cm or in:\n",
    "        If cm, the number must be at least 150 and at most 193.\n",
    "        If in, the number must be at least 59 and at most 76.\n",
    "        \"\"\"\n",
    "        m = re.match('^(\\d+)(\\w+)$', val)\n",
    "        val = int(m.group(1))\n",
    "        unit = m.group(2)\n",
    "        \n",
    "        if unit == 'cm':\n",
    "            return val >=150 and val <= 193        \n",
    "        elif unit == 'in':\n",
    "            return val >=59 and val <= 76\n",
    "        else:\n",
    "            return False\n",
    "        \n",
    "\n",
    "    def is_hcl_valid(self, val):\n",
    "        \"\"\"hcl (Hair Color) - a # followed by exactly six characters 0-9 or a-f.\"\"\"        \n",
    "        m = re.match('^#[0-9a-f]{6}$', val)\n",
    "        return m != None\n",
    "\n",
    "    def is_ecl_valid(self, val):\n",
    "        \"\"\"ecl (Eye Color) - exactly one of: amb blu brn gry grn hzl oth.\"\"\"\n",
    "        eye_colors = ['amb','blu','brn','gry','grn','hzl','oth']\n",
    "        return val in eye_colors\n",
    "    \n",
    "    def is_pid_valid(self, val):\n",
    "        \"\"\"pid (Passport ID) - a nine-digit number, including leading zeroes.\"\"\"        \n",
    "        m = re.match('^\\d{9}$', val)\n",
    "        return m != None\n",
    "            \n",
    "    def is_valid(self, passport):\n",
    "        \n",
    "        # First check that all required fields are present\n",
    "        required_fields = passport.keys() - self.OPTIONAL_FIELDS\n",
    "        if required_fields != self.REQUIRED_FIELDS:\n",
    "            return False\n",
    "        \n",
    "        # Then check that all fields are valid\n",
    "        for field in required_fields:\n",
    "            check_func = getattr(self, f'is_{field}_valid')\n",
    "            if check_func(passport[field]) == False:\n",
    "                return False\n",
    "        \n",
    "        return True            \n",
    "\n",
    "class TestBasic(unittest.TestCase):\n",
    "        \n",
    "    def test_invalid(self):\n",
    "        in_data = 'eyr:1972 cid:100\\nhcl:#18171d ecl:amb hgt:170 pid:186cm iyr:2018 byr:1926\\n\\niyr:2019\\nhcl:#602927 eyr:1967 hgt:170cm\\necl:grn pid:012533040 byr:1946\\n\\nhcl:dab227 iyr:2012\\necl:brn hgt:182cm pid:021572410 eyr:2020 byr:1992 cid:277\\n\\nhgt:59cm ecl:zzz\\neyr:2038 hcl:74454a iyr:2023\\npid:3556412378 byr:2007\\n\\npid:087499704 hgt:74in ecl:grn iyr:2012 eyr:02030 byr:1980\\nhcl:#623a2f'\n",
    "        exp_out = 0\n",
    "        aps = AutomaticPassportScanner2(in_data)\n",
    "        self.assertEqual(aps.run(), exp_out)\n",
    "    \n",
    "    def test_valid(self):\n",
    "        in_data = 'pid:087499704 hgt:74in ecl:grn iyr:2012 eyr:2030 byr:1980\\nhcl:#623a2f\\n\\neyr:2029 ecl:blu cid:129 byr:1989\\niyr:2014 pid:896056539 hcl:#a97842 hgt:165cm\\n\\nhcl:#888785\\nhgt:164cm byr:2001 iyr:2015 cid:88\\npid:545766238 ecl:hzl\\neyr:2022\\n\\niyr:2010 hgt:158cm hcl:#b6652a ecl:blu byr:1944 eyr:2021 pid:093154719'\n",
    "        exp_out = 4\n",
    "        aps = AutomaticPassportScanner2(in_data)\n",
    "        self.assertEqual(aps.run(), exp_out)\n",
    "        \n",
    "unittest.main(argv=[\"\"], exit=False)"
   ]
  },
  {
   "cell_type": "code",
   "execution_count": 4,
   "metadata": {},
   "outputs": [
    {
     "data": {
      "text/markdown": [
       "### Validated `123` passports out of `257`"
      ],
      "text/plain": [
       "<IPython.core.display.Markdown object>"
      ]
     },
     "metadata": {},
     "output_type": "display_data"
    },
    {
     "data": {
      "text/plain": [
       "123"
      ]
     },
     "execution_count": 4,
     "metadata": {},
     "output_type": "execute_result"
    }
   ],
   "source": [
    "aps = AutomaticPassportScanner2(\"input/d04.txt\")\n",
    "aps.run(output=True)"
   ]
  }
 ],
 "metadata": {
  "kernelspec": {
   "display_name": "Python 3",
   "language": "python",
   "name": "python3"
  },
  "language_info": {
   "codemirror_mode": {
    "name": "ipython",
    "version": 3
   },
   "file_extension": ".py",
   "mimetype": "text/x-python",
   "name": "python",
   "nbconvert_exporter": "python",
   "pygments_lexer": "ipython3",
   "version": "3.6.8"
  }
 },
 "nbformat": 4,
 "nbformat_minor": 2
}
