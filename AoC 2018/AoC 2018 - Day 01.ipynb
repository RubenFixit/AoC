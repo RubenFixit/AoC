{
 "cells": [
  {
   "cell_type": "markdown",
   "metadata": {},
   "source": [
    "# [Advent of Code 2018: Day 1](https://adventofcode.com/2018/day/1)"
   ]
  },
  {
   "cell_type": "markdown",
   "metadata": {},
   "source": [
    "<h2>--- Day 1: Chronal Calibration ---</h2>\n",
    "<p>\"We've detected some temporal anomalies,\" one of Santa's Elves at the <span title=\"It's about as big on the inside as you expected.\">Temporal Anomaly Research and Detection Instrument Station</span> tells you. She sounded pretty worried when she called\n",
    "    you down here. \"At 500-year intervals into the past, someone has been changing Santa's history!\"</p>\n",
    "<p>\"The good news is that the changes won't propagate to our time stream for another 25 days, and we have a device\" - she attaches something to your wrist - \"that will let you fix the changes with no such propagation delay. It's configured to send you 500\n",
    "    years further into the past every few days; that was the best we could do on such short notice.\"</p>\n",
    "<p>\"The bad news is that we are detecting roughly <em>fifty</em> anomalies throughout time; the device will indicate fixed anomalies with <em class=\"star\">stars</em>. The other bad news is that we only have one device and you're the best person for the job!\n",
    "    Good lu--\" She taps a button on the device and you suddenly feel like you're falling. To save Christmas, you need to get all <em class=\"star\">fifty stars</em> by December 25th.</p>\n",
    "<p>Collect stars by solving puzzles. Two puzzles will be made available on each day in the Advent calendar; the second puzzle is unlocked when you complete the first. Each puzzle grants <em class=\"star\">one star</em>. Good luck!</p>\n",
    "<p>After feeling like you've been falling for a few minutes, you look at the device's tiny screen. \"Error: Device must be calibrated before first use. Frequency drift detected. Cannot maintain destination lock.\" Below the message, the device shows a sequence\n",
    "    of changes in frequency (your puzzle input). A value like <code>+6</code> means the current frequency increases by <code>6</code>; a value like <code>-3</code> means the current frequency decreases by <code>3</code>.</p>\n",
    "<p>For example, if the device displays frequency changes of <code>+1, -2, +3, +1</code>, then starting from a frequency of zero, the following changes would occur:</p>\n",
    "<ul>\n",
    "    <li>Current frequency <code>&nbsp;0</code>, change of <code>+1</code>; resulting frequency <code>&nbsp;1</code>.</li>\n",
    "    <li>Current frequency <code>&nbsp;1</code>, change of <code>-2</code>; resulting frequency <code>-1</code>.</li>\n",
    "    <li>Current frequency <code>-1</code>, change of <code>+3</code>; resulting frequency <code>&nbsp;2</code>.</li>\n",
    "    <li>Current frequency <code>&nbsp;2</code>, change of <code>+1</code>; resulting frequency <code>&nbsp;3</code>.</li>\n",
    "</ul>\n",
    "<p>In this example, the resulting frequency is <code>3</code>.</p>\n",
    "<p>Here are other example situations:</p>\n",
    "<ul>\n",
    "    <li><code>+1, +1, +1</code> results in <code>&nbsp;3</code></li>\n",
    "    <li><code>+1, +1, -2</code> results in <code>&nbsp;0</code></li>\n",
    "    <li><code>-1, -2, -3</code> results in <code>-6</code></li>\n",
    "</ul>\n",
    "<p>Starting with a frequency of zero, <em>what is the resulting frequency</em> after all of the changes in frequency have been applied?</p>"
   ]
  },
  {
   "cell_type": "code",
   "execution_count": 1,
   "metadata": {},
   "outputs": [
    {
     "name": "stderr",
     "output_type": "stream",
     "text": [
      ".\n",
      "----------------------------------------------------------------------\n",
      "Ran 1 test in 0.001s\n",
      "\n",
      "OK\n"
     ]
    },
    {
     "data": {
      "text/plain": [
       "<unittest.main.TestProgram at 0x7f1ea867d6a0>"
      ]
     },
     "execution_count": 1,
     "metadata": {},
     "output_type": "execute_result"
    }
   ],
   "source": [
    "import os\n",
    "import unittest\n",
    "from math import floor\n",
    "\n",
    "def calc_frequency(start_frq, change_list, deliminator = '\\n', num_repeat = 2):\n",
    "    \n",
    "    if type(change_list) is str:\n",
    "        change_list = str_to_list(change_list, deliminator)\n",
    "    \n",
    "    frq_steps = [start_frq]\n",
    "    new_frq = start_frq\n",
    "    for change in change_list:\n",
    "        new_frq += change\n",
    "        frq_steps.append(new_frq)\n",
    "        \n",
    "        if frq_steps.count(new_frq) >= num_repeat:\n",
    "            return new_frq\n",
    "        \n",
    "    return new_frq\n",
    "\n",
    "def str_to_list(input_str, deliminator = '\\n'):\n",
    "    new_list = []\n",
    "    for line in input_str.split(deliminator):\n",
    "        new_list.append(int(line))\n",
    "    return new_list\n",
    "\n",
    "class TestBasic(unittest.TestCase):\n",
    "    def test_part_one(self):\n",
    "        data = [(\"+1, -2, +3, +1\",3)]\n",
    "        start_frq = 0\n",
    "        for input, output in data:\n",
    "            self.assertEqual(output ,calc_frequency(start_frq, input, ','))\n",
    "        \n",
    "        \n",
    "unittest.main(argv=[\"\"], exit=False)"
   ]
  },
  {
   "cell_type": "code",
   "execution_count": 2,
   "metadata": {},
   "outputs": [
    {
     "data": {
      "text/plain": [
       "435"
      ]
     },
     "execution_count": 2,
     "metadata": {},
     "output_type": "execute_result"
    }
   ],
   "source": [
    "with open(os.path.join(\"inputs\", \"input_d01.txt\")) as file:\n",
    "    data = file.read()\n",
    "    \n",
    "calc_frequency(start_frq = 0, change_list = data)"
   ]
  },
  {
   "cell_type": "markdown",
   "metadata": {},
   "source": [
    "<h2 id=\"part2\">--- Part Two ---</h2>\n",
    "<p>You notice that the device repeats the same frequency change list over and over. To calibrate the device, you need to find the first frequency it reaches <em>twice</em>.</p>\n",
    "<p>For example, using the same list of changes above, the device would loop as follows:</p>\n",
    "<ul>\n",
    "    <li>Current frequency <code>&nbsp;0</code>, change of <code>+1</code>; resulting frequency <code>&nbsp;1</code>.</li>\n",
    "    <li>Current frequency <code>&nbsp;1</code>, change of <code>-2</code>; resulting frequency <code>-1</code>.</li>\n",
    "    <li>Current frequency <code>-1</code>, change of <code>+3</code>; resulting frequency <code>&nbsp;2</code>.</li>\n",
    "    <li>Current frequency <code>&nbsp;2</code>, change of <code>+1</code>; resulting frequency <code>&nbsp;3</code>.</li>\n",
    "    <li>(At this point, the device continues from the start of the list.)</li>\n",
    "    <li>Current frequency <code>&nbsp;3</code>, change of <code>+1</code>; resulting frequency <code>&nbsp;4</code>.</li>\n",
    "    <li>Current frequency <code>&nbsp;4</code>, change of <code>-2</code>; resulting frequency <code>&nbsp;2</code>, which has already been seen.</li>\n",
    "</ul>\n",
    "<p>In this example, the first frequency reached twice is <code>2</code>. Note that your device might need to repeat its list of frequency changes many times before a duplicate frequency is found, and that duplicates might be found while in the middle of\n",
    "    processing the list.</p>\n",
    "<p>Here are other examples:</p>\n",
    "<ul>\n",
    "    <li><code>+1, -1</code> first reaches <code>0</code> twice.</li>\n",
    "    <li><code>+3, +3, +4, -2, -4</code> first reaches <code>10</code> twice.</li>\n",
    "    <li><code>-6, +3, +8, +5, -6</code> first reaches <code>5</code> twice.</li>\n",
    "    <li><code>+7, +7, -2, -7, -4</code> first reaches <code>14</code> twice.</li>\n",
    "</ul>\n",
    "<p><em>What is the first frequency your device reaches twice?</em></p>"
   ]
  },
  {
   "cell_type": "code",
   "execution_count": 3,
   "metadata": {},
   "outputs": [
    {
     "name": "stderr",
     "output_type": "stream",
     "text": [
      "."
     ]
    },
    {
     "name": "stdout",
     "output_type": "stream",
     "text": [
      "+1, -2, +3, +1, +1, -2\n",
      "First repeating freq: 2 in 1 passes\n",
      "+1, -1\n",
      "First repeating freq: 0 in 1 passes\n",
      "+3, +3, +4, -2, -4\n",
      "First repeating freq: 10 in 2 passes\n",
      "-6, +3, +8, +5, -6\n",
      "First repeating freq: 5 in 3 passes\n",
      "+7, +7, -2, -7, -4\n",
      "First repeating freq: 14 in 3 passes\n"
     ]
    },
    {
     "name": "stderr",
     "output_type": "stream",
     "text": [
      "\n",
      "----------------------------------------------------------------------\n",
      "Ran 1 test in 0.003s\n",
      "\n",
      "OK\n"
     ]
    },
    {
     "data": {
      "text/plain": [
       "<unittest.main.TestProgram at 0x7f1ea863c6a0>"
      ]
     },
     "execution_count": 3,
     "metadata": {},
     "output_type": "execute_result"
    }
   ],
   "source": [
    "def calc_repeat_frequency(start_frq, change_list, deliminator = '\\n', target_repeats = 2, max_tries = 1000):\n",
    "    \n",
    "    if type(change_list) is str:\n",
    "        change_list = str_to_list(change_list, deliminator)\n",
    "    \n",
    "    frq = start_frq\n",
    "    frq_repeats = {frq: 1}\n",
    "    tries = 0\n",
    "    \n",
    "    while (tries < max_tries):\n",
    "        tries += 1\n",
    "        for frq_change in change_list:\n",
    "            frq += frq_change\n",
    "            \n",
    "            try:\n",
    "                frq_repeats[frq] += 1\n",
    "            except KeyError:\n",
    "                frq_repeats[frq] = 1\n",
    "                \n",
    "            if frq_repeats[frq] == target_repeats:\n",
    "                print(f'First repeating freq: {frq} in {tries} passes')\n",
    "                return frq\n",
    "    return frq\n",
    "\n",
    "class TestBasic(unittest.TestCase):\n",
    "            \n",
    "    def test_part_two(self):\n",
    "        data = [(\"+1, -2, +3, +1, +1, -2\", 2),\n",
    "                (\"+1, -1\", 0),\n",
    "                (\"+3, +3, +4, -2, -4\", 10),\n",
    "                (\"-6, +3, +8, +5, -6\", 5),\n",
    "                (\"+7, +7, -2, -7, -4\", 14)]\n",
    "        start_frq = 0\n",
    "        for input, output in data:\n",
    "            print(input)\n",
    "            self.assertEqual(output ,calc_repeat_frequency(start_frq, input, ','))\n",
    "        \n",
    "        \n",
    "unittest.main(argv=[\"\"], exit=False)"
   ]
  },
  {
   "cell_type": "code",
   "execution_count": 4,
   "metadata": {},
   "outputs": [
    {
     "name": "stdout",
     "output_type": "stream",
     "text": [
      "First repeating freq: 245 in 144 passes\n"
     ]
    },
    {
     "data": {
      "text/plain": [
       "245"
      ]
     },
     "execution_count": 4,
     "metadata": {},
     "output_type": "execute_result"
    }
   ],
   "source": [
    "calc_repeat_frequency(start_frq = 0 , change_list = data)"
   ]
  }
 ],
 "metadata": {
  "kernelspec": {
   "display_name": "Python 3",
   "language": "python",
   "name": "python3"
  },
  "language_info": {
   "codemirror_mode": {
    "name": "ipython",
    "version": 3
   },
   "file_extension": ".py",
   "mimetype": "text/x-python",
   "name": "python",
   "nbconvert_exporter": "python",
   "pygments_lexer": "ipython3",
   "version": "3.6.8"
  }
 },
 "nbformat": 4,
 "nbformat_minor": 2
}
