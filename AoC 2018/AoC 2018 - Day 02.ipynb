{
 "cells": [
  {
   "cell_type": "markdown",
   "metadata": {},
   "source": [
    "# [Advent of Code 2018: Day 2](https://adventofcode.com/2018/day/2)"
   ]
  },
  {
   "cell_type": "markdown",
   "metadata": {},
   "source": [
    "<h2>--- Day 2: Inventory Management System ---</h2>\n",
    "<p>You stop falling through time, catch your breath, and check the screen on the device. \"Destination reached. Current Year: 1518. Current Location: North Pole Utility Closet 83N10.\" You made it! Now, to find those anomalies.</p>\n",
    "<p>Outside the utility closet, you hear footsteps and a voice. \"...I'm not sure either. But now that <span title=\"This is, in fact, roughly when chimneys became common in houses.\">so many people have chimneys</span>, maybe he could sneak in that way?\" Another\n",
    "    voice responds, \"Actually, we've been working on a new kind of <em>suit</em> that would let him fit through tight spaces like that. But, I heard that a few days ago, they lost the prototype fabric, the design plans, everything! Nobody on the team\n",
    "    can even seem to remember important details of the project!\"</p>\n",
    "<p>\"Wouldn't they have had enough fabric to fill several boxes in the warehouse? They'd be stored together, so the box IDs should be similar. Too bad it would take forever to search the warehouse for <em>two similar box IDs</em>...\" They walk too far away\n",
    "    to hear any more.</p>\n",
    "<p>Late at night, you sneak to the warehouse - who knows what kinds of paradoxes you could cause if you were discovered - and use your fancy wrist device to quickly scan every box and produce a list of the likely candidates (your puzzle input).</p>\n",
    "<p>To make sure you didn't miss any, you scan the likely candidate boxes again, counting the number that have an ID containing <em>exactly two of any letter</em> and then separately counting those with <em>exactly three of any letter</em>. You can multiply\n",
    "    those two counts together to get a rudimentary <a href=\"https://en.wikipedia.org/wiki/Checksum\">checksum</a> and compare it to what your device predicts.</p>\n",
    "<p>For example, if you see the following box IDs:</p>\n",
    "<ul>\n",
    "    <li><code>abcdef</code> contains no letters that appear exactly two or three times.</li>\n",
    "    <li><code>bababc</code> contains two <code>a</code> and three <code>b</code>, so it counts for both.</li>\n",
    "    <li><code>abbcde</code> contains two <code>b</code>, but no letter appears exactly three times.</li>\n",
    "    <li><code>abcccd</code> contains three <code>c</code>, but no letter appears exactly two times.</li>\n",
    "    <li><code>aabcdd</code> contains two <code>a</code> and two <code>d</code>, but it only counts once.</li>\n",
    "    <li><code>abcdee</code> contains two <code>e</code>.</li>\n",
    "    <li><code>ababab</code> contains three <code>a</code> and three <code>b</code>, but it only counts once.</li>\n",
    "</ul>\n",
    "<p>Of these box IDs, four of them contain a letter which appears exactly twice, and three of them contain a letter which appears exactly three times. Multiplying these together produces a checksum of <code>4 * 3 = 12</code>.</p>\n",
    "<p><em>What is the checksum</em> for your list of box IDs?</p>"
   ]
  },
  {
   "cell_type": "code",
   "execution_count": 1,
   "metadata": {},
   "outputs": [
    {
     "name": "stderr",
     "output_type": "stream",
     "text": [
      "."
     ]
    },
    {
     "name": "stdout",
     "output_type": "stream",
     "text": [
      "Chars x2: 0, x3: 0\n",
      "Chars x2: 1, x3: 1\n",
      "Chars x2: 2, x3: 1\n",
      "Chars x2: 2, x3: 2\n",
      "Chars x2: 3, x3: 2\n",
      "Chars x2: 4, x3: 2\n",
      "Chars x2: 4, x3: 3\n"
     ]
    },
    {
     "name": "stderr",
     "output_type": "stream",
     "text": [
      "\n",
      "----------------------------------------------------------------------\n",
      "Ran 1 test in 0.003s\n",
      "\n",
      "OK\n"
     ]
    },
    {
     "data": {
      "text/plain": [
       "<unittest.main.TestProgram at 0x7fb2d85cce10>"
      ]
     },
     "execution_count": 1,
     "metadata": {},
     "output_type": "execute_result"
    }
   ],
   "source": [
    "import os\n",
    "import unittest\n",
    "\n",
    "def calc_id_checksums(id_list, deliminator = '\\n', verbose = False):\n",
    "    \n",
    "    if type(id_list) is str:\n",
    "        id_list = id_list.split(deliminator)\n",
    "    \n",
    "    num_char_x2 = 0\n",
    "    num_char_x3 = 0\n",
    "\n",
    "    for id in id_list:\n",
    "        chars_counted = []\n",
    "        num_char_x2_done = False\n",
    "        num_char_x3_done = False\n",
    "        for char in id:\n",
    "            if char not in chars_counted:\n",
    "                chars_counted.append(char)\n",
    "            \n",
    "                if (id.count(char) is 2) and not num_char_x2_done:\n",
    "                    num_char_x2 += 1\n",
    "                    num_char_x2_done = True\n",
    "                    \n",
    "                if id.count(char) is 3 and not num_char_x3_done:\n",
    "                    num_char_x3 += 1\n",
    "                    num_char_x3_done = True\n",
    "        \n",
    "        if verbose:\n",
    "            print(f'Chars x2: {num_char_x2}, x3: {num_char_x3}')\n",
    "        \n",
    "    return num_char_x2 * num_char_x3\n",
    "\n",
    "class TestBasic(unittest.TestCase):\n",
    "    def test_part_one(self):\n",
    "        data = [(['abcdef','bababc','abbcde','abcccd','aabcdd','abcdee','ababab'],12)]\n",
    "        for input, ans in data:\n",
    "            self.assertEqual(calc_id_checksums(id_list = input, verbose = True), ans)\n",
    "        \n",
    "        \n",
    "unittest.main(argv=[\"\"], exit=False)"
   ]
  },
  {
   "cell_type": "code",
   "execution_count": 2,
   "metadata": {},
   "outputs": [
    {
     "data": {
      "text/plain": [
       "4920"
      ]
     },
     "execution_count": 2,
     "metadata": {},
     "output_type": "execute_result"
    }
   ],
   "source": [
    "with open(os.path.join(\"inputs\", \"input_d02.txt\")) as file:\n",
    "    data = file.read()\n",
    "    \n",
    "calc_id_checksums(data)"
   ]
  },
  {
   "cell_type": "markdown",
   "metadata": {},
   "source": [
    "<h2 id=\"part2\">--- Part Two ---</h2>\n",
    "<p>Confident that your list of box IDs is complete, you're ready to find the boxes full of prototype fabric.</p>\n",
    "<p>The boxes will have IDs which differ by exactly one character at the same position in both strings. For example, given the following box IDs:</p>\n",
    "<pre><code>abcde\n",
    "fghij\n",
    "klmno\n",
    "pqrst\n",
    "fguij\n",
    "axcye\n",
    "wvxyz\n",
    "</code></pre>\n",
    "<p>The IDs <code>abcde</code> and <code>axcye</code> are close, but they differ by two characters (the second and fourth). However, the IDs <code>fghij</code> and <code>fguij</code> differ by exactly one character, the third (<code>h</code> and <code>u</code>).\n",
    "    Those must be the correct boxes.</p>\n",
    "<p><em>What letters are common between the two correct box IDs?</em> (In the example above, this is found by removing the differing character from either ID, producing <code>fgij</code>.)</p>"
   ]
  },
  {
   "cell_type": "code",
   "execution_count": 3,
   "metadata": {},
   "outputs": [
    {
     "name": "stderr",
     "output_type": "stream",
     "text": [
      "."
     ]
    },
    {
     "name": "stdout",
     "output_type": "stream",
     "text": [
      "Expected match ratio: 0.8\n",
      "id1: abcde, id2: abcde match ratio: 1.0\n",
      "id1: abcde, id2: fghij match ratio: 0.0\n",
      "id1: abcde, id2: klmno match ratio: 0.0\n",
      "id1: abcde, id2: pqrst match ratio: 0.0\n",
      "id1: abcde, id2: fguij match ratio: 0.0\n",
      "id1: abcde, id2: axcye match ratio: 0.6\n",
      "id1: abcde, id2: wvxyz match ratio: 0.0\n",
      "id1: fghij, id2: abcde match ratio: 0.0\n",
      "id1: fghij, id2: fghij match ratio: 1.0\n",
      "id1: fghij, id2: klmno match ratio: 0.0\n",
      "id1: fghij, id2: pqrst match ratio: 0.0\n",
      "id1: fghij, id2: fguij match ratio: 0.8\n",
      "id1: fghij matches id2: fguij with the desired 0.8 match ratio\n"
     ]
    },
    {
     "name": "stderr",
     "output_type": "stream",
     "text": [
      "\n",
      "----------------------------------------------------------------------\n",
      "Ran 1 test in 0.002s\n",
      "\n",
      "OK\n"
     ]
    },
    {
     "data": {
      "text/plain": [
       "<unittest.main.TestProgram at 0x7fb2d85bb1d0>"
      ]
     },
     "execution_count": 3,
     "metadata": {},
     "output_type": "execute_result"
    }
   ],
   "source": [
    "import difflib\n",
    "\n",
    "def find_common_ids(id_list, num_diffs = 1, deliminator = '\\n', verbose = False):\n",
    "    \n",
    "    if type(id_list) is str:\n",
    "        id_list = id_list.split(deliminator)\n",
    "        \n",
    "    id_len = len(id_list[0])\n",
    "    expected_ratio = (id_len-num_diffs)/id_len\n",
    "    \n",
    "    if verbose:\n",
    "        print(f'Expected match ratio: {expected_ratio}')\n",
    "    \n",
    "    for id1 in id_list:\n",
    "        for id2 in id_list:\n",
    "            seq_matcher = difflib.SequenceMatcher(None, id1, id2)\n",
    "            id_match_ratio = seq_matcher.ratio()\n",
    "            if verbose:\n",
    "                print(f'id1: {id1}, id2: {id2} match ratio: {id_match_ratio}')\n",
    "            if id_match_ratio == expected_ratio:\n",
    "                if verbose:\n",
    "                    print(f'id1: {id1} matches id2: {id2} with the desired {id_match_ratio} match ratio')\n",
    "\n",
    "                for opcode, id1s, id1e, id2s, id2e in seq_matcher.get_opcodes():\n",
    "                    if opcode is 'replace':\n",
    "                        matching_chars = id1[:id1s]+id1[id1e:]\n",
    "                        return matching_chars\n",
    "                \n",
    "    return None\n",
    "\n",
    "class TestBasic(unittest.TestCase):\n",
    "    def test_part_one(self):\n",
    "        data = [(['abcde','fghij','klmno','pqrst','fguij','axcye','wvxyz'],'fgij')]\n",
    "        for input, ans in data:\n",
    "            self.assertEqual(find_common_ids(id_list = input, verbose = True), ans)        \n",
    "        \n",
    "unittest.main(argv=[\"\"], exit=False)"
   ]
  },
  {
   "cell_type": "code",
   "execution_count": 4,
   "metadata": {},
   "outputs": [
    {
     "data": {
      "text/plain": [
       "'fonbwmjquwtapeyzikghtvdxl'"
      ]
     },
     "execution_count": 4,
     "metadata": {},
     "output_type": "execute_result"
    }
   ],
   "source": [
    "find_common_ids(id_list = data)"
   ]
  }
 ],
 "metadata": {
  "kernelspec": {
   "display_name": "Python 3",
   "language": "python",
   "name": "python3"
  },
  "language_info": {
   "codemirror_mode": {
    "name": "ipython",
    "version": 3
   },
   "file_extension": ".py",
   "mimetype": "text/x-python",
   "name": "python",
   "nbconvert_exporter": "python",
   "pygments_lexer": "ipython3",
   "version": "3.6.8"
  }
 },
 "nbformat": 4,
 "nbformat_minor": 2
}
