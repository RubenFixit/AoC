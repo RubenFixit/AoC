{
 "cells": [
  {
   "cell_type": "markdown",
   "metadata": {
    "tags": []
   },
   "source": [
    "# [Advent of Code 2023: Day 3](https://adventofcode.com/2023/day/3)\n",
    "[puzzle input](https://adventofcode.com/2023/day/3/input)"
   ]
  },
  {
   "cell_type": "markdown",
   "metadata": {},
   "source": [
    "### Part One"
   ]
  },
  {
   "cell_type": "code",
   "execution_count": 77,
   "metadata": {},
   "outputs": [
    {
     "name": "stderr",
     "output_type": "stream",
     "text": [
      ".\n",
      "----------------------------------------------------------------------\n",
      "Ran 1 test in 0.003s\n",
      "\n",
      "OK\n"
     ]
    },
    {
     "name": "stdout",
     "output_type": "stream",
     "text": [
      "num: 467 r: 0 c: 2 ec: 7\n",
      "cc: 4 r: 0 c: 0\n",
      "cc: 6 r: 0 c: 1\n",
      "cc: . r: 0 c: 3\n",
      "cc: . r: 1 c: 0\n",
      "cc: . r: 1 c: 1\n",
      "cc: . r: 1 c: 2\n",
      "cc: * r: 1 c: 3\n",
      "pn: 467\n",
      "num: 114 r: 0 c: 7 ec: 4\n",
      "cc: . r: 0 c: 4\n",
      "cc: 1 r: 0 c: 5\n",
      "cc: 1 r: 0 c: 6\n",
      "cc: . r: 0 c: 8\n",
      "cc: . r: 1 c: 4\n",
      "cc: . r: 1 c: 5\n",
      "cc: . r: 1 c: 6\n",
      "cc: . r: 1 c: 7\n",
      "cc: . r: 1 c: 8\n",
      "num: 35 r: 2 c: 3 ec: 5\n",
      "cc: . r: 1 c: 1\n",
      "cc: . r: 1 c: 2\n",
      "cc: * r: 1 c: 3\n",
      "pn: 35\n",
      "num: 633 r: 2 c: 8 ec: 3\n",
      "cc: . r: 1 c: 5\n",
      "cc: . r: 1 c: 6\n",
      "cc: . r: 1 c: 7\n",
      "cc: . r: 1 c: 8\n",
      "cc: . r: 1 c: 9\n",
      "cc: . r: 2 c: 5\n",
      "cc: 6 r: 2 c: 6\n",
      "cc: 3 r: 2 c: 7\n",
      "cc: . r: 2 c: 9\n",
      "cc: . r: 3 c: 5\n",
      "cc: # r: 3 c: 6\n",
      "pn: 633\n",
      "num: 617 r: 4 c: 2 ec: 7\n",
      "cc: . r: 3 c: 0\n",
      "cc: . r: 3 c: 1\n",
      "cc: . r: 3 c: 2\n",
      "cc: . r: 3 c: 3\n",
      "cc: 6 r: 4 c: 0\n",
      "cc: 1 r: 4 c: 1\n",
      "cc: * r: 4 c: 3\n",
      "pn: 617\n",
      "num: 58 r: 5 c: 8 ec: 8\n",
      "cc: . r: 4 c: 6\n",
      "cc: . r: 4 c: 7\n",
      "cc: . r: 4 c: 8\n",
      "cc: . r: 4 c: 9\n",
      "cc: . r: 5 c: 6\n",
      "cc: 5 r: 5 c: 7\n",
      "cc: . r: 5 c: 9\n",
      "cc: . r: 6 c: 6\n",
      "cc: . r: 6 c: 7\n",
      "cc: . r: 6 c: 8\n",
      "cc: . r: 6 c: 9\n",
      "num: 592 r: 6 c: 4 ec: 2\n",
      "cc: . r: 5 c: 1\n",
      "cc: . r: 5 c: 2\n",
      "cc: . r: 5 c: 3\n",
      "cc: . r: 5 c: 4\n",
      "cc: + r: 5 c: 5\n",
      "pn: 592\n",
      "num: 755 r: 7 c: 9 ec: 5\n",
      "cc: . r: 6 c: 6\n",
      "cc: . r: 6 c: 7\n",
      "cc: . r: 6 c: 8\n",
      "cc: . r: 6 c: 9\n",
      "cc: + r: 7 c: 6\n",
      "pn: 755\n",
      "num: 664 r: 9 c: 3 ec: 4\n",
      "cc: . r: 8 c: 0\n",
      "cc: . r: 8 c: 1\n",
      "cc: . r: 8 c: 2\n",
      "cc: $ r: 8 c: 3\n",
      "pn: 664\n",
      "num: 598 r: 9 c: 7 ec: 8\n",
      "cc: . r: 8 c: 4\n",
      "cc: * r: 8 c: 5\n",
      "pn: 598\n"
     ]
    },
    {
     "data": {
      "text/plain": [
       "<unittest.main.TestProgram at 0x7f65043ebf10>"
      ]
     },
     "execution_count": 77,
     "metadata": {},
     "output_type": "execute_result"
    }
   ],
   "source": [
    "import unittest\n",
    "from IPython.display import Markdown, display\n",
    "\n",
    "from aoc_puzzle import AocPuzzle\n",
    "\n",
    "class Puzzle(AocPuzzle):\n",
    "\n",
    "    def is_part_number(self, number, row, col):\n",
    "        if col == -1:\n",
    "            col = len(self.data[0])-1\n",
    "            row -= 1\n",
    "        echar = self.data[row][col]\n",
    "        nlen = len(number)\n",
    "        if self.testing:\n",
    "            print(\"num:\", number, \"r:\", row, \"c:\", col, \"ec:\", echar)\n",
    "        if echar.isdigit():\n",
    "            # Check adjacent characters (including diagonals)\n",
    "            for i in range(-1, 2):\n",
    "                for j in range(-nlen, 2):\n",
    "                    if i == 0 and j == 0:\n",
    "                        continue  # Skip the current character\n",
    "                    new_row, new_col = row + i, col + j\n",
    "                    if (\n",
    "                        0 <= new_row < len(self.data) and\n",
    "                        0 <= new_col < len(self.data[0])):\n",
    "                        check_char = self.data[new_row][new_col]\n",
    "                        if self.testing:\n",
    "                            print(\"cc:\", check_char, \"r:\", new_row, \"c:\", new_col)\n",
    "                        \n",
    "                        if check_char not in '.0123456789':\n",
    "                            return True\n",
    "        return False\n",
    "\n",
    "    def sum_part_numbers(self):\n",
    "        total_sum = 0\n",
    "        numstr = \"\"\n",
    "        for row in range(len(self.data)):\n",
    "            for col in range(len(self.data[0])):\n",
    "                cchar = self.data[row][col]\n",
    "                if not cchar.isdigit() or col == len(self.data[0]):\n",
    "                    if numstr:\n",
    "                        if self.is_part_number(numstr, row, col - 1):\n",
    "                            if self.testing:\n",
    "                                print(\"pn:\", numstr)\n",
    "                            total_sum += int(numstr)\n",
    "                        numstr = ''\n",
    "                else:\n",
    "                    numstr += cchar\n",
    "        return total_sum\n",
    "    \n",
    "    def parse_data(self, raw_data):\n",
    "        self.data = raw_data.split('\\n')\n",
    "            \n",
    "    def run(self, testing=False):\n",
    "        self.testing = testing\n",
    "        result = self.sum_part_numbers()\n",
    "        if not testing:\n",
    "            display(Markdown(f'### Result is `{result}`'))            \n",
    "        return result\n",
    "        \n",
    "\n",
    "class TestBasic(unittest.TestCase):\n",
    "        \n",
    "    def test_puzzle(self):\n",
    "        input_data = ['''467..114..\n",
    "...*......\n",
    "..35..633.\n",
    "......#...\n",
    "617*......\n",
    ".....+.58.\n",
    "..592.....\n",
    "......+755\n",
    "...$.*....\n",
    ".664.598..''']\n",
    "        exp_output = [4361]\n",
    "        for in_data, exp_out in tuple(zip(input_data, exp_output)):\n",
    "            puzzle = Puzzle(in_data)\n",
    "            self.assertEqual(puzzle.run(testing=True), exp_out)\n",
    "        \n",
    "unittest.main(argv=[\"\"], exit=False)"
   ]
  },
  {
   "cell_type": "code",
   "execution_count": 78,
   "metadata": {},
   "outputs": [
    {
     "data": {
      "text/markdown": [
       "### Result is `550934`"
      ],
      "text/plain": [
       "<IPython.core.display.Markdown object>"
      ]
     },
     "metadata": {},
     "output_type": "display_data"
    },
    {
     "data": {
      "text/plain": [
       "550934"
      ]
     },
     "execution_count": 78,
     "metadata": {},
     "output_type": "execute_result"
    }
   ],
   "source": [
    "puzzle = Puzzle(\"input/d03.txt\")\n",
    "puzzle.run()"
   ]
  },
  {
   "cell_type": "markdown",
   "metadata": {},
   "source": [
    "### Part Two"
   ]
  },
  {
   "cell_type": "code",
   "execution_count": 157,
   "metadata": {},
   "outputs": [
    {
     "name": "stderr",
     "output_type": "stream",
     "text": [
      ".\n",
      "----------------------------------------------------------------------\n",
      "Ran 1 test in 0.003s\n",
      "\n",
      "OK\n"
     ]
    },
    {
     "name": "stdout",
     "output_type": "stream",
     "text": [
      "g: * r: 1 c: 3\n",
      "cc: 7 r: 0 c: 2 pnc: [(0, 2)] fpn: True\n",
      "cc: . r: 0 c: 3 pnc: [(0, 2)] fpn: False\n",
      "cc: . r: 0 c: 4 pnc: [(0, 2)] fpn: False\n",
      "cc: . r: 1 c: 2 pnc: [(0, 2)] fpn: False\n",
      "cc: * r: 1 c: 3 pnc: [(0, 2)] fpn: False\n",
      "cc: . r: 1 c: 4 pnc: [(0, 2)] fpn: False\n",
      "cc: 3 r: 2 c: 2 pnc: [(0, 2), (2, 2)] fpn: True\n",
      "cc: 5 r: 2 c: 3 pnc: [(0, 2), (2, 2)] fpn: True\n",
      "cc: . r: 2 c: 4 pnc: [(0, 2), (2, 2)] fpn: False\n",
      "gear at: r: 2 c: 4\n",
      "pn: 467\n",
      "pn: 35\n",
      "gr: 16345\n",
      "g: * r: 4 c: 3\n",
      "cc: . r: 3 c: 2 pnc: [] fpn: False\n",
      "cc: . r: 3 c: 3 pnc: [] fpn: False\n",
      "cc: . r: 3 c: 4 pnc: [] fpn: False\n",
      "cc: 7 r: 4 c: 2 pnc: [(4, 2)] fpn: True\n",
      "cc: * r: 4 c: 3 pnc: [(4, 2)] fpn: False\n",
      "cc: . r: 4 c: 4 pnc: [(4, 2)] fpn: False\n",
      "cc: . r: 5 c: 2 pnc: [(4, 2)] fpn: False\n",
      "cc: . r: 5 c: 3 pnc: [(4, 2)] fpn: False\n",
      "cc: . r: 5 c: 4 pnc: [(4, 2)] fpn: False\n",
      "g: * r: 8 c: 5\n",
      "cc: . r: 7 c: 4 pnc: [] fpn: False\n",
      "cc: . r: 7 c: 5 pnc: [] fpn: False\n",
      "cc: 7 r: 7 c: 6 pnc: [(7, 6)] fpn: True\n",
      "cc: . r: 8 c: 4 pnc: [(7, 6)] fpn: False\n",
      "cc: * r: 8 c: 5 pnc: [(7, 6)] fpn: False\n",
      "cc: . r: 8 c: 6 pnc: [(7, 6)] fpn: False\n",
      "cc: . r: 9 c: 4 pnc: [(7, 6)] fpn: False\n",
      "cc: 5 r: 9 c: 5 pnc: [(7, 6), (9, 5)] fpn: True\n",
      "cc: 9 r: 9 c: 6 pnc: [(7, 6), (9, 5)] fpn: True\n",
      "gear at: r: 9 c: 6\n",
      "pn: 755\n",
      "pn: 598\n",
      "gr: 451490\n"
     ]
    },
    {
     "data": {
      "text/plain": [
       "<unittest.main.TestProgram at 0x7f64fc626b10>"
      ]
     },
     "execution_count": 157,
     "metadata": {},
     "output_type": "execute_result"
    }
   ],
   "source": [
    "class Puzzle2(Puzzle):\n",
    "\n",
    "    def get_part_num(self, row, col):\n",
    "        start = col\n",
    "        new_col = col\n",
    "        col_min = 0\n",
    "        while True:\n",
    "            new_col = start - 1\n",
    "            if new_col < col_min:\n",
    "                break\n",
    "\n",
    "            cchar = self.data[row][new_col]\n",
    "            if cchar.isdigit():\n",
    "                start = new_col\n",
    "            else:\n",
    "                break\n",
    "\n",
    "\n",
    "        end = col\n",
    "        new_col = col\n",
    "        col_max = len(self.data[0])\n",
    "        while True:\n",
    "            new_col = end + 1\n",
    "            if new_col >= col_max:\n",
    "                break\n",
    "            \n",
    "            cchar = self.data[row][new_col]\n",
    "            if cchar.isdigit():\n",
    "                end = new_col\n",
    "            else:\n",
    "                break\n",
    "                \n",
    "        return int(self.data[row][start:end+1])\n",
    "\n",
    "    def get_gear_ratio(self, partnum_coords):\n",
    "        gear_ratio = 1\n",
    "        for pn_row, pn_col in partnum_coords:\n",
    "            part_num = self.get_part_num(pn_row, pn_col)\n",
    "            if self.testing:\n",
    "                print(\"pn:\", part_num)\n",
    "            gear_ratio *= part_num\n",
    "        if self.testing:\n",
    "            print(\"gr:\", gear_ratio)\n",
    "        return gear_ratio        \n",
    "    \n",
    "    def is_gear(self, row, col):\n",
    "        pn_coords = []\n",
    "        echar = self.data[row][col]\n",
    "        if self.testing:\n",
    "            print(\"g:\", echar, \"r:\", row, \"c:\", col)\n",
    "        if echar == '*':\n",
    "            # Check adjacent characters (including diagonals)\n",
    "            for i in range(-1, 2):\n",
    "                found_pn = False\n",
    "                for j in range(-1, 2):\n",
    "                    new_row, new_col = row + i, col + j\n",
    "                    if (0 <= new_row < len(self.data) and\n",
    "                        0 <= new_col < len(self.data[0])):\n",
    "                        \n",
    "                        cchar = self.data[new_row][new_col]                        \n",
    "                        if cchar.isdigit():\n",
    "                            if not found_pn:\n",
    "                                found_pn = True\n",
    "                                pn_coords.append((new_row,new_col))\n",
    "                        else:\n",
    "                            found_pn = False\n",
    "                                \n",
    "                        if self.testing:\n",
    "                            print(\"cc:\", cchar, \"r:\", new_row, \"c:\", new_col, \"pnc:\", pn_coords, \"fpn:\", found_pn)\n",
    "                num_pn = len(pn_coords)\n",
    "            if num_pn == 2:\n",
    "                if self.testing:\n",
    "                    print(\"gear at:\", \"r:\", new_row, \"c:\", new_col)\n",
    "                return self.get_gear_ratio(pn_coords)\n",
    "        return None\n",
    "\n",
    "    def sum_gear_ratios(self):\n",
    "        total_sum = 0\n",
    "        for row in range(len(self.data)):\n",
    "            for col in range(len(self.data[0])):\n",
    "                cchar = self.data[row][col]\n",
    "                if cchar == '*':\n",
    "                    gear_ratio = self.is_gear(row, col)\n",
    "                    if gear_ratio:\n",
    "                        total_sum += gear_ratio\n",
    "        return total_sum\n",
    "\n",
    "    def run(self, testing=False):\n",
    "        self.testing = testing\n",
    "        result = self.sum_gear_ratios()\n",
    "        if not self.testing:\n",
    "            display(Markdown(f'### Result is `{result}`'))            \n",
    "        return result\n",
    "\n",
    "\n",
    "class TestBasic(unittest.TestCase):\n",
    "        \n",
    "    def test_puzzle2(self):\n",
    "        input_data = ['''467..114..\n",
    "...*......\n",
    "..35..633.\n",
    "......#...\n",
    "617*......\n",
    ".....+.58.\n",
    "..592.....\n",
    "......755.\n",
    "...$.*....\n",
    ".664.598..''']\n",
    "        exp_output = [467835]\n",
    "        for in_data, exp_out in tuple(zip(input_data, exp_output)):\n",
    "            puzzle = Puzzle2(in_data)\n",
    "            self.assertEqual(puzzle.run(testing=True), exp_out)\n",
    "        \n",
    "unittest.main(argv=[\"\"], exit=False)"
   ]
  },
  {
   "cell_type": "code",
   "execution_count": 156,
   "metadata": {},
   "outputs": [
    {
     "data": {
      "text/markdown": [
       "### Result is `81997870`"
      ],
      "text/plain": [
       "<IPython.core.display.Markdown object>"
      ]
     },
     "metadata": {},
     "output_type": "display_data"
    },
    {
     "data": {
      "text/plain": [
       "81997870"
      ]
     },
     "execution_count": 156,
     "metadata": {},
     "output_type": "execute_result"
    }
   ],
   "source": [
    "puzzle = Puzzle2(\"input/d03.txt\")\n",
    "puzzle.run(testing=False)"
   ]
  }
 ],
 "metadata": {
  "kernelspec": {
   "display_name": "Python 3 (ipykernel)",
   "language": "python",
   "name": "python3"
  },
  "language_info": {
   "codemirror_mode": {
    "name": "ipython",
    "version": 3
   },
   "file_extension": ".py",
   "mimetype": "text/x-python",
   "name": "python",
   "nbconvert_exporter": "python",
   "pygments_lexer": "ipython3",
   "version": "3.11.5"
  }
 },
 "nbformat": 4,
 "nbformat_minor": 4
}
