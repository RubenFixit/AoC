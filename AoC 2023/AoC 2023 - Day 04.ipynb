{
 "cells": [
  {
   "cell_type": "markdown",
   "metadata": {
    "tags": []
   },
   "source": [
    "# [Advent of Code 2023: Day 4](https://adventofcode.com/2023/day/4)\n",
    "[puzzle input](https://adventofcode.com/2023/day/4/input)"
   ]
  },
  {
   "cell_type": "markdown",
   "metadata": {},
   "source": [
    "### Part One"
   ]
  },
  {
   "cell_type": "code",
   "execution_count": 1,
   "metadata": {},
   "outputs": [
    {
     "name": "stderr",
     "output_type": "stream",
     "text": [
      ".\n",
      "----------------------------------------------------------------------\n",
      "Ran 1 test in 0.002s\n",
      "\n",
      "OK\n"
     ]
    },
    {
     "data": {
      "text/plain": [
       "<unittest.main.TestProgram at 0x7fb9a64a9090>"
      ]
     },
     "execution_count": 1,
     "metadata": {},
     "output_type": "execute_result"
    }
   ],
   "source": [
    "import unittest\n",
    "from aoc_puzzle import AocPuzzle\n",
    "\n",
    "class Puzzle(AocPuzzle):\n",
    "    \n",
    "    def parse_data(self, raw_data):\n",
    "        self.data = raw_data.split('\\n')\n",
    "\n",
    "    def get_matching_numbers(self, number_str):\n",
    "        winning_numbers, your_numbers = number_str.split(' | ')\n",
    "        winning_numbers_set = set(map(int, winning_numbers.split()))\n",
    "        your_numbers_set = set(map(int, your_numbers.split()))\n",
    "        common_numbers = winning_numbers_set.intersection(your_numbers_set)\n",
    "\n",
    "        return len(common_numbers)\n",
    "\n",
    "    def calculate_points(self, matches):\n",
    "        if not matches:\n",
    "            return 0\n",
    "            \n",
    "        points = 1    \n",
    "        for number in range(matches-1):\n",
    "            points *= 2\n",
    "    \n",
    "        return points\n",
    "            \n",
    "    def solve(self):\n",
    "        result = 0\n",
    "        for card in self.data:\n",
    "            card_str, number_str = card.split(':')\n",
    "            _, card_num = card_str.split()\n",
    "            card_num = int(card_num)\n",
    "            matches = self.get_matching_numbers(number_str)\n",
    "            result += self.calculate_points(matches)\n",
    "        return result\n",
    "        \n",
    "\n",
    "class TestBasic(unittest.TestCase):\n",
    "        \n",
    "    def test_puzzle(self):\n",
    "        input_data = ['''Card 1: 41 48 83 86 17 | 83 86  6 31 17  9 48 53\n",
    "Card 2: 13 32 20 16 61 | 61 30 68 82 17 32 24 19\n",
    "Card 3:  1 21 53 59 44 | 69 82 63 72 16 21 14  1\n",
    "Card 4: 41 92 73 84 69 | 59 84 76 51 58  5 54 83\n",
    "Card 5: 87 83 26 28 32 | 88 30 70 12 93 22 82 36\n",
    "Card 6: 31 18 13 56 72 | 74 77 10 23 35 67 36 11''']\n",
    "        exp_output = [13]\n",
    "        for in_data, exp_out in tuple(zip(input_data, exp_output)):\n",
    "            puzzle = Puzzle(in_data)\n",
    "            self.assertEqual(puzzle.run(testing=True), exp_out)\n",
    "        \n",
    "unittest.main(argv=[\"\"], exit=False)"
   ]
  },
  {
   "cell_type": "code",
   "execution_count": 2,
   "metadata": {},
   "outputs": [
    {
     "data": {
      "text/markdown": [
       "### Result is `32609`"
      ],
      "text/plain": [
       "<IPython.core.display.Markdown object>"
      ]
     },
     "metadata": {},
     "output_type": "display_data"
    },
    {
     "data": {
      "text/plain": [
       "32609"
      ]
     },
     "execution_count": 2,
     "metadata": {},
     "output_type": "execute_result"
    }
   ],
   "source": [
    "puzzle = Puzzle(\"input/d04.txt\")\n",
    "puzzle.run()"
   ]
  },
  {
   "cell_type": "markdown",
   "metadata": {},
   "source": [
    "### Part Two"
   ]
  },
  {
   "cell_type": "code",
   "execution_count": 3,
   "metadata": {},
   "outputs": [
    {
     "name": "stderr",
     "output_type": "stream",
     "text": [
      "."
     ]
    },
    {
     "name": "stdout",
     "output_type": "stream",
     "text": [
      "cn: 1 m: 4 cc: {1: 1, 2: 1, 3: 1, 4: 1, 5: 1}\n",
      "cn: 2 m: 2 cc: {1: 1, 2: 2, 3: 3, 4: 3, 5: 1}\n",
      "cn: 3 m: 2 cc: {1: 1, 2: 2, 3: 4, 4: 7, 5: 5}\n",
      "cn: 4 m: 1 cc: {1: 1, 2: 2, 3: 4, 4: 8, 5: 13}\n",
      "cn: 5 m: 0 cc: {1: 1, 2: 2, 3: 4, 4: 8, 5: 14}\n",
      "cn: 6 m: 0 cc: {1: 1, 2: 2, 3: 4, 4: 8, 5: 14, 6: 1}\n",
      "Card Copies: {1: 1, 2: 2, 3: 4, 4: 8, 5: 14, 6: 1}\n"
     ]
    },
    {
     "name": "stderr",
     "output_type": "stream",
     "text": [
      "\n",
      "----------------------------------------------------------------------\n",
      "Ran 1 test in 0.004s\n",
      "\n",
      "OK\n"
     ]
    },
    {
     "data": {
      "text/plain": [
       "<unittest.main.TestProgram at 0x7fb9a4339d50>"
      ]
     },
     "execution_count": 3,
     "metadata": {},
     "output_type": "execute_result"
    }
   ],
   "source": [
    "class Puzzle2(Puzzle):\n",
    "    \n",
    "    def solve(self):\n",
    "        card_copies = {}\n",
    "        for card in self.data:\n",
    "            card_str, number_str = card.split(':')\n",
    "            _, card_num = card_str.split()\n",
    "            card_num = int(card_num)\n",
    "            matches = self.get_matching_numbers(number_str)\n",
    "\n",
    "            ccopies = card_copies.get(card_num)\n",
    "            if ccopies:\n",
    "                card_copies[card_num] = ccopies + 1\n",
    "            else:\n",
    "                card_copies[card_num] = 1\n",
    "\n",
    "            next_card = card_num + 1\n",
    "            last_card = next_card + matches\n",
    "            for _ in range(card_copies[card_num]):\n",
    "                for ci in range(next_card,last_card):\n",
    "                    copies = card_copies.get(ci)\n",
    "                    if copies:\n",
    "                        card_copies[ci] = copies + 1\n",
    "                    else:\n",
    "                        card_copies[ci] = 1\n",
    "                        \n",
    "            if self.testing:\n",
    "                print(\"cn:\", card_num, \"m:\", matches, \"cc:\", card_copies)\n",
    "                    \n",
    "        result = 0\n",
    "        if self.testing:\n",
    "            print(\"Card Copies:\", card_copies)\n",
    "\n",
    "        for card_num, copies in card_copies.items():\n",
    "            result += copies\n",
    "                     \n",
    "        return result\n",
    "\n",
    "\n",
    "class TestBasic(unittest.TestCase):\n",
    "        \n",
    "    def test_puzzle2(self):\n",
    "        input_data = ['''Card 1: 41 48 83 86 17 | 83 86  6 31 17  9 48 53\n",
    "Card 2: 13 32 20 16 61 | 61 30 68 82 17 32 24 19\n",
    "Card 3:  1 21 53 59 44 | 69 82 63 72 16 21 14  1\n",
    "Card 4: 41 92 73 84 69 | 59 84 76 51 58  5 54 83\n",
    "Card 5: 87 83 26 28 32 | 88 30 70 12 93 22 82 36\n",
    "Card 6: 31 18 13 56 72 | 74 77 10 23 35 67 36 11''']\n",
    "        exp_output = [30]\n",
    "        for in_data, exp_out in tuple(zip(input_data, exp_output)):\n",
    "            puzzle = Puzzle2(in_data)\n",
    "            self.assertEqual(puzzle.run(testing=True), exp_out)\n",
    "        \n",
    "unittest.main(argv=[\"\"], exit=False)"
   ]
  },
  {
   "cell_type": "code",
   "execution_count": 4,
   "metadata": {},
   "outputs": [
    {
     "data": {
      "text/markdown": [
       "### Result is `14624680`"
      ],
      "text/plain": [
       "<IPython.core.display.Markdown object>"
      ]
     },
     "metadata": {},
     "output_type": "display_data"
    },
    {
     "data": {
      "text/plain": [
       "14624680"
      ]
     },
     "execution_count": 4,
     "metadata": {},
     "output_type": "execute_result"
    }
   ],
   "source": [
    "puzzle = Puzzle2(\"input/d04.txt\")\n",
    "puzzle.run(testing=False)"
   ]
  }
 ],
 "metadata": {
  "kernelspec": {
   "display_name": "Python 3 (ipykernel)",
   "language": "python",
   "name": "python3"
  },
  "language_info": {
   "codemirror_mode": {
    "name": "ipython",
    "version": 3
   },
   "file_extension": ".py",
   "mimetype": "text/x-python",
   "name": "python",
   "nbconvert_exporter": "python",
   "pygments_lexer": "ipython3",
   "version": "3.11.5"
  }
 },
 "nbformat": 4,
 "nbformat_minor": 4
}
