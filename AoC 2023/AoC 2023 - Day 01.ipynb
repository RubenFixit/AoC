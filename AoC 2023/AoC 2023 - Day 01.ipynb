{
 "cells": [
  {
   "cell_type": "markdown",
   "metadata": {
    "tags": []
   },
   "source": [
    "# [Advent of Code 2023: Day 1](https://adventofcode.com/2023/day/1)\n",
    "[puzzle input](https://adventofcode.com/2023/day/1/input)"
   ]
  },
  {
   "cell_type": "markdown",
   "metadata": {},
   "source": [
    "### Part One"
   ]
  },
  {
   "cell_type": "code",
   "execution_count": 1,
   "metadata": {},
   "outputs": [
    {
     "name": "stderr",
     "output_type": "stream",
     "text": [
      "..\n",
      "----------------------------------------------------------------------\n",
      "Ran 2 tests in 0.004s\n",
      "\n",
      "OK\n"
     ]
    },
    {
     "data": {
      "text/plain": [
       "<unittest.main.TestProgram at 0x7fd590269bd0>"
      ]
     },
     "execution_count": 1,
     "metadata": {},
     "output_type": "execute_result"
    }
   ],
   "source": [
    "import unittest\n",
    "import re\n",
    "import numpy as np\n",
    "from IPython.display import Markdown, display\n",
    "\n",
    "from aoc_puzzle import AocPuzzle\n",
    "\n",
    "class Puzzle(AocPuzzle):\n",
    "    \n",
    "    def parse_line(self, raw_data):\n",
    "        all_digits = re.findall(r'\\d', raw_data)\n",
    "        # print(all_digits)\n",
    "        if all_digits:\n",
    "            first_digit = all_digits[0]\n",
    "            last_digit = all_digits[-1]\n",
    "            number = int(first_digit+last_digit)\n",
    "        else:\n",
    "            number = None\n",
    "        return number\n",
    "    \n",
    "    def parse_data(self, raw_data):\n",
    "        self.data = list(map(self.parse_line, raw_data.split('\\n')))\n",
    "            \n",
    "    def run(self, output=False):\n",
    "        result = np.sum(self.data)\n",
    "        if output:\n",
    "            display(Markdown(f'### Result is `{result}`'))            \n",
    "        return result\n",
    "        \n",
    "\n",
    "class TestBasic(unittest.TestCase):\n",
    "\n",
    "    def test_parse_data(self):\n",
    "        in_data = ('''1abc2\n",
    "pqr3stu8vwx\n",
    "a1b2c3d4e5f\n",
    "treb7uchet''')\n",
    "        exp_out = [12,38,15,77]\n",
    "        puzzle = Puzzle(in_data)\n",
    "        self.assertEqual(puzzle.data, exp_out)\n",
    "        \n",
    "    def test_puzzle(self):\n",
    "        input_data = [('''1abc2\n",
    "pqr3stu8vwx\n",
    "a1b2c3d4e5f\n",
    "treb7uchet''')]\n",
    "        exp_output = [142]\n",
    "        for in_data, exp_out in tuple(zip(input_data, exp_output)):\n",
    "            puzzle = Puzzle(in_data)\n",
    "            self.assertEqual(puzzle.run(), exp_out)\n",
    "        \n",
    "unittest.main(argv=[\"\"], exit=False)"
   ]
  },
  {
   "cell_type": "code",
   "execution_count": 2,
   "metadata": {},
   "outputs": [
    {
     "data": {
      "text/markdown": [
       "### Result is `56108`"
      ],
      "text/plain": [
       "<IPython.core.display.Markdown object>"
      ]
     },
     "metadata": {},
     "output_type": "display_data"
    },
    {
     "data": {
      "text/plain": [
       "56108"
      ]
     },
     "execution_count": 2,
     "metadata": {},
     "output_type": "execute_result"
    }
   ],
   "source": [
    "puzzle = Puzzle(\"input/d01.txt\")\n",
    "puzzle.run(output=True)"
   ]
  },
  {
   "cell_type": "markdown",
   "metadata": {},
   "source": [
    "### Part Two"
   ]
  },
  {
   "cell_type": "code",
   "execution_count": 3,
   "metadata": {},
   "outputs": [
    {
     "name": "stdout",
     "output_type": "stream",
     "text": [
      "Original string: six6one8sixninetwoner\n",
      "First matching digit: six\n",
      "Last matching digit: one\n"
     ]
    }
   ],
   "source": [
    "import re\n",
    "\n",
    "# Dictionary mapping spelled-out numbers to their numeric values\n",
    "NUMBER_MAPPTING = {\n",
    "    'eight': '8',\n",
    "    'one': '1',\n",
    "    'two': '2',\n",
    "    'three': '3',\n",
    "    'four': '4',\n",
    "    'five': '5',\n",
    "    'six': '6',\n",
    "    'seven': '7',\n",
    "    'nine': '9',\n",
    "}\n",
    "\n",
    "# Create a regular expression pattern for all spelled-out numbers\n",
    "NUM_PATTERN = re.compile(r'(?:\\d|' + '|'.join(NUMBER_MAPPTING.keys()) + r')', re.IGNORECASE)\n",
    "\n",
    "def find_last_number(input_string):\n",
    "\n",
    "    # Iterate through the last characters of the string\n",
    "    for i in range(1, len(input_string) + 1):\n",
    "        substring = input_string[-i:]\n",
    "\n",
    "        # Search for the pattern in the current substring\n",
    "        match = re.search(NUM_PATTERN, substring)\n",
    "\n",
    "        if match:\n",
    "            return match.group()\n",
    "\n",
    "    return None\n",
    "\n",
    "def find_first_number(input_string):\n",
    "\n",
    "    # Search for the pattern in the input string\n",
    "    match = re.search(NUM_PATTERN, input_string)\n",
    "\n",
    "    if match:\n",
    "        return match.group()\n",
    "    else:\n",
    "        return None\n",
    "\n",
    "# Example usage\n",
    "input_str = \"six6one8sixninetwoner\"\n",
    "result = find_first_number(input_str)\n",
    "\n",
    "print(\"Original string:\", input_str)\n",
    "print(\"First matching digit:\", result)\n",
    "\n",
    "result = find_last_number(input_str)\n",
    "\n",
    "print(\"Last matching digit:\", result)"
   ]
  },
  {
   "cell_type": "code",
   "execution_count": 4,
   "metadata": {},
   "outputs": [
    {
     "name": "stderr",
     "output_type": "stream",
     "text": [
      ".\n",
      "----------------------------------------------------------------------\n",
      "Ran 1 test in 0.002s\n",
      "\n",
      "OK\n"
     ]
    },
    {
     "data": {
      "text/plain": [
       "<unittest.main.TestProgram at 0x7fd4e4137a50>"
      ]
     },
     "execution_count": 4,
     "metadata": {},
     "output_type": "execute_result"
    }
   ],
   "source": [
    "class Puzzle2(Puzzle):\n",
    "    # Dictionary mapping spelled-out numbers to their numeric values\n",
    "    number_mapping = {\n",
    "        'eight': '8',\n",
    "        'one': '1',\n",
    "        'two': '2',\n",
    "        'three': '3',\n",
    "        'four': '4',\n",
    "        'five': '5',\n",
    "        'six': '6',\n",
    "        'seven': '7',\n",
    "        'nine': '9',\n",
    "    }\n",
    "    \n",
    "    # Create a regular expression pattern for all spelled-out numbers\n",
    "    num_pattern = re.compile(r'(?:\\d|' + '|'.join(number_mapping.keys()) + r')', re.IGNORECASE)\n",
    "    \n",
    "    def find_last_number(self, input_string):\n",
    "    \n",
    "        # Iterate through the last characters of the string\n",
    "        for i in range(1, len(input_string) + 1):\n",
    "            substring = input_string[-i:]\n",
    "    \n",
    "            # Search for the pattern in the current substring\n",
    "            match = re.search(self.num_pattern, substring)\n",
    "    \n",
    "            if match:\n",
    "                return match.group()\n",
    "    \n",
    "        return None\n",
    "    \n",
    "    def find_first_number(self, input_string):\n",
    "    \n",
    "        # Search for the pattern in the input string\n",
    "        match = re.search(self.num_pattern, input_string)\n",
    "    \n",
    "        if match:\n",
    "            return match.group()\n",
    "        else:\n",
    "            return None\n",
    "\n",
    "    def spelled_out_num_to_digit(self, input_str):\n",
    "        if not input_str.isdigit():\n",
    "            input_str = self.number_mapping[input_str]\n",
    "            \n",
    "        return input_str\n",
    "\n",
    "    def parse_line(self, raw_data):\n",
    "        first_num = self.find_first_number(raw_data)\n",
    "        first_digit = self.spelled_out_num_to_digit(first_num)\n",
    "        last_num = self.find_last_number(raw_data)\n",
    "        last_digit = self.spelled_out_num_to_digit(last_num)\n",
    "        number = int(first_digit+last_digit)\n",
    "        return number\n",
    "\n",
    "class TestBasic(unittest.TestCase):\n",
    "        \n",
    "    def test_puzzle2(self):\n",
    "        input_data = [('''two1nine\n",
    "eightwothree\n",
    "abcone2threexyz\n",
    "xtwone3four\n",
    "4nineeightseven2\n",
    "zoneight234\n",
    "7pqrstsixteen''')]\n",
    "        exp_output = [281]\n",
    "        for in_data, exp_out in tuple(zip(input_data, exp_output)):\n",
    "            puzzle = Puzzle2(in_data)\n",
    "            self.assertEqual(puzzle.run(), exp_out)\n",
    "        \n",
    "unittest.main(argv=[\"\"], exit=False)"
   ]
  },
  {
   "cell_type": "code",
   "execution_count": 5,
   "metadata": {},
   "outputs": [
    {
     "data": {
      "text/markdown": [
       "### Result is `55652`"
      ],
      "text/plain": [
       "<IPython.core.display.Markdown object>"
      ]
     },
     "metadata": {},
     "output_type": "display_data"
    },
    {
     "data": {
      "text/plain": [
       "55652"
      ]
     },
     "execution_count": 5,
     "metadata": {},
     "output_type": "execute_result"
    }
   ],
   "source": [
    "puzzle = Puzzle2(\"input/d01.txt\")\n",
    "puzzle.run(output=True)"
   ]
  }
 ],
 "metadata": {
  "kernelspec": {
   "display_name": "Python 3 (ipykernel)",
   "language": "python",
   "name": "python3"
  },
  "language_info": {
   "codemirror_mode": {
    "name": "ipython",
    "version": 3
   },
   "file_extension": ".py",
   "mimetype": "text/x-python",
   "name": "python",
   "nbconvert_exporter": "python",
   "pygments_lexer": "ipython3",
   "version": "3.11.5"
  }
 },
 "nbformat": 4,
 "nbformat_minor": 4
}
