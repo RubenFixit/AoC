{
 "cells": [
  {
   "cell_type": "markdown",
   "metadata": {
    "tags": []
   },
   "source": [
    "# [Advent of Code 2023: Day 2](https://adventofcode.com/2023/day/2)\n",
    "[puzzle input](https://adventofcode.com/2023/day/2/input)"
   ]
  },
  {
   "cell_type": "markdown",
   "metadata": {},
   "source": [
    "### Part One"
   ]
  },
  {
   "cell_type": "code",
   "execution_count": 17,
   "metadata": {},
   "outputs": [
    {
     "name": "stderr",
     "output_type": "stream",
     "text": [
      ".\n",
      "----------------------------------------------------------------------\n",
      "Ran 1 test in 0.001s\n",
      "\n",
      "OK\n"
     ]
    },
    {
     "name": "stdout",
     "output_type": "stream",
     "text": [
      "Game 1: 3 blue, 4 red; 1 red, 2 green, 6 blue; 2 green\n",
      "True (4, 0, 3)\n",
      "True (1, 2, 6)\n",
      "True (0, 2, 0)\n",
      "True\n",
      "Game 2: 1 blue, 2 green; 3 green, 4 blue, 1 red; 1 green, 1 blue\n",
      "True (0, 2, 1)\n",
      "True (1, 3, 4)\n",
      "True (0, 1, 1)\n",
      "True\n",
      "Game 3: 8 green, 6 blue, 20 red; 5 blue, 4 red, 13 green; 5 green, 1 red\n",
      "False (20, 8, 6)\n",
      "True (4, 13, 5)\n",
      "True (1, 5, 0)\n",
      "False\n",
      "Game 4: 1 green, 3 red, 6 blue; 3 green, 6 red; 3 green, 15 blue, 14 red\n",
      "True (3, 1, 6)\n",
      "True (6, 3, 0)\n",
      "False (14, 3, 15)\n",
      "False\n",
      "Game 5: 6 red, 1 blue, 3 green; 2 blue, 1 red, 2 green\n",
      "True (6, 3, 1)\n",
      "True (1, 2, 2)\n",
      "True\n",
      "[1, 2, 5]\n"
     ]
    },
    {
     "data": {
      "text/plain": [
       "<unittest.main.TestProgram at 0x7fec344bb390>"
      ]
     },
     "execution_count": 17,
     "metadata": {},
     "output_type": "execute_result"
    }
   ],
   "source": [
    "import unittest\n",
    "from IPython.display import Markdown, display\n",
    "\n",
    "from aoc_puzzle import AocPuzzle\n",
    "\n",
    "class Puzzle(AocPuzzle):\n",
    "\n",
    "    def is_game_possible(self, game, red_target, green_target, blue_target):\n",
    "        subset_possible = []\n",
    "        for subset in game:\n",
    "            red_count = 0\n",
    "            green_count = 0\n",
    "            blue_count = 0\n",
    "            for cube in subset.split(', '):\n",
    "                count, color = cube.split()\n",
    "                count = int(count)\n",
    "    \n",
    "                if color == 'red':\n",
    "                    red_count = count\n",
    "                elif color == 'green':\n",
    "                    green_count = count\n",
    "                elif color == 'blue':\n",
    "                    blue_count = count\n",
    "                \n",
    "            subset_result = (red_count <= red_target and green_count <= green_target and blue_count <= blue_target)\n",
    "            if self.testing:\n",
    "                print(subset_result, (red_count, green_count, blue_count))\n",
    "            subset_possible.append(subset_result)\n",
    "    \n",
    "        return all(subset_possible)\n",
    "    \n",
    "    def possible_games(self, data, red_target, green_target, blue_target):\n",
    "        possible_game_ids = []\n",
    "    \n",
    "        for game in data:\n",
    "            game_str, cubes_str = game.split(\": \")\n",
    "            game_data = cubes_str.split('; ')\n",
    "\n",
    "            if self.testing:\n",
    "                print(game)\n",
    "            game_possible = self.is_game_possible(game_data, red_target, green_target, blue_target)\n",
    "            if self.testing:\n",
    "                print(game_possible)\n",
    "            if game_possible:\n",
    "                game_id = int(game_str.split(' ')[1])\n",
    "                possible_game_ids.append(game_id)\n",
    "    \n",
    "        return possible_game_ids\n",
    "    \n",
    "    def parse_data(self, raw_data):\n",
    "        self.data = raw_data.split('\\n')\n",
    "            \n",
    "    def run(self, testing=False):\n",
    "        self.testing = testing\n",
    "        red_target = 12\n",
    "        green_target = 13\n",
    "        blue_target = 14\n",
    "        possible_games_list = self.possible_games(self.data, red_target, green_target, blue_target)\n",
    "        if self.testing:\n",
    "            print(possible_games_list)\n",
    "        result = sum(possible_games_list)\n",
    "        if not self.testing:\n",
    "            display(Markdown(f'### Result is `{result}`'))            \n",
    "        return result\n",
    "        \n",
    "\n",
    "class TestBasic(unittest.TestCase):\n",
    "        \n",
    "    def test_puzzle(self):\n",
    "        input_data = ['''Game 1: 3 blue, 4 red; 1 red, 2 green, 6 blue; 2 green\n",
    "Game 2: 1 blue, 2 green; 3 green, 4 blue, 1 red; 1 green, 1 blue\n",
    "Game 3: 8 green, 6 blue, 20 red; 5 blue, 4 red, 13 green; 5 green, 1 red\n",
    "Game 4: 1 green, 3 red, 6 blue; 3 green, 6 red; 3 green, 15 blue, 14 red\n",
    "Game 5: 6 red, 1 blue, 3 green; 2 blue, 1 red, 2 green''']\n",
    "        exp_output = [8]\n",
    "        for in_data, exp_out in tuple(zip(input_data, exp_output)):\n",
    "            puzzle = Puzzle(in_data)\n",
    "            self.assertEqual(puzzle.run(testing=True), exp_out)\n",
    "        \n",
    "unittest.main(argv=[\"\"], exit=False)"
   ]
  },
  {
   "cell_type": "code",
   "execution_count": 16,
   "metadata": {},
   "outputs": [
    {
     "data": {
      "text/markdown": [
       "### Result is `2447`"
      ],
      "text/plain": [
       "<IPython.core.display.Markdown object>"
      ]
     },
     "metadata": {},
     "output_type": "display_data"
    },
    {
     "data": {
      "text/plain": [
       "2447"
      ]
     },
     "execution_count": 16,
     "metadata": {},
     "output_type": "execute_result"
    }
   ],
   "source": [
    "puzzle = Puzzle(\"input/d02.txt\")\n",
    "puzzle.run()"
   ]
  },
  {
   "cell_type": "markdown",
   "metadata": {},
   "source": [
    "### Part Two"
   ]
  },
  {
   "cell_type": "code",
   "execution_count": 19,
   "metadata": {},
   "outputs": [
    {
     "name": "stdout",
     "output_type": "stream",
     "text": [
      "Result: 48\n"
     ]
    }
   ],
   "source": [
    "from functools import reduce\n",
    "\n",
    "def multiply_array(nums):\n",
    "    return reduce(lambda x, y: x * y, nums)\n",
    "\n",
    "# Example usage:\n",
    "numbers = [4,2,6]\n",
    "result = multiply_array_with_reduce(numbers)\n",
    "print(\"Result:\", result)\n"
   ]
  },
  {
   "cell_type": "code",
   "execution_count": 28,
   "metadata": {},
   "outputs": [
    {
     "name": "stderr",
     "output_type": "stream",
     "text": [
      ".\n",
      "----------------------------------------------------------------------\n",
      "Ran 1 test in 0.001s\n",
      "\n",
      "OK\n"
     ]
    },
    {
     "name": "stdout",
     "output_type": "stream",
     "text": [
      "Game 1: 3 blue, 4 red; 1 red, 2 green, 6 blue; 2 green --> Game Power:  48\n",
      "Game 2: 1 blue, 2 green; 3 green, 4 blue, 1 red; 1 green, 1 blue --> Game Power:  12\n",
      "Game 3: 8 green, 6 blue, 20 red; 5 blue, 4 red, 13 green; 5 green, 1 red --> Game Power:  1560\n",
      "Game 4: 1 green, 3 red, 6 blue; 3 green, 6 red; 3 green, 15 blue, 14 red --> Game Power:  630\n",
      "Game 5: 6 red, 1 blue, 3 green; 2 blue, 1 red, 2 green --> Game Power:  36\n",
      "[48, 12, 1560, 630, 36]\n"
     ]
    },
    {
     "data": {
      "text/plain": [
       "<unittest.main.TestProgram at 0x7fec2479cb50>"
      ]
     },
     "execution_count": 28,
     "metadata": {},
     "output_type": "execute_result"
    }
   ],
   "source": [
    "class Puzzle2(Puzzle):    \n",
    "    def fewest_cubes_power(self, game):\n",
    "        red_count = 0\n",
    "        green_count = 0\n",
    "        blue_count = 0\n",
    "        for subset in game:\n",
    "            for cube in subset.split(', '):\n",
    "                count, color = cube.split()\n",
    "                count = int(count)\n",
    "    \n",
    "                if color == 'red':\n",
    "                    if count > red_count:\n",
    "                        red_count = count\n",
    "                elif color == 'green':\n",
    "                    if count > green_count:\n",
    "                        green_count = count\n",
    "                elif color == 'blue':\n",
    "                    if count > blue_count:\n",
    "                        blue_count = count\n",
    "                \n",
    "        return (red_count * green_count * blue_count)\n",
    "    \n",
    "    def get_game_powers(self):\n",
    "        game_power_list = []   \n",
    "        for game in self.data:\n",
    "            game_str, cubes_str = game.split(\": \")\n",
    "            game_data = cubes_str.split('; ')\n",
    "\n",
    "            game_power = self.fewest_cubes_power(game_data)\n",
    "            game_power_list.append(game_power)\n",
    "            if self.testing:\n",
    "                print(game, \"--> Game Power: \", game_power)\n",
    "    \n",
    "        return game_power_list\n",
    "            \n",
    "    def run(self, testing=False):\n",
    "        self.testing = testing\n",
    "        game_power_list = self.get_game_powers()\n",
    "        if self.testing:\n",
    "            print(game_power_list)\n",
    "        result = sum(game_power_list)\n",
    "        if not self.testing:\n",
    "            display(Markdown(f'### Result is `{result}`'))            \n",
    "        return result\n",
    "\n",
    "\n",
    "class TestBasic(unittest.TestCase):\n",
    "        \n",
    "    def test_puzzle2(self):\n",
    "        input_data = ['''Game 1: 3 blue, 4 red; 1 red, 2 green, 6 blue; 2 green\n",
    "Game 2: 1 blue, 2 green; 3 green, 4 blue, 1 red; 1 green, 1 blue\n",
    "Game 3: 8 green, 6 blue, 20 red; 5 blue, 4 red, 13 green; 5 green, 1 red\n",
    "Game 4: 1 green, 3 red, 6 blue; 3 green, 6 red; 3 green, 15 blue, 14 red\n",
    "Game 5: 6 red, 1 blue, 3 green; 2 blue, 1 red, 2 green''']\n",
    "        exp_output = [2286]\n",
    "        for in_data, exp_out in tuple(zip(input_data, exp_output)):\n",
    "            puzzle = Puzzle2(in_data)\n",
    "            self.assertEqual(puzzle.run(testing=True), exp_out)\n",
    "        \n",
    "unittest.main(argv=[\"\"], exit=False)"
   ]
  },
  {
   "cell_type": "code",
   "execution_count": 29,
   "metadata": {},
   "outputs": [
    {
     "data": {
      "text/markdown": [
       "### Result is `56322`"
      ],
      "text/plain": [
       "<IPython.core.display.Markdown object>"
      ]
     },
     "metadata": {},
     "output_type": "display_data"
    },
    {
     "data": {
      "text/plain": [
       "56322"
      ]
     },
     "execution_count": 29,
     "metadata": {},
     "output_type": "execute_result"
    }
   ],
   "source": [
    "puzzle = Puzzle2(\"input/d02.txt\")\n",
    "puzzle.run()"
   ]
  }
 ],
 "metadata": {
  "kernelspec": {
   "display_name": "Python 3 (ipykernel)",
   "language": "python",
   "name": "python3"
  },
  "language_info": {
   "codemirror_mode": {
    "name": "ipython",
    "version": 3
   },
   "file_extension": ".py",
   "mimetype": "text/x-python",
   "name": "python",
   "nbconvert_exporter": "python",
   "pygments_lexer": "ipython3",
   "version": "3.11.5"
  }
 },
 "nbformat": 4,
 "nbformat_minor": 4
}
